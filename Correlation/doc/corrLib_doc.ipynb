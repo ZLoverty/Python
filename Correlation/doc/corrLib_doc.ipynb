{
 "cells": [
  {
   "cell_type": "markdown",
   "metadata": {},
   "source": [
    "# corrLib.py document"
   ]
  },
  {
   "cell_type": "markdown",
   "metadata": {},
   "source": [
    "## Functions"
   ]
  },
  {
   "cell_type": "markdown",
   "metadata": {},
   "source": [
    "### corrS(X, Y, U, V)\n",
    "X, Y, U, V represent a vector field. Return value CA, CV are matrices representing spatial angle and velocity correlation distribution of given vector field."
   ]
  },
  {
   "cell_type": "code",
   "execution_count": 16,
   "metadata": {},
   "outputs": [],
   "source": [
    "from corrLib import corrS, corrI, divide_windows, distance_corr, corrIseq, readseq\n",
    "import numpy as np"
   ]
  },
  {
   "cell_type": "code",
   "execution_count": 2,
   "metadata": {},
   "outputs": [],
   "source": [
    "X = np.linspace(0, 50)\n",
    "Y = np.linspace(0, 50)\n",
    "X, Y = np.meshgrid(X, Y)\n",
    "U = np.random.random(size=X.shape)\n",
    "V = np.random.random(size=X.shape)\n",
    "CA, CV = corrS(X, Y, U, V)"
   ]
  },
  {
   "cell_type": "markdown",
   "metadata": {},
   "source": [
    "### corrI(X, Y, I)\n",
    "X, Y, I represents the intensity field of an image. Returns the intensity correlation distribution of given intensity field."
   ]
  },
  {
   "cell_type": "code",
   "execution_count": 5,
   "metadata": {},
   "outputs": [],
   "source": [
    "I = np.random.random(size=X.shape)\n",
    "CI = corrI(X, Y, I)"
   ]
  },
  {
   "cell_type": "markdown",
   "metadata": {},
   "source": [
    "### divide_windows(img, windowsize=[20, 20], step=10)\n",
    "Divides an image into small boxes with given step length (overlap is allowed).\n",
    "* img: a 2D array \n",
    "* windowsize: \\[horizontal, vertical\\] dimensions of the boxes to be divided, in unit of pixel\n",
    "* step: interval between adjacent boxes, in unit of pixel"
   ]
  },
  {
   "cell_type": "code",
   "execution_count": 11,
   "metadata": {},
   "outputs": [
    {
     "name": "stdout",
     "output_type": "stream",
     "text": [
      "img size: (500, 500)\n",
      "divided image I size: (4, 4)\n"
     ]
    }
   ],
   "source": [
    "img = np.random.random(size=(500, 500))\n",
    "X, Y, I = divide_windows(img, windowsize=[100, 100], step=100)\n",
    "print('img size: ' + str(img.shape) + '\\ndivided image I size: ' + str(I.shape))"
   ]
  },
  {
   "cell_type": "markdown",
   "metadata": {},
   "source": [
    "### distance_corr(X, Y, C)\n",
    "X, Y, C represent a directional correlation distribution. Returns a scalar correlation distribution (as a pandas.DataFrame).\n",
    "* Column R: distance\n",
    "* Column C: correlation"
   ]
  },
  {
   "cell_type": "code",
   "execution_count": 14,
   "metadata": {},
   "outputs": [
    {
     "data": {
      "text/html": [
       "<div>\n",
       "<style scoped>\n",
       "    .dataframe tbody tr th:only-of-type {\n",
       "        vertical-align: middle;\n",
       "    }\n",
       "\n",
       "    .dataframe tbody tr th {\n",
       "        vertical-align: top;\n",
       "    }\n",
       "\n",
       "    .dataframe thead th {\n",
       "        text-align: right;\n",
       "    }\n",
       "</style>\n",
       "<table border=\"1\" class=\"dataframe\">\n",
       "  <thead>\n",
       "    <tr style=\"text-align: right;\">\n",
       "      <th></th>\n",
       "      <th>R</th>\n",
       "      <th>C</th>\n",
       "    </tr>\n",
       "  </thead>\n",
       "  <tbody>\n",
       "    <tr>\n",
       "      <th>0</th>\n",
       "      <td>0.000000</td>\n",
       "      <td>1.000000</td>\n",
       "    </tr>\n",
       "    <tr>\n",
       "      <th>1</th>\n",
       "      <td>100.000000</td>\n",
       "      <td>0.128203</td>\n",
       "    </tr>\n",
       "    <tr>\n",
       "      <th>4</th>\n",
       "      <td>100.000000</td>\n",
       "      <td>-0.320452</td>\n",
       "    </tr>\n",
       "    <tr>\n",
       "      <th>5</th>\n",
       "      <td>141.421356</td>\n",
       "      <td>-0.439222</td>\n",
       "    </tr>\n",
       "    <tr>\n",
       "      <th>2</th>\n",
       "      <td>200.000000</td>\n",
       "      <td>0.113122</td>\n",
       "    </tr>\n",
       "  </tbody>\n",
       "</table>\n",
       "</div>"
      ],
      "text/plain": [
       "            R         C\n",
       "0    0.000000  1.000000\n",
       "1  100.000000  0.128203\n",
       "4  100.000000 -0.320452\n",
       "5  141.421356 -0.439222\n",
       "2  200.000000  0.113122"
      ]
     },
     "execution_count": 14,
     "metadata": {},
     "output_type": "execute_result"
    }
   ],
   "source": [
    "CI = corrI(X, Y, I)\n",
    "dc = distance_corr(X, Y, CI)\n",
    "dc.head()"
   ]
  },
  {
   "cell_type": "markdown",
   "metadata": {},
   "source": [
    "### corrIseq(folder, **kwargs)\n",
    "Calculates the spatial intensity correlation distribution for an image sequence (a series of _\\*.tif_ images) in a given _folder_. Returns a pandas.DataFrame containing X, Y, I, Correlation, distance and frame number \\[X, Y, I, C, R, frame\\].\n",
    "\n",
    "#### \\*\\*kwargs:\n",
    "* windowsize: \\[horizontal, vertical\\] dimensions of the boxes to be divided, passed to function divide_windows(img)\n",
    "* step: interval between adjacent boxes, passed to function divide_windows(img)"
   ]
  },
  {
   "cell_type": "code",
   "execution_count": 25,
   "metadata": {},
   "outputs": [
    {
     "data": {
      "text/html": [
       "<div>\n",
       "<style scoped>\n",
       "    .dataframe tbody tr th:only-of-type {\n",
       "        vertical-align: middle;\n",
       "    }\n",
       "\n",
       "    .dataframe tbody tr th {\n",
       "        vertical-align: top;\n",
       "    }\n",
       "\n",
       "    .dataframe thead th {\n",
       "        text-align: right;\n",
       "    }\n",
       "</style>\n",
       "<table border=\"1\" class=\"dataframe\">\n",
       "  <thead>\n",
       "    <tr style=\"text-align: right;\">\n",
       "      <th></th>\n",
       "      <th>X</th>\n",
       "      <th>Y</th>\n",
       "      <th>I</th>\n",
       "      <th>C</th>\n",
       "      <th>R</th>\n",
       "      <th>frame</th>\n",
       "    </tr>\n",
       "  </thead>\n",
       "  <tbody>\n",
       "    <tr>\n",
       "      <th>0</th>\n",
       "      <td>0.0</td>\n",
       "      <td>0.0</td>\n",
       "      <td>525.5944</td>\n",
       "      <td>1.000000</td>\n",
       "      <td>0.0</td>\n",
       "      <td>0</td>\n",
       "    </tr>\n",
       "    <tr>\n",
       "      <th>1</th>\n",
       "      <td>100.0</td>\n",
       "      <td>0.0</td>\n",
       "      <td>527.5859</td>\n",
       "      <td>0.950538</td>\n",
       "      <td>100.0</td>\n",
       "      <td>0</td>\n",
       "    </tr>\n",
       "    <tr>\n",
       "      <th>2</th>\n",
       "      <td>200.0</td>\n",
       "      <td>0.0</td>\n",
       "      <td>526.7618</td>\n",
       "      <td>0.900444</td>\n",
       "      <td>200.0</td>\n",
       "      <td>0</td>\n",
       "    </tr>\n",
       "    <tr>\n",
       "      <th>3</th>\n",
       "      <td>300.0</td>\n",
       "      <td>0.0</td>\n",
       "      <td>524.3661</td>\n",
       "      <td>0.846798</td>\n",
       "      <td>300.0</td>\n",
       "      <td>0</td>\n",
       "    </tr>\n",
       "    <tr>\n",
       "      <th>4</th>\n",
       "      <td>400.0</td>\n",
       "      <td>0.0</td>\n",
       "      <td>528.0216</td>\n",
       "      <td>0.783501</td>\n",
       "      <td>400.0</td>\n",
       "      <td>0</td>\n",
       "    </tr>\n",
       "  </tbody>\n",
       "</table>\n",
       "</div>"
      ],
      "text/plain": [
       "       X    Y         I         C      R  frame\n",
       "0    0.0  0.0  525.5944  1.000000    0.0      0\n",
       "1  100.0  0.0  527.5859  0.950538  100.0      0\n",
       "2  200.0  0.0  526.7618  0.900444  200.0      0\n",
       "3  300.0  0.0  524.3661  0.846798  300.0      0\n",
       "4  400.0  0.0  528.0216  0.783501  400.0      0"
      ]
     },
     "execution_count": 25,
     "metadata": {},
     "output_type": "execute_result"
    }
   ],
   "source": [
    "data_seq = corrIseq(folder)\n",
    "data_seq.head()"
   ]
  },
  {
   "cell_type": "markdown",
   "metadata": {},
   "source": [
    "### readseq(folder)\n",
    "Read image sequence in given folder and sort the sequence by name. Return a pandas.DataFrame containing (file name, full directory)."
   ]
  },
  {
   "cell_type": "code",
   "execution_count": 17,
   "metadata": {
    "scrolled": true
   },
   "outputs": [
    {
     "data": {
      "text/html": [
       "<div>\n",
       "<style scoped>\n",
       "    .dataframe tbody tr th:only-of-type {\n",
       "        vertical-align: middle;\n",
       "    }\n",
       "\n",
       "    .dataframe tbody tr th {\n",
       "        vertical-align: top;\n",
       "    }\n",
       "\n",
       "    .dataframe thead th {\n",
       "        text-align: right;\n",
       "    }\n",
       "</style>\n",
       "<table border=\"1\" class=\"dataframe\">\n",
       "  <thead>\n",
       "    <tr style=\"text-align: right;\">\n",
       "      <th></th>\n",
       "      <th>Name</th>\n",
       "      <th>Dir</th>\n",
       "    </tr>\n",
       "  </thead>\n",
       "  <tbody>\n",
       "    <tr>\n",
       "      <th>0</th>\n",
       "      <td>0000</td>\n",
       "      <td>I:\\Google Drive\\Research projects\\DF\\nolight-l...</td>\n",
       "    </tr>\n",
       "    <tr>\n",
       "      <th>1</th>\n",
       "      <td>0001</td>\n",
       "      <td>I:\\Google Drive\\Research projects\\DF\\nolight-l...</td>\n",
       "    </tr>\n",
       "    <tr>\n",
       "      <th>2</th>\n",
       "      <td>0002</td>\n",
       "      <td>I:\\Google Drive\\Research projects\\DF\\nolight-l...</td>\n",
       "    </tr>\n",
       "    <tr>\n",
       "      <th>3</th>\n",
       "      <td>0003</td>\n",
       "      <td>I:\\Google Drive\\Research projects\\DF\\nolight-l...</td>\n",
       "    </tr>\n",
       "    <tr>\n",
       "      <th>4</th>\n",
       "      <td>0004</td>\n",
       "      <td>I:\\Google Drive\\Research projects\\DF\\nolight-l...</td>\n",
       "    </tr>\n",
       "  </tbody>\n",
       "</table>\n",
       "</div>"
      ],
      "text/plain": [
       "   Name                                                Dir\n",
       "0  0000  I:\\Google Drive\\Research projects\\DF\\nolight-l...\n",
       "1  0001  I:\\Google Drive\\Research projects\\DF\\nolight-l...\n",
       "2  0002  I:\\Google Drive\\Research projects\\DF\\nolight-l...\n",
       "3  0003  I:\\Google Drive\\Research projects\\DF\\nolight-l...\n",
       "4  0004  I:\\Google Drive\\Research projects\\DF\\nolight-l..."
      ]
     },
     "execution_count": 17,
     "metadata": {},
     "output_type": "execute_result"
    }
   ],
   "source": [
    "folder = r'I:\\Google Drive\\Research projects\\DF\\nolight-light'\n",
    "l = readseq(folder)\n",
    "l.head()"
   ]
  },
  {
   "cell_type": "markdown",
   "metadata": {},
   "source": [
    "## Example of use"
   ]
  },
  {
   "cell_type": "code",
   "execution_count": 22,
   "metadata": {},
   "outputs": [
    {
     "name": "stdout",
     "output_type": "stream",
     "text": [
      "Wall time: 0.00 h\n"
     ]
    }
   ],
   "source": [
    "import time\n",
    "import os\n",
    "folder = r'I:\\Google Drive\\Code\\Python\\Correlation\\test_image'\n",
    "t1 = time.monotonic() # show time\n",
    "data_seq = corrIseq(folder)\n",
    "t2 = time.monotonic() # show time\n",
    "t = (t2 - t1) / 3600 # show time\n",
    "print('Wall time: %.2f h' % t) # show time"
   ]
  },
  {
   "cell_type": "code",
   "execution_count": 24,
   "metadata": {},
   "outputs": [
    {
     "data": {
      "text/html": [
       "<div>\n",
       "<style scoped>\n",
       "    .dataframe tbody tr th:only-of-type {\n",
       "        vertical-align: middle;\n",
       "    }\n",
       "\n",
       "    .dataframe tbody tr th {\n",
       "        vertical-align: top;\n",
       "    }\n",
       "\n",
       "    .dataframe thead th {\n",
       "        text-align: right;\n",
       "    }\n",
       "</style>\n",
       "<table border=\"1\" class=\"dataframe\">\n",
       "  <thead>\n",
       "    <tr style=\"text-align: right;\">\n",
       "      <th></th>\n",
       "      <th>X</th>\n",
       "      <th>Y</th>\n",
       "      <th>I</th>\n",
       "      <th>C</th>\n",
       "      <th>R</th>\n",
       "      <th>frame</th>\n",
       "    </tr>\n",
       "  </thead>\n",
       "  <tbody>\n",
       "    <tr>\n",
       "      <th>0</th>\n",
       "      <td>0.0</td>\n",
       "      <td>0.0</td>\n",
       "      <td>525.5944</td>\n",
       "      <td>1.000000</td>\n",
       "      <td>0.0</td>\n",
       "      <td>0</td>\n",
       "    </tr>\n",
       "    <tr>\n",
       "      <th>1</th>\n",
       "      <td>100.0</td>\n",
       "      <td>0.0</td>\n",
       "      <td>527.5859</td>\n",
       "      <td>0.950538</td>\n",
       "      <td>100.0</td>\n",
       "      <td>0</td>\n",
       "    </tr>\n",
       "    <tr>\n",
       "      <th>2</th>\n",
       "      <td>200.0</td>\n",
       "      <td>0.0</td>\n",
       "      <td>526.7618</td>\n",
       "      <td>0.900444</td>\n",
       "      <td>200.0</td>\n",
       "      <td>0</td>\n",
       "    </tr>\n",
       "    <tr>\n",
       "      <th>3</th>\n",
       "      <td>300.0</td>\n",
       "      <td>0.0</td>\n",
       "      <td>524.3661</td>\n",
       "      <td>0.846798</td>\n",
       "      <td>300.0</td>\n",
       "      <td>0</td>\n",
       "    </tr>\n",
       "    <tr>\n",
       "      <th>4</th>\n",
       "      <td>400.0</td>\n",
       "      <td>0.0</td>\n",
       "      <td>528.0216</td>\n",
       "      <td>0.783501</td>\n",
       "      <td>400.0</td>\n",
       "      <td>0</td>\n",
       "    </tr>\n",
       "  </tbody>\n",
       "</table>\n",
       "</div>"
      ],
      "text/plain": [
       "       X    Y         I         C      R  frame\n",
       "0    0.0  0.0  525.5944  1.000000    0.0      0\n",
       "1  100.0  0.0  527.5859  0.950538  100.0      0\n",
       "2  200.0  0.0  526.7618  0.900444  200.0      0\n",
       "3  300.0  0.0  524.3661  0.846798  300.0      0\n",
       "4  400.0  0.0  528.0216  0.783501  400.0      0"
      ]
     },
     "execution_count": 24,
     "metadata": {},
     "output_type": "execute_result"
    }
   ],
   "source": [
    "data_seq.head()"
   ]
  }
 ],
 "metadata": {
  "kernelspec": {
   "display_name": "Python 3",
   "language": "python",
   "name": "python3"
  },
  "language_info": {
   "codemirror_mode": {
    "name": "ipython",
    "version": 3
   },
   "file_extension": ".py",
   "mimetype": "text/x-python",
   "name": "python",
   "nbconvert_exporter": "python",
   "pygments_lexer": "ipython3",
   "version": "3.7.3"
  }
 },
 "nbformat": 4,
 "nbformat_minor": 2
}

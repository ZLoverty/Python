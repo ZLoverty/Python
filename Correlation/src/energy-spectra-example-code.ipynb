{
 "cells": [
  {
   "cell_type": "markdown",
   "id": "e42b8fad-1ca9-47ab-bb9f-7533642c3d0b",
   "metadata": {},
   "source": [
    "# Energy spectra example\n",
    "\n",
    "This notebook is a minimal example of computing energy spectra from PIV data. "
   ]
  },
  {
   "cell_type": "markdown",
   "id": "da45c974-568d-4c88-a4b7-615cf0e58659",
   "metadata": {},
   "source": [
    "## 0 Packages"
   ]
  },
  {
   "cell_type": "code",
   "execution_count": 5,
   "id": "beeaf399-c3fc-4825-8b3d-1d1a0511f396",
   "metadata": {},
   "outputs": [],
   "source": [
    "import numpy as np\n",
    "import pandas as pd\n",
    "import matplotlib.pyplot as plt"
   ]
  },
  {
   "cell_type": "markdown",
   "id": "8510dac7-63ec-47a7-b083-4a13bb4117d0",
   "metadata": {},
   "source": [
    "## 1 Utility functions"
   ]
  },
  {
   "cell_type": "code",
   "execution_count": 1,
   "id": "549a932d-32e7-477d-8ea9-415dc2354fa2",
   "metadata": {},
   "outputs": [],
   "source": [
    "def compute_energy_density(pivData, d=25*0.33, MPP=0.33):\n",
    "    \"\"\"\n",
    "    Compute kinetic energy density in k space from piv data. The unit of the return value is [velocity] * [length],\n",
    "    where [velocity] is the unit of pivData, and [length] is the unit of sample_spacing parameter.\n",
    "    Note, the default value of sampling_spacing does not have any significance. It is just the most convenient value for my first application,\n",
    "    and should be set with caution when a different magnification and PIV are used.\n",
    "\n",
    "    Args:\n",
    "    pivData -- 2D piv data, DataFrame of x, y, u, v\n",
    "    d -- sample spacing, in unit of microns\n",
    "    MPP -- microns per pixel\n",
    "\n",
    "    Returns:\n",
    "    E -- kinetic energy field in wavenumber (k) space\n",
    "\n",
    "    Test:\n",
    "    pivData = pd.read_csv(r'E:\\moreData\\08032020\\piv_imseq\\01\\3370-3371.csv')\n",
    "    compute_energy_density(pivData)\n",
    "\n",
    "    Edit:\n",
    "    11020202 -- Add parameter sample_spacing, the distance between adjacent velocity (or data in general.\n",
    "                The spacing is used to rescale the DFT so that it has a unit of [velocity] * [length].\n",
    "                In numpy.fft, the standard fft function is defined as\n",
    "\n",
    "                A_k = \\sum\\limits^{n-1}_{m=0} a_m \\exp \\left[ -2\\pi i \\frac{mk}{n} \\right]\n",
    "\n",
    "                The unit of this Fourier Transform $A_k$ is clearly the same as $a_m$.\n",
    "                In order to get unit [velocity] * [length], and to make transform result consistent at different data density,\n",
    "                I introduce sample_spacing $d$ as a modifier of the DFT. After this modification, the energy spectrum computed\n",
    "                at various step size (of PIV) should give quantitatively similar results.\n",
    "    11042020 -- Replace the (* sample_spacing * sample_spacing) after v_fft with ( / row / col). This overwrites the edit I did on 11022020.\n",
    "    11112020 -- removed ( / row / col), add the area constant in energy_spectrum() function.\n",
    "                Details can be found in https://zloverty.github.io/research/DF/blogs/energy_spectrum_2_methods_11112020.html\n",
    "    11302020 -- 1) Convert unit of velocity, add optional arg MPP (microns per pixel)\n",
    "                2) Add * d * d to both velocity FFT's to account for the missing length in default FFT algorithm\n",
    "                3) The energy spectrum calculated by this function shows a factor of ~3 difference when comparing \\int E(k) dk with v**2.sum()/2\n",
    "    \"\"\"\n",
    "\n",
    "    row = len(pivData.y.drop_duplicates())\n",
    "    col = len(pivData.x.drop_duplicates())\n",
    "    U = np.array(pivData.u).reshape((row, col)) * MPP\n",
    "    V = np.array(pivData.v).reshape((row, col)) * MPP\n",
    "\n",
    "    u_fft = np.fft.fft2(U) * d * d\n",
    "    v_fft = np.fft.fft2(V) * d * d\n",
    "\n",
    "    E = (u_fft * u_fft.conjugate() + v_fft * v_fft.conjugate()) / 2\n",
    "\n",
    "    return E\n",
    "\n",
    "def compute_wavenumber_field(shape, d):\n",
    "    \"\"\"\n",
    "    Compute the wave number field Kx and Ky, and magnitude field k.\n",
    "    Note that this function works for even higher dimensional shape.\n",
    "\n",
    "    Args:\n",
    "    shape -- shape of the velocity field and velocity fft field, tuple\n",
    "    d -- sample spacing. This is the distance between adjacent samples, for example, velocities in PIV.\n",
    "        The resulting frequency space has the unit which is inverse of the unit of d. The preferred unit of d is um.\n",
    "\n",
    "    Returns:\n",
    "    k -- wavenumber magnitude field\n",
    "    K -- wavenumber fields in given dimensions\n",
    "\n",
    "    Edit:\n",
    "    12022020 -- multiply 2pi to the wavenumber to account for the built-in 2pi in the fft method.\n",
    "                This factor leads to a difference in the magnitude of 1D energy spectra.\n",
    "                Note: the dimensionless wavenumber should remain unchanged.\n",
    "\n",
    "    Test:\n",
    "    shape = (5, 5)\n",
    "    k, K = compute_wavenumber_field(shape, 0.2)\n",
    "    \"\"\"\n",
    "\n",
    "    for num, length in enumerate(shape):\n",
    "        kx = np.fft.fftfreq(length, d=d)\n",
    "        if num == 0:\n",
    "            k = (kx,)\n",
    "        else:\n",
    "            k += (kx,)\n",
    "\n",
    "    K = np.meshgrid(*k, indexing='ij')\n",
    "\n",
    "    for num, k1 in enumerate(K):\n",
    "        if num == 0:\n",
    "            ksq = k1 ** 2\n",
    "        else:\n",
    "            ksq += k1 ** 2\n",
    "\n",
    "    k_mag = ksq ** 0.5 * 2 * np.pi\n",
    "\n",
    "    return k_mag, K\n",
    "\n",
    "def energy_spectrum(pivData, d=25*0.33):\n",
    "    \"\"\"\n",
    "    Compute energy spectrum (E vs k) from pivData.\n",
    "\n",
    "    Args:\n",
    "    pivData -- piv data\n",
    "    d -- sample spacing. This is the distance between adjacent samples, for example, velocities in PIV.\n",
    "        The resulting frequency space has the unit which is inverse of the unit of d. The default unit of d is um.\n",
    "\n",
    "    Returns:\n",
    "    es -- energy spectrum, DataFrame (k, E)\n",
    "\n",
    "    Edit:\n",
    "    10192020 -- add argument d as sample spacing\n",
    "    11112020 -- add area constant, see details in https://zloverty.github.io/research/DF/blogs/energy_spectrum_2_methods_11112020.html\n",
    "    11302020 -- 1) The energy spectrum calculated by this function shows a factor of ~3 difference when comparing \\int E(k) dk with v**2.sum()/2\n",
    "    \"\"\"\n",
    "\n",
    "    row = len(pivData.y.drop_duplicates())\n",
    "    col = len(pivData.x.drop_duplicates())\n",
    "\n",
    "    E = compute_energy_density(pivData, d) / (row * d * col * d)\n",
    "    k, K = compute_wavenumber_field(E.shape, d)\n",
    "\n",
    "    ind = np.argsort(k.flatten())\n",
    "    k_plot = k.flatten()[ind]\n",
    "    E_plot = E.real.flatten()[ind]\n",
    "\n",
    "    es = pd.DataFrame(data={'k': k_plot, 'E': E_plot})\n",
    "\n",
    "    return es\n",
    "\n",
    "def xy_bin(xo, yo, n=100, mode='log', bins=None):\n",
    "    \"\"\"\n",
    "    Bin x, y data on log or linear scale\n",
    "\n",
    "    Args:\n",
    "    xo -- input x\n",
    "    yo -- input y\n",
    "    n -- points after binning\n",
    "    mode --\n",
    "    bins -- set the bins to bin data together\n",
    "\n",
    "    Returns:\n",
    "    x -- binned x\n",
    "    y -- means in bins\n",
    "\n",
    "    Edit:\n",
    "    11042020 -- Change function name to xy_bin, to incorporate the mode parameter, so that the function can do both log space binning and linear space binning.\n",
    "    11172020 -- add bins kwarg, allow user to enter custom bins.\n",
    "    Dec 16, 2021 -- fix divided by 0 issue.\n",
    "    \"\"\"\n",
    "    assert(len(xo)==len(yo))\n",
    "    if bins is None:\n",
    "        if mode == 'log':\n",
    "            x = np.logspace(np.log10(xo[xo>0].min()), np.log10(xo.max()), n+1)\n",
    "        elif mode == 'lin':\n",
    "            x = np.linspace(xo.min(), xo.max(), n+1)\n",
    "    else:\n",
    "        x = np.sort(bins)\n",
    "    top = np.histogram(xo, x, weights=yo)[0]\n",
    "    bot = np.histogram(xo, x)[0]\n",
    "    ind = bot > 0\n",
    "    xb = ((x[1:] + x[:-1]) / 2)[ind]\n",
    "    yb = top[ind] / bot[ind]\n",
    "    return xb, yb"
   ]
  },
  {
   "cell_type": "markdown",
   "id": "c2f077e0-8b6f-45ea-a69d-8b9480e6eed8",
   "metadata": {},
   "source": [
    "## 2 Compute energy spectra"
   ]
  },
  {
   "cell_type": "code",
   "execution_count": 13,
   "id": "e8809e72-71ff-4981-8a2b-17ff04329c51",
   "metadata": {},
   "outputs": [
    {
     "name": "stdout",
     "output_type": "stream",
     "text": [
      "Note that all the E values are energy density in 2D, with unit um^4/s^2\n"
     ]
    },
    {
     "data": {
      "text/html": [
       "<div>\n",
       "<style scoped>\n",
       "    .dataframe tbody tr th:only-of-type {\n",
       "        vertical-align: middle;\n",
       "    }\n",
       "\n",
       "    .dataframe tbody tr th {\n",
       "        vertical-align: top;\n",
       "    }\n",
       "\n",
       "    .dataframe thead th {\n",
       "        text-align: right;\n",
       "    }\n",
       "</style>\n",
       "<table border=\"1\" class=\"dataframe\">\n",
       "  <thead>\n",
       "    <tr style=\"text-align: right;\">\n",
       "      <th></th>\n",
       "      <th>k</th>\n",
       "      <th>E</th>\n",
       "    </tr>\n",
       "  </thead>\n",
       "  <tbody>\n",
       "    <tr>\n",
       "      <th>0</th>\n",
       "      <td>0.00000</td>\n",
       "      <td>76737.142490</td>\n",
       "    </tr>\n",
       "    <tr>\n",
       "      <th>1</th>\n",
       "      <td>0.00952</td>\n",
       "      <td>685865.994884</td>\n",
       "    </tr>\n",
       "    <tr>\n",
       "      <th>2</th>\n",
       "      <td>0.00952</td>\n",
       "      <td>578950.112545</td>\n",
       "    </tr>\n",
       "    <tr>\n",
       "      <th>3</th>\n",
       "      <td>0.00952</td>\n",
       "      <td>578950.112545</td>\n",
       "    </tr>\n",
       "    <tr>\n",
       "      <th>4</th>\n",
       "      <td>0.00952</td>\n",
       "      <td>685865.994884</td>\n",
       "    </tr>\n",
       "  </tbody>\n",
       "</table>\n",
       "</div>"
      ],
      "text/plain": [
       "         k              E\n",
       "0  0.00000   76737.142490\n",
       "1  0.00952  685865.994884\n",
       "2  0.00952  578950.112545\n",
       "3  0.00952  578950.112545\n",
       "4  0.00952  685865.994884"
      ]
     },
     "execution_count": 13,
     "metadata": {},
     "output_type": "execute_result"
    }
   ],
   "source": [
    "# load PIV data\n",
    "pivData = pd.read_csv(\"piv-sample.csv\")\n",
    "# set constants\n",
    "sample_spacing = 25 * 0.33 # PIV arrow spacing in micron\n",
    "kb = 2 * np.pi / 3 # wavenumber corresponding to E. coli body length\n",
    "# compute ES from PIV data\n",
    "es = energy_spectrum(pivData, sample_spacing)\n",
    "print(\"Note that all the E values are energy density in 2D, with unit um^4/s^2\")\n",
    "es.head()"
   ]
  },
  {
   "cell_type": "code",
   "execution_count": 17,
   "id": "39517e57-7fe7-4e45-b729-2b99c8cfb04d",
   "metadata": {},
   "outputs": [
    {
     "data": {
      "text/plain": [
       "Text(0, 0.5, '$E^{2D}(k)$ (um$^4$/s$^2$)')"
      ]
     },
     "execution_count": 17,
     "metadata": {},
     "output_type": "execute_result"
    },
    {
     "data": {
      "image/png": "[encoded data removed]",
      "text/plain": [
       "<Figure size 640x480 with 1 Axes>"
      ]
     },
     "metadata": {},
     "output_type": "display_data"
    }
   ],
   "source": [
    "# plot \"2D energy density\"\n",
    "plt.scatter(es.k/kb, es.E)\n",
    "plt.loglog()\n",
    "plt.xlabel(\"$k/k_b$\")\n",
    "plt.ylabel(\"$E^{2D}(k)$ (um$^4$/s$^2$)\")"
   ]
  },
  {
   "cell_type": "code",
   "execution_count": 10,
   "id": "f8097199-707f-423e-966e-696d00486147",
   "metadata": {},
   "outputs": [],
   "source": [
    "# bin data in radial direction, convert to 1D energy density, by multiplying corresponding circumference \n",
    "x, y = xy_bin(es.k, es.E) # binning the data so they are evenly distributed in log scale\n",
    "y *= 2 * np.pi * x # convert 2D density to 1D density"
   ]
  },
  {
   "cell_type": "code",
   "execution_count": 16,
   "id": "217eb8eb-da50-490a-82af-45a5c8463292",
   "metadata": {},
   "outputs": [
    {
     "data": {
      "text/plain": [
       "Text(0, 0.5, '$E^{1D}(k)$ (um$^3$/s$^2$)')"
      ]
     },
     "execution_count": 16,
     "metadata": {},
     "output_type": "execute_result"
    },
    {
     "data": {
      "image/png": "[encoded data removed]",
      "text/plain": [
       "<Figure size 640x480 with 1 Axes>"
      ]
     },
     "metadata": {},
     "output_type": "display_data"
    }
   ],
   "source": [
    "# plot \"1-D energy density\", aka energy spectra\n",
    "plt.scatter(x/kb, y)\n",
    "plt.loglog()\n",
    "plt.xlabel(\"$k/k_b$\")\n",
    "plt.ylabel(\"$E^{1D}(k)$ (um$^3$/s$^2$)\")"
   ]
  }
 ],
 "metadata": {
  "kernelspec": {
   "display_name": "Python 3 (ipykernel)",
   "language": "python",
   "name": "python3"
  },
  "language_info": {
   "codemirror_mode": {
    "name": "ipython",
    "version": 3
   },
   "file_extension": ".py",
   "mimetype": "text/x-python",
   "name": "python",
   "nbconvert_exporter": "python",
   "pygments_lexer": "ipython3",
   "version": "3.9.12"
  }
 },
 "nbformat": 4,
 "nbformat_minor": 5
}

{
 "cells": [
  {
   "cell_type": "code",
   "execution_count": 4,
   "metadata": {},
   "outputs": [],
   "source": [
    "import numpy as np\n",
    "import matplotlib.pyplot as plt\n",
    "from myImageLib import dirrec, bestcolor, bpass, wowcolor\n",
    "from skimage import io, measure\n",
    "import pandas as pd\n",
    "from scipy.signal import savgol_filter, medfilt\n",
    "import os\n",
    "from corrLib import corrS, corrI, divide_windows, distance_corr, corrIseq, readseq, match_hist\n",
    "from scipy.signal import savgol_filter\n",
    "import matplotlib as mpl\n",
    "from numpy.polynomial.polynomial import polyvander\n",
    "from scipy.optimize import curve_fit\n",
    "from miscLib import label_slope\n",
    "from corrLib import density_fluctuation\n",
    "from scipy import signal\n",
    "from scipy.interpolate import griddata\n",
    "import matplotlib"
   ]
  },
  {
   "cell_type": "code",
   "execution_count": 5,
   "metadata": {},
   "outputs": [],
   "source": [
    "# figure initializing presets\n",
    "presets = {}\n",
    "presets['1-column-2-panel'] = (1.25, 1.57, 157)\n",
    "presets['1-column-1-panel'] = (1.25, 3.2, 157)\n",
    "h, w, dpi = presets['1-column-2-panel']"
   ]
  },
  {
   "cell_type": "code",
   "execution_count": 6,
   "metadata": {},
   "outputs": [],
   "source": [
    "# matplotlib configs\n",
    "\n",
    "# FONT\n",
    "matplotlib.rcParams['font.family'] = 'serif'\n",
    "matplotlib.rcParams['font.size'] = 8\n",
    "matplotlib.rcParams['text.usetex'] = True \n",
    "\n",
    "# FIGURE\n",
    "matplotlib.rcParams['figure.figsize'] = w, h\n",
    "matplotlib.rcParams['figure.dpi'] = dpi\n",
    "\n",
    "# AXES\n",
    "matplotlib.rcParams['axes.labelpad'] = 1.0\n",
    "matplotlib.rcParams['axes.labelsize'] = 'small'\n",
    "matplotlib.rcParams['axes.linewidth'] = 0.5\n",
    "\n",
    "# TICKS\n",
    "matplotlib.rcParams['xtick.labelsize'] = 'small'\n",
    "matplotlib.rcParams['xtick.direction'] = 'in'\n",
    "matplotlib.rcParams['xtick.minor.visible'] = True\n",
    "matplotlib.rcParams['xtick.top'] = True\n",
    "matplotlib.rcParams['xtick.major.size'] = 2.5\n",
    "matplotlib.rcParams['xtick.minor.size'] = 1.6\n",
    "\n",
    "matplotlib.rcParams['ytick.labelsize'] = 'small'\n",
    "matplotlib.rcParams['ytick.direction'] = 'in'\n",
    "matplotlib.rcParams['ytick.minor.visible'] = True\n",
    "matplotlib.rcParams['ytick.right'] = True\n",
    "matplotlib.rcParams['ytick.major.size'] = 2.5\n",
    "matplotlib.rcParams['ytick.minor.size'] = 1.6\n",
    "\n",
    "# LEGEND\n",
    "matplotlib.rcParams['legend.labelspacing'] = 0.2\n",
    "matplotlib.rcParams['legend.handlelength'] = 1\n",
    "matplotlib.rcParams['legend.fontsize'] = 'small'\n",
    "matplotlib.rcParams['legend.handletextpad'] = 0.2\n",
    "matplotlib.rcParams['legend.columnspacing'] = 0.5\n",
    "matplotlib.rcParams['legend.frameon'] = False"
   ]
  },
  {
   "cell_type": "code",
   "execution_count": 11,
   "metadata": {},
   "outputs": [],
   "source": [
    "folder = r'E:\\moreData\\03032020'\n",
    "sfL = next(os.walk(folder))[1]\n",
    "nameL = []\n",
    "intensityL = []\n",
    "for name in sfL:\n",
    "    if name.find('_') >= 0 and name.find('_') < 3:\n",
    "        img = io.imread(os.path.join(folder, name, '16-bit', '0000.tif'))\n",
    "        nameL.append(name)\n",
    "        intensityL.append(img.mean())\n",
    "data = pd.DataFrame().assign(name=nameL, intensity=intensityL)"
   ]
  },
  {
   "cell_type": "code",
   "execution_count": 12,
   "metadata": {},
   "outputs": [
    {
     "data": {
      "text/html": [
       "<div>\n",
       "<style scoped>\n",
       "    .dataframe tbody tr th:only-of-type {\n",
       "        vertical-align: middle;\n",
       "    }\n",
       "\n",
       "    .dataframe tbody tr th {\n",
       "        vertical-align: top;\n",
       "    }\n",
       "\n",
       "    .dataframe thead th {\n",
       "        text-align: right;\n",
       "    }\n",
       "</style>\n",
       "<table border=\"1\" class=\"dataframe\">\n",
       "  <thead>\n",
       "    <tr style=\"text-align: right;\">\n",
       "      <th></th>\n",
       "      <th>name</th>\n",
       "      <th>intensity</th>\n",
       "    </tr>\n",
       "  </thead>\n",
       "  <tbody>\n",
       "    <tr>\n",
       "      <th>0</th>\n",
       "      <td>10_1</td>\n",
       "      <td>986.423325</td>\n",
       "    </tr>\n",
       "    <tr>\n",
       "      <th>1</th>\n",
       "      <td>10_2</td>\n",
       "      <td>963.440931</td>\n",
       "    </tr>\n",
       "    <tr>\n",
       "      <th>2</th>\n",
       "      <td>10_3</td>\n",
       "      <td>945.110955</td>\n",
       "    </tr>\n",
       "    <tr>\n",
       "      <th>3</th>\n",
       "      <td>20_1</td>\n",
       "      <td>810.964211</td>\n",
       "    </tr>\n",
       "    <tr>\n",
       "      <th>4</th>\n",
       "      <td>20_2</td>\n",
       "      <td>801.719461</td>\n",
       "    </tr>\n",
       "    <tr>\n",
       "      <th>5</th>\n",
       "      <td>20_3</td>\n",
       "      <td>795.834537</td>\n",
       "    </tr>\n",
       "    <tr>\n",
       "      <th>6</th>\n",
       "      <td>30_1</td>\n",
       "      <td>766.947860</td>\n",
       "    </tr>\n",
       "    <tr>\n",
       "      <th>7</th>\n",
       "      <td>30_2</td>\n",
       "      <td>778.412266</td>\n",
       "    </tr>\n",
       "    <tr>\n",
       "      <th>8</th>\n",
       "      <td>30_3</td>\n",
       "      <td>757.942897</td>\n",
       "    </tr>\n",
       "    <tr>\n",
       "      <th>9</th>\n",
       "      <td>40_1</td>\n",
       "      <td>736.162456</td>\n",
       "    </tr>\n",
       "    <tr>\n",
       "      <th>10</th>\n",
       "      <td>40_2</td>\n",
       "      <td>739.302379</td>\n",
       "    </tr>\n",
       "    <tr>\n",
       "      <th>11</th>\n",
       "      <td>40_3</td>\n",
       "      <td>735.766285</td>\n",
       "    </tr>\n",
       "    <tr>\n",
       "      <th>12</th>\n",
       "      <td>50_1</td>\n",
       "      <td>705.300975</td>\n",
       "    </tr>\n",
       "    <tr>\n",
       "      <th>13</th>\n",
       "      <td>50_2</td>\n",
       "      <td>709.910404</td>\n",
       "    </tr>\n",
       "    <tr>\n",
       "      <th>14</th>\n",
       "      <td>50_3</td>\n",
       "      <td>698.339154</td>\n",
       "    </tr>\n",
       "    <tr>\n",
       "      <th>15</th>\n",
       "      <td>60_1</td>\n",
       "      <td>661.329321</td>\n",
       "    </tr>\n",
       "    <tr>\n",
       "      <th>16</th>\n",
       "      <td>60_2</td>\n",
       "      <td>657.525414</td>\n",
       "    </tr>\n",
       "    <tr>\n",
       "      <th>17</th>\n",
       "      <td>60_3</td>\n",
       "      <td>651.750100</td>\n",
       "    </tr>\n",
       "    <tr>\n",
       "      <th>18</th>\n",
       "      <td>70_1</td>\n",
       "      <td>571.539211</td>\n",
       "    </tr>\n",
       "    <tr>\n",
       "      <th>19</th>\n",
       "      <td>70_2</td>\n",
       "      <td>570.808452</td>\n",
       "    </tr>\n",
       "    <tr>\n",
       "      <th>20</th>\n",
       "      <td>70_3</td>\n",
       "      <td>565.160968</td>\n",
       "    </tr>\n",
       "    <tr>\n",
       "      <th>21</th>\n",
       "      <td>80_1</td>\n",
       "      <td>532.031125</td>\n",
       "    </tr>\n",
       "    <tr>\n",
       "      <th>22</th>\n",
       "      <td>80_2</td>\n",
       "      <td>544.153876</td>\n",
       "    </tr>\n",
       "    <tr>\n",
       "      <th>23</th>\n",
       "      <td>80_3</td>\n",
       "      <td>525.187600</td>\n",
       "    </tr>\n",
       "    <tr>\n",
       "      <th>24</th>\n",
       "      <td>90_1</td>\n",
       "      <td>503.446109</td>\n",
       "    </tr>\n",
       "    <tr>\n",
       "      <th>25</th>\n",
       "      <td>90_2</td>\n",
       "      <td>492.602547</td>\n",
       "    </tr>\n",
       "    <tr>\n",
       "      <th>26</th>\n",
       "      <td>90_3</td>\n",
       "      <td>503.578088</td>\n",
       "    </tr>\n",
       "  </tbody>\n",
       "</table>\n",
       "</div>"
      ],
      "text/plain": [
       "    name   intensity\n",
       "0   10_1  986.423325\n",
       "1   10_2  963.440931\n",
       "2   10_3  945.110955\n",
       "3   20_1  810.964211\n",
       "4   20_2  801.719461\n",
       "5   20_3  795.834537\n",
       "6   30_1  766.947860\n",
       "7   30_2  778.412266\n",
       "8   30_3  757.942897\n",
       "9   40_1  736.162456\n",
       "10  40_2  739.302379\n",
       "11  40_3  735.766285\n",
       "12  50_1  705.300975\n",
       "13  50_2  709.910404\n",
       "14  50_3  698.339154\n",
       "15  60_1  661.329321\n",
       "16  60_2  657.525414\n",
       "17  60_3  651.750100\n",
       "18  70_1  571.539211\n",
       "19  70_2  570.808452\n",
       "20  70_3  565.160968\n",
       "21  80_1  532.031125\n",
       "22  80_2  544.153876\n",
       "23  80_3  525.187600\n",
       "24  90_1  503.446109\n",
       "25  90_2  492.602547\n",
       "26  90_3  503.578088"
      ]
     },
     "execution_count": 12,
     "metadata": {},
     "output_type": "execute_result"
    }
   ],
   "source": [
    "data"
   ]
  },
  {
   "cell_type": "code",
   "execution_count": 13,
   "metadata": {},
   "outputs": [],
   "source": [
    "# construct dictionary data\n",
    "dict_data = {}\n",
    "for num, i in data.iterrows():\n",
    "    f, l = i['name'].split('_')\n",
    "    if f in dict_data.keys():\n",
    "        dict_data[f].append(i.intensity)\n",
    "    else:\n",
    "        dict_data[f] = []\n",
    "        dict_data[f].append(i.intensity)"
   ]
  },
  {
   "cell_type": "code",
   "execution_count": 14,
   "metadata": {},
   "outputs": [],
   "source": [
    "# construct dataframe\n",
    "df = pd.DataFrame(data=dict_data)\n",
    "cols = df.columns.tolist()\n",
    "cols = cols[1:] + cols[:1]\n",
    "df = df[cols]\n",
    "mean = df.mean()\n",
    "std = df.std()\n",
    "\n",
    "c = []\n",
    "for s in cols:\n",
    "    c.append(int(s))"
   ]
  },
  {
   "cell_type": "code",
   "execution_count": 17,
   "metadata": {},
   "outputs": [
    {
     "data": {
      "text/plain": [
       "Text(0.5, 0, '$I$ ($a.u.$)')"
      ]
     },
     "execution_count": 17,
     "metadata": {},
     "output_type": "execute_result"
    },
    {
     "data": {
      "image/png": "[encoded data removed]",
      "text/plain": [
       "<Figure size 246.49x196.25 with 1 Axes>"
      ]
     },
     "metadata": {
      "needs_background": "light"
     },
     "output_type": "display_data"
    }
   ],
   "source": [
    "plt.errorbar(mean, c, xerr=std, ls='', c=wowcolor(0), marker='s',  capsize=3, markersize=2)\n",
    "plt.ylabel('$n$ [n$_0$]')\n",
    "plt.xlabel('$I$ ($a.u.$)')"
   ]
  },
  {
   "cell_type": "code",
   "execution_count": 7,
   "metadata": {},
   "outputs": [],
   "source": [
    "def log_fit(x, I0, k):\n",
    "    return k * np.log10(I0/x)\n",
    "po, pv = curve_fit(log_fit, mean, c, p0=[2048, 400])"
   ]
  },
  {
   "cell_type": "code",
   "execution_count": 8,
   "metadata": {},
   "outputs": [
    {
     "data": {
      "text/plain": [
       "Text(700, 80, '$c=308\\\\times\\\\log_{10}\\\\frac{993}{I}$')"
      ]
     },
     "execution_count": 8,
     "metadata": {},
     "output_type": "execute_result"
    },
    {
     "data": {
      "image/png": "[encoded data removed]",
      "text/plain": [
       "<Figure size 720x432 with 1 Axes>"
      ]
     },
     "metadata": {
      "needs_background": "light"
     },
     "output_type": "display_data"
    }
   ],
   "source": [
    "plt.errorbar(mean, c, xerr=std, ls='', c=wowcolor(0), marker='s',  capsize=3)\n",
    "plt.plot(mean, log_fit(np.array(mean), *po), ls='--', color='black')\n",
    "plt.ylabel('concentration [n$_0$]')\n",
    "plt.xlabel('average intensity')\n",
    "plt.text(700, 80, '$c=308\\\\times\\log_{10}\\\\frac{993}{I}$', fontdict={'size': 30})"
   ]
  },
  {
   "cell_type": "code",
   "execution_count": 18,
   "metadata": {},
   "outputs": [],
   "source": [
    "def linear_fit(x, a, b):\n",
    "    return a - b * x\n",
    "po, pv = curve_fit(linear_fit, mean, c, p0=[1000, 1])"
   ]
  },
  {
   "cell_type": "code",
   "execution_count": 31,
   "metadata": {},
   "outputs": [
    {
     "data": {
      "text/plain": [
       "Text(0.5, 0, '$I$ ($a.u.$)')"
      ]
     },
     "execution_count": 31,
     "metadata": {},
     "output_type": "execute_result"
    },
    {
     "data": {
      "image/png": "[encoded data removed]",
      "text/plain": [
       "<Figure size 246.49x196.25 with 1 Axes>"
      ]
     },
     "metadata": {
      "needs_background": "light"
     },
     "output_type": "display_data"
    }
   ],
   "source": [
    "fig = plt.figure()\n",
    "ax = fig.add_axes([0,0,1,1])\n",
    "mean = mean.sort_values()\n",
    "ax.errorbar(mean, np.array(mean.index).astype('int'), xerr=std, ls='', c=wowcolor(0), marker='s',  capsize=1, markersize=2, elinewidth=0.5)\n",
    "ax.plot(mean, linear_fit(np.array(mean), *po), ls='--', color='black', lw=0.5)\n",
    "ax.set_ylabel('$n$ [n$_0$]')\n",
    "ax.set_xlabel('$I$ ($a.u.$)')\n",
    "# plt.text(700, 80, '$c=186-0.19I$', fontdict={'size': 30})"
   ]
  },
  {
   "cell_type": "code",
   "execution_count": 26,
   "metadata": {
    "scrolled": true
   },
   "outputs": [
    {
     "data": {
      "text/plain": [
       "90    499.875581\n",
       "80    533.790867\n",
       "70    569.169544\n",
       "60    656.868279\n",
       "50    704.516844\n",
       "40    737.077040\n",
       "30    767.767674\n",
       "20    802.839403\n",
       "10    964.991737\n",
       "dtype: float64"
      ]
     },
     "execution_count": 26,
     "metadata": {},
     "output_type": "execute_result"
    }
   ],
   "source": [
    "mean.sort_values()"
   ]
  },
  {
   "cell_type": "code",
   "execution_count": 29,
   "metadata": {},
   "outputs": [
    {
     "data": {
      "text/plain": [
       "array([20, 30, 40, 50, 60, 70, 80, 90, 10])"
      ]
     },
     "execution_count": 29,
     "metadata": {},
     "output_type": "execute_result"
    }
   ],
   "source": [
    "np.array(mean.index).astype('int')"
   ]
  }
 ],
 "metadata": {
  "kernelspec": {
   "display_name": "Python 3",
   "language": "python",
   "name": "python3"
  },
  "language_info": {
   "codemirror_mode": {
    "name": "ipython",
    "version": 3
   },
   "file_extension": ".py",
   "mimetype": "text/x-python",
   "name": "python",
   "nbconvert_exporter": "python",
   "pygments_lexer": "ipython3",
   "version": "3.7.7"
  }
 },
 "nbformat": 4,
 "nbformat_minor": 2
}

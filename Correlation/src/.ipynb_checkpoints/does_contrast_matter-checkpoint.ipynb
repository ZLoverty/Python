{
 "cells": [
  {
   "cell_type": "markdown",
   "metadata": {},
   "source": [
    "# Does contrast matter?\n",
    "\n",
    "This notebook let's answer the question: does image contrast influence the alpha value?"
   ]
  },
  {
   "cell_type": "markdown",
   "metadata": {},
   "source": [
    "|raw|auto|\n",
    "|:--:|:--:|\n",
    "|![raw image](temp_data\\raw.jpg) | ![auto contrast](temp_data\\auto.jpg) |\n",
    "\n"
   ]
  },
  {
   "cell_type": "code",
   "execution_count": 30,
   "metadata": {},
   "outputs": [],
   "source": [
    "from corrLib import readseq, divide_windows\n",
    "import pandas as pd\n",
    "import numpy as np\n",
    "from skimage import io\n",
    "import os\n",
    "from corr_utils import *\n",
    "from miscLib import label_slope"
   ]
  },
  {
   "cell_type": "code",
   "execution_count": 31,
   "metadata": {},
   "outputs": [],
   "source": [
    "raw_folder = r'E:\\moreData\\test_contrast\\raw'\n",
    "auto_folder = r'E:\\moreData\\test_contrast\\auto'\n",
    "raw = df2(raw_folder)\n",
    "auto = df2(auto_folder)\n",
    "x_raw, y_raw = postprocess_gnf(raw, 3, xlim=100)\n",
    "x_auto, y_auto = postprocess_gnf(auto, 3, xlim=100)"
   ]
  },
  {
   "cell_type": "code",
   "execution_count": 29,
   "metadata": {},
   "outputs": [
    {
     "data": {
      "text/plain": [
       "Text(13.499467854794146, 1.8384589307593768, '0.28')"
      ]
     },
     "execution_count": 29,
     "metadata": {},
     "output_type": "execute_result"
    },
    {
     "data": {
      "image/png": "[encoded data removed]",
      "text/plain": [
       "<Figure size 432x288 with 1 Axes>"
      ]
     },
     "metadata": {
      "needs_background": "light"
     },
     "output_type": "display_data"
    }
   ],
   "source": [
    "plt.plot(x_raw, y_raw, marker='o', ls='', label='raw')\n",
    "plt.plot(x_auto, y_auto, marker='x', markersize=15, ls='', label='auto')\n",
    "plt.loglog()\n",
    "xf, yf, xt, yt, slope = label_slope(x_raw, y_raw, location='n')\n",
    "plt.plot(xf, yf, ls='--', color='black')\n",
    "plt.text(xt, yt, '{:.2f}'.format(slope))"
   ]
  }
 ],
 "metadata": {
  "kernelspec": {
   "display_name": "Python 3",
   "language": "python",
   "name": "python3"
  },
  "language_info": {
   "codemirror_mode": {
    "name": "ipython",
    "version": 3
   },
   "file_extension": ".py",
   "mimetype": "text/x-python",
   "name": "python",
   "nbconvert_exporter": "python",
   "pygments_lexer": "ipython3",
   "version": "3.7.7"
  }
 },
 "nbformat": 4,
 "nbformat_minor": 4
}

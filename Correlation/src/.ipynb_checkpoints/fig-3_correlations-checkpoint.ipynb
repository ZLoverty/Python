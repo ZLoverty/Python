{
 "cells": [
  {
   "cell_type": "markdown",
   "metadata": {},
   "source": [
    "# Spatial Correlations of bacterial suspensions\n",
    "\n",
    "Here we use spatial correlaitons (orientation, velocity and pixel intensity) to identify the transition from disordered phase to ordered phase. \n",
    "\n",
    "We also compare the concentration dependence of correlation length with that of GNF scaling exponent $\\alpha$."
   ]
  },
  {
   "cell_type": "markdown",
   "metadata": {},
   "source": [
    "## 1. Packages and presets"
   ]
  },
  {
   "cell_type": "code",
   "execution_count": 76,
   "metadata": {},
   "outputs": [],
   "source": [
    "import numpy as np\n",
    "import matplotlib.pyplot as plt\n",
    "from myImageLib import dirrec, bestcolor, bpass, wowcolor\n",
    "from skimage import io, measure\n",
    "import pandas as pd\n",
    "from scipy.signal import savgol_filter, medfilt\n",
    "import os\n",
    "import corrLib as cl\n",
    "from scipy.signal import savgol_filter\n",
    "import matplotlib as mpl\n",
    "from numpy.polynomial.polynomial import polyvander\n",
    "from scipy.optimize import curve_fit\n",
    "from miscLib import label_slope\n",
    "from corrLib import density_fluctuation\n",
    "from scipy import signal\n",
    "from scipy.interpolate import griddata\n",
    "import matplotlib\n",
    "import pandas as pd\n",
    "import time"
   ]
  },
  {
   "cell_type": "code",
   "execution_count": 2,
   "metadata": {},
   "outputs": [],
   "source": [
    "# figure initializing presets\n",
    "presets = {}\n",
    "presets['1-column-2-panel'] = (1.25, 1.57, 157)\n",
    "presets['1-column-1-panel'] = (1.25, 3.2, 157)\n",
    "h, w, dpi = presets['1-column-2-panel']"
   ]
  },
  {
   "cell_type": "code",
   "execution_count": 3,
   "metadata": {},
   "outputs": [],
   "source": [
    "# matplotlib configs\n",
    "\n",
    "# FONT\n",
    "matplotlib.rcParams['font.family'] = 'serif'\n",
    "matplotlib.rcParams['font.size'] = 8\n",
    "matplotlib.rcParams['text.usetex'] = True \n",
    "\n",
    "# FIGURE\n",
    "matplotlib.rcParams['figure.figsize'] = w, h\n",
    "matplotlib.rcParams['figure.dpi'] = dpi\n",
    "\n",
    "# AXES\n",
    "matplotlib.rcParams['axes.labelpad'] = 1.0\n",
    "matplotlib.rcParams['axes.labelsize'] = 'small'\n",
    "matplotlib.rcParams['axes.linewidth'] = 0.5\n",
    "\n",
    "# TICKS\n",
    "matplotlib.rcParams['xtick.labelsize'] = 'small'\n",
    "matplotlib.rcParams['xtick.direction'] = 'in'\n",
    "matplotlib.rcParams['xtick.minor.visible'] = True\n",
    "matplotlib.rcParams['xtick.top'] = True\n",
    "matplotlib.rcParams['xtick.major.size'] = 2.5\n",
    "matplotlib.rcParams['xtick.minor.size'] = 1.6\n",
    "\n",
    "matplotlib.rcParams['ytick.labelsize'] = 'small'\n",
    "matplotlib.rcParams['ytick.direction'] = 'in'\n",
    "matplotlib.rcParams['ytick.minor.visible'] = True\n",
    "matplotlib.rcParams['ytick.right'] = True\n",
    "matplotlib.rcParams['ytick.major.size'] = 2.5\n",
    "matplotlib.rcParams['ytick.minor.size'] = 1.6\n",
    "\n",
    "# LEGEND\n",
    "matplotlib.rcParams['legend.labelspacing'] = 0.2\n",
    "matplotlib.rcParams['legend.handlelength'] = 1\n",
    "matplotlib.rcParams['legend.fontsize'] = 'small'\n",
    "matplotlib.rcParams['legend.handletextpad'] = 0.2\n",
    "matplotlib.rcParams['legend.columnspacing'] = 0.5\n",
    "matplotlib.rcParams['legend.frameon'] = False"
   ]
  },
  {
   "cell_type": "markdown",
   "metadata": {},
   "source": [
    "## 2. intensity, orientation and velocity spatial correlation"
   ]
  },
  {
   "cell_type": "markdown",
   "metadata": {},
   "source": [
    "### 2.1 Helper functions\n",
    "\n",
    "- Exponential function: for fitting the spatial correlations \n",
    "- corr_length: extract correlation length\n",
    "- xy_to_r: spatial correlation data was originally recorded in (x, y, CA, CV). This function converts the x, y to r by \n",
    "$$ r = \\sqrt{x^2+y^2} $$\n",
    "\n",
    "    **Note:** (x, y) in the data starts from the first nonzero distance (step, step), where as the correlation value (CA, CV) starts from distance (0, 0). Here, we manually adjust the (x, y) by \n",
    "$$ x, y = x-step, y-step $$\n",
    "    to get meaningful spatial correlation data.\n",
    "\n",
    "- average_data: take the average of all data in given directory\n",
    "\n",
    "<font color='red'><b> Comment to myself: </b></font> in the future, I will change the distance representation in the corr code. Also, the code now has too many for loops which surely harm the performance. I will try to vectorize it."
   ]
  },
  {
   "cell_type": "code",
   "execution_count": 98,
   "metadata": {},
   "outputs": [],
   "source": [
    "def exp(x, a):\n",
    "    return np.exp(-a*x)"
   ]
  },
  {
   "cell_type": "markdown",
   "metadata": {},
   "source": [
    "**Fit data with exponential**\n",
    "\n",
    "The correlation functions are all identified as exponential decay. In order to determine the length scale of the correlation function, I need to fit the functions with exponential $$y = be^{-ax}$$"
   ]
  },
  {
   "cell_type": "code",
   "execution_count": 144,
   "metadata": {},
   "outputs": [],
   "source": [
    "def corr_length(data, fitting_range=None):\n",
    "    \"\"\"\n",
    "    Args:\n",
    "    data -- dataframe with columns (R, C), where R has pixel as unit\n",
    "    fitting_range -- (optional) can be None, int or list of two int\n",
    "    \n",
    "    Returns:\n",
    "    cl -- correlation length of given data (pixel)\n",
    "    \"\"\"\n",
    "    if fitting_range == None:\n",
    "        pass\n",
    "    elif isinstance(fitting_range, int):\n",
    "        data = data.loc[data['R'] < fitting_range]\n",
    "    elif isinstance(fitting_range, list) and len(fitting_range) == 2:\n",
    "        data = data.loc[(data['R'] < fitting_range[1])&(data['R'] >= fitting_range[0])]\n",
    "    else:\n",
    "        raise ValueError('fitting_range should be None, int or list of 2 int')\n",
    "        \n",
    "    fit = curve_fit(exp, data['R'], data['C'], p0=[0.01])\n",
    "    cl = 1 / fit[0][0]\n",
    "    return cl, fit"
   ]
  },
  {
   "cell_type": "code",
   "execution_count": 18,
   "metadata": {},
   "outputs": [],
   "source": [
    "def xy_to_r(corr_xy):\n",
    "    \"\"\"\n",
    "    Note, this version of function converts the xy data where x, y start from (step, step) instead of (0, 0).\n",
    "    When the corr functions are changed, this function should not be used anymore. \n",
    "    Check carefully before using.\n",
    "    \n",
    "    Args:\n",
    "    corr_xy -- DataFrame of (X, Y, ...)\n",
    "    \n",
    "    Returns:\n",
    "    corr_r -- DataFrame (R, ...)\n",
    "    \"\"\"\n",
    "    step_x = corr_xy.X.iloc[0]\n",
    "    step_y = corr_xy.Y.iloc[0]\n",
    "    corr_r = corr_xy.assign(R = ((corr_xy.X-step_x)**2 + (corr_xy.Y-step_y)**2)**0.5)    \n",
    "    return corr_r"
   ]
  },
  {
   "cell_type": "code",
   "execution_count": 102,
   "metadata": {},
   "outputs": [
    {
     "data": {
      "text/html": [
       "<div>\n",
       "<style scoped>\n",
       "    .dataframe tbody tr th:only-of-type {\n",
       "        vertical-align: middle;\n",
       "    }\n",
       "\n",
       "    .dataframe tbody tr th {\n",
       "        vertical-align: top;\n",
       "    }\n",
       "\n",
       "    .dataframe thead th {\n",
       "        text-align: right;\n",
       "    }\n",
       "</style>\n",
       "<table border=\"1\" class=\"dataframe\">\n",
       "  <thead>\n",
       "    <tr style=\"text-align: right;\">\n",
       "      <th></th>\n",
       "      <th>X</th>\n",
       "      <th>Y</th>\n",
       "      <th>CA</th>\n",
       "      <th>CV</th>\n",
       "      <th>R</th>\n",
       "    </tr>\n",
       "  </thead>\n",
       "  <tbody>\n",
       "    <tr>\n",
       "      <th>0</th>\n",
       "      <td>25.0</td>\n",
       "      <td>25.0</td>\n",
       "      <td>1.000000</td>\n",
       "      <td>1.000000</td>\n",
       "      <td>0.0</td>\n",
       "    </tr>\n",
       "    <tr>\n",
       "      <th>1</th>\n",
       "      <td>50.0</td>\n",
       "      <td>25.0</td>\n",
       "      <td>0.912503</td>\n",
       "      <td>0.947867</td>\n",
       "      <td>25.0</td>\n",
       "    </tr>\n",
       "    <tr>\n",
       "      <th>2</th>\n",
       "      <td>75.0</td>\n",
       "      <td>25.0</td>\n",
       "      <td>0.792586</td>\n",
       "      <td>0.855965</td>\n",
       "      <td>50.0</td>\n",
       "    </tr>\n",
       "    <tr>\n",
       "      <th>3</th>\n",
       "      <td>100.0</td>\n",
       "      <td>25.0</td>\n",
       "      <td>0.685544</td>\n",
       "      <td>0.754280</td>\n",
       "      <td>75.0</td>\n",
       "    </tr>\n",
       "    <tr>\n",
       "      <th>4</th>\n",
       "      <td>125.0</td>\n",
       "      <td>25.0</td>\n",
       "      <td>0.583561</td>\n",
       "      <td>0.646617</td>\n",
       "      <td>100.0</td>\n",
       "    </tr>\n",
       "  </tbody>\n",
       "</table>\n",
       "</div>"
      ],
      "text/plain": [
       "       X     Y        CA        CV      R\n",
       "0   25.0  25.0  1.000000  1.000000    0.0\n",
       "1   50.0  25.0  0.912503  0.947867   25.0\n",
       "2   75.0  25.0  0.792586  0.855965   50.0\n",
       "3  100.0  25.0  0.685544  0.754280   75.0\n",
       "4  125.0  25.0  0.583561  0.646617  100.0"
      ]
     },
     "execution_count": 102,
     "metadata": {},
     "output_type": "execute_result"
    }
   ],
   "source": [
    "corr_xy = pd.read_csv(r'E:\\Github\\Python\\Correlation\\test_images\\CAV\\cav_result\\900-901.csv')\n",
    "corr_r = xy_to_r(corr_xy)\n",
    "corr_r.head()"
   ]
  },
  {
   "cell_type": "code",
   "execution_count": 85,
   "metadata": {},
   "outputs": [],
   "source": [
    "def average_data(directory, columns=['CA', 'CV']):\n",
    "    \"\"\"\n",
    "    Take the average of all data in given directory\n",
    "    \n",
    "    Args:\n",
    "    directory -- folder which contains *.csv data, with columns\n",
    "    columns -- (optional) list of column labels of columns to be averaged\n",
    "    \n",
    "    Returns:\n",
    "    averaged -- DataFrame with averaged data\n",
    "    \"\"\"\n",
    "    k = 0\n",
    "    \n",
    "    l = cl.readdata(directory)\n",
    "    for num, i in l.iterrows():\n",
    "        data = pd.read_csv(i.Dir)\n",
    "        # check if given label exists in data\n",
    "        for label in columns:\n",
    "            if label not in data:\n",
    "                raise IndexError('Column \\'{0}\\' does not exist in given data'.format(label))\n",
    "        if k == 0:\n",
    "            temp = data[columns]\n",
    "        else:\n",
    "            temp += data[columns]\n",
    "        k += 1                   \n",
    "       \n",
    "    # finally, append all other columns (in data but not columns) to averaged\n",
    "    other_cols = []\n",
    "    for label in data.columns:\n",
    "        if label not in columns:\n",
    "            other_cols.append(label) \n",
    "    \n",
    "    averaged = pd.concat([temp / k, data[other_cols]], axis=1)       \n",
    "    \n",
    "    return averaged "
   ]
  },
  {
   "cell_type": "code",
   "execution_count": 103,
   "metadata": {
    "scrolled": true
   },
   "outputs": [
    {
     "name": "stdout",
     "output_type": "stream",
     "text": [
      "time needed for 2 files: 31.0 ms\n",
      "         CA        CV      X     Y\n",
      "0  1.000000  1.000000   25.0  25.0\n",
      "1  0.914361  0.948507   50.0  25.0\n",
      "2  0.795402  0.857086   75.0  25.0\n",
      "3  0.687169  0.756254  100.0  25.0\n",
      "4  0.585534  0.650149  125.0  25.0\n"
     ]
    }
   ],
   "source": [
    "# test\n",
    "d = r'E:\\Github\\Python\\Correlation\\test_images\\CAV\\cav_result'\n",
    "tic = time.monotonic()\n",
    "averaged = average_data(d, columns=['CA', 'CV'])\n",
    "toc = time.monotonic()\n",
    "print('time needed for 2 files: {:.3} ms'.format((toc-tic)*1000))\n",
    "print(averaged.head())"
   ]
  },
  {
   "cell_type": "markdown",
   "metadata": {},
   "source": [
    "## 2.2 Concentration correlation"
   ]
  },
  {
   "cell_type": "markdown",
   "metadata": {},
   "source": [
    "#### 2.2.1 Plot concentration correlation functions"
   ]
  },
  {
   "cell_type": "code",
   "execution_count": 177,
   "metadata": {},
   "outputs": [],
   "source": [
    "def concentration_correlation(data, mpp=0.33, lb=3):\n",
    "    \"\"\"\n",
    "    Plot concentration correlation data\n",
    "    \n",
    "    Args:\n",
    "    data -- DataFrame (R, C, conc)\n",
    "    \n",
    "    Returns:\n",
    "    None    \n",
    "    \"\"\"\n",
    "    fig = plt.figure()\n",
    "    ax = fig.add_axes([0,0,1,1])\n",
    "    \n",
    "    symbol_list = ['o', '^', 'x', 's', '+']\n",
    "    for num, nt in enumerate(data.conc.drop_duplicates()):\n",
    "        subdata = data.loc[data.conc==nt]\n",
    "        x = subdata.R\n",
    "        y = subdata.C\n",
    "        p, po = curve_fit(exp, x, y, p0=[0.01])\n",
    "        xfit = np.linspace(0, x.max(), num=50)\n",
    "        yfit = exp(xfit, *p)\n",
    "#         ax.plot(xfit*mpp/lb, yfit, color=wowcolor(num), lw=1, ls='--')\n",
    "        ax.plot(xfit*mpp/lb, yfit, mec=wowcolor(num), label=str(nt), ls='',\n",
    "                marker=symbol_list[num], mfc=(0,0,0,0), markersize=4, markeredgewidth=0.5)\n",
    "    ax.legend()\n",
    "    # plt.axis([0, 133, -0.2, 1.1])\n",
    "    ax.set_xlabel('$l/l_b$')\n",
    "    ax.set_ylabel('$C_{n}$')   \n",
    "    return None"
   ]
  },
  {
   "cell_type": "code",
   "execution_count": 178,
   "metadata": {},
   "outputs": [
    {
     "data": {
      "image/png": "[encoded data removed]",
      "text/plain": [
       "<Figure size 246.49x196.25 with 1 Axes>"
      ]
     },
     "metadata": {
      "needs_background": "light"
     },
     "output_type": "display_data"
    }
   ],
   "source": [
    "# test \n",
    "data = pd.read_csv(r'E:\\Google Drive\\Research projects\\DF\\Figures\\fig3-spatialCorr\\spatialCorr_crop.csv')\n",
    "concentration_correlation(data)"
   ]
  },
  {
   "cell_type": "markdown",
   "metadata": {},
   "source": [
    "#### 2.2.2 Extract correlation lengths"
   ]
  },
  {
   "cell_type": "code",
   "execution_count": 176,
   "metadata": {},
   "outputs": [
    {
     "data": {
      "text/plain": [
       "Text(0.5, 0, '$n$ [n$_0$]')"
      ]
     },
     "execution_count": 176,
     "metadata": {},
     "output_type": "execute_result"
    },
    {
     "data": {
      "image/png": "[encoded data removed]",
      "text/plain": [
       "<Figure size 246.49x196.25 with 1 Axes>"
      ]
     },
     "metadata": {
      "needs_background": "light"
     },
     "output_type": "display_data"
    }
   ],
   "source": [
    "data = pd.read_csv(r'E:\\Google Drive\\Research projects\\DF\\Figures\\fig3-spatialCorr\\spatialCorr_crop.csv')\n",
    "mpp = 0.33\n",
    "lb = 3\n",
    "\n",
    "cl_data = {'conc': [], 'cl': []}\n",
    "for nt in data.conc.drop_duplicates():\n",
    "    subdata = data.loc[data.conc==nt]\n",
    "    cl, fit = corr_length(subdata, fitting_range=None)\n",
    "    cl_data['conc'].append(nt)\n",
    "    cl_data['cl'].append(cl)\n",
    "    \n",
    "fig = plt.figure()\n",
    "ax = fig.add_axes([0,0,1,1])\n",
    "\n",
    "c = np.array(cl_data['conc'])\n",
    "l = np.array(cl_data['cl']) * mpp / lb\n",
    "ax.plot(c, l, mec=bestcolor(0), ls='',\n",
    "                marker='o', mfc=(0,0,0,0), markersize=4, markeredgewidth=1)\n",
    "ax.set_ylabel('$l_n/l_b$')\n",
    "ax.set_xlabel('$n$ [n$_0$]')  "
   ]
  },
  {
   "cell_type": "markdown",
   "metadata": {},
   "source": [
    "## 2.3 Orientation and velocity correlations"
   ]
  },
  {
   "cell_type": "markdown",
   "metadata": {},
   "source": [
    "#### 2.3.1 Plot orientation and velocity correlations"
   ]
  },
  {
   "cell_type": "markdown",
   "metadata": {},
   "source": [
    "**Construct all-in-one data:**\n",
    "    \n",
    "Before calling a function which plots the data, we first reorganize the data in a DataFrame with (R, CA, CV, conc) by using\n",
    "\n",
    "- average_data(directory)\n",
    "- xy_to_r(corr_xy)\n",
    "- assign conc column"
   ]
  },
  {
   "cell_type": "code",
   "execution_count": null,
   "metadata": {},
   "outputs": [],
   "source": [
    "folder = r'E:\\moreData\\02042020\\cav_imseq'\n",
    "conc = [20, 40, 60, 80]\n",
    "num = [1]\n",
    "for c in conc:\n",
    "    for n in num:\n",
    "        name = '{0}-{1}'.format(c, n)\n",
    "        d "
   ]
  },
  {
   "cell_type": "code",
   "execution_count": 118,
   "metadata": {},
   "outputs": [],
   "source": [
    "folder = r'E:\\moreData\\02042020\\cav_imseq\\20-1'\n",
    "av = average_data(folder, columns=['CA', 'CV'])"
   ]
  },
  {
   "cell_type": "code",
   "execution_count": 119,
   "metadata": {},
   "outputs": [
    {
     "name": "stdout",
     "output_type": "stream",
     "text": [
      "         CA        CV      X     Y      R\n",
      "0  1.000000  1.000000   25.0  25.0    0.0\n",
      "1  0.673987  0.763012   50.0  25.0   25.0\n",
      "2  0.386238  0.453962   75.0  25.0   50.0\n",
      "3  0.275794  0.321679  100.0  25.0   75.0\n",
      "4  0.213266  0.245230  125.0  25.0  100.0\n"
     ]
    }
   ],
   "source": [
    "av_r = xy_to_r(av)\n",
    "print(av_r.head())"
   ]
  },
  {
   "cell_type": "code",
   "execution_count": 120,
   "metadata": {},
   "outputs": [
    {
     "data": {
      "text/plain": [
       "(0.0, 600.0, 0.0, 1.0)"
      ]
     },
     "execution_count": 120,
     "metadata": {},
     "output_type": "execute_result"
    },
    {
     "data": {
      "image/png": "[encoded data removed]",
      "text/plain": [
       "<Figure size 246.49x196.25 with 1 Axes>"
      ]
     },
     "metadata": {
      "needs_background": "light"
     },
     "output_type": "display_data"
    }
   ],
   "source": [
    "av_r = av_r.sort_values(by=['R'])\n",
    "plt.plot(av_r.R, av_r.CA)\n",
    "plt.axis([0, 600, 0, 1])"
   ]
  },
  {
   "cell_type": "markdown",
   "metadata": {},
   "source": [
    "Correlation data is a dataframe with columns (R, C, conc). "
   ]
  },
  {
   "cell_type": "code",
   "execution_count": 6,
   "metadata": {},
   "outputs": [],
   "source": [
    "data = pd.read_csv(r'E:\\Google Drive\\Research projects\\DF\\Figures\\fig3-spatialCorr\\spatialCorr_crop.csv')\n",
    "clI = []\n",
    "ranges = [30, 30, 100, 100, 100]\n",
    "for nt, r in zip(data.conc.drop_duplicates(), ranges):\n",
    "    subdata = data.loc[data.conc==nt]\n",
    "    cl, fit = corr_length(subdata, fitting_range=r)\n",
    "    clI.append(cl)"
   ]
  },
  {
   "cell_type": "code",
   "execution_count": 99,
   "metadata": {},
   "outputs": [
    {
     "data": {
      "text/plain": [
       "array([0.02820541, 1.32996339])"
      ]
     },
     "execution_count": 99,
     "metadata": {},
     "output_type": "execute_result"
    }
   ],
   "source": [
    "p"
   ]
  },
  {
   "cell_type": "code",
   "execution_count": 86,
   "metadata": {},
   "outputs": [
    {
     "name": "stdout",
     "output_type": "stream",
     "text": [
      "Help on function curve_fit in module scipy.optimize.minpack:\n",
      "\n",
      "curve_fit(f, xdata, ydata, p0=None, sigma=None, absolute_sigma=False, check_finite=True, bounds=(-inf, inf), method=None, jac=None, **kwargs)\n",
      "    Use non-linear least squares to fit a function, f, to data.\n",
      "    \n",
      "    Assumes ``ydata = f(xdata, *params) + eps``\n",
      "    \n",
      "    Parameters\n",
      "    ----------\n",
      "    f : callable\n",
      "        The model function, f(x, ...).  It must take the independent\n",
      "        variable as the first argument and the parameters to fit as\n",
      "        separate remaining arguments.\n",
      "    xdata : array_like or object\n",
      "        The independent variable where the data is measured.\n",
      "        Should usually be an M-length sequence or an (k,M)-shaped array for\n",
      "        functions with k predictors, but can actually be any object.\n",
      "    ydata : array_like\n",
      "        The dependent data, a length M array - nominally ``f(xdata, ...)``.\n",
      "    p0 : array_like, optional\n",
      "        Initial guess for the parameters (length N).  If None, then the\n",
      "        initial values will all be 1 (if the number of parameters for the\n",
      "        function can be determined using introspection, otherwise a\n",
      "        ValueError is raised).\n",
      "    sigma : None or M-length sequence or MxM array, optional\n",
      "        Determines the uncertainty in `ydata`. If we define residuals as\n",
      "        ``r = ydata - f(xdata, *popt)``, then the interpretation of `sigma`\n",
      "        depends on its number of dimensions:\n",
      "    \n",
      "            - A 1-d `sigma` should contain values of standard deviations of\n",
      "              errors in `ydata`. In this case, the optimized function is\n",
      "              ``chisq = sum((r / sigma) ** 2)``.\n",
      "    \n",
      "            - A 2-d `sigma` should contain the covariance matrix of\n",
      "              errors in `ydata`. In this case, the optimized function is\n",
      "              ``chisq = r.T @ inv(sigma) @ r``.\n",
      "    \n",
      "              .. versionadded:: 0.19\n",
      "    \n",
      "        None (default) is equivalent of 1-d `sigma` filled with ones.\n",
      "    absolute_sigma : bool, optional\n",
      "        If True, `sigma` is used in an absolute sense and the estimated parameter\n",
      "        covariance `pcov` reflects these absolute values.\n",
      "    \n",
      "        If False, only the relative magnitudes of the `sigma` values matter.\n",
      "        The returned parameter covariance matrix `pcov` is based on scaling\n",
      "        `sigma` by a constant factor. This constant is set by demanding that the\n",
      "        reduced `chisq` for the optimal parameters `popt` when using the\n",
      "        *scaled* `sigma` equals unity. In other words, `sigma` is scaled to\n",
      "        match the sample variance of the residuals after the fit.\n",
      "        Mathematically,\n",
      "        ``pcov(absolute_sigma=False) = pcov(absolute_sigma=True) * chisq(popt)/(M-N)``\n",
      "    check_finite : bool, optional\n",
      "        If True, check that the input arrays do not contain nans of infs,\n",
      "        and raise a ValueError if they do. Setting this parameter to\n",
      "        False may silently produce nonsensical results if the input arrays\n",
      "        do contain nans. Default is True.\n",
      "    bounds : 2-tuple of array_like, optional\n",
      "        Lower and upper bounds on parameters. Defaults to no bounds.\n",
      "        Each element of the tuple must be either an array with the length equal\n",
      "        to the number of parameters, or a scalar (in which case the bound is\n",
      "        taken to be the same for all parameters.) Use ``np.inf`` with an\n",
      "        appropriate sign to disable bounds on all or some parameters.\n",
      "    \n",
      "        .. versionadded:: 0.17\n",
      "    method : {'lm', 'trf', 'dogbox'}, optional\n",
      "        Method to use for optimization.  See `least_squares` for more details.\n",
      "        Default is 'lm' for unconstrained problems and 'trf' if `bounds` are\n",
      "        provided. The method 'lm' won't work when the number of observations\n",
      "        is less than the number of variables, use 'trf' or 'dogbox' in this\n",
      "        case.\n",
      "    \n",
      "        .. versionadded:: 0.17\n",
      "    jac : callable, string or None, optional\n",
      "        Function with signature ``jac(x, ...)`` which computes the Jacobian\n",
      "        matrix of the model function with respect to parameters as a dense\n",
      "        array_like structure. It will be scaled according to provided `sigma`.\n",
      "        If None (default), the Jacobian will be estimated numerically.\n",
      "        String keywords for 'trf' and 'dogbox' methods can be used to select\n",
      "        a finite difference scheme, see `least_squares`.\n",
      "    \n",
      "        .. versionadded:: 0.18\n",
      "    kwargs\n",
      "        Keyword arguments passed to `leastsq` for ``method='lm'`` or\n",
      "        `least_squares` otherwise.\n",
      "    \n",
      "    Returns\n",
      "    -------\n",
      "    popt : array\n",
      "        Optimal values for the parameters so that the sum of the squared\n",
      "        residuals of ``f(xdata, *popt) - ydata`` is minimized\n",
      "    pcov : 2d array\n",
      "        The estimated covariance of popt. The diagonals provide the variance\n",
      "        of the parameter estimate. To compute one standard deviation errors\n",
      "        on the parameters use ``perr = np.sqrt(np.diag(pcov))``.\n",
      "    \n",
      "        How the `sigma` parameter affects the estimated covariance\n",
      "        depends on `absolute_sigma` argument, as described above.\n",
      "    \n",
      "        If the Jacobian matrix at the solution doesn't have a full rank, then\n",
      "        'lm' method returns a matrix filled with ``np.inf``, on the other hand\n",
      "        'trf'  and 'dogbox' methods use Moore-Penrose pseudoinverse to compute\n",
      "        the covariance matrix.\n",
      "    \n",
      "    Raises\n",
      "    ------\n",
      "    ValueError\n",
      "        if either `ydata` or `xdata` contain NaNs, or if incompatible options\n",
      "        are used.\n",
      "    \n",
      "    RuntimeError\n",
      "        if the least-squares minimization fails.\n",
      "    \n",
      "    OptimizeWarning\n",
      "        if covariance of the parameters can not be estimated.\n",
      "    \n",
      "    See Also\n",
      "    --------\n",
      "    least_squares : Minimize the sum of squares of nonlinear functions.\n",
      "    scipy.stats.linregress : Calculate a linear least squares regression for\n",
      "                             two sets of measurements.\n",
      "    \n",
      "    Notes\n",
      "    -----\n",
      "    With ``method='lm'``, the algorithm uses the Levenberg-Marquardt algorithm\n",
      "    through `leastsq`. Note that this algorithm can only deal with\n",
      "    unconstrained problems.\n",
      "    \n",
      "    Box constraints can be handled by methods 'trf' and 'dogbox'. Refer to\n",
      "    the docstring of `least_squares` for more information.\n",
      "    \n",
      "    Examples\n",
      "    --------\n",
      "    >>> import matplotlib.pyplot as plt\n",
      "    >>> from scipy.optimize import curve_fit\n",
      "    \n",
      "    >>> def func(x, a, b, c):\n",
      "    ...     return a * np.exp(-b * x) + c\n",
      "    \n",
      "    Define the data to be fit with some noise:\n",
      "    \n",
      "    >>> xdata = np.linspace(0, 4, 50)\n",
      "    >>> y = func(xdata, 2.5, 1.3, 0.5)\n",
      "    >>> np.random.seed(1729)\n",
      "    >>> y_noise = 0.2 * np.random.normal(size=xdata.size)\n",
      "    >>> ydata = y + y_noise\n",
      "    >>> plt.plot(xdata, ydata, 'b-', label='data')\n",
      "    \n",
      "    Fit for the parameters a, b, c of the function `func`:\n",
      "    \n",
      "    >>> popt, pcov = curve_fit(func, xdata, ydata)\n",
      "    >>> popt\n",
      "    array([ 2.55423706,  1.35190947,  0.47450618])\n",
      "    >>> plt.plot(xdata, func(xdata, *popt), 'r-',\n",
      "    ...          label='fit: a=%5.3f, b=%5.3f, c=%5.3f' % tuple(popt))\n",
      "    \n",
      "    Constrain the optimization to the region of ``0 <= a <= 3``,\n",
      "    ``0 <= b <= 1`` and ``0 <= c <= 0.5``:\n",
      "    \n",
      "    >>> popt, pcov = curve_fit(func, xdata, ydata, bounds=(0, [3., 1., 0.5]))\n",
      "    >>> popt\n",
      "    array([ 2.43708906,  1.        ,  0.35015434])\n",
      "    >>> plt.plot(xdata, func(xdata, *popt), 'g--',\n",
      "    ...          label='fit: a=%5.3f, b=%5.3f, c=%5.3f' % tuple(popt))\n",
      "    \n",
      "    >>> plt.xlabel('x')\n",
      "    >>> plt.ylabel('y')\n",
      "    >>> plt.legend()\n",
      "    >>> plt.show()\n",
      "\n"
     ]
    }
   ],
   "source": [
    "help(curve_fit)"
   ]
  },
  {
   "cell_type": "code",
   "execution_count": 8,
   "metadata": {},
   "outputs": [
    {
     "data": {
      "text/html": [
       "<div>\n",
       "<style scoped>\n",
       "    .dataframe tbody tr th:only-of-type {\n",
       "        vertical-align: middle;\n",
       "    }\n",
       "\n",
       "    .dataframe tbody tr th {\n",
       "        vertical-align: top;\n",
       "    }\n",
       "\n",
       "    .dataframe thead th {\n",
       "        text-align: right;\n",
       "    }\n",
       "</style>\n",
       "<table border=\"1\" class=\"dataframe\">\n",
       "  <thead>\n",
       "    <tr style=\"text-align: right;\">\n",
       "      <th></th>\n",
       "      <th>X</th>\n",
       "      <th>Y</th>\n",
       "      <th>CA</th>\n",
       "      <th>CV</th>\n",
       "    </tr>\n",
       "  </thead>\n",
       "  <tbody>\n",
       "    <tr>\n",
       "      <th>0</th>\n",
       "      <td>25.0</td>\n",
       "      <td>25.0</td>\n",
       "      <td>1.000000</td>\n",
       "      <td>1.000000</td>\n",
       "    </tr>\n",
       "    <tr>\n",
       "      <th>1</th>\n",
       "      <td>50.0</td>\n",
       "      <td>25.0</td>\n",
       "      <td>0.682685</td>\n",
       "      <td>0.769387</td>\n",
       "    </tr>\n",
       "    <tr>\n",
       "      <th>2</th>\n",
       "      <td>75.0</td>\n",
       "      <td>25.0</td>\n",
       "      <td>0.402929</td>\n",
       "      <td>0.468053</td>\n",
       "    </tr>\n",
       "    <tr>\n",
       "      <th>3</th>\n",
       "      <td>100.0</td>\n",
       "      <td>25.0</td>\n",
       "      <td>0.298230</td>\n",
       "      <td>0.335069</td>\n",
       "    </tr>\n",
       "    <tr>\n",
       "      <th>4</th>\n",
       "      <td>125.0</td>\n",
       "      <td>25.0</td>\n",
       "      <td>0.226230</td>\n",
       "      <td>0.254340</td>\n",
       "    </tr>\n",
       "    <tr>\n",
       "      <th>...</th>\n",
       "      <td>...</td>\n",
       "      <td>...</td>\n",
       "      <td>...</td>\n",
       "      <td>...</td>\n",
       "    </tr>\n",
       "    <tr>\n",
       "      <th>6395</th>\n",
       "      <td>1900.0</td>\n",
       "      <td>2000.0</td>\n",
       "      <td>0.135098</td>\n",
       "      <td>0.000212</td>\n",
       "    </tr>\n",
       "    <tr>\n",
       "      <th>6396</th>\n",
       "      <td>1925.0</td>\n",
       "      <td>2000.0</td>\n",
       "      <td>-0.408688</td>\n",
       "      <td>-0.000076</td>\n",
       "    </tr>\n",
       "    <tr>\n",
       "      <th>6397</th>\n",
       "      <td>1950.0</td>\n",
       "      <td>2000.0</td>\n",
       "      <td>-0.760033</td>\n",
       "      <td>-0.000185</td>\n",
       "    </tr>\n",
       "    <tr>\n",
       "      <th>6398</th>\n",
       "      <td>1975.0</td>\n",
       "      <td>2000.0</td>\n",
       "      <td>-0.852340</td>\n",
       "      <td>-0.000126</td>\n",
       "    </tr>\n",
       "    <tr>\n",
       "      <th>6399</th>\n",
       "      <td>2000.0</td>\n",
       "      <td>2000.0</td>\n",
       "      <td>-0.692723</td>\n",
       "      <td>-0.000077</td>\n",
       "    </tr>\n",
       "  </tbody>\n",
       "</table>\n",
       "<p>6400 rows × 4 columns</p>\n",
       "</div>"
      ],
      "text/plain": [
       "           X       Y        CA        CV\n",
       "0       25.0    25.0  1.000000  1.000000\n",
       "1       50.0    25.0  0.682685  0.769387\n",
       "2       75.0    25.0  0.402929  0.468053\n",
       "3      100.0    25.0  0.298230  0.335069\n",
       "4      125.0    25.0  0.226230  0.254340\n",
       "...      ...     ...       ...       ...\n",
       "6395  1900.0  2000.0  0.135098  0.000212\n",
       "6396  1925.0  2000.0 -0.408688 -0.000076\n",
       "6397  1950.0  2000.0 -0.760033 -0.000185\n",
       "6398  1975.0  2000.0 -0.852340 -0.000126\n",
       "6399  2000.0  2000.0 -0.692723 -0.000077\n",
       "\n",
       "[6400 rows x 4 columns]"
      ]
     },
     "execution_count": 8,
     "metadata": {},
     "output_type": "execute_result"
    }
   ],
   "source": [
    "data = pd.read_csv(r'E:\\moreData\\02042020\\cav_imseq\\0000-0001.csv')\n",
    "data"
   ]
  },
  {
   "cell_type": "markdown",
   "metadata": {},
   "source": [
    "### 2.2 Orientation correlation\n",
    "\n",
    "**Combine seperate (R, C) data sheets into one (R, C, conc) data sheet**\n",
    "\n",
    "I originally saved $C_A$ and $C_V$ data at different concentrations in different files since save in one file requires recording duplicated concentration information. But this archetecture results in many files and information in file names which is even harder to manage and subject to accidental change. Thus here I combine them back into one file.\n",
    "\n",
    "<font color='red'><b>Comment to myself:</b></font> in the future, this data can be saved in better structure, such as h5 files. Explore!"
   ]
  },
  {
   "cell_type": "code",
   "execution_count": 108,
   "metadata": {},
   "outputs": [],
   "source": [
    "folder = r'E:\\Google Drive\\Research projects\\DF\\Figures\\fig3-spatialCorr'\n",
    "l = dirrec(folder, 'CA*')\n",
    "for num, d in enumerate(l):\n",
    "    subdata = pd.read_csv(d)\n",
    "    f, ne = os.path.split(d)\n",
    "    n = ne.split('.')[0]\n",
    "    conc = int(n[2:])\n",
    "    if num == 0:\n",
    "        data = subdata.assign(conc=conc)\n",
    "    else:\n",
    "        data = data.append(subdata.assign(conc=conc))"
   ]
  },
  {
   "cell_type": "code",
   "execution_count": 111,
   "metadata": {},
   "outputs": [],
   "source": [
    "data.to_csv(r'E:\\Google Drive\\Research projects\\DF\\Figures\\fig3-spatialCorr\\spatialCorrA.csv', index=False)"
   ]
  },
  {
   "cell_type": "code",
   "execution_count": 112,
   "metadata": {},
   "outputs": [],
   "source": [
    "folder = r'E:\\Google Drive\\Research projects\\DF\\Figures\\fig3-spatialCorr'\n",
    "l = dirrec(folder, 'CV*')\n",
    "for num, d in enumerate(l):\n",
    "    subdata = pd.read_csv(d)\n",
    "    f, ne = os.path.split(d)\n",
    "    n = ne.split('.')[0]\n",
    "    conc = int(n[2:])\n",
    "    if num == 0:\n",
    "        data = subdata.assign(conc=conc)\n",
    "    else:\n",
    "        data = data.append(subdata.assign(conc=conc))"
   ]
  },
  {
   "cell_type": "code",
   "execution_count": 114,
   "metadata": {},
   "outputs": [],
   "source": [
    "data.to_csv(r'E:\\Google Drive\\Research projects\\DF\\Figures\\fig3-spatialCorr\\spatialCorrV.csv', index=False)"
   ]
  },
  {
   "cell_type": "markdown",
   "metadata": {},
   "source": [
    "**Compute correlation lengths of orientation and velocity**"
   ]
  },
  {
   "cell_type": "code",
   "execution_count": 151,
   "metadata": {},
   "outputs": [],
   "source": [
    "data = pd.read_csv(r'E:\\Google Drive\\Research projects\\DF\\Figures\\fig3-spatialCorr\\spatialCorrA.csv')\n",
    "clA = []\n",
    "for nt in data.conc.drop_duplicates():\n",
    "    subdata = data.loc[data.conc==nt]\n",
    "    cl, fit = corr_length(subdata, fitting_range=1000)\n",
    "    clA.append(cl)"
   ]
  },
  {
   "cell_type": "code",
   "execution_count": 154,
   "metadata": {},
   "outputs": [],
   "source": [
    "data = pd.read_csv(r'E:\\Google Drive\\Research projects\\DF\\Figures\\fig3-spatialCorr\\spatialCorrV.csv')\n",
    "clV = []\n",
    "for nt in data.conc.drop_duplicates():\n",
    "    subdata = data.loc[data.conc==nt]\n",
    "    cl, fit = corr_length(subdata, fitting_range=1000)\n",
    "    clV.append(cl)"
   ]
  },
  {
   "cell_type": "markdown",
   "metadata": {},
   "source": [
    "**Plot correlation lengths together**"
   ]
  },
  {
   "cell_type": "code",
   "execution_count": 156,
   "metadata": {},
   "outputs": [
    {
     "data": {
      "text/plain": [
       "Text(0, 0.5, '$l_c/l_b$')"
      ]
     },
     "execution_count": 156,
     "metadata": {},
     "output_type": "execute_result"
    },
    {
     "data": {
      "image/png": "[encoded data removed]",
      "text/plain": [
       "<Figure size 246.49x196.25 with 1 Axes>"
      ]
     },
     "metadata": {
      "needs_background": "light"
     },
     "output_type": "display_data"
    }
   ],
   "source": [
    "lb = 3\n",
    "fig = plt.figure()\n",
    "ax = fig.add_axes([0,0,1,1])    \n",
    "n = [20, 40, 60, 80, 100]\n",
    "ax.plot(n, np.array(clI)*mpp/lb, ls='', marker='o', color=wowcolor(0),\n",
    "        markersize=2)\n",
    "ax.plot(n, np.array(clA)*mpp/lb, ls='', marker='>', color=wowcolor(1),\n",
    "        markersize=2)\n",
    "ax.plot(n, np.array(clV)*mpp/lb, ls='', marker='s', color=wowcolor(2),\n",
    "        markersize=2)\n",
    "ax.legend(['density', 'orientation', 'velocity'], loc='upper left')\n",
    "ax.set_xlabel('$n$ [n$_0$]')\n",
    "ax.set_ylabel('$l_c/l_b$')"
   ]
  },
  {
   "cell_type": "markdown",
   "metadata": {},
   "source": [
    "## 3. Compare spatial correlations and GNF"
   ]
  },
  {
   "cell_type": "code",
   "execution_count": 163,
   "metadata": {},
   "outputs": [
    {
     "data": {
      "image/png": "[encoded data removed]",
      "text/plain": [
       "<Figure size 246.49x196.25 with 2 Axes>"
      ]
     },
     "metadata": {},
     "output_type": "display_data"
    }
   ],
   "source": [
    "mpp = 0.33\n",
    "lb = 3 # um\n",
    "data = pd.read_csv(r'E:\\Google Drive\\Research projects\\DF\\Figures\\fig3-spatialCorr\\spatialCorr_crop.csv')\n",
    "cs = pd.read_csv(r'E:\\Google Drive\\Research projects\\DF\\Figures\\fig2-GNF\\conc-slope.csv')\n",
    "n = [20, 40, 60, 80, 100]\n",
    "\n",
    "fig, ax1 = plt.subplots()\n",
    "ax2 = ax1.twinx()\n",
    "\n",
    "color = wowcolor(0)\n",
    "ax1.plot(np.array(n), np.array(clI)*mpp/lb, ls='', marker='o', color=color,\n",
    "        markersize=2, lw='2')\n",
    "ax1.set_xlabel('$n$ [n$_0$]')\n",
    "ax1.set_ylabel('$l_I/l_b$', color=color)\n",
    "ax1.tick_params(axis='y', labelcolor=color)\n",
    "\n",
    "color = wowcolor(4)\n",
    "ax2.plot(cs.conc, cs.slope, ls='', marker='o', color=color,\n",
    "        markersize=2, lw='2')\n",
    "ax2.set_ylabel('$\\\\alpha$', color=color)\n",
    "ax2.tick_params(axis='y', labelcolor=color)"
   ]
  }
 ],
 "metadata": {
  "kernelspec": {
   "display_name": "Python 3",
   "language": "python",
   "name": "python3"
  },
  "language_info": {
   "codemirror_mode": {
    "name": "ipython",
    "version": 3
   },
   "file_extension": ".py",
   "mimetype": "text/x-python",
   "name": "python",
   "nbconvert_exporter": "python",
   "pygments_lexer": "ipython3",
   "version": "3.7.7"
  }
 },
 "nbformat": 4,
 "nbformat_minor": 2
}

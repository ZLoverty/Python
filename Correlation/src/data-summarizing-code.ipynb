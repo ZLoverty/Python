{
 "cells": [
  {
   "cell_type": "markdown",
   "metadata": {},
   "source": [
    "# Data summarizing code\n",
    "\n",
    "Save the code snipets that summarize data obtained directly from batch processes such as *df2_kinetics.py*. The snipets here should generate a *summary.csv* file for each day's data (of a specific type). "
   ]
  },
  {
   "cell_type": "markdown",
   "metadata": {},
   "source": [
    "## Guidelines\n",
    "- Each snipet should contain a summarizing part and a retrieval part"
   ]
  },
  {
   "cell_type": "markdown",
   "metadata": {},
   "source": [
    "## <font color='blue'> Plans\n",
    "\n",
    "<font color='blue'>\n",
    "- ...\n",
    "    \n",
    "</font>"
   ]
  },
  {
   "cell_type": "markdown",
   "metadata": {},
   "source": [
    "## Table of contents\n",
    "\n",
    "1. Correlation length: angle and velocity"
   ]
  },
  {
   "cell_type": "markdown",
   "metadata": {},
   "source": [
    "### 1 Correlation length: angle and velocity"
   ]
  },
  {
   "cell_type": "code",
   "execution_count": null,
   "metadata": {},
   "outputs": [],
   "source": [
    "# summarize data\n",
    "# sample 10 frames out of the last 1/3 of frames\n",
    "corr_data_path = r'E:\\moreData\\08052020\\cav_imseq'\n",
    "num_sample = 20 # number of frames to sample\n",
    "sample_clA = []\n",
    "sample_clV = []\n",
    "sfL = next(os.walk(corr_data_path))[1]\n",
    "sfL_new = []\n",
    "for s in sfL:\n",
    "#     print('sample ' + str(n))\n",
    "    corr_data_path_num = os.path.join(corr_data_path, s)\n",
    "    \n",
    "    # sample 20 frames in the last 1/3 frames\n",
    "    \n",
    "    l = len(corrLib.readdata(corr_data_path_num))\n",
    "    if l > 60:\n",
    "        samples = np.random.randint((l*2/3)/2, (l-1)/2, num_sample) * 2\n",
    "        clAL = []\n",
    "        clVL = []\n",
    "        for i in samples:\n",
    "            data_raw = pd.read_csv(os.path.join(corr_data_path_num, '{0:04d}-{1:04d}.csv'.format(i, i+1))) # X Y CA CV\n",
    "            data_AV = xy_to_r(data_raw).sort_values(by=['R'])     \n",
    "            clA, fit = corr_length(data_AV.rename(columns={'CA': 'C'}), fitting_range=500)\n",
    "            clV, fit = corr_length(data_AV.rename(columns={'CV': 'C'}), fitting_range=500)\n",
    "            clAL.append(clA)\n",
    "            clVL.append(clV)\n",
    "        sample_clA.append(np.array(clAL).mean())\n",
    "        sample_clV.append(np.array(clVL).mean())\n",
    "        sfL_new.append(int(s))\n",
    "    else:\n",
    "        raise ValueError('Too few data to sample from. Need at least 60 .csv files.')\n",
    "summary = pd.DataFrame({'sample': sfL_new, 'clA': sample_clA, 'clV': sample_clV})\n",
    "summary.to_csv(os.path.join(corr_data_path, 'summary.csv'), index=False)\n",
    "### Needs further improvement"
   ]
  },
  {
   "cell_type": "code",
   "execution_count": null,
   "metadata": {},
   "outputs": [],
   "source": [
    "# retrieve data from cav_imseq/summary.csv\n",
    "folder = r'E:\\moreData'\n",
    "subfolder_name = 'cav_imseq'\n",
    "data = {'conc': [], 'clA_avg': [], 'clV_avg': [], 'clA_std': [], 'clV_std': []}\n",
    "for kw in dirs:\n",
    "    if kw != '00':\n",
    "        conc = int(kw)\n",
    "        for n, dn in enumerate(dirs[kw]):\n",
    "            date, num = dn.split('-')\n",
    "            summary_dir = os.path.join(folder, date, subfolder_name, 'summary.csv')\n",
    "            temp = pd.read_csv(summary_dir, index_col='sample').loc[[int(num)]]\n",
    "            if n == 0:\n",
    "                conc_data = temp\n",
    "            else:\n",
    "                conc_data = conc_data.append(temp)\n",
    "        data['conc'].append(conc)\n",
    "        data['clA_avg'].append(conc_data.clA.mean())\n",
    "        data['clV_avg'].append(conc_data.clV.mean())\n",
    "        data['clA_std'].append(conc_data.clA.std())\n",
    "        data['clV_std'].append(conc_data.clV.std())"
   ]
  },
  {
   "cell_type": "markdown",
   "metadata": {},
   "source": []
  }
 ],
 "metadata": {
  "kernelspec": {
   "display_name": "Python 3",
   "language": "python",
   "name": "python3"
  },
  "language_info": {
   "codemirror_mode": {
    "name": "ipython",
    "version": 3
   },
   "file_extension": ".py",
   "mimetype": "text/x-python",
   "name": "python",
   "nbconvert_exporter": "python",
   "pygments_lexer": "ipython3",
   "version": "3.7.7"
  }
 },
 "nbformat": 4,
 "nbformat_minor": 4
}

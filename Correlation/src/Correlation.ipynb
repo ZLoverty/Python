{
 "cells": [
  {
   "cell_type": "code",
   "execution_count": 1,
   "metadata": {},
   "outputs": [],
   "source": [
    "import numpy as np\n",
    "import matplotlib.pyplot as plt\n",
    "from myImageLib import dirrec, bestcolor\n",
    "from skimage import io\n",
    "from mpl_toolkits.mplot3d import Axes3D\n",
    "import pandas as pd\n",
    "from scipy.signal import savgol_filter\n",
    "import os\n",
    "from corrLib import corrS, corrI, divide_windows, distance_corr, corrIseq"
   ]
  },
  {
   "cell_type": "code",
   "execution_count": 32,
   "metadata": {},
   "outputs": [],
   "source": [
    "def corrS(X, Y, U, V):\n",
    "    # X, Y, U, V represent a vector field\n",
    "    # Return value C is a matrix representing spatial correlation distribution of given vector field\n",
    "    row, col = X.shape\n",
    "    vsq = 0\n",
    "    CA = np.zeros((row-1, col-1))\n",
    "    CV = np.zeros((row-1, col-1))\n",
    "    for i, j in zip(range(0, row), range(0, col)):\n",
    "        vsq += U[i, j]**2 + V[i, j]**2\n",
    "    for xin, yin in zip(range(0, row-1), range(0, col-1)):\n",
    "        count = 0\n",
    "        CAt = 0\n",
    "        CVt = 0\n",
    "        for i, j in zip(range(0, col-xin+1), range(0, row-yin+1)):\n",
    "            ua = U[j, i]\n",
    "            va = V[j, i]\n",
    "            ub = U[j+yin-1, i+xin-1]\n",
    "            vb = V[j+yin-1, i+xin-1]\n",
    "            CAt += (ua*ub+va*vb)/((ua**2+va**2)*(ub**2+vb**2))**.5\n",
    "            CVt += ua*ub + va*vb\n",
    "            count += 1\n",
    "        CA[yin, xin] = CAt / count\n",
    "        CV[yin, xin] = CVt / vsq / count    \n",
    "    return CA, CV\n",
    "\n",
    "def corrI(X, Y, I):\n",
    "    I = I - I.mean()\n",
    "    row, col = I.shape\n",
    "    Isq = 0\n",
    "    for i in range(0, row):\n",
    "        for j in range(0, col):\n",
    "            Isq += I[i, j]**2\n",
    "    Isq = Isq / row / col\n",
    "    CI = np.zeros((row, col))\n",
    "    for xin in range(0, col):\n",
    "        for yin in range(0, row):\n",
    "            count = 0\n",
    "            CIt = 0\n",
    "            for i in range(0, col-xin):\n",
    "                for j in range(0, row-yin):\n",
    "                    Ia = I[j, i]\n",
    "                    Ib = I[j+yin, i+xin]\n",
    "                    CIt += Ia * Ib\n",
    "                    count += 1\n",
    "            CI[yin, xin] = CIt / count / Isq\n",
    "    return CI\n",
    "\n",
    "def divide_windows(img, windowsize=[20, 20], step=10):\n",
    "    row, col = img.shape\n",
    "    X = np.array(range(0, col-windowsize[0], step))# + int(windowsize[0]/2)\n",
    "    Y = np.array(range(0, row-windowsize[1], step))# + int(windowsize[1]/2)\n",
    "#     X, Y = np.meshgrid(X, Y)\n",
    "    I = np.zeros((len(Y), len(X)))\n",
    "    for indx, x in enumerate(X):\n",
    "        for indy, y in enumerate(Y):\n",
    "            window = img[y:y+windowsize[1], x:x+windowsize[0]]\n",
    "            I[indy, indx] = window.mean()\n",
    "    X, Y = np.meshgrid(X, Y)\n",
    "    return X, Y, I\n",
    "\n",
    "def distance_corr(X, Y, C):\n",
    "    rList = []\n",
    "    cList = []\n",
    "    table = pd.DataFrame()\n",
    "    for xr, yr, cr in zip(X, Y, C):\n",
    "        for x, y, c in zip(xr, yr, cr):\n",
    "            rList.append((x**2 + y**2)**.5)\n",
    "            cList.append(c)\n",
    "    table = table.assign(R=rList, C=cList)\n",
    "    table.sort_values(by=['R'], inplace=True)\n",
    "    return table\n",
    "\n",
    "def bestcolor(n):\n",
    "    r = [57, 218, 62, 204, 83, 107, 146, 148]\n",
    "    g = [106, 124, 150, 37, 81, 76, 36, 139]\n",
    "    b = [177, 48, 81, 41, 84, 154, 40, 61]\n",
    "    return (r[n]/255, g[n]/255, b[n]/255)\n",
    "\n",
    "def corrIseq(folder, **kwargs):\n",
    "    # Default window settings\n",
    "    wsize = [100, 100]\n",
    "    step = 100\n",
    "    # Process kwargs\n",
    "    for kw in kwargs:\n",
    "        if kw == 'windowsize':\n",
    "            wsize = kwargs[kw]\n",
    "        if kw == 'step':\n",
    "            step = kwargs[kw]\n",
    "    data_seq = pd.DataFrame()\n",
    "    fileList = readseq(folder)\n",
    "    for num, i in fileList.iterrows():\n",
    "        print('Processing frame {:04}'.format(num))\n",
    "        imgDir = i.Dir\n",
    "        img = io.imread(imgDir)\n",
    "        X, Y, I = divide_windows(img, windowsize=wsize, step=step)\n",
    "        C = corrI(X, Y, I)\n",
    "#         A = distance_corr(X, Y, C)\n",
    "        row, col = C.shape\n",
    "        X = X.reshape(1, row*col).squeeze()\n",
    "        Y = Y.reshape(1, row*col).squeeze()\n",
    "        I = I.reshape(1, row*col).squeeze()\n",
    "        C = C.reshape(1, row*col).squeeze()\n",
    "        data_1 = pd.DataFrame(data=np.array([X, Y, I, C]).T, columns=['X', 'Y', 'I', 'C'])\n",
    "        data_1 = data_1.assign(R=(data_1.X**2+data_1.Y**2)**.5, frame=num)\n",
    "        data_seq = data_seq.append(data_1)\n",
    "    return data_seq"
   ]
  },
  {
   "cell_type": "code",
   "execution_count": 74,
   "metadata": {},
   "outputs": [],
   "source": [
    "imgDir = r'I:\\Google Drive\\Research projects\\DF\\nolight-light\\0100.tif'\n",
    "img = io.imread(imgDir)\n",
    "X, Y, I = divide_windows(img, windowsize=[100, 100], step=100)\n",
    "C = corrI(X, Y, I)\n",
    "A = distance_corr(X, Y, C)"
   ]
  },
  {
   "cell_type": "code",
   "execution_count": 121,
   "metadata": {},
   "outputs": [
    {
     "name": "stdout",
     "output_type": "stream",
     "text": [
      "Processing frame 0000\n",
      "Processing frame 0001\n"
     ]
    }
   ],
   "source": [
    "data = corrIseq(r'I:\\Google Drive\\Code\\Python\\Correlation\\test_image')"
   ]
  },
  {
   "cell_type": "code",
   "execution_count": 132,
   "metadata": {},
   "outputs": [
    {
     "name": "stdout",
     "output_type": "stream",
     "text": [
      "['.ipynb_checkpoints', 'Correlation', 'Course', 'efficiency_test', 'GUI', 'h5test', 'Machine-Learning', 'MSItest', 'mylib', 'Particle-tracking', 'Peng', 'PIV', 'TransactionRecorder']\n"
     ]
    }
   ],
   "source": [
    "folder = r'I:\\Google Drive\\Code\\Python'\n",
    "for a, b, c in os.walk(folder):\n",
    "    if a != folder:\n",
    "        break\n",
    "    print(b)"
   ]
  },
  {
   "cell_type": "code",
   "execution_count": 95,
   "metadata": {},
   "outputs": [],
   "source": [
    "X = X.reshape(1, 20*20).squeeze()"
   ]
  },
  {
   "cell_type": "code",
   "execution_count": 98,
   "metadata": {},
   "outputs": [],
   "source": [
    "A = np.array([X, X, X])"
   ]
  },
  {
   "cell_type": "code",
   "execution_count": 77,
   "metadata": {},
   "outputs": [],
   "source": [
    "def readseq(folder):\n",
    "    imgDirs = dirrec(folder, '*.tif')\n",
    "    nameList = []\n",
    "    dirList = []\n",
    "    for imgDir in imgDirs:\n",
    "        path, file = os.path.split(imgDir)\n",
    "        name, ext = os.path.splitext(file)\n",
    "        nameList.append(name)\n",
    "        dirList.append(imgDir)\n",
    "    fileList = pd.DataFrame()\n",
    "    fileList = fileList.assign(Name=nameList, Dir=dirList)\n",
    "    fileList = fileList.sort_values(by=['Name'])\n",
    "    return fileList"
   ]
  },
  {
   "cell_type": "markdown",
   "metadata": {},
   "source": [
    "**readseq(folder)**\n",
    "\n",
    "Reads all tif images in given folder, sorted by name.\n",
    "\n",
    "folder: folder containing _.tif_ images\n",
    "\n",
    "return: a pandas.DataFrame containing two columns file name and file directory, (Name, Dir)"
   ]
  },
  {
   "cell_type": "code",
   "execution_count": 111,
   "metadata": {},
   "outputs": [
    {
     "data": {
      "text/plain": [
       "[<matplotlib.lines.Line2D at 0x17ffa54f390>]"
      ]
     },
     "execution_count": 111,
     "metadata": {},
     "output_type": "execute_result"
    },
    {
     "data": {
      "image/png": "[encoded data removed]",
      "text/plain": [
       "<Figure size 432x288 with 1 Axes>"
      ]
     },
     "metadata": {
      "needs_background": "light"
     },
     "output_type": "display_data"
    }
   ],
   "source": [
    "plt.plot(A.R, savgol_filter(A.C, 101, 3))"
   ]
  },
  {
   "cell_type": "code",
   "execution_count": 62,
   "metadata": {},
   "outputs": [],
   "source": [
    "l = np.array(range(0, 2000, 150))\n",
    "A = {}\n",
    "for i in l:\n",
    "    imgDir = r'I:\\Data\\Wei\\01\\%5d.tif' % i\n",
    "    img = io.imread(imgDir)\n",
    "    X, Y, I = divide_windows(img, windowsize=[40, 40], step=20)\n",
    "    C = corrI(X, Y, I)\n",
    "    A[str(i)] = distance_corr(X, Y, C)"
   ]
  },
  {
   "cell_type": "code",
   "execution_count": 21,
   "metadata": {},
   "outputs": [],
   "source": [
    "# Set pyplot parameters\n",
    "plt.rc('axes', lw=1.5)\n",
    "font = {'family' : 'Sans',\n",
    "        'size'   : 20}\n",
    "plt.rcParams['font.size'] = 15"
   ]
  },
  {
   "cell_type": "code",
   "execution_count": 37,
   "metadata": {},
   "outputs": [],
   "source": [
    "MPP = 0.33\n",
    "FPS = 30"
   ]
  },
  {
   "cell_type": "code",
   "execution_count": 5,
   "metadata": {},
   "outputs": [
    {
     "ename": "NameError",
     "evalue": "name 'A' is not defined",
     "output_type": "error",
     "traceback": [
      "\u001b[1;31m---------------------------------------------------------------------------\u001b[0m",
      "\u001b[1;31mNameError\u001b[0m                                 Traceback (most recent call last)",
      "\u001b[1;32m<ipython-input-5-701d413a2dc3>\u001b[0m in \u001b[0;36m<module>\u001b[1;34m\u001b[0m\n\u001b[0;32m      1\u001b[0m \u001b[0mplt\u001b[0m\u001b[1;33m.\u001b[0m\u001b[0mfigure\u001b[0m\u001b[1;33m(\u001b[0m\u001b[0mfigsize\u001b[0m\u001b[1;33m=\u001b[0m\u001b[1;33m(\u001b[0m\u001b[1;36m10\u001b[0m\u001b[1;33m,\u001b[0m \u001b[1;36m10\u001b[0m\u001b[1;33m)\u001b[0m\u001b[1;33m)\u001b[0m\u001b[1;33m\u001b[0m\u001b[1;33m\u001b[0m\u001b[0m\n\u001b[1;32m----> 2\u001b[1;33m \u001b[1;32mfor\u001b[0m \u001b[0mkw\u001b[0m \u001b[1;32min\u001b[0m \u001b[0mA\u001b[0m\u001b[1;33m:\u001b[0m\u001b[1;33m\u001b[0m\u001b[1;33m\u001b[0m\u001b[0m\n\u001b[0m\u001b[0;32m      3\u001b[0m     \u001b[0mplt\u001b[0m\u001b[1;33m.\u001b[0m\u001b[0mplot\u001b[0m\u001b[1;33m(\u001b[0m\u001b[0mA\u001b[0m\u001b[1;33m[\u001b[0m\u001b[0mkw\u001b[0m\u001b[1;33m]\u001b[0m\u001b[1;33m.\u001b[0m\u001b[0mR\u001b[0m\u001b[1;33m*\u001b[0m\u001b[0mMPP\u001b[0m\u001b[1;33m,\u001b[0m \u001b[0msavgol_filter\u001b[0m\u001b[1;33m(\u001b[0m\u001b[0mA\u001b[0m\u001b[1;33m[\u001b[0m\u001b[0mkw\u001b[0m\u001b[1;33m]\u001b[0m\u001b[1;33m.\u001b[0m\u001b[0mC\u001b[0m\u001b[1;33m,\u001b[0m \u001b[1;36m101\u001b[0m\u001b[1;33m,\u001b[0m \u001b[1;36m3\u001b[0m\u001b[1;33m)\u001b[0m\u001b[1;33m,\u001b[0m \u001b[0mlabel\u001b[0m\u001b[1;33m=\u001b[0m\u001b[0mkw\u001b[0m\u001b[1;33m)\u001b[0m\u001b[1;33m\u001b[0m\u001b[1;33m\u001b[0m\u001b[0m\n\u001b[0;32m      4\u001b[0m \u001b[0mplt\u001b[0m\u001b[1;33m.\u001b[0m\u001b[0maxis\u001b[0m\u001b[1;33m(\u001b[0m\u001b[1;33m[\u001b[0m\u001b[1;36m0\u001b[0m\u001b[1;33m,\u001b[0m \u001b[1;36m330\u001b[0m\u001b[1;33m,\u001b[0m \u001b[1;33m-\u001b[0m\u001b[1;36m.5\u001b[0m\u001b[1;33m,\u001b[0m \u001b[1;36m1\u001b[0m\u001b[1;33m]\u001b[0m\u001b[1;33m)\u001b[0m\u001b[1;33m\u001b[0m\u001b[1;33m\u001b[0m\u001b[0m\n\u001b[0;32m      5\u001b[0m \u001b[0mplt\u001b[0m\u001b[1;33m.\u001b[0m\u001b[0mlegend\u001b[0m\u001b[1;33m(\u001b[0m\u001b[1;33m)\u001b[0m\u001b[1;33m\u001b[0m\u001b[1;33m\u001b[0m\u001b[0m\n",
      "\u001b[1;31mNameError\u001b[0m: name 'A' is not defined"
     ]
    },
    {
     "data": {
      "text/plain": [
       "<Figure size 720x720 with 0 Axes>"
      ]
     },
     "metadata": {},
     "output_type": "display_data"
    }
   ],
   "source": [
    "plt.figure(figsize=(10, 10))\n",
    "for kw in A:\n",
    "    plt.plot(A[kw].R*MPP, savgol_filter(A[kw].C, 101, 3), label=kw)\n",
    "plt.axis([0, 330, -.5, 1])\n",
    "plt.legend()\n"
   ]
  },
  {
   "cell_type": "code",
   "execution_count": 11,
   "metadata": {},
   "outputs": [
    {
     "data": {
      "application/javascript": [
       "/* Put everything inside the global mpl namespace */\n",
       "window.mpl = {};\n",
       "\n",
       "\n",
       "mpl.get_websocket_type = function() {\n",
       "    if (typeof(WebSocket) !== 'undefined') {\n",
       "        return WebSocket;\n",
       "    } else if (typeof(MozWebSocket) !== 'undefined') {\n",
       "        return MozWebSocket;\n",
       "    } else {\n",
       "        alert('Your browser does not have WebSocket support. ' +\n",
       "              'Please try Chrome, Safari or Firefox ≥ 6. ' +\n",
       "              'Firefox 4 and 5 are also supported but you ' +\n",
       "              'have to enable WebSockets in about:config.');\n",
       "    };\n",
       "}\n",
       "\n",
       "mpl.figure = function(figure_id, websocket, ondownload, parent_element) {\n",
       "    this.id = figure_id;\n",
       "\n",
       "    this.ws = websocket;\n",
       "\n",
       "    this.supports_binary = (this.ws.binaryType != undefined);\n",
       "\n",
       "    if (!this.supports_binary) {\n",
       "        var warnings = document.getElementById(\"mpl-warnings\");\n",
       "        if (warnings) {\n",
       "            warnings.style.display = 'block';\n",
       "            warnings.textContent = (\n",
       "                \"This browser does not support binary websocket messages. \" +\n",
       "                    \"Performance may be slow.\");\n",
       "        }\n",
       "    }\n",
       "\n",
       "    this.imageObj = new Image();\n",
       "\n",
       "    this.context = undefined;\n",
       "    this.message = undefined;\n",
       "    this.canvas = undefined;\n",
       "    this.rubberband_canvas = undefined;\n",
       "    this.rubberband_context = undefined;\n",
       "    this.format_dropdown = undefined;\n",
       "\n",
       "    this.image_mode = 'full';\n",
       "\n",
       "    this.root = $('<div/>');\n",
       "    this._root_extra_style(this.root)\n",
       "    this.root.attr('style', 'display: inline-block');\n",
       "\n",
       "    $(parent_element).append(this.root);\n",
       "\n",
       "    this._init_header(this);\n",
       "    this._init_canvas(this);\n",
       "    this._init_toolbar(this);\n",
       "\n",
       "    var fig = this;\n",
       "\n",
       "    this.waiting = false;\n",
       "\n",
       "    this.ws.onopen =  function () {\n",
       "            fig.send_message(\"supports_binary\", {value: fig.supports_binary});\n",
       "            fig.send_message(\"send_image_mode\", {});\n",
       "            if (mpl.ratio != 1) {\n",
       "                fig.send_message(\"set_dpi_ratio\", {'dpi_ratio': mpl.ratio});\n",
       "            }\n",
       "            fig.send_message(\"refresh\", {});\n",
       "        }\n",
       "\n",
       "    this.imageObj.onload = function() {\n",
       "            if (fig.image_mode == 'full') {\n",
       "                // Full images could contain transparency (where diff images\n",
       "                // almost always do), so we need to clear the canvas so that\n",
       "                // there is no ghosting.\n",
       "                fig.context.clearRect(0, 0, fig.canvas.width, fig.canvas.height);\n",
       "            }\n",
       "            fig.context.drawImage(fig.imageObj, 0, 0);\n",
       "        };\n",
       "\n",
       "    this.imageObj.onunload = function() {\n",
       "        fig.ws.close();\n",
       "    }\n",
       "\n",
       "    this.ws.onmessage = this._make_on_message_function(this);\n",
       "\n",
       "    this.ondownload = ondownload;\n",
       "}\n",
       "\n",
       "mpl.figure.prototype._init_header = function() {\n",
       "    var titlebar = $(\n",
       "        '<div class=\"ui-dialog-titlebar ui-widget-header ui-corner-all ' +\n",
       "        'ui-helper-clearfix\"/>');\n",
       "    var titletext = $(\n",
       "        '<div class=\"ui-dialog-title\" style=\"width: 100%; ' +\n",
       "        'text-align: center; padding: 3px;\"/>');\n",
       "    titlebar.append(titletext)\n",
       "    this.root.append(titlebar);\n",
       "    this.header = titletext[0];\n",
       "}\n",
       "\n",
       "\n",
       "\n",
       "mpl.figure.prototype._canvas_extra_style = function(canvas_div) {\n",
       "\n",
       "}\n",
       "\n",
       "\n",
       "mpl.figure.prototype._root_extra_style = function(canvas_div) {\n",
       "\n",
       "}\n",
       "\n",
       "mpl.figure.prototype._init_canvas = function() {\n",
       "    var fig = this;\n",
       "\n",
       "    var canvas_div = $('<div/>');\n",
       "\n",
       "    canvas_div.attr('style', 'position: relative; clear: both; outline: 0');\n",
       "\n",
       "    function canvas_keyboard_event(event) {\n",
       "        return fig.key_event(event, event['data']);\n",
       "    }\n",
       "\n",
       "    canvas_div.keydown('key_press', canvas_keyboard_event);\n",
       "    canvas_div.keyup('key_release', canvas_keyboard_event);\n",
       "    this.canvas_div = canvas_div\n",
       "    this._canvas_extra_style(canvas_div)\n",
       "    this.root.append(canvas_div);\n",
       "\n",
       "    var canvas = $('<canvas/>');\n",
       "    canvas.addClass('mpl-canvas');\n",
       "    canvas.attr('style', \"left: 0; top: 0; z-index: 0; outline: 0\")\n",
       "\n",
       "    this.canvas = canvas[0];\n",
       "    this.context = canvas[0].getContext(\"2d\");\n",
       "\n",
       "    var backingStore = this.context.backingStorePixelRatio ||\n",
       "\tthis.context.webkitBackingStorePixelRatio ||\n",
       "\tthis.context.mozBackingStorePixelRatio ||\n",
       "\tthis.context.msBackingStorePixelRatio ||\n",
       "\tthis.context.oBackingStorePixelRatio ||\n",
       "\tthis.context.backingStorePixelRatio || 1;\n",
       "\n",
       "    mpl.ratio = (window.devicePixelRatio || 1) / backingStore;\n",
       "\n",
       "    var rubberband = $('<canvas/>');\n",
       "    rubberband.attr('style', \"position: absolute; left: 0; top: 0; z-index: 1;\")\n",
       "\n",
       "    var pass_mouse_events = true;\n",
       "\n",
       "    canvas_div.resizable({\n",
       "        start: function(event, ui) {\n",
       "            pass_mouse_events = false;\n",
       "        },\n",
       "        resize: function(event, ui) {\n",
       "            fig.request_resize(ui.size.width, ui.size.height);\n",
       "        },\n",
       "        stop: function(event, ui) {\n",
       "            pass_mouse_events = true;\n",
       "            fig.request_resize(ui.size.width, ui.size.height);\n",
       "        },\n",
       "    });\n",
       "\n",
       "    function mouse_event_fn(event) {\n",
       "        if (pass_mouse_events)\n",
       "            return fig.mouse_event(event, event['data']);\n",
       "    }\n",
       "\n",
       "    rubberband.mousedown('button_press', mouse_event_fn);\n",
       "    rubberband.mouseup('button_release', mouse_event_fn);\n",
       "    // Throttle sequential mouse events to 1 every 20ms.\n",
       "    rubberband.mousemove('motion_notify', mouse_event_fn);\n",
       "\n",
       "    rubberband.mouseenter('figure_enter', mouse_event_fn);\n",
       "    rubberband.mouseleave('figure_leave', mouse_event_fn);\n",
       "\n",
       "    canvas_div.on(\"wheel\", function (event) {\n",
       "        event = event.originalEvent;\n",
       "        event['data'] = 'scroll'\n",
       "        if (event.deltaY < 0) {\n",
       "            event.step = 1;\n",
       "        } else {\n",
       "            event.step = -1;\n",
       "        }\n",
       "        mouse_event_fn(event);\n",
       "    });\n",
       "\n",
       "    canvas_div.append(canvas);\n",
       "    canvas_div.append(rubberband);\n",
       "\n",
       "    this.rubberband = rubberband;\n",
       "    this.rubberband_canvas = rubberband[0];\n",
       "    this.rubberband_context = rubberband[0].getContext(\"2d\");\n",
       "    this.rubberband_context.strokeStyle = \"#000000\";\n",
       "\n",
       "    this._resize_canvas = function(width, height) {\n",
       "        // Keep the size of the canvas, canvas container, and rubber band\n",
       "        // canvas in synch.\n",
       "        canvas_div.css('width', width)\n",
       "        canvas_div.css('height', height)\n",
       "\n",
       "        canvas.attr('width', width * mpl.ratio);\n",
       "        canvas.attr('height', height * mpl.ratio);\n",
       "        canvas.attr('style', 'width: ' + width + 'px; height: ' + height + 'px;');\n",
       "\n",
       "        rubberband.attr('width', width);\n",
       "        rubberband.attr('height', height);\n",
       "    }\n",
       "\n",
       "    // Set the figure to an initial 600x600px, this will subsequently be updated\n",
       "    // upon first draw.\n",
       "    this._resize_canvas(600, 600);\n",
       "\n",
       "    // Disable right mouse context menu.\n",
       "    $(this.rubberband_canvas).bind(\"contextmenu\",function(e){\n",
       "        return false;\n",
       "    });\n",
       "\n",
       "    function set_focus () {\n",
       "        canvas.focus();\n",
       "        canvas_div.focus();\n",
       "    }\n",
       "\n",
       "    window.setTimeout(set_focus, 100);\n",
       "}\n",
       "\n",
       "mpl.figure.prototype._init_toolbar = function() {\n",
       "    var fig = this;\n",
       "\n",
       "    var nav_element = $('<div/>');\n",
       "    nav_element.attr('style', 'width: 100%');\n",
       "    this.root.append(nav_element);\n",
       "\n",
       "    // Define a callback function for later on.\n",
       "    function toolbar_event(event) {\n",
       "        return fig.toolbar_button_onclick(event['data']);\n",
       "    }\n",
       "    function toolbar_mouse_event(event) {\n",
       "        return fig.toolbar_button_onmouseover(event['data']);\n",
       "    }\n",
       "\n",
       "    for(var toolbar_ind in mpl.toolbar_items) {\n",
       "        var name = mpl.toolbar_items[toolbar_ind][0];\n",
       "        var tooltip = mpl.toolbar_items[toolbar_ind][1];\n",
       "        var image = mpl.toolbar_items[toolbar_ind][2];\n",
       "        var method_name = mpl.toolbar_items[toolbar_ind][3];\n",
       "\n",
       "        if (!name) {\n",
       "            // put a spacer in here.\n",
       "            continue;\n",
       "        }\n",
       "        var button = $('<button/>');\n",
       "        button.addClass('ui-button ui-widget ui-state-default ui-corner-all ' +\n",
       "                        'ui-button-icon-only');\n",
       "        button.attr('role', 'button');\n",
       "        button.attr('aria-disabled', 'false');\n",
       "        button.click(method_name, toolbar_event);\n",
       "        button.mouseover(tooltip, toolbar_mouse_event);\n",
       "\n",
       "        var icon_img = $('<span/>');\n",
       "        icon_img.addClass('ui-button-icon-primary ui-icon');\n",
       "        icon_img.addClass(image);\n",
       "        icon_img.addClass('ui-corner-all');\n",
       "\n",
       "        var tooltip_span = $('<span/>');\n",
       "        tooltip_span.addClass('ui-button-text');\n",
       "        tooltip_span.html(tooltip);\n",
       "\n",
       "        button.append(icon_img);\n",
       "        button.append(tooltip_span);\n",
       "\n",
       "        nav_element.append(button);\n",
       "    }\n",
       "\n",
       "    var fmt_picker_span = $('<span/>');\n",
       "\n",
       "    var fmt_picker = $('<select/>');\n",
       "    fmt_picker.addClass('mpl-toolbar-option ui-widget ui-widget-content');\n",
       "    fmt_picker_span.append(fmt_picker);\n",
       "    nav_element.append(fmt_picker_span);\n",
       "    this.format_dropdown = fmt_picker[0];\n",
       "\n",
       "    for (var ind in mpl.extensions) {\n",
       "        var fmt = mpl.extensions[ind];\n",
       "        var option = $(\n",
       "            '<option/>', {selected: fmt === mpl.default_extension}).html(fmt);\n",
       "        fmt_picker.append(option);\n",
       "    }\n",
       "\n",
       "    // Add hover states to the ui-buttons\n",
       "    $( \".ui-button\" ).hover(\n",
       "        function() { $(this).addClass(\"ui-state-hover\");},\n",
       "        function() { $(this).removeClass(\"ui-state-hover\");}\n",
       "    );\n",
       "\n",
       "    var status_bar = $('<span class=\"mpl-message\"/>');\n",
       "    nav_element.append(status_bar);\n",
       "    this.message = status_bar[0];\n",
       "}\n",
       "\n",
       "mpl.figure.prototype.request_resize = function(x_pixels, y_pixels) {\n",
       "    // Request matplotlib to resize the figure. Matplotlib will then trigger a resize in the client,\n",
       "    // which will in turn request a refresh of the image.\n",
       "    this.send_message('resize', {'width': x_pixels, 'height': y_pixels});\n",
       "}\n",
       "\n",
       "mpl.figure.prototype.send_message = function(type, properties) {\n",
       "    properties['type'] = type;\n",
       "    properties['figure_id'] = this.id;\n",
       "    this.ws.send(JSON.stringify(properties));\n",
       "}\n",
       "\n",
       "mpl.figure.prototype.send_draw_message = function() {\n",
       "    if (!this.waiting) {\n",
       "        this.waiting = true;\n",
       "        this.ws.send(JSON.stringify({type: \"draw\", figure_id: this.id}));\n",
       "    }\n",
       "}\n",
       "\n",
       "\n",
       "mpl.figure.prototype.handle_save = function(fig, msg) {\n",
       "    var format_dropdown = fig.format_dropdown;\n",
       "    var format = format_dropdown.options[format_dropdown.selectedIndex].value;\n",
       "    fig.ondownload(fig, format);\n",
       "}\n",
       "\n",
       "\n",
       "mpl.figure.prototype.handle_resize = function(fig, msg) {\n",
       "    var size = msg['size'];\n",
       "    if (size[0] != fig.canvas.width || size[1] != fig.canvas.height) {\n",
       "        fig._resize_canvas(size[0], size[1]);\n",
       "        fig.send_message(\"refresh\", {});\n",
       "    };\n",
       "}\n",
       "\n",
       "mpl.figure.prototype.handle_rubberband = function(fig, msg) {\n",
       "    var x0 = msg['x0'] / mpl.ratio;\n",
       "    var y0 = (fig.canvas.height - msg['y0']) / mpl.ratio;\n",
       "    var x1 = msg['x1'] / mpl.ratio;\n",
       "    var y1 = (fig.canvas.height - msg['y1']) / mpl.ratio;\n",
       "    x0 = Math.floor(x0) + 0.5;\n",
       "    y0 = Math.floor(y0) + 0.5;\n",
       "    x1 = Math.floor(x1) + 0.5;\n",
       "    y1 = Math.floor(y1) + 0.5;\n",
       "    var min_x = Math.min(x0, x1);\n",
       "    var min_y = Math.min(y0, y1);\n",
       "    var width = Math.abs(x1 - x0);\n",
       "    var height = Math.abs(y1 - y0);\n",
       "\n",
       "    fig.rubberband_context.clearRect(\n",
       "        0, 0, fig.canvas.width, fig.canvas.height);\n",
       "\n",
       "    fig.rubberband_context.strokeRect(min_x, min_y, width, height);\n",
       "}\n",
       "\n",
       "mpl.figure.prototype.handle_figure_label = function(fig, msg) {\n",
       "    // Updates the figure title.\n",
       "    fig.header.textContent = msg['label'];\n",
       "}\n",
       "\n",
       "mpl.figure.prototype.handle_cursor = function(fig, msg) {\n",
       "    var cursor = msg['cursor'];\n",
       "    switch(cursor)\n",
       "    {\n",
       "    case 0:\n",
       "        cursor = 'pointer';\n",
       "        break;\n",
       "    case 1:\n",
       "        cursor = 'default';\n",
       "        break;\n",
       "    case 2:\n",
       "        cursor = 'crosshair';\n",
       "        break;\n",
       "    case 3:\n",
       "        cursor = 'move';\n",
       "        break;\n",
       "    }\n",
       "    fig.rubberband_canvas.style.cursor = cursor;\n",
       "}\n",
       "\n",
       "mpl.figure.prototype.handle_message = function(fig, msg) {\n",
       "    fig.message.textContent = msg['message'];\n",
       "}\n",
       "\n",
       "mpl.figure.prototype.handle_draw = function(fig, msg) {\n",
       "    // Request the server to send over a new figure.\n",
       "    fig.send_draw_message();\n",
       "}\n",
       "\n",
       "mpl.figure.prototype.handle_image_mode = function(fig, msg) {\n",
       "    fig.image_mode = msg['mode'];\n",
       "}\n",
       "\n",
       "mpl.figure.prototype.updated_canvas_event = function() {\n",
       "    // Called whenever the canvas gets updated.\n",
       "    this.send_message(\"ack\", {});\n",
       "}\n",
       "\n",
       "// A function to construct a web socket function for onmessage handling.\n",
       "// Called in the figure constructor.\n",
       "mpl.figure.prototype._make_on_message_function = function(fig) {\n",
       "    return function socket_on_message(evt) {\n",
       "        if (evt.data instanceof Blob) {\n",
       "            /* FIXME: We get \"Resource interpreted as Image but\n",
       "             * transferred with MIME type text/plain:\" errors on\n",
       "             * Chrome.  But how to set the MIME type?  It doesn't seem\n",
       "             * to be part of the websocket stream */\n",
       "            evt.data.type = \"image/png\";\n",
       "\n",
       "            /* Free the memory for the previous frames */\n",
       "            if (fig.imageObj.src) {\n",
       "                (window.URL || window.webkitURL).revokeObjectURL(\n",
       "                    fig.imageObj.src);\n",
       "            }\n",
       "\n",
       "            fig.imageObj.src = (window.URL || window.webkitURL).createObjectURL(\n",
       "                evt.data);\n",
       "            fig.updated_canvas_event();\n",
       "            fig.waiting = false;\n",
       "            return;\n",
       "        }\n",
       "        else if (typeof evt.data === 'string' && evt.data.slice(0, 21) == \"data:image/png;base64\") {\n",
       "            fig.imageObj.src = evt.data;\n",
       "            fig.updated_canvas_event();\n",
       "            fig.waiting = false;\n",
       "            return;\n",
       "        }\n",
       "\n",
       "        var msg = JSON.parse(evt.data);\n",
       "        var msg_type = msg['type'];\n",
       "\n",
       "        // Call the  \"handle_{type}\" callback, which takes\n",
       "        // the figure and JSON message as its only arguments.\n",
       "        try {\n",
       "            var callback = fig[\"handle_\" + msg_type];\n",
       "        } catch (e) {\n",
       "            console.log(\"No handler for the '\" + msg_type + \"' message type: \", msg);\n",
       "            return;\n",
       "        }\n",
       "\n",
       "        if (callback) {\n",
       "            try {\n",
       "                // console.log(\"Handling '\" + msg_type + \"' message: \", msg);\n",
       "                callback(fig, msg);\n",
       "            } catch (e) {\n",
       "                console.log(\"Exception inside the 'handler_\" + msg_type + \"' callback:\", e, e.stack, msg);\n",
       "            }\n",
       "        }\n",
       "    };\n",
       "}\n",
       "\n",
       "// from http://stackoverflow.com/questions/1114465/getting-mouse-location-in-canvas\n",
       "mpl.findpos = function(e) {\n",
       "    //this section is from http://www.quirksmode.org/js/events_properties.html\n",
       "    var targ;\n",
       "    if (!e)\n",
       "        e = window.event;\n",
       "    if (e.target)\n",
       "        targ = e.target;\n",
       "    else if (e.srcElement)\n",
       "        targ = e.srcElement;\n",
       "    if (targ.nodeType == 3) // defeat Safari bug\n",
       "        targ = targ.parentNode;\n",
       "\n",
       "    // jQuery normalizes the pageX and pageY\n",
       "    // pageX,Y are the mouse positions relative to the document\n",
       "    // offset() returns the position of the element relative to the document\n",
       "    var x = e.pageX - $(targ).offset().left;\n",
       "    var y = e.pageY - $(targ).offset().top;\n",
       "\n",
       "    return {\"x\": x, \"y\": y};\n",
       "};\n",
       "\n",
       "/*\n",
       " * return a copy of an object with only non-object keys\n",
       " * we need this to avoid circular references\n",
       " * http://stackoverflow.com/a/24161582/3208463\n",
       " */\n",
       "function simpleKeys (original) {\n",
       "  return Object.keys(original).reduce(function (obj, key) {\n",
       "    if (typeof original[key] !== 'object')\n",
       "        obj[key] = original[key]\n",
       "    return obj;\n",
       "  }, {});\n",
       "}\n",
       "\n",
       "mpl.figure.prototype.mouse_event = function(event, name) {\n",
       "    var canvas_pos = mpl.findpos(event)\n",
       "\n",
       "    if (name === 'button_press')\n",
       "    {\n",
       "        this.canvas.focus();\n",
       "        this.canvas_div.focus();\n",
       "    }\n",
       "\n",
       "    var x = canvas_pos.x * mpl.ratio;\n",
       "    var y = canvas_pos.y * mpl.ratio;\n",
       "\n",
       "    this.send_message(name, {x: x, y: y, button: event.button,\n",
       "                             step: event.step,\n",
       "                             guiEvent: simpleKeys(event)});\n",
       "\n",
       "    /* This prevents the web browser from automatically changing to\n",
       "     * the text insertion cursor when the button is pressed.  We want\n",
       "     * to control all of the cursor setting manually through the\n",
       "     * 'cursor' event from matplotlib */\n",
       "    event.preventDefault();\n",
       "    return false;\n",
       "}\n",
       "\n",
       "mpl.figure.prototype._key_event_extra = function(event, name) {\n",
       "    // Handle any extra behaviour associated with a key event\n",
       "}\n",
       "\n",
       "mpl.figure.prototype.key_event = function(event, name) {\n",
       "\n",
       "    // Prevent repeat events\n",
       "    if (name == 'key_press')\n",
       "    {\n",
       "        if (event.which === this._key)\n",
       "            return;\n",
       "        else\n",
       "            this._key = event.which;\n",
       "    }\n",
       "    if (name == 'key_release')\n",
       "        this._key = null;\n",
       "\n",
       "    var value = '';\n",
       "    if (event.ctrlKey && event.which != 17)\n",
       "        value += \"ctrl+\";\n",
       "    if (event.altKey && event.which != 18)\n",
       "        value += \"alt+\";\n",
       "    if (event.shiftKey && event.which != 16)\n",
       "        value += \"shift+\";\n",
       "\n",
       "    value += 'k';\n",
       "    value += event.which.toString();\n",
       "\n",
       "    this._key_event_extra(event, name);\n",
       "\n",
       "    this.send_message(name, {key: value,\n",
       "                             guiEvent: simpleKeys(event)});\n",
       "    return false;\n",
       "}\n",
       "\n",
       "mpl.figure.prototype.toolbar_button_onclick = function(name) {\n",
       "    if (name == 'download') {\n",
       "        this.handle_save(this, null);\n",
       "    } else {\n",
       "        this.send_message(\"toolbar_button\", {name: name});\n",
       "    }\n",
       "};\n",
       "\n",
       "mpl.figure.prototype.toolbar_button_onmouseover = function(tooltip) {\n",
       "    this.message.textContent = tooltip;\n",
       "};\n",
       "mpl.toolbar_items = [[\"Home\", \"Reset original view\", \"fa fa-home icon-home\", \"home\"], [\"Back\", \"Back to previous view\", \"fa fa-arrow-left icon-arrow-left\", \"back\"], [\"Forward\", \"Forward to next view\", \"fa fa-arrow-right icon-arrow-right\", \"forward\"], [\"\", \"\", \"\", \"\"], [\"Pan\", \"Pan axes with left mouse, zoom with right\", \"fa fa-arrows icon-move\", \"pan\"], [\"Zoom\", \"Zoom to rectangle\", \"fa fa-square-o icon-check-empty\", \"zoom\"], [\"\", \"\", \"\", \"\"], [\"Download\", \"Download plot\", \"fa fa-floppy-o icon-save\", \"download\"]];\n",
       "\n",
       "mpl.extensions = [\"eps\", \"jpeg\", \"pdf\", \"png\", \"ps\", \"raw\", \"svg\", \"tif\"];\n",
       "\n",
       "mpl.default_extension = \"png\";var comm_websocket_adapter = function(comm) {\n",
       "    // Create a \"websocket\"-like object which calls the given IPython comm\n",
       "    // object with the appropriate methods. Currently this is a non binary\n",
       "    // socket, so there is still some room for performance tuning.\n",
       "    var ws = {};\n",
       "\n",
       "    ws.close = function() {\n",
       "        comm.close()\n",
       "    };\n",
       "    ws.send = function(m) {\n",
       "        //console.log('sending', m);\n",
       "        comm.send(m);\n",
       "    };\n",
       "    // Register the callback with on_msg.\n",
       "    comm.on_msg(function(msg) {\n",
       "        //console.log('receiving', msg['content']['data'], msg);\n",
       "        // Pass the mpl event to the overridden (by mpl) onmessage function.\n",
       "        ws.onmessage(msg['content']['data'])\n",
       "    });\n",
       "    return ws;\n",
       "}\n",
       "\n",
       "mpl.mpl_figure_comm = function(comm, msg) {\n",
       "    // This is the function which gets called when the mpl process\n",
       "    // starts-up an IPython Comm through the \"matplotlib\" channel.\n",
       "\n",
       "    var id = msg.content.data.id;\n",
       "    // Get hold of the div created by the display call when the Comm\n",
       "    // socket was opened in Python.\n",
       "    var element = $(\"#\" + id);\n",
       "    var ws_proxy = comm_websocket_adapter(comm)\n",
       "\n",
       "    function ondownload(figure, format) {\n",
       "        window.open(figure.imageObj.src);\n",
       "    }\n",
       "\n",
       "    var fig = new mpl.figure(id, ws_proxy,\n",
       "                           ondownload,\n",
       "                           element.get(0));\n",
       "\n",
       "    // Call onopen now - mpl needs it, as it is assuming we've passed it a real\n",
       "    // web socket which is closed, not our websocket->open comm proxy.\n",
       "    ws_proxy.onopen();\n",
       "\n",
       "    fig.parent_element = element.get(0);\n",
       "    fig.cell_info = mpl.find_output_cell(\"<div id='\" + id + \"'></div>\");\n",
       "    if (!fig.cell_info) {\n",
       "        console.error(\"Failed to find cell for figure\", id, fig);\n",
       "        return;\n",
       "    }\n",
       "\n",
       "    var output_index = fig.cell_info[2]\n",
       "    var cell = fig.cell_info[0];\n",
       "\n",
       "};\n",
       "\n",
       "mpl.figure.prototype.handle_close = function(fig, msg) {\n",
       "    var width = fig.canvas.width/mpl.ratio\n",
       "    fig.root.unbind('remove')\n",
       "\n",
       "    // Update the output cell to use the data from the current canvas.\n",
       "    fig.push_to_output();\n",
       "    var dataURL = fig.canvas.toDataURL();\n",
       "    // Re-enable the keyboard manager in IPython - without this line, in FF,\n",
       "    // the notebook keyboard shortcuts fail.\n",
       "    IPython.keyboard_manager.enable()\n",
       "    $(fig.parent_element).html('<img src=\"' + dataURL + '\" width=\"' + width + '\">');\n",
       "    fig.close_ws(fig, msg);\n",
       "}\n",
       "\n",
       "mpl.figure.prototype.close_ws = function(fig, msg){\n",
       "    fig.send_message('closing', msg);\n",
       "    // fig.ws.close()\n",
       "}\n",
       "\n",
       "mpl.figure.prototype.push_to_output = function(remove_interactive) {\n",
       "    // Turn the data on the canvas into data in the output cell.\n",
       "    var width = this.canvas.width/mpl.ratio\n",
       "    var dataURL = this.canvas.toDataURL();\n",
       "    this.cell_info[1]['text/html'] = '<img src=\"' + dataURL + '\" width=\"' + width + '\">';\n",
       "}\n",
       "\n",
       "mpl.figure.prototype.updated_canvas_event = function() {\n",
       "    // Tell IPython that the notebook contents must change.\n",
       "    IPython.notebook.set_dirty(true);\n",
       "    this.send_message(\"ack\", {});\n",
       "    var fig = this;\n",
       "    // Wait a second, then push the new image to the DOM so\n",
       "    // that it is saved nicely (might be nice to debounce this).\n",
       "    setTimeout(function () { fig.push_to_output() }, 1000);\n",
       "}\n",
       "\n",
       "mpl.figure.prototype._init_toolbar = function() {\n",
       "    var fig = this;\n",
       "\n",
       "    var nav_element = $('<div/>');\n",
       "    nav_element.attr('style', 'width: 100%');\n",
       "    this.root.append(nav_element);\n",
       "\n",
       "    // Define a callback function for later on.\n",
       "    function toolbar_event(event) {\n",
       "        return fig.toolbar_button_onclick(event['data']);\n",
       "    }\n",
       "    function toolbar_mouse_event(event) {\n",
       "        return fig.toolbar_button_onmouseover(event['data']);\n",
       "    }\n",
       "\n",
       "    for(var toolbar_ind in mpl.toolbar_items){\n",
       "        var name = mpl.toolbar_items[toolbar_ind][0];\n",
       "        var tooltip = mpl.toolbar_items[toolbar_ind][1];\n",
       "        var image = mpl.toolbar_items[toolbar_ind][2];\n",
       "        var method_name = mpl.toolbar_items[toolbar_ind][3];\n",
       "\n",
       "        if (!name) { continue; };\n",
       "\n",
       "        var button = $('<button class=\"btn btn-default\" href=\"#\" title=\"' + name + '\"><i class=\"fa ' + image + ' fa-lg\"></i></button>');\n",
       "        button.click(method_name, toolbar_event);\n",
       "        button.mouseover(tooltip, toolbar_mouse_event);\n",
       "        nav_element.append(button);\n",
       "    }\n",
       "\n",
       "    // Add the status bar.\n",
       "    var status_bar = $('<span class=\"mpl-message\" style=\"text-align:right; float: right;\"/>');\n",
       "    nav_element.append(status_bar);\n",
       "    this.message = status_bar[0];\n",
       "\n",
       "    // Add the close button to the window.\n",
       "    var buttongrp = $('<div class=\"btn-group inline pull-right\"></div>');\n",
       "    var button = $('<button class=\"btn btn-mini btn-primary\" href=\"#\" title=\"Stop Interaction\"><i class=\"fa fa-power-off icon-remove icon-large\"></i></button>');\n",
       "    button.click(function (evt) { fig.handle_close(fig, {}); } );\n",
       "    button.mouseover('Stop Interaction', toolbar_mouse_event);\n",
       "    buttongrp.append(button);\n",
       "    var titlebar = this.root.find($('.ui-dialog-titlebar'));\n",
       "    titlebar.prepend(buttongrp);\n",
       "}\n",
       "\n",
       "mpl.figure.prototype._root_extra_style = function(el){\n",
       "    var fig = this\n",
       "    el.on(\"remove\", function(){\n",
       "\tfig.close_ws(fig, {});\n",
       "    });\n",
       "}\n",
       "\n",
       "mpl.figure.prototype._canvas_extra_style = function(el){\n",
       "    // this is important to make the div 'focusable\n",
       "    el.attr('tabindex', 0)\n",
       "    // reach out to IPython and tell the keyboard manager to turn it's self\n",
       "    // off when our div gets focus\n",
       "\n",
       "    // location in version 3\n",
       "    if (IPython.notebook.keyboard_manager) {\n",
       "        IPython.notebook.keyboard_manager.register_events(el);\n",
       "    }\n",
       "    else {\n",
       "        // location in version 2\n",
       "        IPython.keyboard_manager.register_events(el);\n",
       "    }\n",
       "\n",
       "}\n",
       "\n",
       "mpl.figure.prototype._key_event_extra = function(event, name) {\n",
       "    var manager = IPython.notebook.keyboard_manager;\n",
       "    if (!manager)\n",
       "        manager = IPython.keyboard_manager;\n",
       "\n",
       "    // Check for shift+enter\n",
       "    if (event.shiftKey && event.which == 13) {\n",
       "        this.canvas_div.blur();\n",
       "        event.shiftKey = false;\n",
       "        // Send a \"J\" for go to next cell\n",
       "        event.which = 74;\n",
       "        event.keyCode = 74;\n",
       "        manager.command_mode();\n",
       "        manager.handle_keydown(event);\n",
       "    }\n",
       "}\n",
       "\n",
       "mpl.figure.prototype.handle_save = function(fig, msg) {\n",
       "    fig.ondownload(fig, null);\n",
       "}\n",
       "\n",
       "\n",
       "mpl.find_output_cell = function(html_output) {\n",
       "    // Return the cell and output element which can be found *uniquely* in the notebook.\n",
       "    // Note - this is a bit hacky, but it is done because the \"notebook_saving.Notebook\"\n",
       "    // IPython event is triggered only after the cells have been serialised, which for\n",
       "    // our purposes (turning an active figure into a static one), is too late.\n",
       "    var cells = IPython.notebook.get_cells();\n",
       "    var ncells = cells.length;\n",
       "    for (var i=0; i<ncells; i++) {\n",
       "        var cell = cells[i];\n",
       "        if (cell.cell_type === 'code'){\n",
       "            for (var j=0; j<cell.output_area.outputs.length; j++) {\n",
       "                var data = cell.output_area.outputs[j];\n",
       "                if (data.data) {\n",
       "                    // IPython >= 3 moved mimebundle to data attribute of output\n",
       "                    data = data.data;\n",
       "                }\n",
       "                if (data['text/html'] == html_output) {\n",
       "                    return [cell, data, j];\n",
       "                }\n",
       "            }\n",
       "        }\n",
       "    }\n",
       "}\n",
       "\n",
       "// Register the function which deals with the matplotlib target/channel.\n",
       "// The kernel may be null if the page has been refreshed.\n",
       "if (IPython.notebook.kernel != null) {\n",
       "    IPython.notebook.kernel.comm_manager.register_target('matplotlib', mpl.mpl_figure_comm);\n",
       "}\n"
      ],
      "text/plain": [
       "<IPython.core.display.Javascript object>"
      ]
     },
     "metadata": {},
     "output_type": "display_data"
    },
    {
     "data": {
      "text/html": [
       "<img src=\"data:image/png;base64,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\" width=\"222\">"
      ],
      "text/plain": [
       "<IPython.core.display.HTML object>"
      ]
     },
     "metadata": {},
     "output_type": "display_data"
    },
    {
     "data": {
      "text/plain": [
       "[<matplotlib.lines.Line2D at 0x20cfb5046a0>]"
      ]
     },
     "execution_count": 11,
     "metadata": {},
     "output_type": "execute_result"
    }
   ],
   "source": [
    "%matplotlib nbagg\n",
    "plt.plot(X[0, :], Y[0, :])"
   ]
  },
  {
   "cell_type": "code",
   "execution_count": 50,
   "metadata": {},
   "outputs": [
    {
     "ename": "KeyError",
     "evalue": "'50'",
     "output_type": "error",
     "traceback": [
      "\u001b[1;31m---------------------------------------------------------------------------\u001b[0m",
      "\u001b[1;31mKeyError\u001b[0m                                  Traceback (most recent call last)",
      "\u001b[1;32m<ipython-input-50-a67bd74ccae3>\u001b[0m in \u001b[0;36m<module>\u001b[1;34m\u001b[0m\n\u001b[0;32m      2\u001b[0m \u001b[0mC\u001b[0m \u001b[1;33m=\u001b[0m \u001b[1;33m[\u001b[0m\u001b[1;33m]\u001b[0m\u001b[1;33m\u001b[0m\u001b[1;33m\u001b[0m\u001b[0m\n\u001b[0;32m      3\u001b[0m \u001b[1;32mfor\u001b[0m \u001b[0mkw\u001b[0m \u001b[1;32min\u001b[0m \u001b[0mA\u001b[0m\u001b[1;33m:\u001b[0m\u001b[1;33m\u001b[0m\u001b[1;33m\u001b[0m\u001b[0m\n\u001b[1;32m----> 4\u001b[1;33m     \u001b[0ma\u001b[0m \u001b[1;33m=\u001b[0m \u001b[0mA\u001b[0m\u001b[1;33m[\u001b[0m\u001b[0mkw\u001b[0m\u001b[1;33m]\u001b[0m\u001b[1;33m.\u001b[0m\u001b[0mloc\u001b[0m\u001b[1;33m[\u001b[0m\u001b[1;33m(\u001b[0m\u001b[0mA\u001b[0m\u001b[1;33m[\u001b[0m\u001b[1;34m'50'\u001b[0m\u001b[1;33m]\u001b[0m\u001b[1;33m.\u001b[0m\u001b[0mR\u001b[0m\u001b[1;33m>\u001b[0m\u001b[1;36m150\u001b[0m\u001b[1;33m)\u001b[0m\u001b[1;33m&\u001b[0m\u001b[1;33m(\u001b[0m\u001b[0mA\u001b[0m\u001b[1;33m[\u001b[0m\u001b[1;34m'50'\u001b[0m\u001b[1;33m]\u001b[0m\u001b[1;33m.\u001b[0m\u001b[0mR\u001b[0m\u001b[1;33m<\u001b[0m\u001b[1;36m155\u001b[0m\u001b[1;33m)\u001b[0m\u001b[1;33m]\u001b[0m\u001b[1;33m.\u001b[0m\u001b[0mC\u001b[0m\u001b[1;33m.\u001b[0m\u001b[0miloc\u001b[0m\u001b[1;33m[\u001b[0m\u001b[1;36m0\u001b[0m\u001b[1;33m]\u001b[0m\u001b[1;33m\u001b[0m\u001b[1;33m\u001b[0m\u001b[0m\n\u001b[0m\u001b[0;32m      5\u001b[0m     \u001b[0mC\u001b[0m\u001b[1;33m.\u001b[0m\u001b[0mappend\u001b[0m\u001b[1;33m(\u001b[0m\u001b[0ma\u001b[0m\u001b[1;33m)\u001b[0m\u001b[1;33m\u001b[0m\u001b[1;33m\u001b[0m\u001b[0m\n\u001b[0;32m      6\u001b[0m \u001b[0mplt\u001b[0m\u001b[1;33m.\u001b[0m\u001b[0mplot\u001b[0m\u001b[1;33m(\u001b[0m\u001b[0ml\u001b[0m\u001b[1;33m,\u001b[0m \u001b[0mC\u001b[0m\u001b[1;33m)\u001b[0m\u001b[1;33m\u001b[0m\u001b[1;33m\u001b[0m\u001b[0m\n",
      "\u001b[1;31mKeyError\u001b[0m: '50'"
     ]
    },
    {
     "data": {
      "text/plain": [
       "<Figure size 720x720 with 0 Axes>"
      ]
     },
     "metadata": {},
     "output_type": "display_data"
    }
   ],
   "source": [
    "plt.figure(figsize=(10, 10))\n",
    "C = []\n",
    "for kw in A:\n",
    "    a = A[kw].loc[(A['50'].R>150)&(A['50'].R<155)].C.iloc[0]\n",
    "    C.append(a)\n",
    "plt.plot(l, C)"
   ]
  },
  {
   "cell_type": "code",
   "execution_count": 123,
   "metadata": {
    "scrolled": false
   },
   "outputs": [
    {
     "data": {
      "text/html": [
       "<div>\n",
       "<style scoped>\n",
       "    .dataframe tbody tr th:only-of-type {\n",
       "        vertical-align: middle;\n",
       "    }\n",
       "\n",
       "    .dataframe tbody tr th {\n",
       "        vertical-align: top;\n",
       "    }\n",
       "\n",
       "    .dataframe thead th {\n",
       "        text-align: right;\n",
       "    }\n",
       "</style>\n",
       "<table border=\"1\" class=\"dataframe\">\n",
       "  <thead>\n",
       "    <tr style=\"text-align: right;\">\n",
       "      <th></th>\n",
       "      <th>R</th>\n",
       "      <th>C</th>\n",
       "    </tr>\n",
       "  </thead>\n",
       "  <tbody>\n",
       "    <tr>\n",
       "      <th>310</th>\n",
       "      <td>152.315462</td>\n",
       "      <td>0.586998</td>\n",
       "    </tr>\n",
       "    <tr>\n",
       "      <th>710</th>\n",
       "      <td>152.315462</td>\n",
       "      <td>0.581775</td>\n",
       "    </tr>\n",
       "  </tbody>\n",
       "</table>\n",
       "</div>"
      ],
      "text/plain": [
       "              R         C\n",
       "310  152.315462  0.586998\n",
       "710  152.315462  0.581775"
      ]
     },
     "execution_count": 123,
     "metadata": {},
     "output_type": "execute_result"
    }
   ],
   "source": [
    "A['50'].loc[(A['50'].R>150)&(A['50'].R<155)]"
   ]
  },
  {
   "cell_type": "code",
   "execution_count": 42,
   "metadata": {},
   "outputs": [],
   "source": [
    "l = np.array(l)"
   ]
  },
  {
   "cell_type": "code",
   "execution_count": null,
   "metadata": {},
   "outputs": [],
   "source": [
    "# Correlation length vs. time(s)"
   ]
  },
  {
   "cell_type": "code",
   "execution_count": 66,
   "metadata": {},
   "outputs": [
    {
     "data": {
      "text/plain": [
       "[<matplotlib.lines.Line2D at 0x1926ec7d8d0>]"
      ]
     },
     "execution_count": 66,
     "metadata": {},
     "output_type": "execute_result"
    },
    {
     "data": {
      "image/png": "[encoded data removed]",
      "text/plain": [
       "<Figure size 720x720 with 1 Axes>"
      ]
     },
     "metadata": {
      "needs_background": "light"
     },
     "output_type": "display_data"
    }
   ],
   "source": [
    "plt.figure(figsize=(10, 10))\n",
    "C = []\n",
    "for kw in A:\n",
    "    a = A[kw].loc[(A[kw].C>0.25)&(A[kw].C<0.3)].R.iloc[0]\n",
    "    C.append(a)\n",
    "plt.plot(l / FPS, np.array(C) * MPP)"
   ]
  },
  {
   "cell_type": "code",
   "execution_count": 70,
   "metadata": {},
   "outputs": [],
   "source": [
    "l = np.array(range(0, 2000, 10))\n",
    "c = []\n",
    "for i in l:\n",
    "    imgDir = r'I:\\Data\\Wei\\03\\%5d.tif' % i\n",
    "    img = io.imread(imgDir)\n",
    "    X, Y, I = divide_windows(img, windowsize=[40, 40], step=20)\n",
    "    contrast = I.std()/I.mean()\n",
    "    c.append(contrast)\n"
   ]
  },
  {
   "cell_type": "code",
   "execution_count": 71,
   "metadata": {},
   "outputs": [
    {
     "data": {
      "text/plain": [
       "[<matplotlib.lines.Line2D at 0x1926b78b3c8>]"
      ]
     },
     "execution_count": 71,
     "metadata": {},
     "output_type": "execute_result"
    },
    {
     "data": {
      "image/png": "[encoded data removed]",
      "text/plain": [
       "<Figure size 720x720 with 1 Axes>"
      ]
     },
     "metadata": {
      "needs_background": "light"
     },
     "output_type": "display_data"
    }
   ],
   "source": [
    "fig, ax = plt.subplots(figsize=(10,10))\n",
    "ax.plot(l/FPS, c)"
   ]
  },
  {
   "cell_type": "code",
   "execution_count": 67,
   "metadata": {},
   "outputs": [
    {
     "data": {
      "text/plain": [
       "[<matplotlib.lines.Line2D at 0x1926eea6cf8>]"
      ]
     },
     "execution_count": 67,
     "metadata": {},
     "output_type": "execute_result"
    },
    {
     "data": {
      "image/png": "[encoded data removed]",
      "text/plain": [
       "<Figure size 720x720 with 2 Axes>"
      ]
     },
     "metadata": {
      "needs_background": "light"
     },
     "output_type": "display_data"
    }
   ],
   "source": [
    "fig, ax1 = plt.subplots(figsize=(10,10))\n",
    "ax1.plot(l/FPS, c, color=bestcolor(0))\n",
    "ax2 = ax1.twinx()\n",
    "plt.plot(l/FPS, np.array(C) * MPP, color=bestcolor(1))"
   ]
  },
  {
   "cell_type": "code",
   "execution_count": 2,
   "metadata": {},
   "outputs": [],
   "source": [
    "data = pd.read_csv(r'I:/Data/Wei/transient/00/Icorrdata.dat')"
   ]
  },
  {
   "cell_type": "code",
   "execution_count": 10,
   "metadata": {},
   "outputs": [],
   "source": [
    "data1 = pd.read_csv(r'I:/Data/Wei/transient/01/Icorrdata.dat')\n",
    "data2 = pd.read_csv(r'I:/Data/Wei/transient/02/Icorrdata.dat')\n",
    "data3 = pd.read_csv(r'I:/Data/Wei/transient/03/Icorrdata.dat')"
   ]
  },
  {
   "cell_type": "code",
   "execution_count": 12,
   "metadata": {},
   "outputs": [],
   "source": [
    "data = data.sort_values(by='R')\n",
    "data1 = data1.sort_values(by='R')\n",
    "data2 = data2.sort_values(by='R')\n",
    "data3 = data3.sort_values(by='R')"
   ]
  },
  {
   "cell_type": "code",
   "execution_count": 17,
   "metadata": {
    "scrolled": true
   },
   "outputs": [
    {
     "data": {
      "text/plain": [
       "[0, 800, -0.2, 1]"
      ]
     },
     "execution_count": 17,
     "metadata": {},
     "output_type": "execute_result"
    },
    {
     "data": {
      "image/png": "[encoded data removed]",
      "text/plain": [
       "<Figure size 432x288 with 1 Axes>"
      ]
     },
     "metadata": {
      "needs_background": "light"
     },
     "output_type": "display_data"
    }
   ],
   "source": [
    "plt.plot(data.R, savgol_filter(data.C, 101, 3))\n",
    "plt.plot(data1.R, savgol_filter(data1.C, 101, 3))\n",
    "plt.plot(data2.R, savgol_filter(data2.C, 101, 3))\n",
    "plt.plot(data3.R, savgol_filter(data3.C, 101, 3))\n",
    "plt.axis([0, 800, -.2, 1])"
   ]
  },
  {
   "cell_type": "code",
   "execution_count": 19,
   "metadata": {},
   "outputs": [],
   "source": [
    "frame = 0\n",
    "data = {}\n",
    "for i in range(0, 4):\n",
    "    datapath = r'I:/Data/Wei/transient/%02d/Icorrdata.dat' % i\n",
    "    data[str(i)] = pd.read_csv(datapath)"
   ]
  },
  {
   "cell_type": "markdown",
   "metadata": {},
   "source": [
    "### Different density first frame"
   ]
  },
  {
   "cell_type": "code",
   "execution_count": 20,
   "metadata": {},
   "outputs": [
    {
     "data": {
      "image/png": "[encoded data removed]",
      "text/plain": [
       "<Figure size 432x288 with 1 Axes>"
      ]
     },
     "metadata": {
      "needs_background": "light"
     },
     "output_type": "display_data"
    }
   ],
   "source": [
    "for kw in data:\n",
    "    subdata = data[kw].loc[data[kw].frame==frame]\n",
    "    subdata = subdata.sort_values(by='R')\n",
    "    plt.plot(subdata.R, savgol_filter(subdata.C, 101, 3))"
   ]
  },
  {
   "cell_type": "markdown",
   "metadata": {},
   "source": [
    "### Same density different time"
   ]
  },
  {
   "cell_type": "code",
   "execution_count": 35,
   "metadata": {},
   "outputs": [
    {
     "data": {
      "text/plain": [
       "[0, 1000, -0.5, 1]"
      ]
     },
     "execution_count": 35,
     "metadata": {},
     "output_type": "execute_result"
    },
    {
     "data": {
      "image/png": "[encoded data removed]",
      "text/plain": [
       "<Figure size 432x288 with 1 Axes>"
      ]
     },
     "metadata": {
      "needs_background": "light"
     },
     "output_type": "display_data"
    }
   ],
   "source": [
    "# data 0, 40 n0\n",
    "tt = np.linspace(0, 1999, 10)\n",
    "for t in tt:\n",
    "    subdata = data['2'].loc[data['2'].frame==int(t)]\n",
    "    subdata = subdata.sort_values(by='R')\n",
    "    plt.plot(subdata.R, savgol_filter(subdata.C, 101, 3))\n",
    "plt.axis([0, 1000, -.5, 1])"
   ]
  },
  {
   "cell_type": "code",
   "execution_count": 26,
   "metadata": {},
   "outputs": [
    {
     "data": {
      "text/plain": [
       "array([   0.        ,  222.22222222,  444.44444444,  666.66666667,\n",
       "        888.88888889, 1111.11111111, 1333.33333333, 1555.55555556,\n",
       "       1777.77777778, 2000.        ])"
      ]
     },
     "execution_count": 26,
     "metadata": {},
     "output_type": "execute_result"
    }
   ],
   "source": [
    "tt"
   ]
  },
  {
   "cell_type": "code",
   "execution_count": 2,
   "metadata": {},
   "outputs": [],
   "source": [
    "imgDir = r'I:\\Google Drive\\Research projects\\DF\\nolight-light\\0100.tif'\n",
    "img = io.imread(imgDir)\n",
    "X, Y, I = divide_windows(img, windowsize=[5.2, 5.2], step=5.2)"
   ]
  },
  {
   "cell_type": "code",
   "execution_count": 14,
   "metadata": {},
   "outputs": [],
   "source": [
    "w = [5.2, 1.2]"
   ]
  },
  {
   "cell_type": "code",
   "execution_count": 15,
   "metadata": {},
   "outputs": [],
   "source": [
    "w[0] = int(w[0])"
   ]
  },
  {
   "cell_type": "code",
   "execution_count": 4,
   "metadata": {},
   "outputs": [
    {
     "data": {
      "text/plain": [
       "0.7333333333333334"
      ]
     },
     "execution_count": 4,
     "metadata": {},
     "output_type": "execute_result"
    }
   ],
   "source": [
    "0.33*1280/576"
   ]
  }
 ],
 "metadata": {
  "kernelspec": {
   "display_name": "Python 3",
   "language": "python",
   "name": "python3"
  },
  "language_info": {
   "codemirror_mode": {
    "name": "ipython",
    "version": 3
   },
   "file_extension": ".py",
   "mimetype": "text/x-python",
   "name": "python",
   "nbconvert_exporter": "python",
   "pygments_lexer": "ipython3",
   "version": "3.7.3"
  }
 },
 "nbformat": 4,
 "nbformat_minor": 2
}

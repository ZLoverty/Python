{
 "cells": [
  {
   "cell_type": "markdown",
   "metadata": {},
   "source": [
    "# Spatial Correlations of bacterial suspensions\n",
    "\n",
    "Here we use spatial correlaitons (orientation, velocity and pixel intensity) to identify the transition from disordered phase to ordered phase. \n",
    "\n",
    "We also compare the concentration dependence of correlation length with that of GNF scaling exponent $\\alpha$."
   ]
  },
  {
   "cell_type": "markdown",
   "metadata": {},
   "source": [
    "## 1. Packages and presets"
   ]
  },
  {
   "cell_type": "code",
   "execution_count": 34,
   "metadata": {},
   "outputs": [],
   "source": [
    "import numpy as np\n",
    "import matplotlib.pyplot as plt\n",
    "from myImageLib import dirrec, bestcolor, bpass, wowcolor\n",
    "from skimage import io, measure\n",
    "import pandas as pd\n",
    "from scipy.signal import savgol_filter, medfilt\n",
    "import os\n",
    "import corrLib\n",
    "from scipy.signal import savgol_filter\n",
    "import matplotlib as mpl\n",
    "from numpy.polynomial.polynomial import polyvander\n",
    "from scipy.optimize import curve_fit\n",
    "from miscLib import label_slope\n",
    "from corrLib import density_fluctuation\n",
    "from scipy import signal\n",
    "from scipy.interpolate import griddata\n",
    "import matplotlib\n",
    "import pandas as pd"
   ]
  },
  {
   "cell_type": "code",
   "execution_count": 2,
   "metadata": {},
   "outputs": [],
   "source": [
    "# figure initializing presets\n",
    "presets = {}\n",
    "presets['1-column-2-panel'] = (1.25, 1.57, 157)\n",
    "presets['1-column-1-panel'] = (1.25, 3.2, 157)\n",
    "h, w, dpi = presets['1-column-2-panel']"
   ]
  },
  {
   "cell_type": "code",
   "execution_count": 3,
   "metadata": {},
   "outputs": [],
   "source": [
    "# matplotlib configs\n",
    "\n",
    "# FONT\n",
    "matplotlib.rcParams['font.family'] = 'serif'\n",
    "matplotlib.rcParams['font.size'] = 8\n",
    "matplotlib.rcParams['text.usetex'] = True \n",
    "\n",
    "# FIGURE\n",
    "matplotlib.rcParams['figure.figsize'] = w, h\n",
    "matplotlib.rcParams['figure.dpi'] = dpi\n",
    "\n",
    "# AXES\n",
    "matplotlib.rcParams['axes.labelpad'] = 1.0\n",
    "matplotlib.rcParams['axes.labelsize'] = 'small'\n",
    "matplotlib.rcParams['axes.linewidth'] = 0.5\n",
    "\n",
    "# TICKS\n",
    "matplotlib.rcParams['xtick.labelsize'] = 'small'\n",
    "matplotlib.rcParams['xtick.direction'] = 'in'\n",
    "matplotlib.rcParams['xtick.minor.visible'] = True\n",
    "matplotlib.rcParams['xtick.top'] = True\n",
    "matplotlib.rcParams['xtick.major.size'] = 2.5\n",
    "matplotlib.rcParams['xtick.minor.size'] = 1.6\n",
    "\n",
    "matplotlib.rcParams['ytick.labelsize'] = 'small'\n",
    "matplotlib.rcParams['ytick.direction'] = 'in'\n",
    "matplotlib.rcParams['ytick.minor.visible'] = True\n",
    "matplotlib.rcParams['ytick.right'] = True\n",
    "matplotlib.rcParams['ytick.major.size'] = 2.5\n",
    "matplotlib.rcParams['ytick.minor.size'] = 1.6\n",
    "\n",
    "# LEGEND\n",
    "matplotlib.rcParams['legend.labelspacing'] = 0.2\n",
    "matplotlib.rcParams['legend.handlelength'] = 1\n",
    "matplotlib.rcParams['legend.fontsize'] = 'small'\n",
    "matplotlib.rcParams['legend.handletextpad'] = 0.2\n",
    "matplotlib.rcParams['legend.columnspacing'] = 0.5\n",
    "matplotlib.rcParams['legend.frameon'] = False"
   ]
  },
  {
   "cell_type": "markdown",
   "metadata": {},
   "source": [
    "## 2. intensity, orientation and velocity spatial correlation"
   ]
  },
  {
   "cell_type": "markdown",
   "metadata": {},
   "source": [
    "### 2.1 Intensity correlation\n",
    "\n",
    "Correlation data is a dataframe with columns (R, C, conc). "
   ]
  },
  {
   "cell_type": "markdown",
   "metadata": {},
   "source": [
    "**Fit data with exponential**\n",
    "\n",
    "The correlation functions are all identified as exponential decay. In order to determine the length scale of the correlation function, I need to fit the functions with exponential $$y = be^{-ax}$$"
   ]
  },
  {
   "cell_type": "code",
   "execution_count": 80,
   "metadata": {},
   "outputs": [],
   "source": [
    "def exp(x, a, b):\n",
    "    return b * np.exp(-a*x)"
   ]
  },
  {
   "cell_type": "code",
   "execution_count": 134,
   "metadata": {},
   "outputs": [],
   "source": [
    "def corr_length(data, fitting_range=None):\n",
    "    \"\"\"\n",
    "    Args:\n",
    "    data -- dataframe with columns (R, C), where R has pixel as unit\n",
    "    fitting_range -- (optional) can be None, int or list of two int\n",
    "    \n",
    "    Returns:\n",
    "    cl -- correlation length of given data (pixel)\n",
    "    \"\"\"\n",
    "    if fitting_range == None:\n",
    "        pass\n",
    "    elif isinstance(fitting_range, int):\n",
    "        data = data.loc[data['R'] < fitting_range]\n",
    "    elif isinstance(fitting_range, list) and len(fitting_range) == 2:\n",
    "        data = data.loc[(data['R'] < fitting_range[1])&(data['R'] >= fitting_range[0])]\n",
    "    else:\n",
    "        raise ValueError('fitting_range should be None, int or list of 2 int')\n",
    "        \n",
    "    fit = curve_fit(exp, data['R'], data['C'], p0=[0.01, 1])\n",
    "    cl = 1 / fit[0][0]\n",
    "    return cl, fit"
   ]
  },
  {
   "cell_type": "code",
   "execution_count": 145,
   "metadata": {},
   "outputs": [],
   "source": [
    "data = pd.read_csv(r'E:\\Google Drive\\Research projects\\DF\\Figures\\fig3-spatialCorr\\spatialCorr_crop.csv')\n",
    "clI = []\n",
    "ranges = [30, 30, 100, 100, 100]\n",
    "for nt, r in zip(data.conc.drop_duplicates(), ranges):\n",
    "    subdata = data.loc[data.conc==nt]\n",
    "    cl, fit = corr_length(subdata, fitting_range=r)\n",
    "    clI.append(cl)"
   ]
  },
  {
   "cell_type": "markdown",
   "metadata": {},
   "source": [
    "<font color='red'><b>Comment to myself:</b></font> The correlation-distance plot (the cell below) is not working because of the polynomial fitting. Replacing the fitting with exponential can fix the issue. Will implement when I have time."
   ]
  },
  {
   "cell_type": "code",
   "execution_count": 164,
   "metadata": {},
   "outputs": [
    {
     "ename": "LinAlgError",
     "evalue": "SVD did not converge in Linear Least Squares",
     "output_type": "error",
     "traceback": [
      "\u001b[1;31m---------------------------------------------------------------------------\u001b[0m",
      "\u001b[1;31mLinAlgError\u001b[0m                               Traceback (most recent call last)",
      "\u001b[1;32m<ipython-input-164-4ad16c9501c7>\u001b[0m in \u001b[0;36m<module>\u001b[1;34m\u001b[0m\n\u001b[0;32m     12\u001b[0m     \u001b[0mx\u001b[0m \u001b[1;33m=\u001b[0m \u001b[0msubdata\u001b[0m\u001b[1;33m.\u001b[0m\u001b[0mR\u001b[0m\u001b[1;33m\u001b[0m\u001b[1;33m\u001b[0m\u001b[0m\n\u001b[0;32m     13\u001b[0m     \u001b[0my\u001b[0m \u001b[1;33m=\u001b[0m \u001b[0msubdata\u001b[0m\u001b[1;33m.\u001b[0m\u001b[0mC\u001b[0m\u001b[1;33m\u001b[0m\u001b[1;33m\u001b[0m\u001b[0m\n\u001b[1;32m---> 14\u001b[1;33m     \u001b[0mp\u001b[0m \u001b[1;33m=\u001b[0m \u001b[0mnp\u001b[0m\u001b[1;33m.\u001b[0m\u001b[0mpolyfit\u001b[0m\u001b[1;33m(\u001b[0m\u001b[0mx\u001b[0m\u001b[1;33m,\u001b[0m \u001b[0my\u001b[0m\u001b[1;33m,\u001b[0m \u001b[0mdeg\u001b[0m\u001b[1;33m)\u001b[0m\u001b[1;33m\u001b[0m\u001b[1;33m\u001b[0m\u001b[0m\n\u001b[0m\u001b[0;32m     15\u001b[0m     \u001b[0mxfit\u001b[0m \u001b[1;33m=\u001b[0m \u001b[0mnp\u001b[0m\u001b[1;33m.\u001b[0m\u001b[0mlinspace\u001b[0m\u001b[1;33m(\u001b[0m\u001b[1;36m0\u001b[0m\u001b[1;33m,\u001b[0m \u001b[0mx\u001b[0m\u001b[1;33m.\u001b[0m\u001b[0mmax\u001b[0m\u001b[1;33m(\u001b[0m\u001b[1;33m)\u001b[0m\u001b[1;33m,\u001b[0m \u001b[0mint\u001b[0m\u001b[1;33m(\u001b[0m\u001b[0mx\u001b[0m\u001b[1;33m.\u001b[0m\u001b[0mmax\u001b[0m\u001b[1;33m(\u001b[0m\u001b[1;33m)\u001b[0m\u001b[1;33m/\u001b[0m\u001b[0msparcity\u001b[0m\u001b[1;33m)\u001b[0m\u001b[1;33m)\u001b[0m\u001b[1;33m\u001b[0m\u001b[1;33m\u001b[0m\u001b[0m\n\u001b[0;32m     16\u001b[0m     \u001b[0myfit\u001b[0m \u001b[1;33m=\u001b[0m \u001b[0mnp\u001b[0m\u001b[1;33m.\u001b[0m\u001b[0mdot\u001b[0m\u001b[1;33m(\u001b[0m\u001b[0mpolyvander\u001b[0m\u001b[1;33m(\u001b[0m\u001b[0mxfit\u001b[0m\u001b[1;33m,\u001b[0m \u001b[0mdeg\u001b[0m\u001b[1;33m)\u001b[0m\u001b[1;33m,\u001b[0m \u001b[0mnp\u001b[0m\u001b[1;33m.\u001b[0m\u001b[0mflip\u001b[0m\u001b[1;33m(\u001b[0m\u001b[0mp\u001b[0m\u001b[1;33m)\u001b[0m\u001b[1;33m.\u001b[0m\u001b[0mtranspose\u001b[0m\u001b[1;33m(\u001b[0m\u001b[1;33m)\u001b[0m\u001b[1;33m)\u001b[0m\u001b[1;33m\u001b[0m\u001b[1;33m\u001b[0m\u001b[0m\n",
      "\u001b[1;32m<__array_function__ internals>\u001b[0m in \u001b[0;36mpolyfit\u001b[1;34m(*args, **kwargs)\u001b[0m\n",
      "\u001b[1;32mE:\\anaconda\\miniconda\\lib\\site-packages\\numpy\\lib\\polynomial.py\u001b[0m in \u001b[0;36mpolyfit\u001b[1;34m(x, y, deg, rcond, full, w, cov)\u001b[0m\n\u001b[0;32m    629\u001b[0m     \u001b[0mscale\u001b[0m \u001b[1;33m=\u001b[0m \u001b[0mNX\u001b[0m\u001b[1;33m.\u001b[0m\u001b[0msqrt\u001b[0m\u001b[1;33m(\u001b[0m\u001b[1;33m(\u001b[0m\u001b[0mlhs\u001b[0m\u001b[1;33m*\u001b[0m\u001b[0mlhs\u001b[0m\u001b[1;33m)\u001b[0m\u001b[1;33m.\u001b[0m\u001b[0msum\u001b[0m\u001b[1;33m(\u001b[0m\u001b[0maxis\u001b[0m\u001b[1;33m=\u001b[0m\u001b[1;36m0\u001b[0m\u001b[1;33m)\u001b[0m\u001b[1;33m)\u001b[0m\u001b[1;33m\u001b[0m\u001b[1;33m\u001b[0m\u001b[0m\n\u001b[0;32m    630\u001b[0m     \u001b[0mlhs\u001b[0m \u001b[1;33m/=\u001b[0m \u001b[0mscale\u001b[0m\u001b[1;33m\u001b[0m\u001b[1;33m\u001b[0m\u001b[0m\n\u001b[1;32m--> 631\u001b[1;33m     \u001b[0mc\u001b[0m\u001b[1;33m,\u001b[0m \u001b[0mresids\u001b[0m\u001b[1;33m,\u001b[0m \u001b[0mrank\u001b[0m\u001b[1;33m,\u001b[0m \u001b[0ms\u001b[0m \u001b[1;33m=\u001b[0m \u001b[0mlstsq\u001b[0m\u001b[1;33m(\u001b[0m\u001b[0mlhs\u001b[0m\u001b[1;33m,\u001b[0m \u001b[0mrhs\u001b[0m\u001b[1;33m,\u001b[0m \u001b[0mrcond\u001b[0m\u001b[1;33m)\u001b[0m\u001b[1;33m\u001b[0m\u001b[1;33m\u001b[0m\u001b[0m\n\u001b[0m\u001b[0;32m    632\u001b[0m     \u001b[0mc\u001b[0m \u001b[1;33m=\u001b[0m \u001b[1;33m(\u001b[0m\u001b[0mc\u001b[0m\u001b[1;33m.\u001b[0m\u001b[0mT\u001b[0m\u001b[1;33m/\u001b[0m\u001b[0mscale\u001b[0m\u001b[1;33m)\u001b[0m\u001b[1;33m.\u001b[0m\u001b[0mT\u001b[0m  \u001b[1;31m# broadcast scale coefficients\u001b[0m\u001b[1;33m\u001b[0m\u001b[1;33m\u001b[0m\u001b[0m\n\u001b[0;32m    633\u001b[0m \u001b[1;33m\u001b[0m\u001b[0m\n",
      "\u001b[1;32m<__array_function__ internals>\u001b[0m in \u001b[0;36mlstsq\u001b[1;34m(*args, **kwargs)\u001b[0m\n",
      "\u001b[1;32mE:\\anaconda\\miniconda\\lib\\site-packages\\numpy\\linalg\\linalg.py\u001b[0m in \u001b[0;36mlstsq\u001b[1;34m(a, b, rcond)\u001b[0m\n\u001b[0;32m   2257\u001b[0m         \u001b[1;31m# lapack can't handle n_rhs = 0 - so allocate the array one larger in that axis\u001b[0m\u001b[1;33m\u001b[0m\u001b[1;33m\u001b[0m\u001b[1;33m\u001b[0m\u001b[0m\n\u001b[0;32m   2258\u001b[0m         \u001b[0mb\u001b[0m \u001b[1;33m=\u001b[0m \u001b[0mzeros\u001b[0m\u001b[1;33m(\u001b[0m\u001b[0mb\u001b[0m\u001b[1;33m.\u001b[0m\u001b[0mshape\u001b[0m\u001b[1;33m[\u001b[0m\u001b[1;33m:\u001b[0m\u001b[1;33m-\u001b[0m\u001b[1;36m2\u001b[0m\u001b[1;33m]\u001b[0m \u001b[1;33m+\u001b[0m \u001b[1;33m(\u001b[0m\u001b[0mm\u001b[0m\u001b[1;33m,\u001b[0m \u001b[0mn_rhs\u001b[0m \u001b[1;33m+\u001b[0m \u001b[1;36m1\u001b[0m\u001b[1;33m)\u001b[0m\u001b[1;33m,\u001b[0m \u001b[0mdtype\u001b[0m\u001b[1;33m=\u001b[0m\u001b[0mb\u001b[0m\u001b[1;33m.\u001b[0m\u001b[0mdtype\u001b[0m\u001b[1;33m)\u001b[0m\u001b[1;33m\u001b[0m\u001b[1;33m\u001b[0m\u001b[0m\n\u001b[1;32m-> 2259\u001b[1;33m     \u001b[0mx\u001b[0m\u001b[1;33m,\u001b[0m \u001b[0mresids\u001b[0m\u001b[1;33m,\u001b[0m \u001b[0mrank\u001b[0m\u001b[1;33m,\u001b[0m \u001b[0ms\u001b[0m \u001b[1;33m=\u001b[0m \u001b[0mgufunc\u001b[0m\u001b[1;33m(\u001b[0m\u001b[0ma\u001b[0m\u001b[1;33m,\u001b[0m \u001b[0mb\u001b[0m\u001b[1;33m,\u001b[0m \u001b[0mrcond\u001b[0m\u001b[1;33m,\u001b[0m \u001b[0msignature\u001b[0m\u001b[1;33m=\u001b[0m\u001b[0msignature\u001b[0m\u001b[1;33m,\u001b[0m \u001b[0mextobj\u001b[0m\u001b[1;33m=\u001b[0m\u001b[0mextobj\u001b[0m\u001b[1;33m)\u001b[0m\u001b[1;33m\u001b[0m\u001b[1;33m\u001b[0m\u001b[0m\n\u001b[0m\u001b[0;32m   2260\u001b[0m     \u001b[1;32mif\u001b[0m \u001b[0mm\u001b[0m \u001b[1;33m==\u001b[0m \u001b[1;36m0\u001b[0m\u001b[1;33m:\u001b[0m\u001b[1;33m\u001b[0m\u001b[1;33m\u001b[0m\u001b[0m\n\u001b[0;32m   2261\u001b[0m         \u001b[0mx\u001b[0m\u001b[1;33m[\u001b[0m\u001b[1;33m...\u001b[0m\u001b[1;33m]\u001b[0m \u001b[1;33m=\u001b[0m \u001b[1;36m0\u001b[0m\u001b[1;33m\u001b[0m\u001b[1;33m\u001b[0m\u001b[0m\n",
      "\u001b[1;32mE:\\anaconda\\miniconda\\lib\\site-packages\\numpy\\linalg\\linalg.py\u001b[0m in \u001b[0;36m_raise_linalgerror_lstsq\u001b[1;34m(err, flag)\u001b[0m\n\u001b[0;32m    107\u001b[0m \u001b[1;33m\u001b[0m\u001b[0m\n\u001b[0;32m    108\u001b[0m \u001b[1;32mdef\u001b[0m \u001b[0m_raise_linalgerror_lstsq\u001b[0m\u001b[1;33m(\u001b[0m\u001b[0merr\u001b[0m\u001b[1;33m,\u001b[0m \u001b[0mflag\u001b[0m\u001b[1;33m)\u001b[0m\u001b[1;33m:\u001b[0m\u001b[1;33m\u001b[0m\u001b[1;33m\u001b[0m\u001b[0m\n\u001b[1;32m--> 109\u001b[1;33m     \u001b[1;32mraise\u001b[0m \u001b[0mLinAlgError\u001b[0m\u001b[1;33m(\u001b[0m\u001b[1;34m\"SVD did not converge in Linear Least Squares\"\u001b[0m\u001b[1;33m)\u001b[0m\u001b[1;33m\u001b[0m\u001b[1;33m\u001b[0m\u001b[0m\n\u001b[0m\u001b[0;32m    110\u001b[0m \u001b[1;33m\u001b[0m\u001b[0m\n\u001b[0;32m    111\u001b[0m \u001b[1;32mdef\u001b[0m \u001b[0mget_linalg_error_extobj\u001b[0m\u001b[1;33m(\u001b[0m\u001b[0mcallback\u001b[0m\u001b[1;33m)\u001b[0m\u001b[1;33m:\u001b[0m\u001b[1;33m\u001b[0m\u001b[1;33m\u001b[0m\u001b[0m\n",
      "\u001b[1;31mLinAlgError\u001b[0m: SVD did not converge in Linear Least Squares"
     ]
    },
    {
     "data": {
      "image/png": "[encoded data removed]",
      "text/plain": [
       "<Figure size 246.49x196.25 with 1 Axes>"
      ]
     },
     "metadata": {
      "needs_background": "light"
     },
     "output_type": "display_data"
    }
   ],
   "source": [
    "deg = 20 # degree of polynomial fitting\n",
    "sparcity = 4 # how sparce the data lines are, larger value means less points\n",
    "data = pd.read_csv(r'E:\\Google Drive\\Research projects\\DF\\Figures\\fig3-spatialCorr\\spatialCorr_crop.csv')\n",
    "mpp = 0.33\n",
    "count = 0\n",
    "lb = 3 # um\n",
    "\n",
    "fig = plt.figure()\n",
    "ax = fig.add_axes([0,0,1,1])\n",
    "for nt in data.conc.drop_duplicates():\n",
    "    subdata = data.loc[data.conc==nt]\n",
    "    x = subdata.R\n",
    "    y = subdata.C\n",
    "    p = np.polyfit(x, y, deg)\n",
    "    xfit = np.linspace(0, x.max(), int(x.max()/sparcity))\n",
    "    yfit = np.dot(polyvander(xfit, deg), np.flip(p).transpose())\n",
    "    ax.plot(xfit*mpp/lb, yfit, color=wowcolor(count), label=str(nt), ls='',\n",
    "            marker='o', markersize=2)\n",
    "    count += 1\n",
    "ax.legend()\n",
    "# plt.axis([0, 133, -0.2, 1.1])\n",
    "ax.set_xlabel('$l/l_b$')\n",
    "ax.set_ylabel('$C_{I}$')"
   ]
  },
  {
   "cell_type": "markdown",
   "metadata": {},
   "source": [
    "### 2.2 Orientation correlation\n",
    "\n",
    "**Combine seperate (R, C) data sheets into one (R, C, conc) data sheet**\n",
    "\n",
    "I originally saved $C_A$ and $C_V$ data at different concentrations in different files since save in one file requires recording duplicated concentration information. But this archetecture results in many files and information in file names which is even harder to manage and subject to accidental change. Thus here I combine them back into one file.\n",
    "\n",
    "<font color='red'><b>Comment to myself:</b></font> in the future, this data can be saved in better structure, such as h5 files. Explore!"
   ]
  },
  {
   "cell_type": "code",
   "execution_count": 108,
   "metadata": {},
   "outputs": [],
   "source": [
    "folder = r'E:\\Google Drive\\Research projects\\DF\\Figures\\fig3-spatialCorr'\n",
    "l = dirrec(folder, 'CA*')\n",
    "for num, d in enumerate(l):\n",
    "    subdata = pd.read_csv(d)\n",
    "    f, ne = os.path.split(d)\n",
    "    n = ne.split('.')[0]\n",
    "    conc = int(n[2:])\n",
    "    if num == 0:\n",
    "        data = subdata.assign(conc=conc)\n",
    "    else:\n",
    "        data = data.append(subdata.assign(conc=conc))"
   ]
  },
  {
   "cell_type": "code",
   "execution_count": 111,
   "metadata": {},
   "outputs": [],
   "source": [
    "data.to_csv(r'E:\\Google Drive\\Research projects\\DF\\Figures\\fig3-spatialCorr\\spatialCorrA.csv', index=False)"
   ]
  },
  {
   "cell_type": "code",
   "execution_count": 112,
   "metadata": {},
   "outputs": [],
   "source": [
    "folder = r'E:\\Google Drive\\Research projects\\DF\\Figures\\fig3-spatialCorr'\n",
    "l = dirrec(folder, 'CV*')\n",
    "for num, d in enumerate(l):\n",
    "    subdata = pd.read_csv(d)\n",
    "    f, ne = os.path.split(d)\n",
    "    n = ne.split('.')[0]\n",
    "    conc = int(n[2:])\n",
    "    if num == 0:\n",
    "        data = subdata.assign(conc=conc)\n",
    "    else:\n",
    "        data = data.append(subdata.assign(conc=conc))"
   ]
  },
  {
   "cell_type": "code",
   "execution_count": 114,
   "metadata": {},
   "outputs": [],
   "source": [
    "data.to_csv(r'E:\\Google Drive\\Research projects\\DF\\Figures\\fig3-spatialCorr\\spatialCorrV.csv', index=False)"
   ]
  },
  {
   "cell_type": "markdown",
   "metadata": {},
   "source": [
    "**Compute correlation lengths of orientation and velocity**"
   ]
  },
  {
   "cell_type": "code",
   "execution_count": 151,
   "metadata": {},
   "outputs": [],
   "source": [
    "data = pd.read_csv(r'E:\\Google Drive\\Research projects\\DF\\Figures\\fig3-spatialCorr\\spatialCorrA.csv')\n",
    "clA = []\n",
    "for nt in data.conc.drop_duplicates():\n",
    "    subdata = data.loc[data.conc==nt]\n",
    "    cl, fit = corr_length(subdata, fitting_range=1000)\n",
    "    clA.append(cl)"
   ]
  },
  {
   "cell_type": "code",
   "execution_count": 154,
   "metadata": {},
   "outputs": [],
   "source": [
    "data = pd.read_csv(r'E:\\Google Drive\\Research projects\\DF\\Figures\\fig3-spatialCorr\\spatialCorrV.csv')\n",
    "clV = []\n",
    "for nt in data.conc.drop_duplicates():\n",
    "    subdata = data.loc[data.conc==nt]\n",
    "    cl, fit = corr_length(subdata, fitting_range=1000)\n",
    "    clV.append(cl)"
   ]
  },
  {
   "cell_type": "markdown",
   "metadata": {},
   "source": [
    "**Plot correlation lengths together**"
   ]
  },
  {
   "cell_type": "code",
   "execution_count": 156,
   "metadata": {},
   "outputs": [
    {
     "data": {
      "text/plain": [
       "Text(0, 0.5, '$l_c/l_b$')"
      ]
     },
     "execution_count": 156,
     "metadata": {},
     "output_type": "execute_result"
    },
    {
     "data": {
      "image/png": "[encoded data removed]",
      "text/plain": [
       "<Figure size 246.49x196.25 with 1 Axes>"
      ]
     },
     "metadata": {
      "needs_background": "light"
     },
     "output_type": "display_data"
    }
   ],
   "source": [
    "lb = 3\n",
    "fig = plt.figure()\n",
    "ax = fig.add_axes([0,0,1,1])    \n",
    "n = [20, 40, 60, 80, 100]\n",
    "ax.plot(n, np.array(clI)*mpp/lb, ls='', marker='o', color=wowcolor(0),\n",
    "        markersize=2)\n",
    "ax.plot(n, np.array(clA)*mpp/lb, ls='', marker='>', color=wowcolor(1),\n",
    "        markersize=2)\n",
    "ax.plot(n, np.array(clV)*mpp/lb, ls='', marker='s', color=wowcolor(2),\n",
    "        markersize=2)\n",
    "ax.legend(['density', 'orientation', 'velocity'], loc='upper left')\n",
    "ax.set_xlabel('$n$ [n$_0$]')\n",
    "ax.set_ylabel('$l_c/l_b$')"
   ]
  },
  {
   "cell_type": "markdown",
   "metadata": {},
   "source": [
    "## 3. Compare spatial correlations and GNF"
   ]
  },
  {
   "cell_type": "code",
   "execution_count": 163,
   "metadata": {},
   "outputs": [
    {
     "data": {
      "image/png": "[encoded data removed]",
      "text/plain": [
       "<Figure size 246.49x196.25 with 2 Axes>"
      ]
     },
     "metadata": {},
     "output_type": "display_data"
    }
   ],
   "source": [
    "mpp = 0.33\n",
    "lb = 3 # um\n",
    "data = pd.read_csv(r'E:\\Google Drive\\Research projects\\DF\\Figures\\fig3-spatialCorr\\spatialCorr_crop.csv')\n",
    "cs = pd.read_csv(r'E:\\Google Drive\\Research projects\\DF\\Figures\\fig2-GNF\\conc-slope.csv')\n",
    "n = [20, 40, 60, 80, 100]\n",
    "\n",
    "fig, ax1 = plt.subplots()\n",
    "ax2 = ax1.twinx()\n",
    "\n",
    "color = wowcolor(0)\n",
    "ax1.plot(np.array(n), np.array(clI)*mpp/lb, ls='', marker='o', color=color,\n",
    "        markersize=2, lw='2')\n",
    "ax1.set_xlabel('$n$ [n$_0$]')\n",
    "ax1.set_ylabel('$l_I/l_b$', color=color)\n",
    "ax1.tick_params(axis='y', labelcolor=color)\n",
    "\n",
    "color = wowcolor(4)\n",
    "ax2.plot(cs.conc, cs.slope, ls='', marker='o', color=color,\n",
    "        markersize=2, lw='2')\n",
    "ax2.set_ylabel('$\\\\alpha$', color=color)\n",
    "ax2.tick_params(axis='y', labelcolor=color)"
   ]
  }
 ],
 "metadata": {
  "kernelspec": {
   "display_name": "Python 3",
   "language": "python",
   "name": "python3"
  },
  "language_info": {
   "codemirror_mode": {
    "name": "ipython",
    "version": 3
   },
   "file_extension": ".py",
   "mimetype": "text/x-python",
   "name": "python",
   "nbconvert_exporter": "python",
   "pygments_lexer": "ipython3",
   "version": "3.7.7"
  }
 },
 "nbformat": 4,
 "nbformat_minor": 2
}

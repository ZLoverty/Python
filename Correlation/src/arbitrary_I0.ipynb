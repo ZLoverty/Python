{
 "cells": [
  {
   "cell_type": "code",
   "execution_count": 3,
   "metadata": {},
   "outputs": [],
   "source": [
    "import numpy as np\n",
    "import pandas as pd\n",
    "import corrLib as cl\n",
    "from skimage import io"
   ]
  },
  {
   "cell_type": "markdown",
   "metadata": {},
   "source": [
    "I want to do an experiment to see if arbitrary choice of $I_0$ (when computing $\\nabla\\cdot(cn)$) affects the final result."
   ]
  },
  {
   "cell_type": "code",
   "execution_count": 5,
   "metadata": {},
   "outputs": [],
   "source": [
    "def div_field(img, pivData, winsize, step, I0):\n",
    "    # A function that calculates the divergence field\n",
    "    # img is the image from microscopy, pivData is a DataFrame with columns (x, y, u, v)\n",
    "    # winsize and step should be consistent with the parameters of pivData, be extra coutious!\n",
    "    \n",
    "    # preprocessing, bpass and match hist for raw image, convert intensity field to density field\n",
    "    \n",
    "    # return value: intensity field (subtracted from I0)\n",
    "    # bp = bpass(img, 3, 100)\n",
    "    # bp_mh = match_hist(bp, img)\n",
    "    # winsize = 10\n",
    "    # step = 10\n",
    "    X, Y, I = cl.divide_windows(img, windowsize=[winsize, winsize], step=step)\n",
    "    # concentration field\n",
    "    c = I0 - I\n",
    "    \n",
    "    # calculation for divcn and divcv\n",
    "    row, col = I.shape\n",
    "    vx = np.array(pivData.u).reshape(I.shape)\n",
    "    vy = np.array(pivData.v).reshape(I.shape)\n",
    "    v = (vx**2 + vy**2)**.5\n",
    "    nx = np.array(pivData.u / (pivData.u**2 + pivData.v**2)**.5).reshape(I.shape)\n",
    "    ny = np.array(pivData.v / (pivData.u**2 + pivData.v**2)**.5).reshape(I.shape)\n",
    "    cnx = c * nx\n",
    "    cny = c * ny\n",
    "    cvx = c * vx\n",
    "    cvy = c * vy\n",
    "    divcn = np.zeros(I.shape)\n",
    "    divcv = np.zeros(I.shape)\n",
    "    divv = np.zeros(I.shape)\n",
    "    for x in range(0, col-1):\n",
    "        for y in range(0, row-1):\n",
    "            divcn[y, x] = cnx[y,x+1] - cnx[y,x] + cny[y+1,x] - cny[y,x]\n",
    "            divcv[y, x] = cvx[y,x+1] - cvx[y,x] + cvy[y+1,x] - cvy[y,x]\n",
    "            divv[y, x] = vx[y,x+1] - vx[y,x] + vy[y+1,x] - vy[y,x]\n",
    "    return c, v, divcn, divcv, divv"
   ]
  },
  {
   "cell_type": "code",
   "execution_count": 11,
   "metadata": {},
   "outputs": [],
   "source": [
    "img = io.imread(r'E:\\moreData\\02042020\\80-1\\8-bit\\0000.tif')\n",
    "pivData = pd.read_csv(r'E:\\moreData\\02042020\\piv_result_50\\80-1\\0000-0001.csv')\n",
    "winsize = 50\n",
    "step = 25\n",
    "I0 = 500\n",
    "c, v, divcn1, divcv1, divv1 = div_field(img, pivData, winsize, step, I0)"
   ]
  },
  {
   "cell_type": "code",
   "execution_count": 10,
   "metadata": {},
   "outputs": [],
   "source": [
    "img = io.imread(r'E:\\moreData\\02042020\\80-1\\8-bit\\0000.tif')\n",
    "pivData = pd.read_csv(r'E:\\moreData\\02042020\\piv_result_50\\80-1\\0000-0001.csv')\n",
    "winsize = 50\n",
    "step = 25\n",
    "I0 = 600\n",
    "c, v, divcn2, divcv2, divv2 = div_field(img, pivData, winsize, step, I0)"
   ]
  },
  {
   "cell_type": "code",
   "execution_count": 12,
   "metadata": {},
   "outputs": [
    {
     "data": {
      "text/plain": [
       "array([[-6.22229065e+02, -1.45327647e+02,  2.06224227e+02, ...,\n",
       "         8.00722506e-02, -2.86687238e+01,  0.00000000e+00],\n",
       "       [-7.39404214e+02, -3.99909276e+02, -1.38188750e+02, ...,\n",
       "         2.25259470e+01, -1.76334059e+01,  0.00000000e+00],\n",
       "       [-2.79156637e+02, -1.97956177e+02,  2.03436649e+02, ...,\n",
       "         4.57879771e+01,  1.28438623e+02,  0.00000000e+00],\n",
       "       ...,\n",
       "       [-7.12750843e-01,  1.14384626e+02,  7.18312669e+01, ...,\n",
       "         7.54143309e+01,  1.91563977e+02,  0.00000000e+00],\n",
       "       [-5.35234868e+01,  9.75769463e+01,  1.07077730e+02, ...,\n",
       "         5.18551051e+01,  1.71655708e+02,  0.00000000e+00],\n",
       "       [ 0.00000000e+00,  0.00000000e+00,  0.00000000e+00, ...,\n",
       "         0.00000000e+00,  0.00000000e+00,  0.00000000e+00]])"
      ]
     },
     "execution_count": 12,
     "metadata": {},
     "output_type": "execute_result"
    }
   ],
   "source": [
    "divcn1"
   ]
  },
  {
   "cell_type": "code",
   "execution_count": 13,
   "metadata": {},
   "outputs": [
    {
     "data": {
      "text/plain": [
       "array([[-7.97204056e+02, -1.86539011e+02,  2.64152262e+02, ...,\n",
       "        -3.71591142e-01, -3.73085405e+01,  0.00000000e+00],\n",
       "       [-9.47933449e+02, -5.12949724e+02, -1.76986212e+02, ...,\n",
       "         2.84001120e+01, -2.31929909e+01,  0.00000000e+00],\n",
       "       [-3.58458740e+02, -2.54216453e+02,  2.61368613e+02, ...,\n",
       "         5.81095971e+01,  1.64272653e+02,  0.00000000e+00],\n",
       "       ...,\n",
       "       [-8.12390110e-01,  1.45934014e+02,  9.18239033e+01, ...,\n",
       "         9.56651272e+01,  2.43124686e+02,  0.00000000e+00],\n",
       "       [-6.85143635e+01,  1.24431617e+02,  1.36650818e+02, ...,\n",
       "         6.51399473e+01,  2.17618847e+02,  0.00000000e+00],\n",
       "       [ 0.00000000e+00,  0.00000000e+00,  0.00000000e+00, ...,\n",
       "         0.00000000e+00,  0.00000000e+00,  0.00000000e+00]])"
      ]
     },
     "execution_count": 13,
     "metadata": {},
     "output_type": "execute_result"
    }
   ],
   "source": [
    "divcn2"
   ]
  }
 ],
 "metadata": {
  "kernelspec": {
   "display_name": "Python 3",
   "language": "python",
   "name": "python3"
  },
  "language_info": {
   "codemirror_mode": {
    "name": "ipython",
    "version": 3
   },
   "file_extension": ".py",
   "mimetype": "text/x-python",
   "name": "python",
   "nbconvert_exporter": "python",
   "pygments_lexer": "ipython3",
   "version": "3.7.7"
  }
 },
 "nbformat": 4,
 "nbformat_minor": 4
}

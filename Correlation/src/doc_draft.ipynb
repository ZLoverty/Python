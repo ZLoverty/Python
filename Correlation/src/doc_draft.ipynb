{
 "cells": [
  {
   "cell_type": "markdown",
   "metadata": {},
   "source": [
    "# Figures for the giant number fluctuations project (DF)\n",
    "\n",
    "## General guidelines\n",
    "\n",
    "- This notebook contains finalized code for making the figures in the giant number fluctuations paper. Only two purposes of code should be kept: summary (summarizes batch data into a more condensed form) and plot (read data from data_summary spreadsheet, the sheet should locate in Google Drive\\corresponding research project folder\\data\\data_summary.xlsx).\n",
    "- Different figures will be organized under different sections (h2 title). Subfigures (panels) will be under subsections (h3 title). Each subsection should be self-complete, except importing packages.\n",
    "- Ideas and plans that haven't been implemented should be listed in the **Plan** block."
   ]
  },
  {
   "cell_type": "markdown",
   "metadata": {},
   "source": [
    "## <font color='blue'> Plans\n",
    "\n",
    "<font color='blue'>\n",
    "    \n",
    "- ..."
   ]
  },
  {
   "cell_type": "markdown",
   "metadata": {},
   "source": [
    "## Table of contents\n",
    "\n",
    "- Figure 1: experimental setup and images\n",
    "- Figure 2: spatial correlation functions and correlation lengths\n",
    "    - (a) velocity correlation\n",
    "    - (b) concentration correlation\n",
    "    - (c) correlation length\n",
    "    - (d) ratio between two correlation lengths\n",
    "- Figure 3: concentration dependence of $\\alpha$\n",
    "    - (a) standard deviation at various subsystem sizes\n",
    "    - (b) concentration dependence of $\\alpha$\n",
    "    - (c) concentration dependence of energy $E$\n",
    "- Figure 4: evolution\n",
    "    - (a) standard deviation during the onset of active turbulence\n",
    "    - (b) temporal evolution of $\\alpha$, $E$ and $OP$\n",
    "- Figure 5: local correlations between concentration fluctuations and flow energy - microscopic origin\n",
    "    - Inset: show two fields with high correlation at an instance\n",
    "- Figure 6: dimensionality effect\n",
    "    - (a) $\\alpha$ at different gap thickness\n",
    "    - (b) $E$ at different gap thickness\n",
    "- Figure 7: $\\alpha$ as a function of $E$\n",
    "- Figure 8: energy spectrum analysis\n",
    "    - (a) energy spectrum at various concentrations\n",
    "    - (b) $\\alpha$ and $\\beta$ (opposite of energy spectrum exponent) at various concentrations"
   ]
  }
 ],
 "metadata": {
  "kernelspec": {
   "display_name": "Python 3",
   "language": "python",
   "name": "python3"
  },
  "language_info": {
   "codemirror_mode": {
    "name": "ipython",
    "version": 3
   },
   "file_extension": ".py",
   "mimetype": "text/x-python",
   "name": "python",
   "nbconvert_exporter": "python",
   "pygments_lexer": "ipython3",
   "version": "3.7.3"
  }
 },
 "nbformat": 4,
 "nbformat_minor": 4
}

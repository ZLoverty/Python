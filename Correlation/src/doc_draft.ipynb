{
 "cells": [
  {
   "cell_type": "markdown",
   "metadata": {},
   "source": [
    "## Table of contents\n",
    "\n",
    "1. Concentration dependence\n",
    "    - Helper functions\n",
    "        - postprocess_gnf(gnf_data, lb, xlim=None, sparse=3)\n",
    "        - collapse_data(gnf_data_tuple, lb, xlim=None, sparse=3)\n",
    "        - prepare_multiple_data(dirs)\n",
    "        - plot_predictions(ax, key='M19')\n",
    "    - Plot concentration dependence using the functions defined above\n",
    "        - Plot $\\Delta N$ at various concentrations\n",
    "        - Plot slope $\\alpha$ as a funciton of concentration\n",
    "        - Some thoughts on the fitting range of $\\alpha$\n",
    "2. GNF kinetics (temporal evolution)\n",
    "    - Helper functions\n",
    "        - plot_std(k_data, seg_length, tlim=None, xlim=None, lb=10, mpp=0.33, fps=10, num_curves=5)\n",
    "        - plot_kinetics(k_data, i_data, tlim=None, xlim=None, lb=10, mpp=0.33, seg_length=100, fps=10)\n",
    "        - kinetics_from_light_on(data)\n",
    "        - plot_kinetics_eo(k_data, i_data, eo_data, tlim=None, xlim=None, lb=10, mpp=0.33, seg_length=100, fps=10)\n",
    "        - kinetics_eo_from_light_on(data)\n",
    "        - kinetics_eo_smooth(data)\n",
    "    - Plot kinetics using the function defined above\n",
    "    "
   ]
  }
 ],
 "metadata": {
  "kernelspec": {
   "display_name": "Python 3",
   "language": "python",
   "name": "python3"
  },
  "language_info": {
   "codemirror_mode": {
    "name": "ipython",
    "version": 3
   },
   "file_extension": ".py",
   "mimetype": "text/x-python",
   "name": "python",
   "nbconvert_exporter": "python",
   "pygments_lexer": "ipython3",
   "version": "3.7.7"
  }
 },
 "nbformat": 4,
 "nbformat_minor": 4
}

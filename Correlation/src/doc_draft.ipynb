{
 "cells": [
  {
   "cell_type": "markdown",
   "metadata": {},
   "source": [
    "## Table of contents\n",
    "\n",
    "1. Concentration dependence\n",
    "    - Helper functions\n",
    "        - postprocess_gnf(gnf_data, lb, xlim=None, sparse=3)\n",
    "        - collapse_data(gnf_data_tuple, lb, xlim=None, sparse=3)\n",
    "        - prepare_multiple_data(dirs)\n",
    "        - plot_predictions(ax, key='M19')\n",
    "    - Plot concentration dependence using the functions defined above\n",
    "        - Plot $\\Delta N$ at various concentrations\n",
    "        - Plot slope $\\alpha$ as a funciton of concentration\n",
    "        - Some thoughts on the fitting range of $\\alpha$\n",
    "2. GNF kinetics (temporal evolution)\n",
    "    - Helper functions\n",
    "        - plot_std(k_data, seg_length, tlim=None, xlim=None, lb=10, mpp=0.33, fps=10, num_curves=5)\n",
    "        - plot_kinetics(k_data, i_data, tlim=None, xlim=None, lb=10, mpp=0.33, seg_length=100, fps=10)\n",
    "        - kinetics_from_light_on(data)\n",
    "        - plot_kinetics_eo(k_data, i_data, eo_data, tlim=None, xlim=None, lb=10, mpp=0.33, seg_length=100, fps=10)\n",
    "        - kinetics_eo_from_light_on(data)\n",
    "        - kinetics_eo_smooth(data)\n",
    "    - Plot kinetics using the function defined above\n",
    "    "
   ]
  },
  {
   "cell_type": "markdown",
   "metadata": {},
   "source": [
    "## Table of contents\n",
    "\n",
    "- Figure 1: experimental setup and images\n",
    "    - (a) low concentration\n",
    "    - (b) low concentration with PIV overlay\n",
    "    - (c) high concentration\n",
    "    - (d) high concentration with PIV overlay\n",
    "    - (e) use data from August to draw new image and PIV\n",
    "- Figure 2: spatial correlation functions and correlation lengths\n",
    "    - (a) velocity correlation\n",
    "    - (b) concentration correlation\n",
    "    - (c) correlation length\n",
    "    - (d) ratio between two correlation lengths\n",
    "- Figure 3: concentration dependence of $\\alpha$\n",
    "    - (a) standard deviation at various subsystem sizes\n",
    "    - (b) concentration dependence of $\\alpha$\n",
    "    - (c) concentration dependence of energy $E$\n",
    "    - (d) concentration dependence of $OP$\n",
    "    - (e) plot $\\alpha$ and $E$ on the same axis\n",
    "- Figure 4: evolution\n",
    "    - (a) standard deviation during the onset of active turbulence\n",
    "    - (b) temporal evolution of $\\alpha$, $E$ and $OP$\n",
    "- Figure 5: local correlations between concentration fluctuations and flow energy - microscopic origin\n",
    "    - (a) Calculation illustration\n",
    "        - Starting from a image stack\n",
    "        - branch into coarse-grained image and PIV\n",
    "        - calculate E and LDF from the two branches\n",
    "        - calculate cross-correlation\n",
    "    - (b) Correlation as a function of volume fraction\n",
    "- Figure 6: dimensionality effect\n",
    "    - $\\alpha$ and $E$ at different gap thickness (twinx)\n",
    "- Figure 7: $\\alpha$ as a function of $E$\n",
    "- Figure 8: energy spectrum analysis\n",
    "    - (a) energy spectrum at various concentrations\n",
    "    - (b) $\\alpha$ and $\\beta$ (opposite of energy spectrum exponent) at various concentrations\n",
    "        - variation 1: $\\alpha$ and $\\beta$ as functions of volume fractions $\\phi$\n",
    "        - variation 2: $\\alpha$ vs. $\\beta$\n",
    "        - variation 3: $\\beta$ vs. $\\phi$\n",
    "    - (c) Energy $E$ and GNF $\\Delta N/\\sqrt N$ matching at all length scales\n",
    "        - steady state \n",
    "        - transient state\n",
    "    - (d) energy density at the limit k -> 0 (compare with simulation in [Bardfalvy 2019](https://pubs.rsc.org/en/content/articlelanding/2019/sm/c9sm00774a#!divAbstract))"
   ]
  }
 ],
 "metadata": {
  "kernelspec": {
   "display_name": "Python 3",
   "language": "python",
   "name": "python3"
  },
  "language_info": {
   "codemirror_mode": {
    "name": "ipython",
    "version": 3
   },
   "file_extension": ".py",
   "mimetype": "text/x-python",
   "name": "python",
   "nbconvert_exporter": "python",
   "pygments_lexer": "ipython3",
   "version": "3.7.7"
  }
 },
 "nbformat": 4,
 "nbformat_minor": 4
}

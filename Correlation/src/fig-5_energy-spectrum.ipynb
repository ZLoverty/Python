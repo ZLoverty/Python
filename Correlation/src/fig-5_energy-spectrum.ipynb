{
 "cells": [
  {
   "cell_type": "markdown",
   "metadata": {},
   "source": [
    "# Energy spectrum"
   ]
  },
  {
   "cell_type": "markdown",
   "metadata": {},
   "source": [
    "I calculate the energy spectrum of bacterial turbulence in this notebook. Energy spectrum quantifies the energy distribution over different length scales, $\\lambda=2\\pi/k$, where $k$ is the wavenumber. To obtain the energy spectrum, we first calculate the Fourier trransform of the 2D velocity field $v_x(x, y)$ and $v_y(x, y)$ to obtain $u_k(k_x, k_y)$ and $v_k(k_x, k_y)$. The point wise kinetic energy density in the k-space is then computed as $E(k_x, k_y) = \\langle u_k(k_x, k_y)u^*_k(k_x, k_y)+v_k(k_x, k_y)v_k^*(k_x, k_y)\\rangle/2$, where \\* represents the complex conjugate. Finally, the energy spectrum E(k) is obtained by summing up $E(k_x, k_y)$ at a constant $k=(k_x^2+k_y^2)^{1/2}$. "
   ]
  },
  {
   "cell_type": "markdown",
   "metadata": {},
   "source": [
    "An alternative way to calculate $E(k)$ is through the Fourier transform of the two-point velocity correlation function $\\langle v(r_0)\\cdot v(r_0+r)\\rangle_{r_0}$, which yields quantitatively similar results."
   ]
  },
  {
   "cell_type": "markdown",
   "metadata": {},
   "source": [
    "## 0 Packages"
   ]
  },
  {
   "cell_type": "code",
   "execution_count": 73,
   "metadata": {},
   "outputs": [],
   "source": [
    "import pandas as pd\n",
    "import numpy as np\n",
    "import matplotlib.pyplot as plt\n",
    "import os\n",
    "from corr_utils import *\n",
    "import typesetting.main as tm\n",
    "tm.prl('1-column-2-panel')\n",
    "from corrLib import *\n",
    "from scipy.integrate import *"
   ]
  },
  {
   "cell_type": "markdown",
   "metadata": {},
   "source": [
    "## 1 Fourier transform of velocity"
   ]
  },
  {
   "cell_type": "markdown",
   "metadata": {},
   "source": [
    "The Fourier transform of velocity field can be computed easily by using numpy built-in functions."
   ]
  },
  {
   "cell_type": "code",
   "execution_count": 3,
   "metadata": {},
   "outputs": [],
   "source": [
    "pivData = pd.read_csv(r'E:\\moreData\\08032020\\piv_imseq\\01\\3370-3371.csv')\n",
    "\n",
    "row = len(pivData.y.drop_duplicates())\n",
    "col = len(pivData.x.drop_duplicates())\n",
    "X = np.array(pivData.x).reshape((row, col))\n",
    "Y = np.array(pivData.y).reshape((row, col))\n",
    "U = np.array(pivData.u).reshape((row, col))\n",
    "V = np.array(pivData.v).reshape((row, col))"
   ]
  },
  {
   "cell_type": "code",
   "execution_count": 41,
   "metadata": {},
   "outputs": [],
   "source": [
    "u_fft = np.fft.fft2(U)\n",
    "v_fft = np.fft.fft2(V)"
   ]
  },
  {
   "cell_type": "markdown",
   "metadata": {},
   "source": [
    "Below is a preview of the fft of velocity field. Four corners correspond to low frequency signals, while center corresponds to high frequency signals. As is shown in the plot, low frequency signals has a higher amplitude than high frequency ones."
   ]
  },
  {
   "cell_type": "code",
   "execution_count": 48,
   "metadata": {},
   "outputs": [
    {
     "data": {
      "text/plain": [
       "array([[ 49.75101094 +0.j        , -15.3946356 -14.56790376j,\n",
       "        -19.49753969+16.63753231j, ...,  11.28355866-10.49896741j,\n",
       "        -19.49753969-16.63753231j, -15.3946356 +14.56790376j],\n",
       "       [ 23.80066498+24.29296321j, -19.03487601+10.30785201j,\n",
       "         12.18043519+30.88754103j, ...,  -3.75774708 -5.47832716j,\n",
       "         -8.80925393-17.56334819j,  -9.78714823-45.71156638j],\n",
       "       [-33.71580305+22.63697508j,  20.20779565 +3.75372541j,\n",
       "        -13.4063095 -17.73420009j, ...,   4.34103373 +1.34708612j,\n",
       "        -43.28393463 -0.7563777j ,  -8.36083839-20.46441436j],\n",
       "       ...,\n",
       "       [ 37.03983631+10.45404602j,   9.82805517 +5.73735434j,\n",
       "        -10.18426981 -0.22886776j, ...,   7.75130621 +1.63003111j,\n",
       "         -0.10648471 -1.99746498j,   9.28671027 +2.51463468j],\n",
       "       [-33.71580305-22.63697508j,  -8.36083839+20.46441436j,\n",
       "        -43.28393463 +0.7563777j , ...,   3.36052307 +5.70840367j,\n",
       "        -13.4063095 +17.73420009j,  20.20779565 -3.75372541j],\n",
       "       [ 23.80066498-24.29296321j,  -9.78714823+45.71156638j,\n",
       "         -8.80925393+17.56334819j, ...,   3.45963759-19.4615805j ,\n",
       "         12.18043519-30.88754103j, -19.03487601-10.30785201j]])"
      ]
     },
     "execution_count": 48,
     "metadata": {},
     "output_type": "execute_result"
    }
   ],
   "source": [
    "u_fft = np.fft.fft2(U*0.33, norm='ortho')\n",
    "u_fft"
   ]
  },
  {
   "cell_type": "code",
   "execution_count": 18,
   "metadata": {
    "scrolled": true
   },
   "outputs": [
    {
     "data": {
      "text/plain": [
       "<matplotlib.image.AxesImage at 0x13bf8d6df88>"
      ]
     },
     "execution_count": 18,
     "metadata": {},
     "output_type": "execute_result"
    },
    {
     "data": {
      "image/png": "[encoded data removed]",
      "text/plain": [
       "<Figure size 432x288 with 1 Axes>"
      ]
     },
     "metadata": {
      "needs_background": "light"
     },
     "output_type": "display_data"
    }
   ],
   "source": [
    "plt.imshow(u_ft.real)"
   ]
  },
  {
   "cell_type": "markdown",
   "metadata": {},
   "source": [
    "## 2 Compute point-wise kinetic energy density in k-space\n",
    "\n",
    "<font color='red'> I don't understand the meaning of the angle bracket $\\langle\\rangle$ in the formula of energy $E$. From what I understand, this $E$ is a point-wise energy and no spatial average is taken. What average is this?</font> It is an average over multiple image frames."
   ]
  },
  {
   "cell_type": "code",
   "execution_count": 96,
   "metadata": {},
   "outputs": [],
   "source": [
    "E = (u_fft * u_fft.conjugate() + v_fft * v_fft.conjugate()) / 2"
   ]
  },
  {
   "cell_type": "code",
   "execution_count": 121,
   "metadata": {},
   "outputs": [],
   "source": [
    "def compute_energy_density(pivData):\n",
    "    \"\"\"\n",
    "    Compute kinetic energy density in k space from piv data.\n",
    "    \n",
    "    Args:\n",
    "    pivData -- piv data\n",
    "    \n",
    "    Returns:\n",
    "    E -- kinetic energy field in k space\n",
    "    \n",
    "    Test:\n",
    "    pivData = pd.read_csv(r'E:\\moreData\\08032020\\piv_imseq\\01\\3370-3371.csv')\n",
    "    compute_energy_density(pivData)\n",
    "    \"\"\"\n",
    "    \n",
    "    row = len(pivData.y.drop_duplicates())\n",
    "    col = len(pivData.x.drop_duplicates())\n",
    "\n",
    "    U = np.array(pivData.u).reshape((row, col))\n",
    "    V = np.array(pivData.v).reshape((row, col))\n",
    "    \n",
    "    u_fft = np.fft.fft2(U)\n",
    "    v_fft = np.fft.fft2(V)\n",
    "    \n",
    "    E = (u_fft * u_fft.conjugate() + v_fft * v_fft.conjugate()) / 2\n",
    "    \n",
    "    return E"
   ]
  },
  {
   "cell_type": "code",
   "execution_count": 122,
   "metadata": {},
   "outputs": [
    {
     "data": {
      "text/plain": [
       "array([[8.82584565e+07+0.j, 1.70565208e+08+0.j, 3.68561469e+07+0.j, ...,\n",
       "        1.41594659e+07+0.j, 3.68561469e+07+0.j, 1.70565208e+08+0.j],\n",
       "       [1.63658336e+08+0.j, 2.94427646e+07+0.j, 8.69557584e+07+0.j, ...,\n",
       "        5.71590726e+07+0.j, 2.57775832e+07+0.j, 1.04051077e+08+0.j],\n",
       "       [5.85742300e+07+0.j, 2.63654794e+07+0.j, 2.68530100e+07+0.j, ...,\n",
       "        2.57109177e+07+0.j, 1.01935099e+08+0.j, 8.71585781e+07+0.j],\n",
       "       ...,\n",
       "       [5.34223042e+07+0.j, 3.60180055e+07+0.j, 2.11529533e+07+0.j, ...,\n",
       "        5.62385163e+07+0.j, 2.96305009e+07+0.j, 9.06512456e+06+0.j],\n",
       "       [5.85742300e+07+0.j, 8.71585781e+07+0.j, 1.01935099e+08+0.j, ...,\n",
       "        1.34906964e+07+0.j, 2.68530100e+07+0.j, 2.63654794e+07+0.j],\n",
       "       [1.63658336e+08+0.j, 1.04051077e+08+0.j, 2.57775832e+07+0.j, ...,\n",
       "        3.66170161e+07+0.j, 8.69557584e+07+0.j, 2.94427646e+07+0.j]])"
      ]
     },
     "execution_count": 122,
     "metadata": {},
     "output_type": "execute_result"
    }
   ],
   "source": [
    "pivData = pd.read_csv(r'E:\\moreData\\08032020\\piv_imseq\\01\\3370-3371.csv')\n",
    "compute_energy_density(pivData)"
   ]
  },
  {
   "cell_type": "markdown",
   "metadata": {},
   "source": [
    "**Compute $k$ field**\n",
    "\n",
    "- In DFT, $k$ field is computed separately from the Fourier transform. Knowledge of sampling interval (or distance between adjacent sample) is required. \n",
    "\n",
    "- The resulting $k$ has unit of inverse sampling interval unit. For example, if sampling interval unit is um, unit of $k$ is um$^{-1}$.\n",
    "\n",
    "- Higher sampling interval leads to lower k."
   ]
  },
  {
   "cell_type": "code",
   "execution_count": 102,
   "metadata": {},
   "outputs": [
    {
     "name": "stdout",
     "output_type": "stream",
     "text": [
      "sampling interval is 1: [ 0.   0.2  0.4 -0.4 -0.2]\n",
      "sampling interval is 10: [ 0.    0.02  0.04 -0.04 -0.02]\n"
     ]
    }
   ],
   "source": [
    "print('sampling interval is 1: ' + str(np.fft.fftfreq(5, 1)))\n",
    "print('sampling interval is 10: ' + str(np.fft.fftfreq(5, 10)))"
   ]
  },
  {
   "cell_type": "code",
   "execution_count": null,
   "metadata": {},
   "outputs": [],
   "source": []
  },
  {
   "cell_type": "markdown",
   "metadata": {},
   "source": [
    "## 3 Wavenumber magnitude field\n",
    "\n",
    "In order to apply the isotropic assumption, we need to generate a wavenumber $k$ field (magnitude), in correspondance with the fft field. For example, for a 5-by-5 fft field, the corresponding $k_x$ field is\n",
    "$$\\begin{matrix}\n",
    "0 & 1 & 2 & -2 & -1 \\\\\n",
    "0 & 1 & 2 & -2 & -1 \\\\\n",
    "0 & 1 & 2 & -2 & -1 \\\\\n",
    "0 & 1 & 2 & -2 & -1 \\\\\n",
    "0 & 1 & 2 & -2 & -1 \\\\\n",
    "\\end{matrix}\n",
    "$$\n",
    "the corresponding $k_y$ field is:\n",
    "$$\\begin{matrix}\n",
    "0 & 0 & 0 & 0 & 0 \\\\\n",
    "1 & 1 & 1 & 1 & 1 \\\\\n",
    "2 & 2 & 2 & 2 & 2 \\\\\n",
    "-2 & -2 & -2 & -2 & -2 \\\\\n",
    "-1 & -1 & -1 & -1 & -1 \\\\\n",
    "\\end{matrix}\n",
    "$$"
   ]
  },
  {
   "cell_type": "code",
   "execution_count": 24,
   "metadata": {},
   "outputs": [
    {
     "data": {
      "text/plain": [
       "array([ 0. ,  0.2,  0.4, -0.4, -0.2])"
      ]
     },
     "execution_count": 24,
     "metadata": {},
     "output_type": "execute_result"
    }
   ],
   "source": [
    "np.fft.fftfreq(5, d=1)"
   ]
  },
  {
   "cell_type": "code",
   "execution_count": 25,
   "metadata": {},
   "outputs": [],
   "source": [
    "def compute_wavenumber_field(shape, d):\n",
    "    \"\"\"\n",
    "    Compute the wave number field Kx and Ky, and magnitude field k. \n",
    "    Note that this function works for even higher dimensional shape.\n",
    "    \n",
    "    Args:\n",
    "    shape -- shape of the velocity field and velocity fft field, tuple\n",
    "    d -- sample spacing. This is the distance between adjacent samples, for example, velocities in PIV. \n",
    "        The resulting frequency space has the unit which is inverse of the unit of d. The preferred unit of d is um.\n",
    "    \n",
    "    Returns:\n",
    "    k -- wavenumber magnitude field\n",
    "    K -- wavenumber fields in given dimensions\n",
    "    \n",
    "    Test:\n",
    "    shape = (5, 5)\n",
    "    k, K = compute_wavenumber_field(shape, 0.2)\n",
    "    \"\"\"\n",
    "    \n",
    "    for num, length in enumerate(shape):\n",
    "        kx = np.fft.fftfreq(length, d=d)\n",
    "        if num == 0:            \n",
    "            k = (kx,)\n",
    "        else:\n",
    "            k += (kx,)\n",
    "        \n",
    "    K = np.meshgrid(*k, indexing='ij')\n",
    "    \n",
    "    for num, k1 in enumerate(K):\n",
    "        if num == 0:\n",
    "            ksq = k1 ** 2\n",
    "        else:\n",
    "            ksq += k1 ** 2\n",
    "    \n",
    "    k_mag = ksq ** 0.5\n",
    "    \n",
    "    return k_mag, K"
   ]
  },
  {
   "cell_type": "code",
   "execution_count": 29,
   "metadata": {},
   "outputs": [],
   "source": [
    "shape = (5, 5)\n",
    "k, K = compute_wavenumber_field(shape, 0.2)"
   ]
  },
  {
   "cell_type": "code",
   "execution_count": 30,
   "metadata": {},
   "outputs": [
    {
     "data": {
      "text/plain": [
       "[array([[ 0.,  0.,  0.,  0.,  0.],\n",
       "        [ 1.,  1.,  1.,  1.,  1.],\n",
       "        [ 2.,  2.,  2.,  2.,  2.],\n",
       "        [-2., -2., -2., -2., -2.],\n",
       "        [-1., -1., -1., -1., -1.]]), array([[ 0.,  1.,  2., -2., -1.],\n",
       "        [ 0.,  1.,  2., -2., -1.],\n",
       "        [ 0.,  1.,  2., -2., -1.],\n",
       "        [ 0.,  1.,  2., -2., -1.],\n",
       "        [ 0.,  1.,  2., -2., -1.]])]"
      ]
     },
     "execution_count": 30,
     "metadata": {},
     "output_type": "execute_result"
    }
   ],
   "source": [
    "K"
   ]
  },
  {
   "cell_type": "markdown",
   "metadata": {},
   "source": [
    "**Test unit of wavenumber field**\n",
    "\n",
    "I use the numpy built-in fft methods to calculate the Fourier transform of velocity field. The frequency or wavenumber field is also given by the numpy functions. However, I don't know yet what is the unit of the wavenumber field that is given to me by the built-in function. Here, I do a small test using a sin wave and the result should tell me the wave number. "
   ]
  },
  {
   "cell_type": "code",
   "execution_count": 105,
   "metadata": {},
   "outputs": [
    {
     "data": {
      "text/plain": [
       "[<matplotlib.lines.Line2D at 0x220d1a8cf60>]"
      ]
     },
     "execution_count": 105,
     "metadata": {},
     "output_type": "execute_result"
    },
    {
     "data": {
      "image/png": "[encoded data removed]",
      "text/plain": [
       "<Figure size 314x250 with 1 Axes>"
      ]
     },
     "metadata": {
      "needs_background": "light"
     },
     "output_type": "display_data"
    }
   ],
   "source": [
    "plt.figure(dpi=200)\n",
    "x = np.linspace(-25, 25)\n",
    "y = np.cos(x)\n",
    "fft = np.fft.fft(y)\n",
    "freq = np.fft.fftfreq(50, 1)\n",
    "plt.plot(x, y)"
   ]
  },
  {
   "cell_type": "code",
   "execution_count": 106,
   "metadata": {},
   "outputs": [
    {
     "data": {
      "text/plain": [
       "Text(0, 0.5, 'amp')"
      ]
     },
     "execution_count": 106,
     "metadata": {},
     "output_type": "execute_result"
    },
    {
     "data": {
      "image/png": "[encoded data removed]",
      "text/plain": [
       "<Figure size 314x250 with 1 Axes>"
      ]
     },
     "metadata": {
      "needs_background": "light"
     },
     "output_type": "display_data"
    }
   ],
   "source": [
    "plt.figure(dpi=200)\n",
    "plt.plot(freq, fft)\n",
    "plt.xlabel('freq')\n",
    "plt.ylabel('amp')"
   ]
  },
  {
   "cell_type": "code",
   "execution_count": 52,
   "metadata": {},
   "outputs": [
    {
     "data": {
      "text/plain": [
       "[<matplotlib.lines.Line2D at 0x220cea45d30>]"
      ]
     },
     "execution_count": 52,
     "metadata": {},
     "output_type": "execute_result"
    },
    {
     "data": {
      "image/png": "[encoded data removed]",
      "text/plain": [
       "<Figure size 314x250 with 1 Axes>"
      ]
     },
     "metadata": {
      "needs_background": "light"
     },
     "output_type": "display_data"
    }
   ],
   "source": [
    "plt.figure(dpi=200)\n",
    "plt.plot(freq)"
   ]
  },
  {
   "cell_type": "markdown",
   "metadata": {},
   "source": [
    "The highest peaks are at $\\pm 0.15$, as shown in the figure below.\n",
    "<img src='temp_data\\FFTfreq.jpg'>"
   ]
  },
  {
   "cell_type": "markdown",
   "metadata": {},
   "source": [
    "The real period of the cos function $f(x) = cos(x)$ is $2\\pi$. The corresponding frequency is $1/2\\pi = 0.159$, very close to 0.15. Thus, the default np.fft.fftfreq() function returns the \"frequency\". This frequency measures how many wave period there can be in one unit length, so it is equivalent to \"wavenumber\"."
   ]
  },
  {
   "cell_type": "code",
   "execution_count": null,
   "metadata": {},
   "outputs": [],
   "source": []
  },
  {
   "cell_type": "markdown",
   "metadata": {},
   "source": [
    "## 4 Plot $E$ as a function of $k$"
   ]
  },
  {
   "cell_type": "code",
   "execution_count": 104,
   "metadata": {},
   "outputs": [],
   "source": [
    "shape = E.shape\n",
    "k, K = compute_wavenumber_field(shape)"
   ]
  },
  {
   "cell_type": "code",
   "execution_count": 106,
   "metadata": {},
   "outputs": [],
   "source": [
    "ind = np.argsort(k.flatten())"
   ]
  },
  {
   "cell_type": "code",
   "execution_count": 111,
   "metadata": {},
   "outputs": [],
   "source": [
    "k_plot = k.flatten()[ind]\n",
    "E_plot = E.real.flatten()[ind]"
   ]
  },
  {
   "cell_type": "code",
   "execution_count": 120,
   "metadata": {},
   "outputs": [
    {
     "data": {
      "text/plain": [
       "[]"
      ]
     },
     "execution_count": 120,
     "metadata": {},
     "output_type": "execute_result"
    },
    {
     "data": {
      "image/png": "[encoded data removed]",
      "text/plain": [
       "<Figure size 246.49x196.25 with 1 Axes>"
      ]
     },
     "metadata": {
      "needs_background": "light"
     },
     "output_type": "display_data"
    }
   ],
   "source": [
    "plt.plot(k_plot, E_plot, marker='o', ls='', markersize=1)\n",
    "plt.loglog()"
   ]
  },
  {
   "cell_type": "code",
   "execution_count": 113,
   "metadata": {},
   "outputs": [
    {
     "data": {
      "text/plain": [
       "32.64965543462902"
      ]
     },
     "execution_count": 113,
     "metadata": {},
     "output_type": "execute_result"
    }
   ],
   "source": [
    "(21**2+25**2)**0.5"
   ]
  },
  {
   "cell_type": "markdown",
   "metadata": {},
   "source": [
    "## 5 Energy spectrum function"
   ]
  },
  {
   "cell_type": "code",
   "execution_count": 123,
   "metadata": {},
   "outputs": [],
   "source": [
    "def energy_spectrum(pivData, d=25*0.33):\n",
    "    \"\"\"\n",
    "    Compute energy spectrum (E vs k) from pivData.\n",
    "    \n",
    "    Args:\n",
    "    pivData -- piv data\n",
    "    d -- sample spacing. This is the distance between adjacent samples, for example, velocities in PIV. \n",
    "        The resulting frequency space has the unit which is inverse of the unit of d. The default unit of d is um.\n",
    "    \n",
    "    Returns:\n",
    "    es -- energy spectrum, DataFrame (k, E)\n",
    "    \n",
    "    Edit:\n",
    "    10192020 -- add argument d as sample spacing\n",
    "    \"\"\"\n",
    "    \n",
    "    E = compute_energy_density(pivData)\n",
    "    k, K = compute_wavenumber_field(E.shape, d)\n",
    "    \n",
    "    ind = np.argsort(k.flatten())\n",
    "    k_plot = k.flatten()[ind]\n",
    "    E_plot = E.real.flatten()[ind]\n",
    "    \n",
    "    es = pd.DataFrame(data={'k': k_plot, 'E': E_plot})\n",
    "    \n",
    "    return es"
   ]
  },
  {
   "cell_type": "code",
   "execution_count": 125,
   "metadata": {
    "scrolled": true
   },
   "outputs": [
    {
     "name": "stdout",
     "output_type": "stream",
     "text": [
      "Wall time: 4 ms\n"
     ]
    },
    {
     "data": {
      "text/html": [
       "<div>\n",
       "<style scoped>\n",
       "    .dataframe tbody tr th:only-of-type {\n",
       "        vertical-align: middle;\n",
       "    }\n",
       "\n",
       "    .dataframe tbody tr th {\n",
       "        vertical-align: top;\n",
       "    }\n",
       "\n",
       "    .dataframe thead th {\n",
       "        text-align: right;\n",
       "    }\n",
       "</style>\n",
       "<table border=\"1\" class=\"dataframe\">\n",
       "  <thead>\n",
       "    <tr style=\"text-align: right;\">\n",
       "      <th></th>\n",
       "      <th>k</th>\n",
       "      <th>E</th>\n",
       "    </tr>\n",
       "  </thead>\n",
       "  <tbody>\n",
       "    <tr>\n",
       "      <th>0</th>\n",
       "      <td>0.000000</td>\n",
       "      <td>8.825846e+07</td>\n",
       "    </tr>\n",
       "    <tr>\n",
       "      <th>1</th>\n",
       "      <td>0.000000</td>\n",
       "      <td>1.636583e+08</td>\n",
       "    </tr>\n",
       "    <tr>\n",
       "      <th>2</th>\n",
       "      <td>0.000000</td>\n",
       "      <td>1.705652e+08</td>\n",
       "    </tr>\n",
       "    <tr>\n",
       "      <th>3</th>\n",
       "      <td>0.000000</td>\n",
       "      <td>2.944276e+07</td>\n",
       "    </tr>\n",
       "    <tr>\n",
       "      <th>4</th>\n",
       "      <td>1.000000</td>\n",
       "      <td>8.695576e+07</td>\n",
       "    </tr>\n",
       "    <tr>\n",
       "      <th>...</th>\n",
       "      <td>...</td>\n",
       "      <td>...</td>\n",
       "    </tr>\n",
       "    <tr>\n",
       "      <th>2095</th>\n",
       "      <td>30.610456</td>\n",
       "      <td>9.544344e+03</td>\n",
       "    </tr>\n",
       "    <tr>\n",
       "      <th>2096</th>\n",
       "      <td>31.240999</td>\n",
       "      <td>6.593195e+03</td>\n",
       "    </tr>\n",
       "    <tr>\n",
       "      <th>2097</th>\n",
       "      <td>31.240999</td>\n",
       "      <td>1.921320e+03</td>\n",
       "    </tr>\n",
       "    <tr>\n",
       "      <th>2098</th>\n",
       "      <td>31.240999</td>\n",
       "      <td>1.842301e+04</td>\n",
       "    </tr>\n",
       "    <tr>\n",
       "      <th>2099</th>\n",
       "      <td>31.240999</td>\n",
       "      <td>3.360666e+03</td>\n",
       "    </tr>\n",
       "  </tbody>\n",
       "</table>\n",
       "<p>2100 rows × 2 columns</p>\n",
       "</div>"
      ],
      "text/plain": [
       "              k             E\n",
       "0      0.000000  8.825846e+07\n",
       "1      0.000000  1.636583e+08\n",
       "2      0.000000  1.705652e+08\n",
       "3      0.000000  2.944276e+07\n",
       "4      1.000000  8.695576e+07\n",
       "...         ...           ...\n",
       "2095  30.610456  9.544344e+03\n",
       "2096  31.240999  6.593195e+03\n",
       "2097  31.240999  1.921320e+03\n",
       "2098  31.240999  1.842301e+04\n",
       "2099  31.240999  3.360666e+03\n",
       "\n",
       "[2100 rows x 2 columns]"
      ]
     },
     "execution_count": 125,
     "metadata": {},
     "output_type": "execute_result"
    }
   ],
   "source": [
    "%%time\n",
    "energy_spectrum(pivData)"
   ]
  },
  {
   "cell_type": "markdown",
   "metadata": {},
   "source": [
    "**An alternative way to calculate energy spectrum**\n",
    "\n",
    "By virtue of the Wiener-Khinchine theorem, energy spectrum $E(k)$ can be estimated by Fourier transformation of the equal-time two-point velocity correlation function, yielding\n",
    "$$\n",
    "E_d(k)=\\frac{k^{d-1}}{C_d}\\int d^d R e^{-ikR} \\langle v(t, r)\\cdot v(t, r+R)\\rangle\n",
    "$$\n",
    "where $C_2=2\\pi$ and $C_3=4\\pi$.\n",
    "\n",
    "Wensink (2012)"
   ]
  },
  {
   "cell_type": "markdown",
   "metadata": {},
   "source": [
    "In two dimensions, the formula becomes \n",
    "$$\n",
    "E(k)=\\frac{k}{2\\pi}\\int d^2 R e^{-ikR} \\langle v(t, r)\\cdot v(t, r+R)\\rangle\n",
    "$$"
   ]
  },
  {
   "cell_type": "code",
   "execution_count": 21,
   "metadata": {},
   "outputs": [
    {
     "data": {
      "text/plain": [
       "[]"
      ]
     },
     "execution_count": 21,
     "metadata": {},
     "output_type": "execute_result"
    },
    {
     "data": {
      "image/png": "[encoded data removed]",
      "text/plain": [
       "<Figure size 628x500 with 1 Axes>"
      ]
     },
     "metadata": {
      "needs_background": "light"
     },
     "output_type": "display_data"
    }
   ],
   "source": [
    "pivData = pd.read_csv(r'D:\\density_fluctuations\\08032020\\piv_imseq\\08\\3000-3001.csv')\n",
    "\n",
    "row = len(pivData.y.drop_duplicates())\n",
    "col = len(pivData.x.drop_duplicates())\n",
    "X = np.array(pivData.x).reshape((row, col))\n",
    "Y = np.array(pivData.y).reshape((row, col))\n",
    "U = np.array(pivData.u).reshape((row, col))\n",
    "V = np.array(pivData.v).reshape((row, col))\n",
    "\n",
    "XS, YS, CA, CV = corrS(X, Y, U, V)\n",
    "\n",
    "k, K = compute_wavenumber_field(XS.shape, 25*0.33)\n",
    "\n",
    "\n",
    "\n",
    "E = k / 2 / np.pi * np.fft.fft2(CV)\n",
    "\n",
    "ind = np.argsort(k.flatten())\n",
    "k_plot = k.flatten()[ind]\n",
    "E_plot = E.real.flatten()[ind]\n",
    "\n",
    "plt.figure(dpi=400)\n",
    "plt.plot(k_plot*3, E_plot)\n",
    "plt.loglog()"
   ]
  },
  {
   "cell_type": "code",
   "execution_count": 23,
   "metadata": {},
   "outputs": [
    {
     "data": {
      "text/plain": [
       "array([[ 0.00000000e+00+0.00000000e+00j,  9.28769952e-03+5.75431024e-03j,\n",
       "         2.79509861e-03-5.87231229e-03j, -4.81154482e-04-5.37369876e-03j,\n",
       "         5.40353853e-04-5.60322577e-03j,  1.99306348e-03-4.94577371e-03j,\n",
       "         1.58405367e-03-4.89606579e-03j,  3.15004521e-03-3.90271464e-03j,\n",
       "         3.72348206e-03-3.37227758e-03j,  4.49688924e-03-2.81821807e-03j,\n",
       "         4.67650355e-03-2.44608618e-03j,  5.55288840e-03-1.34756678e-03j,\n",
       "         6.16021473e-03-5.17867476e-04j,  6.16021473e-03+5.17867476e-04j,\n",
       "         5.55288840e-03+1.34756678e-03j,  4.67650355e-03+2.44608618e-03j,\n",
       "         4.49688924e-03+2.81821807e-03j,  3.72348206e-03+3.37227758e-03j,\n",
       "         3.15004521e-03+3.90271464e-03j,  1.58405367e-03+4.89606579e-03j,\n",
       "         1.99306348e-03+4.94577371e-03j,  5.40353853e-04+5.60322577e-03j,\n",
       "        -4.81154482e-04+5.37369876e-03j,  2.79509861e-03+5.87231229e-03j,\n",
       "         9.28769952e-03-5.75431024e-03j],\n",
       "       [ 1.82675882e-02+8.55448288e-04j, -1.02347516e-03-1.20151918e-02j,\n",
       "        -1.42192440e-02-1.99463400e-02j, -1.18449911e-02-1.39364734e-02j,\n",
       "        -5.59925785e-03-1.48357801e-02j, -5.34060882e-03-1.47570524e-02j,\n",
       "        -2.28560783e-03-1.58804820e-02j, -1.65461409e-03-1.63900059e-02j,\n",
       "         1.05772863e-03-1.62700053e-02j,  2.45476447e-03-1.61365821e-02j,\n",
       "         4.86189323e-03-1.66485156e-02j,  7.03475542e-03-1.69252774e-02j,\n",
       "         9.82840669e-03-1.64272190e-02j,  1.17008521e-02-1.51080273e-02j,\n",
       "         1.27346665e-02-1.28403816e-02j,  1.34293885e-02-1.00570848e-02j,\n",
       "         1.29560287e-02-8.15478649e-03j,  1.32559579e-02-5.96607234e-03j,\n",
       "         1.44241572e-02-5.55131740e-03j,  1.36415435e-02-2.63482479e-03j,\n",
       "         1.38130033e-02-1.21610413e-03j,  1.27613676e-02-1.91367201e-04j,\n",
       "         1.47368264e-02+2.56092882e-03j,  1.89330006e-02-6.18212866e-03j,\n",
       "         3.84243957e-02-2.75943699e-03j],\n",
       "       [-3.03249367e-03-2.07946095e-02j, -3.74638540e-03-1.13070663e-02j,\n",
       "        -7.32018575e-03-1.68371272e-02j, -4.79789356e-03-1.00744700e-02j,\n",
       "        -4.77901540e-03-1.07264031e-02j, -3.98921795e-03-9.23529726e-03j,\n",
       "        -2.18867728e-03-9.98669473e-03j, -1.56625264e-03-1.13012683e-02j,\n",
       "         3.20988167e-04-1.04779279e-02j,  1.44740386e-03-1.07190220e-02j,\n",
       "         2.93341077e-03-1.08979389e-02j,  4.25738113e-03-1.13408447e-02j,\n",
       "         6.00452647e-03-1.13883177e-02j,  7.46131238e-03-1.04182402e-02j,\n",
       "         8.07176389e-03-8.83322641e-03j,  8.55192495e-03-7.37603917e-03j,\n",
       "         8.90930088e-03-6.11808606e-03j,  9.64880107e-03-4.78784621e-03j,\n",
       "         1.00775148e-02-3.78541809e-03j,  1.04970540e-02-2.99669473e-03j,\n",
       "         1.09651661e-02-1.43857203e-03j,  1.34009636e-02-4.48080696e-04j,\n",
       "         1.30253808e-02+1.95536092e-03j,  1.82867547e-02-2.55604912e-03j,\n",
       "         2.28483434e-02+7.92433669e-03j],\n",
       "       [ 2.48983449e-03-1.74472097e-02j, -1.52359668e-03-1.17748693e-02j,\n",
       "        -6.41215332e-03-1.49378527e-02j, -3.46166483e-03-8.41140590e-03j,\n",
       "        -3.06960120e-03-6.37827416e-03j, -2.17538938e-03-6.51901919e-03j,\n",
       "        -9.71243129e-04-6.67949779e-03j, -8.11646517e-05-6.82203657e-03j,\n",
       "         4.57724157e-04-6.63925134e-03j,  1.30030678e-03-6.65890803e-03j,\n",
       "         2.10137814e-03-6.57404583e-03j,  3.09657712e-03-6.82306365e-03j,\n",
       "         4.21095605e-03-6.72470570e-03j,  4.96440659e-03-6.11195094e-03j,\n",
       "         5.36122446e-03-5.07284572e-03j,  5.73751386e-03-4.17028195e-03j,\n",
       "         6.05118746e-03-3.32095632e-03j,  6.30066875e-03-2.50842986e-03j,\n",
       "         6.75186358e-03-1.84961608e-03j,  7.17962615e-03-1.36376621e-03j,\n",
       "         7.23181401e-03-2.08587141e-04j,  8.64088303e-03-5.70012274e-04j,\n",
       "         9.66888964e-03+9.72255737e-04j,  1.48540369e-02+7.86889573e-04j,\n",
       "         4.97090736e-03-3.02167915e-03j],\n",
       "       [ 4.99259698e-03-1.36384196e-02j, -7.12539965e-04-1.02741508e-02j,\n",
       "        -3.43324324e-03-1.35562879e-02j, -2.30122962e-03-7.72786786e-03j,\n",
       "        -9.46297423e-04-6.57697599e-03j, -1.33608855e-03-5.93202664e-03j,\n",
       "        -8.56463039e-04-5.33471951e-03j,  3.21723495e-04-5.01007105e-03j,\n",
       "         7.54595668e-04-4.92206253e-03j,  1.27121299e-03-5.07097617e-03j,\n",
       "         1.90521414e-03-4.92186065e-03j,  2.71841103e-03-4.87048660e-03j,\n",
       "         3.43241990e-03-4.82307240e-03j,  3.98536541e-03-4.34935842e-03j,\n",
       "         4.20712933e-03-3.53804280e-03j,  4.44753623e-03-2.87311234e-03j,\n",
       "         4.67337099e-03-2.27882617e-03j,  5.13121691e-03-1.65018941e-03j,\n",
       "         5.51697282e-03-1.16585398e-03j,  6.04322869e-03-5.74585478e-04j,\n",
       "         6.34038121e-03+2.41293932e-04j,  6.85822246e-03+1.40119887e-03j,\n",
       "         8.55017694e-03-3.13536731e-04j,  1.46543840e-02+4.77287373e-04j,\n",
       "         7.96119367e-03-3.40166864e-03j],\n",
       "       [ 8.52730686e-03-1.21125698e-02j,  1.08240629e-03-1.06490868e-02j,\n",
       "        -2.20061310e-03-1.41643156e-02j, -1.26396579e-03-7.19558038e-03j,\n",
       "        -1.07998413e-03-5.79566287e-03j, -6.73145467e-04-5.46285404e-03j,\n",
       "         7.88435475e-04-4.87143959e-03j,  7.38406389e-04-4.87162384e-03j,\n",
       "         1.09678101e-03-4.52159045e-03j,  1.57677895e-03-4.46055569e-03j,\n",
       "         2.09418274e-03-4.05577385e-03j,  2.77998618e-03-3.90834602e-03j,\n",
       "         3.53326232e-03-3.75841203e-03j,  3.91142418e-03-3.23397255e-03j,\n",
       "         4.19175479e-03-2.66332308e-03j,  4.20448283e-03-1.93749838e-03j,\n",
       "         4.61197274e-03-1.39752609e-03j,  4.38265437e-03-9.25682026e-04j,\n",
       "         5.07058184e-03-5.89642863e-04j,  4.97153787e-03-1.86274673e-04j,\n",
       "         5.22274848e-03+4.78488039e-04j,  6.50797191e-03+9.64052589e-04j,\n",
       "         7.55094696e-03+1.75739763e-03j,  1.33622389e-02+2.11172318e-03j,\n",
       "         7.80621822e-03-1.89875278e-03j],\n",
       "       [ 1.02651727e-02-1.03458647e-02j,  3.22170176e-03-1.01399415e-02j,\n",
       "        -9.89951820e-04-1.43215936e-02j, -3.92973740e-04-7.86587944e-03j,\n",
       "         1.67392311e-04-6.09882388e-03j,  3.83332139e-04-5.45064547e-03j,\n",
       "         7.12479281e-04-4.69417329e-03j,  1.13241341e-03-4.64811481e-03j,\n",
       "         1.59775026e-03-4.06761858e-03j,  1.97786280e-03-3.89674243e-03j,\n",
       "         2.40128489e-03-3.51352469e-03j,  2.93979180e-03-3.46790466e-03j,\n",
       "         3.50170238e-03-3.17703465e-03j,  3.88836880e-03-2.62027488e-03j,\n",
       "         4.11119525e-03-1.94559940e-03j,  4.12110715e-03-1.33149011e-03j,\n",
       "         4.25677037e-03-9.90675930e-04j,  4.38287029e-03-4.54705565e-04j,\n",
       "         4.83532623e-03+2.27612251e-04j,  5.02668507e-03+7.09418601e-04j,\n",
       "         5.43272314e-03+1.12548705e-03j,  6.20837800e-03+2.12391265e-03j,\n",
       "         7.48237243e-03+3.38797628e-03j,  1.29397346e-02+4.43001700e-03j,\n",
       "         9.47646252e-03-1.18318500e-03j],\n",
       "       [ 1.24654706e-02-8.84876234e-03j,  4.46228774e-03-9.74099065e-03j,\n",
       "         1.79708644e-03-1.48579806e-02j,  6.52737891e-04-7.80278758e-03j,\n",
       "         8.78935826e-04-6.19906442e-03j,  9.45398600e-04-5.19697531e-03j,\n",
       "         1.54935836e-03-4.23934949e-03j,  1.55972092e-03-4.29374770e-03j,\n",
       "         1.87506285e-03-3.70601030e-03j,  2.22609637e-03-3.35122522e-03j,\n",
       "         2.59146424e-03-3.02381482e-03j,  3.13010771e-03-2.69056986e-03j,\n",
       "         3.61100039e-03-2.38157452e-03j,  3.86378840e-03-1.95963185e-03j,\n",
       "         3.91662049e-03-1.27360447e-03j,  3.99599228e-03-7.82345273e-04j,\n",
       "         4.17253561e-03-2.86041096e-04j,  4.25230932e-03+3.19620180e-04j,\n",
       "         4.40429749e-03+4.73422015e-04j,  4.60538937e-03+1.16237606e-03j,\n",
       "         4.87380544e-03+1.62618221e-03j,  6.07976047e-03+2.23555455e-03j,\n",
       "         7.02042151e-03+3.85312816e-03j,  1.32016914e-02+6.30756089e-03j,\n",
       "         9.33436106e-03+7.84362877e-04j],\n",
       "       [ 1.42362655e-02-6.57604221e-03j,  5.99693418e-03-9.43963939e-03j,\n",
       "         3.81899132e-03-1.52566193e-02j,  1.60583578e-03-8.34974439e-03j,\n",
       "         1.72960558e-03-6.32817690e-03j,  1.79029265e-03-5.30370324e-03j,\n",
       "         2.04259329e-03-4.33782558e-03j,  2.27452910e-03-3.79240030e-03j,\n",
       "         2.38584313e-03-3.30154537e-03j,  2.74421613e-03-2.99967248e-03j,\n",
       "         3.19334953e-03-2.53959393e-03j,  3.38503481e-03-2.18096882e-03j,\n",
       "         3.84668454e-03-1.74338502e-03j,  4.07349491e-03-1.22986865e-03j,\n",
       "         3.97615996e-03-6.77243136e-04j,  3.99523305e-03-2.39777652e-04j,\n",
       "         4.09416288e-03+3.86322613e-04j,  4.05523957e-03+6.49735514e-04j,\n",
       "         4.32083584e-03+1.25431924e-03j,  4.55220057e-03+1.63296962e-03j,\n",
       "         4.80033244e-03+2.70027330e-03j,  5.46634319e-03+3.48858637e-03j,\n",
       "         6.74594282e-03+4.88154597e-03j,  1.27763592e-02+8.62728494e-03j,\n",
       "         9.96261813e-03+2.53096226e-03j],\n",
       "       [ 1.59196540e-02-4.64225197e-03j,  7.47280284e-03-8.83996773e-03j,\n",
       "         6.41368183e-03-1.54383145e-02j,  3.12900153e-03-8.23775003e-03j,\n",
       "         2.79904859e-03-6.06019701e-03j,  2.50252015e-03-5.06849383e-03j,\n",
       "         2.72370153e-03-3.98383771e-03j,  2.89100754e-03-3.57868356e-03j,\n",
       "         3.00375864e-03-2.96836402e-03j,  3.21231698e-03-2.47717044e-03j,\n",
       "         3.38896406e-03-2.02674933e-03j,  3.66258548e-03-1.62431832e-03j,\n",
       "         3.94887185e-03-1.19100316e-03j,  4.11149943e-03-6.40530902e-04j,\n",
       "         3.98290690e-03-1.26133293e-04j,  4.05379624e-03+3.89405849e-04j,\n",
       "         4.01176988e-03+8.21292273e-04j,  3.95777842e-03+1.34426113e-03j,\n",
       "         4.14190837e-03+2.00569519e-03j,  4.28909800e-03+2.35907940e-03j,\n",
       "         4.47387107e-03+3.54992377e-03j,  5.04414679e-03+4.49519263e-03j,\n",
       "         6.11912615e-03+6.28831202e-03j,  1.20833524e-02+1.09339960e-02j,\n",
       "         1.02653939e-02+4.40954525e-03j],\n",
       "       [ 1.80979155e-02-1.59492193e-03j,  9.38077303e-03-8.32976507e-03j,\n",
       "         9.16038756e-03-1.53420135e-02j,  4.33279431e-03-8.47026792e-03j,\n",
       "         3.83991052e-03-6.23957736e-03j,  3.51930073e-03-4.90683204e-03j,\n",
       "         3.45111836e-03-3.86698585e-03j,  3.51610504e-03-3.31378924e-03j,\n",
       "         3.53794819e-03-2.60468674e-03j,  3.71934128e-03-2.09542189e-03j,\n",
       "         3.86368278e-03-1.61982212e-03j,  3.99564528e-03-1.10884428e-03j,\n",
       "         4.26149737e-03-6.00259402e-04j,  4.26691879e-03-6.39877746e-05j,\n",
       "         4.09846306e-03+4.87584167e-04j,  4.01847515e-03+9.63395670e-04j,\n",
       "         4.02530295e-03+1.52695874e-03j,  3.90694893e-03+2.06391603e-03j,\n",
       "         4.01914894e-03+2.66076858e-03j,  4.05940399e-03+3.23410412e-03j,\n",
       "         4.15304784e-03+4.33370360e-03j,  4.75283263e-03+5.54904171e-03j,\n",
       "         5.50894258e-03+7.70550565e-03j,  1.13521319e-02+1.38529431e-02j,\n",
       "         1.02634239e-02+6.51936412e-03j],\n",
       "       [ 1.80979155e-02+1.59492193e-03j,  1.02634239e-02-6.51936412e-03j,\n",
       "         1.13521319e-02-1.38529431e-02j,  5.50894258e-03-7.70550565e-03j,\n",
       "         4.75283263e-03-5.54904171e-03j,  4.15304784e-03-4.33370360e-03j,\n",
       "         4.05940399e-03-3.23410412e-03j,  4.01914894e-03-2.66076858e-03j,\n",
       "         3.90694893e-03-2.06391603e-03j,  4.02530295e-03-1.52695874e-03j,\n",
       "         4.01847515e-03-9.63395670e-04j,  4.09846306e-03-4.87584167e-04j,\n",
       "         4.26691879e-03+6.39877746e-05j,  4.26149737e-03+6.00259402e-04j,\n",
       "         3.99564528e-03+1.10884428e-03j,  3.86368278e-03+1.61982212e-03j,\n",
       "         3.71934128e-03+2.09542189e-03j,  3.53794819e-03+2.60468674e-03j,\n",
       "         3.51610504e-03+3.31378924e-03j,  3.45111836e-03+3.86698585e-03j,\n",
       "         3.51930073e-03+4.90683204e-03j,  3.83991052e-03+6.23957736e-03j,\n",
       "         4.33279431e-03+8.47026792e-03j,  9.16038756e-03+1.53420135e-02j,\n",
       "         9.38077303e-03+8.32976507e-03j],\n",
       "       [ 1.59196540e-02+4.64225197e-03j,  1.02653939e-02-4.40954525e-03j,\n",
       "         1.20833524e-02-1.09339960e-02j,  6.11912615e-03-6.28831202e-03j,\n",
       "         5.04414679e-03-4.49519263e-03j,  4.47387107e-03-3.54992377e-03j,\n",
       "         4.28909800e-03-2.35907940e-03j,  4.14190837e-03-2.00569519e-03j,\n",
       "         3.95777842e-03-1.34426113e-03j,  4.01176988e-03-8.21292273e-04j,\n",
       "         4.05379624e-03-3.89405849e-04j,  3.98290690e-03+1.26133293e-04j,\n",
       "         4.11149943e-03+6.40530902e-04j,  3.94887185e-03+1.19100316e-03j,\n",
       "         3.66258548e-03+1.62431832e-03j,  3.38896406e-03+2.02674933e-03j,\n",
       "         3.21231698e-03+2.47717044e-03j,  3.00375864e-03+2.96836402e-03j,\n",
       "         2.89100754e-03+3.57868356e-03j,  2.72370153e-03+3.98383771e-03j,\n",
       "         2.50252015e-03+5.06849383e-03j,  2.79904859e-03+6.06019701e-03j,\n",
       "         3.12900153e-03+8.23775003e-03j,  6.41368183e-03+1.54383145e-02j,\n",
       "         7.47280284e-03+8.83996773e-03j],\n",
       "       [ 1.42362655e-02+6.57604221e-03j,  9.96261813e-03-2.53096226e-03j,\n",
       "         1.27763592e-02-8.62728494e-03j,  6.74594282e-03-4.88154597e-03j,\n",
       "         5.46634319e-03-3.48858637e-03j,  4.80033244e-03-2.70027330e-03j,\n",
       "         4.55220057e-03-1.63296962e-03j,  4.32083584e-03-1.25431924e-03j,\n",
       "         4.05523957e-03-6.49735514e-04j,  4.09416288e-03-3.86322613e-04j,\n",
       "         3.99523305e-03+2.39777652e-04j,  3.97615996e-03+6.77243136e-04j,\n",
       "         4.07349491e-03+1.22986865e-03j,  3.84668454e-03+1.74338502e-03j,\n",
       "         3.38503481e-03+2.18096882e-03j,  3.19334953e-03+2.53959393e-03j,\n",
       "         2.74421613e-03+2.99967248e-03j,  2.38584313e-03+3.30154537e-03j,\n",
       "         2.27452910e-03+3.79240030e-03j,  2.04259329e-03+4.33782558e-03j,\n",
       "         1.79029265e-03+5.30370324e-03j,  1.72960558e-03+6.32817690e-03j,\n",
       "         1.60583578e-03+8.34974439e-03j,  3.81899132e-03+1.52566193e-02j,\n",
       "         5.99693418e-03+9.43963939e-03j],\n",
       "       [ 1.24654706e-02+8.84876234e-03j,  9.33436106e-03-7.84362877e-04j,\n",
       "         1.32016914e-02-6.30756089e-03j,  7.02042151e-03-3.85312816e-03j,\n",
       "         6.07976047e-03-2.23555455e-03j,  4.87380544e-03-1.62618221e-03j,\n",
       "         4.60538937e-03-1.16237606e-03j,  4.40429749e-03-4.73422015e-04j,\n",
       "         4.25230932e-03-3.19620180e-04j,  4.17253561e-03+2.86041096e-04j,\n",
       "         3.99599228e-03+7.82345273e-04j,  3.91662049e-03+1.27360447e-03j,\n",
       "         3.86378840e-03+1.95963185e-03j,  3.61100039e-03+2.38157452e-03j,\n",
       "         3.13010771e-03+2.69056986e-03j,  2.59146424e-03+3.02381482e-03j,\n",
       "         2.22609637e-03+3.35122522e-03j,  1.87506285e-03+3.70601030e-03j,\n",
       "         1.55972092e-03+4.29374770e-03j,  1.54935836e-03+4.23934949e-03j,\n",
       "         9.45398600e-04+5.19697531e-03j,  8.78935826e-04+6.19906442e-03j,\n",
       "         6.52737891e-04+7.80278758e-03j,  1.79708644e-03+1.48579806e-02j,\n",
       "         4.46228774e-03+9.74099065e-03j],\n",
       "       [ 1.02651727e-02+1.03458647e-02j,  9.47646252e-03+1.18318500e-03j,\n",
       "         1.29397346e-02-4.43001700e-03j,  7.48237243e-03-3.38797628e-03j,\n",
       "         6.20837800e-03-2.12391265e-03j,  5.43272314e-03-1.12548705e-03j,\n",
       "         5.02668507e-03-7.09418601e-04j,  4.83532623e-03-2.27612251e-04j,\n",
       "         4.38287029e-03+4.54705565e-04j,  4.25677037e-03+9.90675930e-04j,\n",
       "         4.12110715e-03+1.33149011e-03j,  4.11119525e-03+1.94559940e-03j,\n",
       "         3.88836880e-03+2.62027488e-03j,  3.50170238e-03+3.17703465e-03j,\n",
       "         2.93979180e-03+3.46790466e-03j,  2.40128489e-03+3.51352469e-03j,\n",
       "         1.97786280e-03+3.89674243e-03j,  1.59775026e-03+4.06761858e-03j,\n",
       "         1.13241341e-03+4.64811481e-03j,  7.12479281e-04+4.69417329e-03j,\n",
       "         3.83332139e-04+5.45064547e-03j,  1.67392311e-04+6.09882388e-03j,\n",
       "        -3.92973740e-04+7.86587944e-03j, -9.89951820e-04+1.43215936e-02j,\n",
       "         3.22170176e-03+1.01399415e-02j],\n",
       "       [ 8.52730686e-03+1.21125698e-02j,  7.80621822e-03+1.89875278e-03j,\n",
       "         1.33622389e-02-2.11172318e-03j,  7.55094696e-03-1.75739763e-03j,\n",
       "         6.50797191e-03-9.64052589e-04j,  5.22274848e-03-4.78488039e-04j,\n",
       "         4.97153787e-03+1.86274673e-04j,  5.07058184e-03+5.89642863e-04j,\n",
       "         4.38265437e-03+9.25682026e-04j,  4.61197274e-03+1.39752609e-03j,\n",
       "         4.20448283e-03+1.93749838e-03j,  4.19175479e-03+2.66332308e-03j,\n",
       "         3.91142418e-03+3.23397255e-03j,  3.53326232e-03+3.75841203e-03j,\n",
       "         2.77998618e-03+3.90834602e-03j,  2.09418274e-03+4.05577385e-03j,\n",
       "         1.57677895e-03+4.46055569e-03j,  1.09678101e-03+4.52159045e-03j,\n",
       "         7.38406389e-04+4.87162384e-03j,  7.88435475e-04+4.87143959e-03j,\n",
       "        -6.73145467e-04+5.46285404e-03j, -1.07998413e-03+5.79566287e-03j,\n",
       "        -1.26396579e-03+7.19558038e-03j, -2.20061310e-03+1.41643156e-02j,\n",
       "         1.08240629e-03+1.06490868e-02j],\n",
       "       [ 4.99259698e-03+1.36384196e-02j,  7.96119367e-03+3.40166864e-03j,\n",
       "         1.46543840e-02-4.77287373e-04j,  8.55017694e-03+3.13536731e-04j,\n",
       "         6.85822246e-03-1.40119887e-03j,  6.34038121e-03-2.41293932e-04j,\n",
       "         6.04322869e-03+5.74585478e-04j,  5.51697282e-03+1.16585398e-03j,\n",
       "         5.13121691e-03+1.65018941e-03j,  4.67337099e-03+2.27882617e-03j,\n",
       "         4.44753623e-03+2.87311234e-03j,  4.20712933e-03+3.53804280e-03j,\n",
       "         3.98536541e-03+4.34935842e-03j,  3.43241990e-03+4.82307240e-03j,\n",
       "         2.71841103e-03+4.87048660e-03j,  1.90521414e-03+4.92186065e-03j,\n",
       "         1.27121299e-03+5.07097617e-03j,  7.54595668e-04+4.92206253e-03j,\n",
       "         3.21723495e-04+5.01007105e-03j, -8.56463039e-04+5.33471951e-03j,\n",
       "        -1.33608855e-03+5.93202664e-03j, -9.46297423e-04+6.57697599e-03j,\n",
       "        -2.30122962e-03+7.72786786e-03j, -3.43324324e-03+1.35562879e-02j,\n",
       "        -7.12539965e-04+1.02741508e-02j],\n",
       "       [ 2.48983449e-03+1.74472097e-02j,  4.97090736e-03+3.02167915e-03j,\n",
       "         1.48540369e-02-7.86889573e-04j,  9.66888964e-03-9.72255737e-04j,\n",
       "         8.64088303e-03+5.70012274e-04j,  7.23181401e-03+2.08587141e-04j,\n",
       "         7.17962615e-03+1.36376621e-03j,  6.75186358e-03+1.84961608e-03j,\n",
       "         6.30066875e-03+2.50842986e-03j,  6.05118746e-03+3.32095632e-03j,\n",
       "         5.73751386e-03+4.17028195e-03j,  5.36122446e-03+5.07284572e-03j,\n",
       "         4.96440659e-03+6.11195094e-03j,  4.21095605e-03+6.72470570e-03j,\n",
       "         3.09657712e-03+6.82306365e-03j,  2.10137814e-03+6.57404583e-03j,\n",
       "         1.30030678e-03+6.65890803e-03j,  4.57724157e-04+6.63925134e-03j,\n",
       "        -8.11646517e-05+6.82203657e-03j, -9.71243129e-04+6.67949779e-03j,\n",
       "        -2.17538938e-03+6.51901919e-03j, -3.06960120e-03+6.37827416e-03j,\n",
       "        -3.46166483e-03+8.41140590e-03j, -6.41215332e-03+1.49378527e-02j,\n",
       "        -1.52359668e-03+1.17748693e-02j],\n",
       "       [-3.03249367e-03+2.07946095e-02j,  2.28483434e-02-7.92433669e-03j,\n",
       "         1.82867547e-02+2.55604912e-03j,  1.30253808e-02-1.95536092e-03j,\n",
       "         1.34009636e-02+4.48080696e-04j,  1.09651661e-02+1.43857203e-03j,\n",
       "         1.04970540e-02+2.99669473e-03j,  1.00775148e-02+3.78541809e-03j,\n",
       "         9.64880107e-03+4.78784621e-03j,  8.90930088e-03+6.11808606e-03j,\n",
       "         8.55192495e-03+7.37603917e-03j,  8.07176389e-03+8.83322641e-03j,\n",
       "         7.46131238e-03+1.04182402e-02j,  6.00452647e-03+1.13883177e-02j,\n",
       "         4.25738113e-03+1.13408447e-02j,  2.93341077e-03+1.08979389e-02j,\n",
       "         1.44740386e-03+1.07190220e-02j,  3.20988167e-04+1.04779279e-02j,\n",
       "        -1.56625264e-03+1.13012683e-02j, -2.18867728e-03+9.98669473e-03j,\n",
       "        -3.98921795e-03+9.23529726e-03j, -4.77901540e-03+1.07264031e-02j,\n",
       "        -4.79789356e-03+1.00744700e-02j, -7.32018575e-03+1.68371272e-02j,\n",
       "        -3.74638540e-03+1.13070663e-02j],\n",
       "       [ 1.82675882e-02-8.55448288e-04j,  3.84243957e-02+2.75943699e-03j,\n",
       "         1.89330006e-02+6.18212866e-03j,  1.47368264e-02-2.56092882e-03j,\n",
       "         1.27613676e-02+1.91367201e-04j,  1.38130033e-02+1.21610413e-03j,\n",
       "         1.36415435e-02+2.63482479e-03j,  1.44241572e-02+5.55131740e-03j,\n",
       "         1.32559579e-02+5.96607234e-03j,  1.29560287e-02+8.15478649e-03j,\n",
       "         1.34293885e-02+1.00570848e-02j,  1.27346665e-02+1.28403816e-02j,\n",
       "         1.17008521e-02+1.51080273e-02j,  9.82840669e-03+1.64272190e-02j,\n",
       "         7.03475542e-03+1.69252774e-02j,  4.86189323e-03+1.66485156e-02j,\n",
       "         2.45476447e-03+1.61365821e-02j,  1.05772863e-03+1.62700053e-02j,\n",
       "        -1.65461409e-03+1.63900059e-02j, -2.28560783e-03+1.58804820e-02j,\n",
       "        -5.34060882e-03+1.47570524e-02j, -5.59925785e-03+1.48357801e-02j,\n",
       "        -1.18449911e-02+1.39364734e-02j, -1.42192440e-02+1.99463400e-02j,\n",
       "        -1.02347516e-03+1.20151918e-02j]])"
      ]
     },
     "execution_count": 23,
     "metadata": {},
     "output_type": "execute_result"
    }
   ],
   "source": [
    "E"
   ]
  },
  {
   "cell_type": "code",
   "execution_count": 18,
   "metadata": {},
   "outputs": [
    {
     "data": {
      "text/plain": [
       "[]"
      ]
     },
     "execution_count": 18,
     "metadata": {},
     "output_type": "execute_result"
    },
    {
     "data": {
      "image/png": "[encoded data removed]",
      "text/plain": [
       "<Figure size 628x500 with 1 Axes>"
      ]
     },
     "metadata": {
      "needs_background": "light"
     },
     "output_type": "display_data"
    }
   ],
   "source": [
    "CV = V**2\n",
    "k, K = compute_wavenumber_field(CV.shape, 25*0.33)\n",
    "E = k / 2 / np.pi * np.fft.fft2(CV)\n",
    "\n",
    "ind = np.argsort(k.flatten())\n",
    "k_plot = k.flatten()[ind]\n",
    "E_plot = E.real.flatten()[ind]\n",
    "\n",
    "plt.figure(dpi=400)\n",
    "plt.plot(k_plot*3, abs(E_plot))\n",
    "plt.loglog()"
   ]
  },
  {
   "cell_type": "markdown",
   "metadata": {},
   "source": [
    "**Verify energy spectrum calculation**\n",
    "\n",
    "There are ways to verify the energy spectrum calculation. In principle, if we integrate the energy spectrum over all $k$'s, we obtain the total energy of the system. The total energy of a system can also be obtained by just summing up all the velocity squares."
   ]
  },
  {
   "cell_type": "code",
   "execution_count": 114,
   "metadata": {},
   "outputs": [
    {
     "name": "stdout",
     "output_type": "stream",
     "text": [
      "E_spec: 2.38 \n",
      "E_vel: 36.13 \n"
     ]
    }
   ],
   "source": [
    "pivData = pd.read_csv(r'D:\\density_fluctuations\\08032020\\piv_imseq\\08\\3000-3001.csv')\n",
    "\n",
    "row = len(pivData.y.drop_duplicates())\n",
    "col = len(pivData.x.drop_duplicates())\n",
    "X = np.array(pivData.x).reshape((row, col))\n",
    "Y = np.array(pivData.y).reshape((row, col))\n",
    "U = np.array(pivData.u).reshape((row, col))\n",
    "V = np.array(pivData.v).reshape((row, col))\n",
    "\n",
    "XS, YS, CA, CV = vspatial(X, Y, U, V)\n",
    "\n",
    "k, K = compute_wavenumber_field(XS.shape, 25*0.33)\n",
    "E = k / 2 / np.pi * np.fft.fft2(CV)*8.3\n",
    "\n",
    "ind = np.argsort(k.flatten())\n",
    "k_plot = k.flatten()[ind]\n",
    "E_plot = E.real.flatten()[ind]\n",
    "\n",
    "E_spec = 2*trapz(E_plot, x=k_plot)\n",
    "E_vel = (U**2 + V**2).mean() * 0.33**2\n",
    "\n",
    "print('E_spec: {:.2f} '.format(E_spec))\n",
    "print('E_vel: {:.2f} '.format(E_vel))"
   ]
  },
  {
   "cell_type": "code",
   "execution_count": 115,
   "metadata": {},
   "outputs": [
    {
     "name": "stdout",
     "output_type": "stream",
     "text": [
      "E_spec: 17.12 um2/s2\n",
      "E_vel: 36.13 um2/s2\n"
     ]
    }
   ],
   "source": [
    "u_fft = np.fft.fft2(U*0.33, norm='ortho')\n",
    "v_fft = np.fft.fft2(V*0.33, norm='ortho')\n",
    "E = (u_fft * u_fft.conjugate() + v_fft * v_fft.conjugate()) / 2\n",
    "k, K = compute_wavenumber_field(E.shape, 25*0.33)\n",
    "ind = np.argsort(k.flatten())\n",
    "k_plot = k.flatten()[ind]\n",
    "E_plot = E.real.flatten()[ind]\n",
    "\n",
    "E_spec = 2*trapz(E_plot, x=k_plot)\n",
    "E_vel = (U**2 + V**2).mean() * 0.33**2\n",
    "\n",
    "print('E_spec: {:.2f} um2/s2'.format(E_spec))\n",
    "print('E_vel: {:.2f} um2/s2'.format(E_vel))"
   ]
  },
  {
   "cell_type": "code",
   "execution_count": 57,
   "metadata": {},
   "outputs": [],
   "source": [
    "def vspatial(X, Y, U, V):\n",
    "    row, col = X.shape\n",
    "    r = row\n",
    "    c = col\n",
    "    vsqrt = (U ** 2 + V ** 2) ** 0.5\n",
    "    Ax = U / vsqrt\n",
    "    Ay = V / vsqrt\n",
    "    CA = np.ones((r, c))\n",
    "    CV = np.ones((r, c))\n",
    "    for xin in range(0, c):\n",
    "        for yin in range(0, r):\n",
    "            CA[yin, xin] = (Ax[0:row-yin, 0:col-xin] * Ax[yin:row, xin:col] + Ay[0:row-yin, 0:col-xin] * Ay[yin:row, xin:col]).mean()\n",
    "            CV[yin, xin] = (U[0:row-yin, 0:col-xin] * U[yin:row, xin:col] + V[0:row-yin, 0:col-xin] * V[yin:row, xin:col]).mean()\n",
    "    return X[0:r, 0:c], Y[0:r, 0:c], CA, CV"
   ]
  },
  {
   "cell_type": "code",
   "execution_count": 103,
   "metadata": {},
   "outputs": [],
   "source": [
    "pivData = pd.read_csv(r'D:\\density_fluctuations\\08032020\\piv_imseq\\08\\3000-3001.csv')\n",
    "row = len(pivData.y.drop_duplicates())\n",
    "col = len(pivData.x.drop_duplicates())\n",
    "X = np.array(pivData.x).reshape((row, col))\n",
    "Y = np.array(pivData.y).reshape((row, col))\n",
    "U = np.array(pivData.u).reshape((row, col))\n",
    "V = np.array(pivData.v).reshape((row, col))\n",
    "vs = vspatial(X, Y, U, V)"
   ]
  },
  {
   "cell_type": "code",
   "execution_count": 119,
   "metadata": {},
   "outputs": [
    {
     "data": {
      "text/plain": [
       "518.1718672478836"
      ]
     },
     "execution_count": 119,
     "metadata": {},
     "output_type": "execute_result"
    }
   ],
   "source": [
    "pivData = pd.read_csv(r'D:\\density_fluctuations\\08032020\\piv_imseq\\08\\3000-3001.csv')\n",
    "row = len(pivData.y.drop_duplicates())\n",
    "col = len(pivData.x.drop_duplicates())\n",
    "X = np.array(pivData.x).reshape((row, col))\n",
    "Y = np.array(pivData.y).reshape((row, col))\n",
    "U = np.array(pivData.u).reshape((row, col))\n",
    "V = np.array(pivData.v).reshape((row, col))\n",
    "\n",
    "E = abs(np.fft.fft2(U*0.33)/8.33)**2 + abs(np.fft.fft2(V*0.33)/8.33)**2\n",
    "k, K = compute_wavenumber_field(E.shape, 25*0.33)\n",
    "ind = np.argsort(k.flatten())\n",
    "Eo = E.flatten()[ind]\n",
    "ko = k.flatten()[ind]\n",
    "Etotal = trapz(Eo, x=ko) \n",
    "Etotal"
   ]
  },
  {
   "cell_type": "code",
   "execution_count": 116,
   "metadata": {},
   "outputs": [
    {
     "data": {
      "text/plain": [
       "36.13413454759362"
      ]
     },
     "execution_count": 116,
     "metadata": {},
     "output_type": "execute_result"
    }
   ],
   "source": [
    "(U**2 + V**2).mean()*0.33*0.33"
   ]
  },
  {
   "cell_type": "markdown",
   "metadata": {},
   "source": [
    "## 7 Summarize data\n",
    "After the batch process, I have multiple energy spectrum data for each sample. To summarize, I compress the data for each sample into one energy spectrum by averaging over all data for this sample. This average will be saved to a summary .csv file under *energy_spectrum* folder."
   ]
  },
  {
   "cell_type": "code",
   "execution_count": 95,
   "metadata": {},
   "outputs": [],
   "source": [
    "folder = r'D:\\density_fluctuations\\08062020\\energy_spectrum'\n",
    "sfL = next(os.walk(folder))[1]\n",
    "count = 0\n",
    "for sf in sfL:\n",
    "    es_folder = os.path.join(folder, sf)\n",
    "    l = readdata(es_folder, 'csv')\n",
    "    for num, i in l.iterrows():\n",
    "        if num == 0:\n",
    "            data = pd.read_csv(i.Dir)\n",
    "        else:\n",
    "            data += pd.read_csv(i.Dir)\n",
    "    data /= num + 1\n",
    "    if count == 0:\n",
    "        summary = data.assign(sample=sf)\n",
    "    else:\n",
    "        summary = summary.append(data.assign(sample=sf))\n",
    "    count += 1"
   ]
  },
  {
   "cell_type": "code",
   "execution_count": 96,
   "metadata": {},
   "outputs": [],
   "source": [
    "summary.to_csv(os.path.join(folder, 'summary.csv'), index=False)"
   ]
  }
 ],
 "metadata": {
  "kernelspec": {
   "display_name": "Python 3",
   "language": "python",
   "name": "python3"
  },
  "language_info": {
   "codemirror_mode": {
    "name": "ipython",
    "version": 3
   },
   "file_extension": ".py",
   "mimetype": "text/x-python",
   "name": "python",
   "nbconvert_exporter": "python",
   "pygments_lexer": "ipython3",
   "version": "3.7.3"
  }
 },
 "nbformat": 4,
 "nbformat_minor": 4
}

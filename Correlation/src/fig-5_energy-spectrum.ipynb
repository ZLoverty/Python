{
 "cells": [
  {
   "cell_type": "markdown",
   "metadata": {},
   "source": [
    "# Energy spectrum"
   ]
  },
  {
   "cell_type": "markdown",
   "metadata": {},
   "source": [
    "I calculate the energy spectrum of bacterial turbulence in this notebook. Energy spectrum quantifies the energy distribution over different length scales, $\\lambda=2\\pi/k$, where $k$ is the wavenumber. To obtain the energy spectrum, we first calculate the Fourier trransform of the 2D velocity field $v_x(x, y)$ and $v_y(x, y)$ to obtain $u_k(k_x, k_y)$ and $v_k(k_x, k_y)$. The point wise kinetic energy density in the k-space is then computed as $E(k_x, k_y) = \\langle u_k(k_x, k_y)u^*_k(k_x, k_y)+v_k(k_x, k_y)v_k^*(k_x, k_y)\\rangle/2$, where \\* represents the complex conjugate. Finally, the energy spectrum E(k) is obtained by summing up $E(k_x, k_y)$ at a constant $k=(k_x^2+k_y^2)^{1/2}$. "
   ]
  },
  {
   "cell_type": "markdown",
   "metadata": {},
   "source": [
    "An alternative way to calculate $E(k)$ is through the Fourier transform of the two-point velocity correlation function $\\langle v(r_0)\\cdot v(r_0+r)\\rangle_{r_0}$, which yields quantitatively similar results."
   ]
  },
  {
   "cell_type": "markdown",
   "metadata": {},
   "source": [
    "## 0 Packages"
   ]
  },
  {
   "cell_type": "code",
   "execution_count": 76,
   "metadata": {},
   "outputs": [],
   "source": [
    "import pandas as pd\n",
    "import numpy as np\n",
    "import matplotlib.pyplot as plt\n",
    "import os\n",
    "from corr_utils import *\n",
    "import typesetting.main as tm\n",
    "tm.prl('1-column-2-panel')\n",
    "from corrLib import readdata, corrS"
   ]
  },
  {
   "cell_type": "markdown",
   "metadata": {},
   "source": [
    "## 1 Fourier transform of velocity"
   ]
  },
  {
   "cell_type": "markdown",
   "metadata": {},
   "source": [
    "The Fourier transform of velocity field can be computed easily by using numpy built-in functions."
   ]
  },
  {
   "cell_type": "code",
   "execution_count": 3,
   "metadata": {},
   "outputs": [],
   "source": [
    "pivData = pd.read_csv(r'E:\\moreData\\08032020\\piv_imseq\\01\\3370-3371.csv')\n",
    "\n",
    "row = len(pivData.y.drop_duplicates())\n",
    "col = len(pivData.x.drop_duplicates())\n",
    "X = np.array(pivData.x).reshape((row, col))\n",
    "Y = np.array(pivData.y).reshape((row, col))\n",
    "U = np.array(pivData.u).reshape((row, col))\n",
    "V = np.array(pivData.v).reshape((row, col))"
   ]
  },
  {
   "cell_type": "code",
   "execution_count": 95,
   "metadata": {},
   "outputs": [],
   "source": [
    "u_fft = np.fft.fft2(U)\n",
    "v_fft = np.fft.fft2(V)"
   ]
  },
  {
   "cell_type": "markdown",
   "metadata": {},
   "source": [
    "Below is a preview of the fft of velocity field. Four corners correspond to low frequency signals, while center corresponds to high frequency signals. As is shown in the plot, low frequency signals has a higher amplitude than high frequency ones."
   ]
  },
  {
   "cell_type": "code",
   "execution_count": 18,
   "metadata": {
    "scrolled": true
   },
   "outputs": [
    {
     "data": {
      "text/plain": [
       "<matplotlib.image.AxesImage at 0x13bf8d6df88>"
      ]
     },
     "execution_count": 18,
     "metadata": {},
     "output_type": "execute_result"
    },
    {
     "data": {
      "image/png": "[encoded data removed]",
      "text/plain": [
       "<Figure size 432x288 with 1 Axes>"
      ]
     },
     "metadata": {
      "needs_background": "light"
     },
     "output_type": "display_data"
    }
   ],
   "source": [
    "plt.imshow(u_ft.real)"
   ]
  },
  {
   "cell_type": "markdown",
   "metadata": {},
   "source": [
    "## 2 Compute point-wise kinetic energy density in k-space\n",
    "\n",
    "<font color='red'> I don't understand the meaning of the angle bracket $\\langle\\rangle$ in the formula of energy $E$. From what I understand, this $E$ is a point-wise energy and no spatial average is taken. What average is this?</font>"
   ]
  },
  {
   "cell_type": "code",
   "execution_count": 96,
   "metadata": {},
   "outputs": [],
   "source": [
    "E = (u_fft * u_fft.conjugate() + v_fft * v_fft.conjugate()) / 2"
   ]
  },
  {
   "cell_type": "code",
   "execution_count": 121,
   "metadata": {},
   "outputs": [],
   "source": [
    "def compute_energy_density(pivData):\n",
    "    \"\"\"\n",
    "    Compute kinetic energy density in k space from piv data.\n",
    "    \n",
    "    Args:\n",
    "    pivData -- piv data\n",
    "    \n",
    "    Returns:\n",
    "    E -- kinetic energy field in k space\n",
    "    \n",
    "    Test:\n",
    "    pivData = pd.read_csv(r'E:\\moreData\\08032020\\piv_imseq\\01\\3370-3371.csv')\n",
    "    compute_energy_density(pivData)\n",
    "    \"\"\"\n",
    "    \n",
    "    row = len(pivData.y.drop_duplicates())\n",
    "    col = len(pivData.x.drop_duplicates())\n",
    "#     X = np.array(pivData.x).reshape((row, col))\n",
    "#     Y = np.array(pivData.y).reshape((row, col))\n",
    "    U = np.array(pivData.u).reshape((row, col))\n",
    "    V = np.array(pivData.v).reshape((row, col))\n",
    "    \n",
    "    u_fft = np.fft.fft2(U)\n",
    "    v_fft = np.fft.fft2(V)\n",
    "    \n",
    "    E = (u_fft * u_fft.conjugate() + v_fft * v_fft.conjugate()) / 2\n",
    "    \n",
    "    return E"
   ]
  },
  {
   "cell_type": "code",
   "execution_count": 122,
   "metadata": {},
   "outputs": [
    {
     "data": {
      "text/plain": [
       "array([[8.82584565e+07+0.j, 1.70565208e+08+0.j, 3.68561469e+07+0.j, ...,\n",
       "        1.41594659e+07+0.j, 3.68561469e+07+0.j, 1.70565208e+08+0.j],\n",
       "       [1.63658336e+08+0.j, 2.94427646e+07+0.j, 8.69557584e+07+0.j, ...,\n",
       "        5.71590726e+07+0.j, 2.57775832e+07+0.j, 1.04051077e+08+0.j],\n",
       "       [5.85742300e+07+0.j, 2.63654794e+07+0.j, 2.68530100e+07+0.j, ...,\n",
       "        2.57109177e+07+0.j, 1.01935099e+08+0.j, 8.71585781e+07+0.j],\n",
       "       ...,\n",
       "       [5.34223042e+07+0.j, 3.60180055e+07+0.j, 2.11529533e+07+0.j, ...,\n",
       "        5.62385163e+07+0.j, 2.96305009e+07+0.j, 9.06512456e+06+0.j],\n",
       "       [5.85742300e+07+0.j, 8.71585781e+07+0.j, 1.01935099e+08+0.j, ...,\n",
       "        1.34906964e+07+0.j, 2.68530100e+07+0.j, 2.63654794e+07+0.j],\n",
       "       [1.63658336e+08+0.j, 1.04051077e+08+0.j, 2.57775832e+07+0.j, ...,\n",
       "        3.66170161e+07+0.j, 8.69557584e+07+0.j, 2.94427646e+07+0.j]])"
      ]
     },
     "execution_count": 122,
     "metadata": {},
     "output_type": "execute_result"
    }
   ],
   "source": [
    "pivData = pd.read_csv(r'E:\\moreData\\08032020\\piv_imseq\\01\\3370-3371.csv')\n",
    "compute_energy_density(pivData)"
   ]
  },
  {
   "cell_type": "markdown",
   "metadata": {},
   "source": [
    "## 3 Wavenumber magnitude field\n",
    "\n",
    "In order to apply the isotropic assumption, we need to generate a wavenumber $k$ field (magnitude), in correspondance with the fft field. For example, for a 5-by-5 fft field, the corresponding $k_x$ field is\n",
    "$$\\begin{matrix}\n",
    "0 & 1 & 2 & -2 & -1 \\\\\n",
    "0 & 1 & 2 & -2 & -1 \\\\\n",
    "0 & 1 & 2 & -2 & -1 \\\\\n",
    "0 & 1 & 2 & -2 & -1 \\\\\n",
    "0 & 1 & 2 & -2 & -1 \\\\\n",
    "\\end{matrix}\n",
    "$$\n",
    "the corresponding $k_y$ field is:\n",
    "$$\\begin{matrix}\n",
    "0 & 0 & 0 & 0 & 0 \\\\\n",
    "1 & 1 & 1 & 1 & 1 \\\\\n",
    "2 & 2 & 2 & 2 & 2 \\\\\n",
    "-2 & -2 & -2 & -2 & -2 \\\\\n",
    "-1 & -1 & -1 & -1 & -1 \\\\\n",
    "\\end{matrix}\n",
    "$$"
   ]
  },
  {
   "cell_type": "code",
   "execution_count": 24,
   "metadata": {},
   "outputs": [
    {
     "data": {
      "text/plain": [
       "array([ 0. ,  0.2,  0.4, -0.4, -0.2])"
      ]
     },
     "execution_count": 24,
     "metadata": {},
     "output_type": "execute_result"
    }
   ],
   "source": [
    "np.fft.fftfreq(5, d=1)"
   ]
  },
  {
   "cell_type": "code",
   "execution_count": 25,
   "metadata": {},
   "outputs": [],
   "source": [
    "def compute_wavenumber_field(shape, d):\n",
    "    \"\"\"\n",
    "    Compute the wave number field Kx and Ky, and magnitude field k. \n",
    "    Note that this function works for even higher dimensional shape.\n",
    "    \n",
    "    Args:\n",
    "    shape -- shape of the velocity field and velocity fft field, tuple\n",
    "    d -- sample spacing. This is the distance between adjacent samples, for example, velocities in PIV. \n",
    "        The resulting frequency space has the unit which is inverse of the unit of d. The preferred unit of d is um.\n",
    "    \n",
    "    Returns:\n",
    "    k -- wavenumber magnitude field\n",
    "    K -- wavenumber fields in given dimensions\n",
    "    \n",
    "    Test:\n",
    "    shape = (5, 5)\n",
    "    k, K = compute_wavenumber_field(shape, 0.2)\n",
    "    \"\"\"\n",
    "    \n",
    "    for num, length in enumerate(shape):\n",
    "        kx = np.fft.fftfreq(length, d=d)\n",
    "        if num == 0:            \n",
    "            k = (kx,)\n",
    "        else:\n",
    "            k += (kx,)\n",
    "        \n",
    "    K = np.meshgrid(*k, indexing='ij')\n",
    "    \n",
    "    for num, k1 in enumerate(K):\n",
    "        if num == 0:\n",
    "            ksq = k1 ** 2\n",
    "        else:\n",
    "            ksq += k1 ** 2\n",
    "    \n",
    "    k_mag = ksq ** 0.5\n",
    "    \n",
    "    return k_mag, K"
   ]
  },
  {
   "cell_type": "code",
   "execution_count": 29,
   "metadata": {},
   "outputs": [],
   "source": [
    "shape = (5, 5)\n",
    "k, K = compute_wavenumber_field(shape, 0.2)"
   ]
  },
  {
   "cell_type": "code",
   "execution_count": 30,
   "metadata": {},
   "outputs": [
    {
     "data": {
      "text/plain": [
       "[array([[ 0.,  0.,  0.,  0.,  0.],\n",
       "        [ 1.,  1.,  1.,  1.,  1.],\n",
       "        [ 2.,  2.,  2.,  2.,  2.],\n",
       "        [-2., -2., -2., -2., -2.],\n",
       "        [-1., -1., -1., -1., -1.]]), array([[ 0.,  1.,  2., -2., -1.],\n",
       "        [ 0.,  1.,  2., -2., -1.],\n",
       "        [ 0.,  1.,  2., -2., -1.],\n",
       "        [ 0.,  1.,  2., -2., -1.],\n",
       "        [ 0.,  1.,  2., -2., -1.]])]"
      ]
     },
     "execution_count": 30,
     "metadata": {},
     "output_type": "execute_result"
    }
   ],
   "source": [
    "K"
   ]
  },
  {
   "cell_type": "markdown",
   "metadata": {},
   "source": [
    "**Test unit of wavenumber field**\n",
    "\n",
    "I use the numpy built-in fft methods to calculate the Fourier transform of velocity field. The frequency or wavenumber field is also given by the numpy functions. However, I don't know yet what is the unit of the wavenumber field that is given to me by the built-in function. Here, I do a small test using a sin wave and the result should tell me the wave number. "
   ]
  },
  {
   "cell_type": "code",
   "execution_count": 105,
   "metadata": {},
   "outputs": [
    {
     "data": {
      "text/plain": [
       "[<matplotlib.lines.Line2D at 0x220d1a8cf60>]"
      ]
     },
     "execution_count": 105,
     "metadata": {},
     "output_type": "execute_result"
    },
    {
     "data": {
      "image/png": "[encoded data removed]",
      "text/plain": [
       "<Figure size 314x250 with 1 Axes>"
      ]
     },
     "metadata": {
      "needs_background": "light"
     },
     "output_type": "display_data"
    }
   ],
   "source": [
    "plt.figure(dpi=200)\n",
    "x = np.linspace(-25, 25)\n",
    "y = np.cos(x)\n",
    "fft = np.fft.fft(y)\n",
    "freq = np.fft.fftfreq(50, 1)\n",
    "plt.plot(x, y)"
   ]
  },
  {
   "cell_type": "code",
   "execution_count": 106,
   "metadata": {},
   "outputs": [
    {
     "data": {
      "text/plain": [
       "Text(0, 0.5, 'amp')"
      ]
     },
     "execution_count": 106,
     "metadata": {},
     "output_type": "execute_result"
    },
    {
     "data": {
      "image/png": "[encoded data removed]",
      "text/plain": [
       "<Figure size 314x250 with 1 Axes>"
      ]
     },
     "metadata": {
      "needs_background": "light"
     },
     "output_type": "display_data"
    }
   ],
   "source": [
    "plt.figure(dpi=200)\n",
    "plt.plot(freq, fft)\n",
    "plt.xlabel('freq')\n",
    "plt.ylabel('amp')"
   ]
  },
  {
   "cell_type": "code",
   "execution_count": 52,
   "metadata": {},
   "outputs": [
    {
     "data": {
      "text/plain": [
       "[<matplotlib.lines.Line2D at 0x220cea45d30>]"
      ]
     },
     "execution_count": 52,
     "metadata": {},
     "output_type": "execute_result"
    },
    {
     "data": {
      "image/png": "[encoded data removed]",
      "text/plain": [
       "<Figure size 314x250 with 1 Axes>"
      ]
     },
     "metadata": {
      "needs_background": "light"
     },
     "output_type": "display_data"
    }
   ],
   "source": [
    "plt.figure(dpi=200)\n",
    "plt.plot(freq)"
   ]
  },
  {
   "cell_type": "markdown",
   "metadata": {},
   "source": [
    "The highest peaks are at $\\pm 0.15$, as shown in the figure below.\n",
    "<img src='temp_data\\FFTfreq.jpg'>"
   ]
  },
  {
   "cell_type": "markdown",
   "metadata": {},
   "source": [
    "The real period of the cos function $f(x) = cos(x)$ is $2\\pi$. The corresponding frequency is $1/2\\pi = 0.159$, very close to 0.15. Thus, the default np.fft.fftfreq() function returns the \"frequency\". This frequency measures how many wave period there can be in one unit length, so it is equivalent to \"wavenumber\"."
   ]
  },
  {
   "cell_type": "code",
   "execution_count": null,
   "metadata": {},
   "outputs": [],
   "source": []
  },
  {
   "cell_type": "markdown",
   "metadata": {},
   "source": [
    "## 4 Plot $E$ as a function of $k$"
   ]
  },
  {
   "cell_type": "code",
   "execution_count": 104,
   "metadata": {},
   "outputs": [],
   "source": [
    "shape = E.shape\n",
    "k, K = compute_wavenumber_field(shape)"
   ]
  },
  {
   "cell_type": "code",
   "execution_count": 106,
   "metadata": {},
   "outputs": [],
   "source": [
    "ind = np.argsort(k.flatten())"
   ]
  },
  {
   "cell_type": "code",
   "execution_count": 111,
   "metadata": {},
   "outputs": [],
   "source": [
    "k_plot = k.flatten()[ind]\n",
    "E_plot = E.real.flatten()[ind]"
   ]
  },
  {
   "cell_type": "code",
   "execution_count": 120,
   "metadata": {},
   "outputs": [
    {
     "data": {
      "text/plain": [
       "[]"
      ]
     },
     "execution_count": 120,
     "metadata": {},
     "output_type": "execute_result"
    },
    {
     "data": {
      "image/png": "[encoded data removed]",
      "text/plain": [
       "<Figure size 246.49x196.25 with 1 Axes>"
      ]
     },
     "metadata": {
      "needs_background": "light"
     },
     "output_type": "display_data"
    }
   ],
   "source": [
    "plt.plot(k_plot, E_plot, marker='o', ls='', markersize=1)\n",
    "plt.loglog()"
   ]
  },
  {
   "cell_type": "code",
   "execution_count": 113,
   "metadata": {},
   "outputs": [
    {
     "data": {
      "text/plain": [
       "32.64965543462902"
      ]
     },
     "execution_count": 113,
     "metadata": {},
     "output_type": "execute_result"
    }
   ],
   "source": [
    "(21**2+25**2)**0.5"
   ]
  },
  {
   "cell_type": "markdown",
   "metadata": {},
   "source": [
    "## 5 Energy spectrum function"
   ]
  },
  {
   "cell_type": "code",
   "execution_count": 123,
   "metadata": {},
   "outputs": [],
   "source": [
    "def energy_spectrum(pivData):\n",
    "    \"\"\"\n",
    "    Compute energy spectrum (E vs k) from pivData.\n",
    "    \n",
    "    Args:\n",
    "    pivData -- piv data\n",
    "    \n",
    "    Returns:\n",
    "    es -- energy spectrum, DataFrame (k, E)\n",
    "    \"\"\"\n",
    "    \n",
    "    E = compute_energy_density(pivData)\n",
    "    k, K = compute_wavenumber_field(E.shape)\n",
    "    \n",
    "    ind = np.argsort(k.flatten())\n",
    "    k_plot = k.flatten()[ind]\n",
    "    E_plot = E.real.flatten()[ind]\n",
    "    \n",
    "    es = pd.DataFrame(data={'k': k_plot, 'E': E_plot})\n",
    "    \n",
    "    return es"
   ]
  },
  {
   "cell_type": "code",
   "execution_count": 125,
   "metadata": {
    "scrolled": true
   },
   "outputs": [
    {
     "name": "stdout",
     "output_type": "stream",
     "text": [
      "Wall time: 4 ms\n"
     ]
    },
    {
     "data": {
      "text/html": [
       "<div>\n",
       "<style scoped>\n",
       "    .dataframe tbody tr th:only-of-type {\n",
       "        vertical-align: middle;\n",
       "    }\n",
       "\n",
       "    .dataframe tbody tr th {\n",
       "        vertical-align: top;\n",
       "    }\n",
       "\n",
       "    .dataframe thead th {\n",
       "        text-align: right;\n",
       "    }\n",
       "</style>\n",
       "<table border=\"1\" class=\"dataframe\">\n",
       "  <thead>\n",
       "    <tr style=\"text-align: right;\">\n",
       "      <th></th>\n",
       "      <th>k</th>\n",
       "      <th>E</th>\n",
       "    </tr>\n",
       "  </thead>\n",
       "  <tbody>\n",
       "    <tr>\n",
       "      <th>0</th>\n",
       "      <td>0.000000</td>\n",
       "      <td>8.825846e+07</td>\n",
       "    </tr>\n",
       "    <tr>\n",
       "      <th>1</th>\n",
       "      <td>0.000000</td>\n",
       "      <td>1.636583e+08</td>\n",
       "    </tr>\n",
       "    <tr>\n",
       "      <th>2</th>\n",
       "      <td>0.000000</td>\n",
       "      <td>1.705652e+08</td>\n",
       "    </tr>\n",
       "    <tr>\n",
       "      <th>3</th>\n",
       "      <td>0.000000</td>\n",
       "      <td>2.944276e+07</td>\n",
       "    </tr>\n",
       "    <tr>\n",
       "      <th>4</th>\n",
       "      <td>1.000000</td>\n",
       "      <td>8.695576e+07</td>\n",
       "    </tr>\n",
       "    <tr>\n",
       "      <th>...</th>\n",
       "      <td>...</td>\n",
       "      <td>...</td>\n",
       "    </tr>\n",
       "    <tr>\n",
       "      <th>2095</th>\n",
       "      <td>30.610456</td>\n",
       "      <td>9.544344e+03</td>\n",
       "    </tr>\n",
       "    <tr>\n",
       "      <th>2096</th>\n",
       "      <td>31.240999</td>\n",
       "      <td>6.593195e+03</td>\n",
       "    </tr>\n",
       "    <tr>\n",
       "      <th>2097</th>\n",
       "      <td>31.240999</td>\n",
       "      <td>1.921320e+03</td>\n",
       "    </tr>\n",
       "    <tr>\n",
       "      <th>2098</th>\n",
       "      <td>31.240999</td>\n",
       "      <td>1.842301e+04</td>\n",
       "    </tr>\n",
       "    <tr>\n",
       "      <th>2099</th>\n",
       "      <td>31.240999</td>\n",
       "      <td>3.360666e+03</td>\n",
       "    </tr>\n",
       "  </tbody>\n",
       "</table>\n",
       "<p>2100 rows × 2 columns</p>\n",
       "</div>"
      ],
      "text/plain": [
       "              k             E\n",
       "0      0.000000  8.825846e+07\n",
       "1      0.000000  1.636583e+08\n",
       "2      0.000000  1.705652e+08\n",
       "3      0.000000  2.944276e+07\n",
       "4      1.000000  8.695576e+07\n",
       "...         ...           ...\n",
       "2095  30.610456  9.544344e+03\n",
       "2096  31.240999  6.593195e+03\n",
       "2097  31.240999  1.921320e+03\n",
       "2098  31.240999  1.842301e+04\n",
       "2099  31.240999  3.360666e+03\n",
       "\n",
       "[2100 rows x 2 columns]"
      ]
     },
     "execution_count": 125,
     "metadata": {},
     "output_type": "execute_result"
    }
   ],
   "source": [
    "%%time\n",
    "energy_spectrum(pivData)"
   ]
  },
  {
   "cell_type": "markdown",
   "metadata": {},
   "source": [
    "**An alternative way to calculate energy spectrum**\n",
    "\n",
    "By virtue of the Wiener-Khinchine theorem, energy spectrum $E(k)$ can be estimated by Fourier transformation of the equal-time two-point velocity correlation function, yielding\n",
    "$$\n",
    "E_d(k)=\\frac{k^{d-1}}{C_d}\\int d^d R e^{-ikR} \\langle v(t, r)\\cdot v(t, r+R)\\rangle\n",
    "$$\n",
    "where $C_2=2\\pi$ and $C_3=4\\pi$.\n",
    "\n",
    "Wensink (2012)"
   ]
  },
  {
   "cell_type": "markdown",
   "metadata": {},
   "source": [
    "In two dimensions, the formula becomes \n",
    "$$\n",
    "E(k)=\\frac{k}{2\\pi}\\int d^2 R e^{-ikR} \\langle v(t, r)\\cdot v(t, r+R)\\rangle\n",
    "$$"
   ]
  },
  {
   "cell_type": "code",
   "execution_count": 102,
   "metadata": {},
   "outputs": [
    {
     "data": {
      "text/plain": [
       "[]"
      ]
     },
     "execution_count": 102,
     "metadata": {},
     "output_type": "execute_result"
    },
    {
     "data": {
      "image/png": "[encoded data removed]",
      "text/plain": [
       "<Figure size 246.49x196.25 with 1 Axes>"
      ]
     },
     "metadata": {
      "needs_background": "light"
     },
     "output_type": "display_data"
    }
   ],
   "source": [
    "pivData = pd.read_csv(r'D:\\density_fluctuations\\08032020\\piv_imseq\\02\\0000-0001.csv')\n",
    "\n",
    "row = len(pivData.y.drop_duplicates())\n",
    "col = len(pivData.x.drop_duplicates())\n",
    "X = np.array(pivData.x).reshape((row, col))\n",
    "Y = np.array(pivData.y).reshape((row, col))\n",
    "U = np.array(pivData.u).reshape((row, col))\n",
    "V = np.array(pivData.v).reshape((row, col))\n",
    "\n",
    "XS, YS, CA, CV = corrS(X, Y, U, V)\n",
    "\n",
    "k, K = compute_wavenumber_field(XS.shape, 25*0.33)\n",
    "\n",
    "E = k / 2 / np.pi * np.fft.fft2(CV)\n",
    "\n",
    "ind = np.argsort(k.flatten())\n",
    "k_plot = k.flatten()[ind]\n",
    "E_plot = E.real.flatten()[ind]\n",
    "\n",
    "plt.plot(k_plot*3, savgol_filter(E_plot, 51, 3))\n",
    "plt.loglog()"
   ]
  },
  {
   "cell_type": "code",
   "execution_count": 77,
   "metadata": {},
   "outputs": [
    {
     "name": "stdout",
     "output_type": "stream",
     "text": [
      "Help on function corrS in module corrLib:\n",
      "\n",
      "corrS(X, Y, U, V)\n",
      "\n"
     ]
    }
   ],
   "source": [
    "help(corrS)"
   ]
  },
  {
   "cell_type": "markdown",
   "metadata": {},
   "source": [
    "## 6 Batch process"
   ]
  },
  {
   "cell_type": "code",
   "execution_count": 131,
   "metadata": {},
   "outputs": [],
   "source": [
    "piv_master_folder = r'E:\\moreData\\08032020\\piv_imseq'\n",
    "es_master_folder = r'E:\\moreData\\08032020\\energy_spectrum'\n",
    "sfL = next(os.walk(piv_master_folder))[1]\n",
    "for sf in sfL:\n",
    "    piv_folder = os.path.join(piv_master_folder, sf)\n",
    "    es_folder = os.path.join(es_master_folder, sf)\n",
    "    if os.path.exists(es_folder) == False:\n",
    "        os.makedirs(es_folder)\n",
    "    l = readdata(piv_folder, 'csv')\n",
    "    l_crop = l[l.index>l.index.max()*0.8]\n",
    "    for num, i in l_crop.iterrows():\n",
    "        pivData = pd.read_csv(i.Dir)\n",
    "        es = energy_spectrum(pivData)\n",
    "        es.to_csv(os.path.join(es_folder, i.Name+'.csv'), index=False)"
   ]
  },
  {
   "cell_type": "markdown",
   "metadata": {},
   "source": [
    "## 7 Summarize data\n",
    "After the batch process, I have multiple energy spectrum data for each sample. To summarize, I compress the data for each sample into one energy spectrum by averaging over all data for this sample. This average will be saved to a summary .csv file under 'energy_spectrum' folder'."
   ]
  },
  {
   "cell_type": "code",
   "execution_count": 111,
   "metadata": {},
   "outputs": [],
   "source": [
    "folder = r'D:\\density_fluctuations\\08052020\\energy_spectrum'\n",
    "sfL = next(os.walk(folder))[1]\n",
    "count = 0\n",
    "for sf in sfL:\n",
    "    es_folder = os.path.join(folder, sf)\n",
    "    l = readdata(es_folder, 'csv')\n",
    "    for num, i in l.iterrows():\n",
    "        if num == 0:\n",
    "            data = pd.read_csv(i.Dir)\n",
    "        else:\n",
    "            data += pd.read_csv(i.Dir)\n",
    "    data /= num + 1\n",
    "    if count == 0:\n",
    "        summary = data.assign(sample=sf)\n",
    "    else:\n",
    "        summary = summary.append(data.assign(sample=sf))\n",
    "    count += 1"
   ]
  },
  {
   "cell_type": "code",
   "execution_count": 110,
   "metadata": {},
   "outputs": [],
   "source": [
    "summary.to_csv(os.path.join(folder, 'summary.csv'), index=False)"
   ]
  },
  {
   "cell_type": "code",
   "execution_count": 14,
   "metadata": {
    "collapsed": true
   },
   "outputs": [
    {
     "data": {
      "text/html": [
       "<div>\n",
       "<style scoped>\n",
       "    .dataframe tbody tr th:only-of-type {\n",
       "        vertical-align: middle;\n",
       "    }\n",
       "\n",
       "    .dataframe tbody tr th {\n",
       "        vertical-align: top;\n",
       "    }\n",
       "\n",
       "    .dataframe thead th {\n",
       "        text-align: right;\n",
       "    }\n",
       "</style>\n",
       "<table border=\"1\" class=\"dataframe\">\n",
       "  <thead>\n",
       "    <tr style=\"text-align: right;\">\n",
       "      <th></th>\n",
       "      <th>E</th>\n",
       "      <th>k</th>\n",
       "      <th>sample</th>\n",
       "    </tr>\n",
       "  </thead>\n",
       "  <tbody>\n",
       "    <tr>\n",
       "      <th>0</th>\n",
       "      <td>7.013958e+07</td>\n",
       "      <td>0.000000</td>\n",
       "      <td>00</td>\n",
       "    </tr>\n",
       "    <tr>\n",
       "      <th>1</th>\n",
       "      <td>8.346525e+07</td>\n",
       "      <td>0.000000</td>\n",
       "      <td>00</td>\n",
       "    </tr>\n",
       "    <tr>\n",
       "      <th>2</th>\n",
       "      <td>9.665691e+07</td>\n",
       "      <td>0.000000</td>\n",
       "      <td>00</td>\n",
       "    </tr>\n",
       "    <tr>\n",
       "      <th>3</th>\n",
       "      <td>8.152549e+07</td>\n",
       "      <td>0.000000</td>\n",
       "      <td>00</td>\n",
       "    </tr>\n",
       "    <tr>\n",
       "      <th>4</th>\n",
       "      <td>5.723459e+07</td>\n",
       "      <td>1.000000</td>\n",
       "      <td>00</td>\n",
       "    </tr>\n",
       "    <tr>\n",
       "      <th>5</th>\n",
       "      <td>8.346525e+07</td>\n",
       "      <td>1.000000</td>\n",
       "      <td>00</td>\n",
       "    </tr>\n",
       "    <tr>\n",
       "      <th>6</th>\n",
       "      <td>4.492389e+07</td>\n",
       "      <td>1.000000</td>\n",
       "      <td>00</td>\n",
       "    </tr>\n",
       "    <tr>\n",
       "      <th>7</th>\n",
       "      <td>8.669344e+07</td>\n",
       "      <td>1.000000</td>\n",
       "      <td>00</td>\n",
       "    </tr>\n",
       "    <tr>\n",
       "      <th>8</th>\n",
       "      <td>7.331938e+07</td>\n",
       "      <td>1.000000</td>\n",
       "      <td>00</td>\n",
       "    </tr>\n",
       "    <tr>\n",
       "      <th>9</th>\n",
       "      <td>8.669344e+07</td>\n",
       "      <td>1.000000</td>\n",
       "      <td>00</td>\n",
       "    </tr>\n",
       "    <tr>\n",
       "      <th>10</th>\n",
       "      <td>6.106999e+07</td>\n",
       "      <td>1.000000</td>\n",
       "      <td>00</td>\n",
       "    </tr>\n",
       "    <tr>\n",
       "      <th>11</th>\n",
       "      <td>9.665691e+07</td>\n",
       "      <td>1.000000</td>\n",
       "      <td>00</td>\n",
       "    </tr>\n",
       "    <tr>\n",
       "      <th>12</th>\n",
       "      <td>8.152549e+07</td>\n",
       "      <td>1.414214</td>\n",
       "      <td>00</td>\n",
       "    </tr>\n",
       "    <tr>\n",
       "      <th>13</th>\n",
       "      <td>3.556372e+07</td>\n",
       "      <td>1.414214</td>\n",
       "      <td>00</td>\n",
       "    </tr>\n",
       "    <tr>\n",
       "      <th>14</th>\n",
       "      <td>3.408849e+07</td>\n",
       "      <td>1.414214</td>\n",
       "      <td>00</td>\n",
       "    </tr>\n",
       "    <tr>\n",
       "      <th>15</th>\n",
       "      <td>4.937317e+07</td>\n",
       "      <td>1.414214</td>\n",
       "      <td>00</td>\n",
       "    </tr>\n",
       "    <tr>\n",
       "      <th>16</th>\n",
       "      <td>4.937317e+07</td>\n",
       "      <td>2.000000</td>\n",
       "      <td>00</td>\n",
       "    </tr>\n",
       "    <tr>\n",
       "      <th>17</th>\n",
       "      <td>1.613439e+07</td>\n",
       "      <td>2.000000</td>\n",
       "      <td>00</td>\n",
       "    </tr>\n",
       "    <tr>\n",
       "      <th>18</th>\n",
       "      <td>4.025515e+07</td>\n",
       "      <td>2.000000</td>\n",
       "      <td>00</td>\n",
       "    </tr>\n",
       "    <tr>\n",
       "      <th>19</th>\n",
       "      <td>7.331938e+07</td>\n",
       "      <td>2.000000</td>\n",
       "      <td>00</td>\n",
       "    </tr>\n",
       "    <tr>\n",
       "      <th>20</th>\n",
       "      <td>3.218000e+07</td>\n",
       "      <td>2.000000</td>\n",
       "      <td>00</td>\n",
       "    </tr>\n",
       "    <tr>\n",
       "      <th>21</th>\n",
       "      <td>3.408849e+07</td>\n",
       "      <td>2.000000</td>\n",
       "      <td>00</td>\n",
       "    </tr>\n",
       "    <tr>\n",
       "      <th>22</th>\n",
       "      <td>6.106999e+07</td>\n",
       "      <td>2.000000</td>\n",
       "      <td>00</td>\n",
       "    </tr>\n",
       "    <tr>\n",
       "      <th>23</th>\n",
       "      <td>3.750867e+07</td>\n",
       "      <td>2.000000</td>\n",
       "      <td>00</td>\n",
       "    </tr>\n",
       "    <tr>\n",
       "      <th>24</th>\n",
       "      <td>2.275435e+07</td>\n",
       "      <td>2.236068</td>\n",
       "      <td>00</td>\n",
       "    </tr>\n",
       "    <tr>\n",
       "      <th>25</th>\n",
       "      <td>3.346465e+07</td>\n",
       "      <td>2.236068</td>\n",
       "      <td>00</td>\n",
       "    </tr>\n",
       "    <tr>\n",
       "      <th>26</th>\n",
       "      <td>4.492389e+07</td>\n",
       "      <td>2.236068</td>\n",
       "      <td>00</td>\n",
       "    </tr>\n",
       "    <tr>\n",
       "      <th>27</th>\n",
       "      <td>5.723459e+07</td>\n",
       "      <td>2.236068</td>\n",
       "      <td>00</td>\n",
       "    </tr>\n",
       "    <tr>\n",
       "      <th>28</th>\n",
       "      <td>2.408740e+07</td>\n",
       "      <td>2.236068</td>\n",
       "      <td>00</td>\n",
       "    </tr>\n",
       "    <tr>\n",
       "      <th>29</th>\n",
       "      <td>1.927697e+07</td>\n",
       "      <td>2.236068</td>\n",
       "      <td>00</td>\n",
       "    </tr>\n",
       "    <tr>\n",
       "      <th>...</th>\n",
       "      <td>...</td>\n",
       "      <td>...</td>\n",
       "      <td>...</td>\n",
       "    </tr>\n",
       "    <tr>\n",
       "      <th>2070</th>\n",
       "      <td>8.891928e+00</td>\n",
       "      <td>29.206164</td>\n",
       "      <td>12</td>\n",
       "    </tr>\n",
       "    <tr>\n",
       "      <th>2071</th>\n",
       "      <td>1.158443e+01</td>\n",
       "      <td>29.206164</td>\n",
       "      <td>12</td>\n",
       "    </tr>\n",
       "    <tr>\n",
       "      <th>2072</th>\n",
       "      <td>1.132588e+01</td>\n",
       "      <td>29.410882</td>\n",
       "      <td>12</td>\n",
       "    </tr>\n",
       "    <tr>\n",
       "      <th>2073</th>\n",
       "      <td>9.925628e+00</td>\n",
       "      <td>29.410882</td>\n",
       "      <td>12</td>\n",
       "    </tr>\n",
       "    <tr>\n",
       "      <th>2074</th>\n",
       "      <td>1.080141e+01</td>\n",
       "      <td>29.410882</td>\n",
       "      <td>12</td>\n",
       "    </tr>\n",
       "    <tr>\n",
       "      <th>2075</th>\n",
       "      <td>8.224692e+00</td>\n",
       "      <td>29.410882</td>\n",
       "      <td>12</td>\n",
       "    </tr>\n",
       "    <tr>\n",
       "      <th>2076</th>\n",
       "      <td>8.239937e+00</td>\n",
       "      <td>29.732137</td>\n",
       "      <td>12</td>\n",
       "    </tr>\n",
       "    <tr>\n",
       "      <th>2077</th>\n",
       "      <td>6.809167e+00</td>\n",
       "      <td>29.732137</td>\n",
       "      <td>12</td>\n",
       "    </tr>\n",
       "    <tr>\n",
       "      <th>2078</th>\n",
       "      <td>7.526180e+00</td>\n",
       "      <td>29.732137</td>\n",
       "      <td>12</td>\n",
       "    </tr>\n",
       "    <tr>\n",
       "      <th>2079</th>\n",
       "      <td>6.486600e+00</td>\n",
       "      <td>29.732137</td>\n",
       "      <td>12</td>\n",
       "    </tr>\n",
       "    <tr>\n",
       "      <th>2080</th>\n",
       "      <td>8.679217e+00</td>\n",
       "      <td>29.832868</td>\n",
       "      <td>12</td>\n",
       "    </tr>\n",
       "    <tr>\n",
       "      <th>2081</th>\n",
       "      <td>7.547173e+00</td>\n",
       "      <td>29.832868</td>\n",
       "      <td>12</td>\n",
       "    </tr>\n",
       "    <tr>\n",
       "      <th>2082</th>\n",
       "      <td>6.809167e+00</td>\n",
       "      <td>29.832868</td>\n",
       "      <td>12</td>\n",
       "    </tr>\n",
       "    <tr>\n",
       "      <th>2083</th>\n",
       "      <td>6.512006e+00</td>\n",
       "      <td>29.832868</td>\n",
       "      <td>12</td>\n",
       "    </tr>\n",
       "    <tr>\n",
       "      <th>2084</th>\n",
       "      <td>8.224692e+00</td>\n",
       "      <td>30.000000</td>\n",
       "      <td>12</td>\n",
       "    </tr>\n",
       "    <tr>\n",
       "      <th>2085</th>\n",
       "      <td>7.547173e+00</td>\n",
       "      <td>30.000000</td>\n",
       "      <td>12</td>\n",
       "    </tr>\n",
       "    <tr>\n",
       "      <th>2086</th>\n",
       "      <td>7.312273e+00</td>\n",
       "      <td>30.000000</td>\n",
       "      <td>12</td>\n",
       "    </tr>\n",
       "    <tr>\n",
       "      <th>2087</th>\n",
       "      <td>9.412571e+00</td>\n",
       "      <td>30.000000</td>\n",
       "      <td>12</td>\n",
       "    </tr>\n",
       "    <tr>\n",
       "      <th>2088</th>\n",
       "      <td>6.486600e+00</td>\n",
       "      <td>30.479501</td>\n",
       "      <td>12</td>\n",
       "    </tr>\n",
       "    <tr>\n",
       "      <th>2089</th>\n",
       "      <td>5.979610e+00</td>\n",
       "      <td>30.479501</td>\n",
       "      <td>12</td>\n",
       "    </tr>\n",
       "    <tr>\n",
       "      <th>2090</th>\n",
       "      <td>6.107095e+00</td>\n",
       "      <td>30.479501</td>\n",
       "      <td>12</td>\n",
       "    </tr>\n",
       "    <tr>\n",
       "      <th>2091</th>\n",
       "      <td>7.030725e+00</td>\n",
       "      <td>30.479501</td>\n",
       "      <td>12</td>\n",
       "    </tr>\n",
       "    <tr>\n",
       "      <th>2092</th>\n",
       "      <td>7.630552e+00</td>\n",
       "      <td>30.610456</td>\n",
       "      <td>12</td>\n",
       "    </tr>\n",
       "    <tr>\n",
       "      <th>2093</th>\n",
       "      <td>6.483747e+00</td>\n",
       "      <td>30.610456</td>\n",
       "      <td>12</td>\n",
       "    </tr>\n",
       "    <tr>\n",
       "      <th>2094</th>\n",
       "      <td>5.979610e+00</td>\n",
       "      <td>30.610456</td>\n",
       "      <td>12</td>\n",
       "    </tr>\n",
       "    <tr>\n",
       "      <th>2095</th>\n",
       "      <td>7.312273e+00</td>\n",
       "      <td>30.610456</td>\n",
       "      <td>12</td>\n",
       "    </tr>\n",
       "    <tr>\n",
       "      <th>2096</th>\n",
       "      <td>6.483747e+00</td>\n",
       "      <td>31.240999</td>\n",
       "      <td>12</td>\n",
       "    </tr>\n",
       "    <tr>\n",
       "      <th>2097</th>\n",
       "      <td>6.107095e+00</td>\n",
       "      <td>31.240999</td>\n",
       "      <td>12</td>\n",
       "    </tr>\n",
       "    <tr>\n",
       "      <th>2098</th>\n",
       "      <td>5.225843e+00</td>\n",
       "      <td>31.240999</td>\n",
       "      <td>12</td>\n",
       "    </tr>\n",
       "    <tr>\n",
       "      <th>2099</th>\n",
       "      <td>6.512006e+00</td>\n",
       "      <td>31.240999</td>\n",
       "      <td>12</td>\n",
       "    </tr>\n",
       "  </tbody>\n",
       "</table>\n",
       "<p>27300 rows × 3 columns</p>\n",
       "</div>"
      ],
      "text/plain": [
       "                 E          k sample\n",
       "0     7.013958e+07   0.000000     00\n",
       "1     8.346525e+07   0.000000     00\n",
       "2     9.665691e+07   0.000000     00\n",
       "3     8.152549e+07   0.000000     00\n",
       "4     5.723459e+07   1.000000     00\n",
       "5     8.346525e+07   1.000000     00\n",
       "6     4.492389e+07   1.000000     00\n",
       "7     8.669344e+07   1.000000     00\n",
       "8     7.331938e+07   1.000000     00\n",
       "9     8.669344e+07   1.000000     00\n",
       "10    6.106999e+07   1.000000     00\n",
       "11    9.665691e+07   1.000000     00\n",
       "12    8.152549e+07   1.414214     00\n",
       "13    3.556372e+07   1.414214     00\n",
       "14    3.408849e+07   1.414214     00\n",
       "15    4.937317e+07   1.414214     00\n",
       "16    4.937317e+07   2.000000     00\n",
       "17    1.613439e+07   2.000000     00\n",
       "18    4.025515e+07   2.000000     00\n",
       "19    7.331938e+07   2.000000     00\n",
       "20    3.218000e+07   2.000000     00\n",
       "21    3.408849e+07   2.000000     00\n",
       "22    6.106999e+07   2.000000     00\n",
       "23    3.750867e+07   2.000000     00\n",
       "24    2.275435e+07   2.236068     00\n",
       "25    3.346465e+07   2.236068     00\n",
       "26    4.492389e+07   2.236068     00\n",
       "27    5.723459e+07   2.236068     00\n",
       "28    2.408740e+07   2.236068     00\n",
       "29    1.927697e+07   2.236068     00\n",
       "...            ...        ...    ...\n",
       "2070  8.891928e+00  29.206164     12\n",
       "2071  1.158443e+01  29.206164     12\n",
       "2072  1.132588e+01  29.410882     12\n",
       "2073  9.925628e+00  29.410882     12\n",
       "2074  1.080141e+01  29.410882     12\n",
       "2075  8.224692e+00  29.410882     12\n",
       "2076  8.239937e+00  29.732137     12\n",
       "2077  6.809167e+00  29.732137     12\n",
       "2078  7.526180e+00  29.732137     12\n",
       "2079  6.486600e+00  29.732137     12\n",
       "2080  8.679217e+00  29.832868     12\n",
       "2081  7.547173e+00  29.832868     12\n",
       "2082  6.809167e+00  29.832868     12\n",
       "2083  6.512006e+00  29.832868     12\n",
       "2084  8.224692e+00  30.000000     12\n",
       "2085  7.547173e+00  30.000000     12\n",
       "2086  7.312273e+00  30.000000     12\n",
       "2087  9.412571e+00  30.000000     12\n",
       "2088  6.486600e+00  30.479501     12\n",
       "2089  5.979610e+00  30.479501     12\n",
       "2090  6.107095e+00  30.479501     12\n",
       "2091  7.030725e+00  30.479501     12\n",
       "2092  7.630552e+00  30.610456     12\n",
       "2093  6.483747e+00  30.610456     12\n",
       "2094  5.979610e+00  30.610456     12\n",
       "2095  7.312273e+00  30.610456     12\n",
       "2096  6.483747e+00  31.240999     12\n",
       "2097  6.107095e+00  31.240999     12\n",
       "2098  5.225843e+00  31.240999     12\n",
       "2099  6.512006e+00  31.240999     12\n",
       "\n",
       "[27300 rows x 3 columns]"
      ]
     },
     "execution_count": 14,
     "metadata": {},
     "output_type": "execute_result"
    }
   ],
   "source": [
    "summary"
   ]
  }
 ],
 "metadata": {
  "kernelspec": {
   "display_name": "Python 3",
   "language": "python",
   "name": "python3"
  },
  "language_info": {
   "codemirror_mode": {
    "name": "ipython",
    "version": 3
   },
   "file_extension": ".py",
   "mimetype": "text/x-python",
   "name": "python",
   "nbconvert_exporter": "python",
   "pygments_lexer": "ipython3",
   "version": "3.7.3"
  }
 },
 "nbformat": 4,
 "nbformat_minor": 4
}

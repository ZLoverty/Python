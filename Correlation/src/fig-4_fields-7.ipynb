{
 "cells": [
  {
   "cell_type": "markdown",
   "metadata": {},
   "source": [
    "# What drives giant number fluctuations?\n",
    "\n",
    "We have shown in previous analysis that the convection flow field correlates with the local density fluctuation field best, among all the flow derivatives. However, highest correlation does not necessarily imply convection is the driving force, because the high correlation could just result from a simple mechanism: concentration gradient drives velocity. The magnitude may also not be the dominant one among all the flow derivatives. Indeed, our calculation shows that the divergence field is order of magnitude larger than the convection field. \n",
    "\n",
    "In this notebook, I want to further support, or disprove, the idea that convection is the driving force. To do that, I compare the direction of velocity and concentration gradient. The if the directions are mostly opposite, convection is likely to be cause of GNF. Otherwise, convection is surely not. "
   ]
  },
  {
   "cell_type": "markdown",
   "metadata": {},
   "source": [
    "## 1 Packages"
   ]
  },
  {
   "cell_type": "code",
   "execution_count": 4,
   "metadata": {},
   "outputs": [],
   "source": [
    "import pandas as pd\n",
    "import numpy as np\n",
    "import matplotlib.pyplot as plt\n",
    "import os\n",
    "from corr_utils import *\n",
    "import typesetting.main as tm\n",
    "tm.prl('1-column-2-panel')\n",
    "from skimage import io\n",
    "import corrLib"
   ]
  },
  {
   "cell_type": "markdown",
   "metadata": {},
   "source": [
    "# 2 Velocity and concentration gradient"
   ]
  },
  {
   "cell_type": "code",
   "execution_count": 42,
   "metadata": {},
   "outputs": [],
   "source": [
    "# take 08032020/01 frame 3000 as an example\n",
    "n = 2900\n",
    "piv_folder = r'E:\\moreData\\08032020\\piv_imseq\\05'\n",
    "img_folder = r'E:\\moreData\\08032020\\05\\8-bit'\n",
    "step = 25\n",
    "pivData = pd.read_csv(os.path.join(piv_folder, '{0:04d}-{1:04d}.csv'.format(n, n+1)))\n",
    "x = pivData.x.drop_duplicates()\n",
    "y = pivData.y.drop_duplicates()\n",
    "shape = (len(y), len(x))\n",
    "u = np.array(pivData.u).reshape(shape)\n",
    "v = np.array(pivData.v).reshape(shape)\n",
    "img = io.imread(os.path.join(img_folder, '{:04d}.tif'.format(n)))\n",
    "X, Y, I = corrLib.divide_windows(img, windowsize=[50, 50], step=25)\n",
    "dcx = np.gradient(I, -step, axis=1)\n",
    "dcy = np.gradient(I, -step, axis=0)\n",
    "du = np.gradient(u, step, axis=1)\n",
    "dv = np.gradient(v, step, axis=0)"
   ]
  },
  {
   "cell_type": "code",
   "execution_count": 18,
   "metadata": {},
   "outputs": [],
   "source": [
    "prod = dcx * du + dcy * dv\n",
    "prod = prod / abs(prod)"
   ]
  },
  {
   "cell_type": "code",
   "execution_count": 22,
   "metadata": {},
   "outputs": [
    {
     "data": {
      "text/plain": [
       "[<matplotlib.lines.Line2D at 0x20797482448>]"
      ]
     },
     "execution_count": 22,
     "metadata": {},
     "output_type": "execute_result"
    },
    {
     "data": {
      "image/png": "[encoded data removed]",
      "text/plain": [
       "<Figure size 246.49x196.25 with 1 Axes>"
      ]
     },
     "metadata": {
      "needs_background": "light"
     },
     "output_type": "display_data"
    }
   ],
   "source": [
    "prod_list = []\n",
    "t = range(2000, 3500, 100)\n",
    "for n in t:\n",
    "    pivData = pd.read_csv(os.path.join(piv_folder, '{0:04d}-{1:04d}.csv'.format(n, n+1)))\n",
    "    u = np.array(pivData.u).reshape(shape)\n",
    "    v = np.array(pivData.v).reshape(shape)\n",
    "    img = io.imread(os.path.join(img_folder, '{:04d}.tif'.format(n)))\n",
    "    X, Y, I = corrLib.divide_windows(img, windowsize=[50, 50], step=25)\n",
    "    dcx = np.gradient(I, -step, axis=1)\n",
    "    dcy = np.gradient(I, -step, axis=0)\n",
    "    du = np.gradient(u, step, axis=1)\n",
    "    dv = np.gradient(v, step, axis=0)\n",
    "    prod = dcx * du + dcy * dv\n",
    "    prod = prod / abs(prod)\n",
    "    prod_list.append(np.sum(prod))\n",
    "plt.plot(t, prod_list)"
   ]
  },
  {
   "cell_type": "markdown",
   "metadata": {},
   "source": [
    "Whether the direction of velocity is the same as or opposite of the concentration gradient direction looks completely random. Next, let's put the magnitude of both quantities as weight."
   ]
  },
  {
   "cell_type": "code",
   "execution_count": 43,
   "metadata": {},
   "outputs": [
    {
     "data": {
      "text/plain": [
       "[<matplotlib.lines.Line2D at 0x20797784648>]"
      ]
     },
     "execution_count": 43,
     "metadata": {},
     "output_type": "execute_result"
    },
    {
     "data": {
      "image/png": "[encoded data removed]",
      "text/plain": [
       "<Figure size 246.49x196.25 with 1 Axes>"
      ]
     },
     "metadata": {
      "needs_background": "light"
     },
     "output_type": "display_data"
    }
   ],
   "source": [
    "prod_list = []\n",
    "t = range(2000, 3500, 20)\n",
    "for n in t:\n",
    "    pivData = pd.read_csv(os.path.join(piv_folder, '{0:04d}-{1:04d}.csv'.format(n, n+1)))\n",
    "    u = np.array(pivData.u).reshape(shape)\n",
    "    v = np.array(pivData.v).reshape(shape)\n",
    "    img = io.imread(os.path.join(img_folder, '{:04d}.tif'.format(n)))\n",
    "    X, Y, I = corrLib.divide_windows(img, windowsize=[50, 50], step=25)\n",
    "    dcx = np.gradient(-I, step, axis=1)\n",
    "    dcy = np.gradient(-I, step, axis=0)\n",
    "    du = np.gradient(u, step, axis=1)\n",
    "    dv = np.gradient(v, step, axis=0)\n",
    "    prod = dcx * du + dcy * dv\n",
    "    prod_list.append(np.sum(prod))\n",
    "plt.plot(t, prod_list)"
   ]
  },
  {
   "cell_type": "code",
   "execution_count": 44,
   "metadata": {},
   "outputs": [
    {
     "data": {
      "text/plain": [
       "-25.706796291601187"
      ]
     },
     "execution_count": 44,
     "metadata": {},
     "output_type": "execute_result"
    }
   ],
   "source": [
    "np.array(prod_list).sum()"
   ]
  }
 ],
 "metadata": {
  "kernelspec": {
   "display_name": "Python 3",
   "language": "python",
   "name": "python3"
  },
  "language_info": {
   "codemirror_mode": {
    "name": "ipython",
    "version": 3
   },
   "file_extension": ".py",
   "mimetype": "text/x-python",
   "name": "python",
   "nbconvert_exporter": "python",
   "pygments_lexer": "ipython3",
   "version": "3.7.7"
  }
 },
 "nbformat": 4,
 "nbformat_minor": 4
}

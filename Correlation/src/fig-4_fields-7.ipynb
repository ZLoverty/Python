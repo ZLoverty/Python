{
 "cells": [
  {
   "cell_type": "markdown",
   "metadata": {},
   "source": [
    "# What drives giant number fluctuations?\n",
    "\n",
    "We have shown in previous analysis that the convection flow field correlates with the local density fluctuation field best, among all the flow derivatives. However, highest correlation does not necessarily imply convection is the driving force, because the high correlation could just result from a simple mechanism: concentration gradient drives velocity. The magnitude may also not be the dominant one among all the flow derivatives. Indeed, our calculation shows that the divergence field is order of magnitude larger than the convection field. \n",
    "\n",
    "In this notebook, I want to further support, or disprove, the idea that convection is the driving force. To do that, I compare the direction of velocity and concentration gradient. The if the directions are mostly opposite, convection is likely to be cause of GNF. Otherwise, convection is surely not. "
   ]
  },
  {
   "cell_type": "markdown",
   "metadata": {},
   "source": [
    "## 1 Packages"
   ]
  },
  {
   "cell_type": "code",
   "execution_count": 1,
   "metadata": {},
   "outputs": [],
   "source": [
    "import pandas as pd\n",
    "import numpy as np\n",
    "import matplotlib.pyplot as plt\n",
    "import os\n",
    "from corr_utils import *\n",
    "import typesetting.main as tm\n",
    "tm.prl('1-column-2-panel')\n",
    "from skimage import io\n",
    "import corrLib"
   ]
  },
  {
   "cell_type": "markdown",
   "metadata": {},
   "source": [
    "# 2 Velocity and concentration gradient"
   ]
  },
  {
   "cell_type": "markdown",
   "metadata": {},
   "source": [
    "### 2.1 Preliminary test"
   ]
  },
  {
   "cell_type": "code",
   "execution_count": 42,
   "metadata": {},
   "outputs": [],
   "source": [
    "# take 08032020/01 frame 3000 as an example\n",
    "n = 2900\n",
    "piv_folder = r'E:\\moreData\\08032020\\piv_imseq\\05'\n",
    "img_folder = r'E:\\moreData\\08032020\\05\\8-bit'\n",
    "step = 25\n",
    "pivData = pd.read_csv(os.path.join(piv_folder, '{0:04d}-{1:04d}.csv'.format(n, n+1)))\n",
    "x = pivData.x.drop_duplicates()\n",
    "y = pivData.y.drop_duplicates()\n",
    "shape = (len(y), len(x))\n",
    "u = np.array(pivData.u).reshape(shape)\n",
    "v = np.array(pivData.v).reshape(shape)\n",
    "img = io.imread(os.path.join(img_folder, '{:04d}.tif'.format(n)))\n",
    "X, Y, I = corrLib.divide_windows(img, windowsize=[50, 50], step=25)\n",
    "dcx = np.gradient(I, -step, axis=1)\n",
    "dcy = np.gradient(I, -step, axis=0)\n",
    "du = np.gradient(u, step, axis=1)\n",
    "dv = np.gradient(v, step, axis=0)"
   ]
  },
  {
   "cell_type": "code",
   "execution_count": 18,
   "metadata": {},
   "outputs": [],
   "source": [
    "prod = dcx * du + dcy * dv\n",
    "prod = prod / abs(prod)"
   ]
  },
  {
   "cell_type": "code",
   "execution_count": 22,
   "metadata": {},
   "outputs": [
    {
     "data": {
      "text/plain": [
       "[<matplotlib.lines.Line2D at 0x20797482448>]"
      ]
     },
     "execution_count": 22,
     "metadata": {},
     "output_type": "execute_result"
    },
    {
     "data": {
      "image/png": "[encoded data removed]",
      "text/plain": [
       "<Figure size 246.49x196.25 with 1 Axes>"
      ]
     },
     "metadata": {
      "needs_background": "light"
     },
     "output_type": "display_data"
    }
   ],
   "source": [
    "prod_list = []\n",
    "t = range(2000, 3500, 100)\n",
    "for n in t:\n",
    "    pivData = pd.read_csv(os.path.join(piv_folder, '{0:04d}-{1:04d}.csv'.format(n, n+1)))\n",
    "    u = np.array(pivData.u).reshape(shape)\n",
    "    v = np.array(pivData.v).reshape(shape)\n",
    "    img = io.imread(os.path.join(img_folder, '{:04d}.tif'.format(n)))\n",
    "    X, Y, I = corrLib.divide_windows(img, windowsize=[50, 50], step=25)\n",
    "    dcx = np.gradient(I, -step, axis=1)\n",
    "    dcy = np.gradient(I, -step, axis=0)\n",
    "    du = np.gradient(u, step, axis=1)\n",
    "    dv = np.gradient(v, step, axis=0)\n",
    "    prod = dcx * du + dcy * dv\n",
    "    prod = prod / abs(prod)\n",
    "    prod_list.append(np.sum(prod))\n",
    "plt.plot(t, prod_list)"
   ]
  },
  {
   "cell_type": "markdown",
   "metadata": {},
   "source": [
    "Whether the direction of velocity is the same as or opposite of the concentration gradient direction looks completely random. Next, let's put the magnitude of both quantities as weight."
   ]
  },
  {
   "cell_type": "code",
   "execution_count": 43,
   "metadata": {},
   "outputs": [
    {
     "data": {
      "text/plain": [
       "[<matplotlib.lines.Line2D at 0x20797784648>]"
      ]
     },
     "execution_count": 43,
     "metadata": {},
     "output_type": "execute_result"
    },
    {
     "data": {
      "image/png": "[encoded data removed]",
      "text/plain": [
       "<Figure size 246.49x196.25 with 1 Axes>"
      ]
     },
     "metadata": {
      "needs_background": "light"
     },
     "output_type": "display_data"
    }
   ],
   "source": [
    "prod_list = []\n",
    "t = range(2000, 3500, 20)\n",
    "for n in t:\n",
    "    pivData = pd.read_csv(os.path.join(piv_folder, '{0:04d}-{1:04d}.csv'.format(n, n+1)))\n",
    "    u = np.array(pivData.u).reshape(shape)\n",
    "    v = np.array(pivData.v).reshape(shape)\n",
    "    img = io.imread(os.path.join(img_folder, '{:04d}.tif'.format(n)))\n",
    "    X, Y, I = corrLib.divide_windows(img, windowsize=[50, 50], step=25)\n",
    "    dcx = np.gradient(-I, step, axis=1)\n",
    "    dcy = np.gradient(-I, step, axis=0)\n",
    "    du = np.gradient(u, step, axis=1)\n",
    "    dv = np.gradient(v, step, axis=0)\n",
    "    prod = dcx * du + dcy * dv\n",
    "    prod_list.append(np.sum(prod))\n",
    "plt.plot(t, prod_list)"
   ]
  },
  {
   "cell_type": "code",
   "execution_count": 44,
   "metadata": {},
   "outputs": [
    {
     "data": {
      "text/plain": [
       "-25.706796291601187"
      ]
     },
     "execution_count": 44,
     "metadata": {},
     "output_type": "execute_result"
    }
   ],
   "source": [
    "np.array(prod_list).sum()"
   ]
  },
  {
   "cell_type": "markdown",
   "metadata": {},
   "source": [
    "**Comment:** preliminary test shows that the correlation between velocity and spatial concentration gradient does not show a persistant trend, but rather fluctuating around 0, indicating that velocity does not always go in concentration ascent direction. This makes sense because if this is always true, the whole suspension will end up as high concentration clusters. However, there has to be a tendency towards positive correlation (velocity in positive gradient direction means going uphill) as the active turbulence develops, or as concentration goes up. Next, we will compute this correlation in a more systematic way. All frames will be taken into account."
   ]
  },
  {
   "cell_type": "markdown",
   "metadata": {},
   "source": [
    "### 2.2 Function that computes the correlation\n",
    "\n",
    "In this section, we construct a function that computes the correlation between local concentration gradient and local velocity. Before writing the function, we first write some helper functions that makes the final step easier.\n",
    "\n",
    "Due to the working principle of PIV, we have velocity data every other "
   ]
  },
  {
   "cell_type": "markdown",
   "metadata": {},
   "source": [
    "#### 2.2.1 Condense concentration information\n",
    "\n",
    "Concentration has always been derived from the bright field images. While images are typically 1280\\*1080, the data we use are always coarse-grained down to 50\\*42. Although the down sizing step takes only several milliseconds, repeating the process over and over for hundreds of thousands of times (all images) takes a lot of time. Thus, I decide to convert the image sequences to the coarse-grained version and save them as numpy binary data. In this way, the 3000 frame video will be down sized to 3000\\*50\\*42 float16 numbers, which in total is 6M instead of the 4.64G. By saving this down sized data, the data also gets more portable because of the small size, while all the useful information is retained. "
   ]
  },
  {
   "cell_type": "code",
   "execution_count": 3,
   "metadata": {},
   "outputs": [],
   "source": [
    "def down_size_imseq(folder, windowsize=[50, 50], step=25):\n",
    "    \"\"\"\n",
    "    Downsizing an image sequence of k images in given folder and save them as an numpy array of size k*m*n, \n",
    "    where m and n are the downsized dimension of each image. \n",
    "    \n",
    "    Args:\n",
    "    folder -- folder of image sequence\n",
    "    windowsize -- parameter of corrLib.divide_windows(), pixel\n",
    "    step -- parameter of corrLib.divide_windows(), pixel\n",
    "    \n",
    "    Returns:\n",
    "    stack -- numpy array of size k*m*n\n",
    "    \"\"\"\n",
    "    \n",
    "    l = corrLib.readseq(folder)\n",
    "    I_list = []\n",
    "    for num, i in l.iterrows():\n",
    "        img = io.imread(i.Dir)\n",
    "        X, Y, I = corrLib.divide_windows(img, windowsize=windowsize, step=step)\n",
    "        I_list.append(I)\n",
    "    stack = np.stack(I_list, axis=0)\n",
    "    \n",
    "    return stack"
   ]
  },
  {
   "cell_type": "code",
   "execution_count": 4,
   "metadata": {},
   "outputs": [
    {
     "name": "stdout",
     "output_type": "stream",
     "text": [
      "Wall time: 1min 36s\n"
     ]
    }
   ],
   "source": [
    "%%time\n",
    "folder = r'E:\\moreData\\08032020\\00\\8-bit'\n",
    "stack = down_size_imseq(folder)"
   ]
  },
  {
   "cell_type": "code",
   "execution_count": 7,
   "metadata": {},
   "outputs": [],
   "source": [
    "np.save(r'E:\\moreData\\08032020\\small_image\\00.npy', stack)"
   ]
  },
  {
   "cell_type": "code",
   "execution_count": 8,
   "metadata": {},
   "outputs": [
    {
     "name": "stdout",
     "output_type": "stream",
     "text": [
      "Wall time: 33 ms\n"
     ]
    }
   ],
   "source": [
    "%%time\n",
    "stack1 = np.load(r'E:\\moreData\\08032020\\small_image\\00.npy')"
   ]
  },
  {
   "cell_type": "markdown",
   "metadata": {},
   "source": [
    "**Comment:** it takes 96 seconds for the downsizing function to run over 3600 1280\\*1080 images, while it only takes 0.033 seconds to load it from file. This means, for each video, this downsizing step, which can be preprocessed, will save me more than 1 minute. A script *small_imseq.py* has been implemented for this function, under *generic_proc*."
   ]
  },
  {
   "cell_type": "markdown",
   "metadata": {},
   "source": [
    "#### 2.2.2 Compute concentration gradient and correlation\n",
    "\n",
    "Here, we compute the concentration gradient from bright field images. Since concentration is negetively proportional to image intensity, we use negative step size in function *np.gradient()* to make the value comply to convention. Once again, a bias towards positive correlation is desired.\n",
    "\n",
    "In 2d space, concentration gradient and velocity both have two components (x and y). In our data, the dcx and dcy data will be stored in a 2\\*m\\*n array, where the first dimension denotes the component x or y. The PIV data are originally stored in DataFrame's, and I will rearrange the data to conform with the structure of concentration gradients. "
   ]
  },
  {
   "cell_type": "code",
   "execution_count": 41,
   "metadata": {},
   "outputs": [],
   "source": [
    "def conc_grad(img):\n",
    "    \"\"\"\n",
    "    Compute concentration gradient based on a given bright field image *img*.\n",
    "    \n",
    "    Args:\n",
    "    img -- bright field image (or coarse-grained one), m*n\n",
    "    \n",
    "    Returns:\n",
    "    grad -- concentration gradient, 2*m*n.\n",
    "            grad[0] is the gradient in axis 0, i.e. the Y axis.\n",
    "            grad[1] is the gradient in axis 1, i.e. the X axis.\n",
    "            This needs to be double checked.\n",
    "    \"\"\"\n",
    "    \n",
    "    dcx = np.gradient(img, -1, axis=1)\n",
    "    dcy = np.gradient(img, -1, axis=0)\n",
    "    grad = np.stack([dcy, dcx], axis=0)\n",
    "    \n",
    "    return grad"
   ]
  },
  {
   "cell_type": "code",
   "execution_count": 48,
   "metadata": {},
   "outputs": [],
   "source": [
    "img = io.imread(r'E:\\moreData\\08032020\\01\\8-bit\\3000.tif')\n",
    "X, Y, I = corrLib.divide_windows(img, windowsize=[50, 50], step=25)\n",
    "grad = conc_grad(I)"
   ]
  },
  {
   "cell_type": "code",
   "execution_count": 45,
   "metadata": {},
   "outputs": [],
   "source": [
    "def rearrange_pivdata(pivData, step=None, shape=None):\n",
    "    \"\"\"\n",
    "    Rearrange pivData into np.array of shape (2, m, n).\n",
    "    \n",
    "    Args:\n",
    "    pivData -- DataFrame, (x, y, u, v)\n",
    "    \n",
    "    Returns:\n",
    "    rearranged_pivData -- 2*m*n\n",
    "    \"\"\"\n",
    "    x = pivData.sort_values(by=['x']).x.drop_duplicates()\n",
    "    if step == None:\n",
    "        # Need to infer the step size from pivData\n",
    "        step = x.iat[1] - x.iat[0]\n",
    "    \n",
    "    if shape == None:\n",
    "        # Need to infer shape from pivData\n",
    "        y = pivData.y.drop_duplicates()\n",
    "        shape = (len(y), len(x))\n",
    "    \n",
    "    X = np.array(pivData.x).reshape(shape)\n",
    "    Y = np.array(pivData.y).reshape(shape)\n",
    "    U = np.array(pivData.u).reshape(shape)\n",
    "    V = np.array(pivData.v).reshape(shape)\n",
    "    \n",
    "    rearranged_pivData = np.stack([V, U], axis=0)\n",
    "    \n",
    "    return rearranged_pivData"
   ]
  },
  {
   "cell_type": "code",
   "execution_count": 46,
   "metadata": {},
   "outputs": [],
   "source": [
    "pivData = pd.read_csv(r'E:\\moreData\\08032020\\piv_imseq\\01\\3000-3001.csv')\n",
    "rearranged_pivData = rearrange_pivdata(pivData)"
   ]
  },
  {
   "cell_type": "code",
   "execution_count": 54,
   "metadata": {},
   "outputs": [
    {
     "data": {
      "text/plain": [
       "<matplotlib.colorbar.Colorbar at 0x220ab739648>"
      ]
     },
     "execution_count": 54,
     "metadata": {},
     "output_type": "execute_result"
    },
    {
     "data": {
      "image/png": "[encoded data removed]",
      "text/plain": [
       "<Figure size 246.49x196.25 with 2 Axes>"
      ]
     },
     "metadata": {
      "needs_background": "light"
     },
     "output_type": "display_data"
    }
   ],
   "source": [
    "# inner prod\n",
    "corr = np.sum(grad * rearranged_pivData, axis=0)\n",
    "plt.imshow(corr, cmap='seismic')\n",
    "plt.colorbar()"
   ]
  },
  {
   "cell_type": "code",
   "execution_count": 53,
   "metadata": {},
   "outputs": [
    {
     "data": {
      "text/plain": [
       "0.2810515501057268"
      ]
     },
     "execution_count": 53,
     "metadata": {},
     "output_type": "execute_result"
    }
   ],
   "source": [
    "corr.mean()"
   ]
  },
  {
   "cell_type": "markdown",
   "metadata": {},
   "source": [
    "**Comment:** in the final data, correlation on each frame will be the inner product between grad and piv, summing x and y direction up. In addition, the mean of the correlation matrix will be recorded as a single number measure of correlation for that moment. The means will constitute a time series of correlation, which describes the evolution."
   ]
  },
  {
   "cell_type": "code",
   "execution_count": 55,
   "metadata": {},
   "outputs": [
    {
     "data": {
      "text/plain": [
       "[<matplotlib.lines.Line2D at 0x220ab866a48>]"
      ]
     },
     "execution_count": 55,
     "metadata": {},
     "output_type": "execute_result"
    },
    {
     "data": {
      "image/png": "[encoded data removed]",
      "text/plain": [
       "<Figure size 246.49x196.25 with 1 Axes>"
      ]
     },
     "metadata": {
      "needs_background": "light"
     },
     "output_type": "display_data"
    }
   ],
   "source": [
    "ts = np.load(r'E:\\Github\\Python\\Correlation\\test_images\\test_corr\\out_folder\\corr_evolution.npy')\n",
    "plt.plot(ts)"
   ]
  }
 ],
 "metadata": {
  "kernelspec": {
   "display_name": "Python 3",
   "language": "python",
   "name": "python3"
  },
  "language_info": {
   "codemirror_mode": {
    "name": "ipython",
    "version": 3
   },
   "file_extension": ".py",
   "mimetype": "text/x-python",
   "name": "python",
   "nbconvert_exporter": "python",
   "pygments_lexer": "ipython3",
   "version": "3.7.7"
  }
 },
 "nbformat": 4,
 "nbformat_minor": 4
}

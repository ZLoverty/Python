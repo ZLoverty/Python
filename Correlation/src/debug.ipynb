{
 "cells": [
  {
   "cell_type": "code",
   "execution_count": 1,
   "metadata": {},
   "outputs": [],
   "source": [
    "import matplotlib.pyplot as plt\n",
    "import numpy as np\n",
    "import pandas as pd\n",
    "from skimage import io\n",
    "import os\n",
    "import corrLib as cl\n",
    "import matplotlib\n",
    "import myImageLib as mil\n",
    "import sys\n",
    "import time"
   ]
  },
  {
   "cell_type": "code",
   "execution_count": 15,
   "metadata": {},
   "outputs": [],
   "source": [
    "def dxd(div_folder, dcadv_folder):\n",
    "    folder_list_dt = next(os.walk(dcadv_folder))[1]\n",
    "    entries = ['adv_divv', 'adv_divcv', 'dc_divv', 'dc_divcv', 'vdc_divv', 'vdc_divcv']\n",
    "\n",
    "    corr_lists = {}\n",
    "    corr_values = {}\n",
    "\n",
    "    for entry in entries:\n",
    "        corr_lists[entry] = []    \n",
    "\n",
    "    dtL = [] # Delta t\n",
    "    for s in folder_list_dt:\n",
    "        dt = int(s.split('=')[1])\n",
    "        folder = os.path.join(dcadv_folder, s)\n",
    "        l = cl.readdata(folder)\n",
    "        l = l.loc[l.index > len(l)*0.9]\n",
    "        count = 0\n",
    "\n",
    "        for entry in entries:\n",
    "            corr_values[entry] = 0\n",
    "        for num, i in l.iterrows():\n",
    "    #         print(i.Name)\n",
    "            f, file = os.path.split(i.Dir)\n",
    "            name = file.split('-')[0]\n",
    "            n0 = int(name)\n",
    "            n1 = n0 + 1\n",
    "            divDir = os.path.join(div_folder, '{0:04d}-{1:04d}.csv'.format(n0, n1))\n",
    "            divData = pd.read_csv(divDir)\n",
    "            advData = pd.read_csv(i.Dir)\n",
    "\n",
    "            for entry in entries:\n",
    "                key1, key2 = entry.split('_')\n",
    "                mat1, mat2 = advData[key1], divData[key2]\n",
    "                corr_values[entry] += ((mat1 - mat1.mean())*(mat2 - mat2.mean())).mean() / mat1.std() / mat2.std()\n",
    "            count += 1\n",
    "        for entry in entries:\n",
    "            corr_lists[entry].append(corr_values[entry] / count)\n",
    "        dtL.append(dt)\n",
    "    dxd_data = pd.DataFrame.from_dict(corr_lists).assign(dt=dtL)\n",
    "    return dxd_data"
   ]
  },
  {
   "cell_type": "code",
   "execution_count": 17,
   "metadata": {},
   "outputs": [],
   "source": [
    "num = range(0, 13)\n",
    "for n in num:\n",
    "    div_folder = r'E:\\moreData\\08062020\\div2\\{:02d}'.format(n)\n",
    "    dcadv_folder = r'E:\\moreData\\08062020\\dc_adv\\{:02d}'.format(n)\n",
    "    out_folder = r'E:\\moreData\\08062020\\div_x_dcadv\\{:02d}'.format(n)\n",
    "    data = dxd(div_folder, dcadv_folder)\n",
    "    data.to_csv(os.path.join(out_folder, 'divvXdcadv.csv'), index=False)"
   ]
  },
  {
   "cell_type": "code",
   "execution_count": 10,
   "metadata": {},
   "outputs": [
    {
     "data": {
      "text/plain": [
       "{'adv_divv': -1.1521166479439338,\n",
       " 'adv_divcv': -2.2150952249035,\n",
       " 'dc_divv': 5.438751472905061,\n",
       " 'dc_divcv': 5.504289844098644,\n",
       " 'vdc_divv': -4.5039811770237765,\n",
       " 'vdc_divcv': -5.786011484059659}"
      ]
     },
     "execution_count": 10,
     "metadata": {},
     "output_type": "execute_result"
    }
   ],
   "source": [
    "corr_values"
   ]
  },
  {
   "cell_type": "code",
   "execution_count": 6,
   "metadata": {},
   "outputs": [
    {
     "name": "stdout",
     "output_type": "stream",
     "text": [
      "dt=60\n"
     ]
    }
   ],
   "source": [
    "for s in folder_list_dt:\n",
    "    print(s)"
   ]
  }
 ],
 "metadata": {
  "kernelspec": {
   "display_name": "Python 3",
   "language": "python",
   "name": "python3"
  },
  "language_info": {
   "codemirror_mode": {
    "name": "ipython",
    "version": 3
   },
   "file_extension": ".py",
   "mimetype": "text/x-python",
   "name": "python",
   "nbconvert_exporter": "python",
   "pygments_lexer": "ipython3",
   "version": "3.7.7"
  }
 },
 "nbformat": 4,
 "nbformat_minor": 4
}

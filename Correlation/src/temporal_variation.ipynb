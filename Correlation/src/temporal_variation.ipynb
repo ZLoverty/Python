{
 "cells": [
  {
   "cell_type": "markdown",
   "metadata": {},
   "source": [
    "# Calculating density fluctuation by temporal variation\n",
    "An alternative quantification for GNF\n",
    "\n",
    "* Construct time series of total intensity $I$ in a box with linear size $l$\n",
    "* Calculate the standard deviation of $I$ - $\\Delta I$\n",
    "* Calculate the average of total intensity $I$ - $\\overline I$"
   ]
  },
  {
   "cell_type": "markdown",
   "metadata": {},
   "source": [
    "### Construct DataFrame (I, t, size, number)\n",
    "* I is total intensity in a box\n",
    "* t is the time\n",
    "* size is the linear size of box\n",
    "* number is the number of box at each frame"
   ]
  }
 ],
 "metadata": {
  "kernelspec": {
   "display_name": "Python 3",
   "language": "python",
   "name": "python3"
  },
  "language_info": {
   "codemirror_mode": {
    "name": "ipython",
    "version": 3
   },
   "file_extension": ".py",
   "mimetype": "text/x-python",
   "name": "python",
   "nbconvert_exporter": "python",
   "pygments_lexer": "ipython3",
   "version": "3.7.3"
  }
 },
 "nbformat": 4,
 "nbformat_minor": 2
}

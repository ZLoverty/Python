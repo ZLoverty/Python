{
 "cells": [
  {
   "cell_type": "markdown",
   "metadata": {},
   "source": [
    "# Make figures for DF project"
   ]
  },
  {
   "cell_type": "markdown",
   "metadata": {},
   "source": [
    "* Number fluctuation at different bacterial concentration\n",
    "20, 40, 60, 80 and 100 n$_0$"
   ]
  },
  {
   "cell_type": "code",
   "execution_count": 2,
   "metadata": {},
   "outputs": [],
   "source": [
    "import numpy as np\n",
    "import matplotlib.pyplot as plt\n",
    "from myImageLib import dirrec, bestcolor, bpass, wowcolor\n",
    "from skimage import io, measure\n",
    "from mpl_toolkits.mplot3d import Axes3D\n",
    "import pandas as pd\n",
    "from scipy.signal import savgol_filter, medfilt\n",
    "import os\n",
    "from corrLib import corrS, corrI, divide_windows, distance_corr, corrIseq, readseq, match_hist\n",
    "from scipy.signal import savgol_filter\n",
    "from corrLib import boxsize_effect_spatial\n",
    "import matplotlib as mpl\n",
    "from numpy.polynomial.polynomial import polyvander\n",
    "from scipy.optimize import curve_fit\n",
    "from miscLib import label_slope\n",
    "from corrLib import density_fluctuation\n",
    "from scipy import signal"
   ]
  },
  {
   "cell_type": "code",
   "execution_count": 8,
   "metadata": {},
   "outputs": [],
   "source": [
    "def readdata(folder):\n",
    "    dataDirs = dirrec(folder, '*.csv')\n",
    "    nameList = []\n",
    "    dirList = []\n",
    "    for dataDir in dataDirs:\n",
    "        path, file = os.path.split(dataDir)\n",
    "        name, ext = os.path.splitext(file)\n",
    "        nameList.append(name)\n",
    "        dirList.append(dataDir)\n",
    "    fileList = pd.DataFrame()\n",
    "    fileList = fileList.assign(Name=nameList, Dir=dirList)\n",
    "    fileList.Name = fileList.Name.astype('int32')\n",
    "    fileList = fileList.sort_values(by=['Name'])\n",
    "    return fileList"
   ]
  },
  {
   "cell_type": "code",
   "execution_count": 6,
   "metadata": {},
   "outputs": [],
   "source": [
    "def average_NF(folder, avrange=[250, 500]):\n",
    "    l = readdata(folder)\n",
    "    count = 0\n",
    "    for num, i in l.iterrows():\n",
    "        if i.Name < avrange[0] or i.Name > avrange[1]:\n",
    "            continue\n",
    "        tmp = pd.read_csv(i.Dir)\n",
    "        if count == 0:\n",
    "            data = tmp\n",
    "        else:\n",
    "            data += tmp\n",
    "        count += 1\n",
    "    return data / count"
   ]
  },
  {
   "cell_type": "code",
   "execution_count": 17,
   "metadata": {},
   "outputs": [],
   "source": [
    "folders = [r'D:\\Wei\\transient\\df_result\\040',\n",
    "           r'D:\\Wei\\transient\\df_result\\060',\n",
    "           r'D:\\Wei\\transient\\df_result\\080',\n",
    "           r'D:\\Wei\\transient\\df_result\\100']\n",
    "data = pd.DataFrame()\n",
    "for f in folders:\n",
    "    a = average_NF(f, avrange=[400, 800])\n",
    "    name = int(os.path.split(f)[1])\n",
    "    a = a.assign(Name=name)\n",
    "    data = data.append(a)"
   ]
  },
  {
   "cell_type": "code",
   "execution_count": 19,
   "metadata": {},
   "outputs": [
    {
     "data": {
      "text/plain": [
       "Text(0, 0.5, '$\\\\Delta N/N^{0.5}$')"
      ]
     },
     "execution_count": 19,
     "metadata": {},
     "output_type": "execute_result"
    },
    {
     "data": {
      "image/png": "[encoded data removed]",
      "text/plain": [
       "<Figure size 648x432 with 1 Axes>"
      ]
     },
     "metadata": {
      "needs_background": "light"
     },
     "output_type": "display_data"
    }
   ],
   "source": [
    "count = 0\n",
    "plt.figure(figsize=(9, 6))\n",
    "## 20 n0\n",
    "img = io.imread(r'D:\\Wei\\transient\\20_crop\\0400.tif')\n",
    "df = density_fluctuation(img)\n",
    "xx = df.n/420**2\n",
    "yy = df.d/df.n**.5\n",
    "plt.plot(xx, yy, label=str(20), ls='', marker='s',\n",
    "        mfc=(0,0,0,0), mec=wowcolor(count), markersize=10)\n",
    "x = xx.loc[df.n<1e4]\n",
    "y = yy.loc[df.n<1e4] \n",
    "xf, yf, xt, yt, slope = label_slope(x, y, location='n')\n",
    "plt.plot(xf, yf, ls='--', color='black')\n",
    "plt.text(xt, yt, '{:.2f}'.format(slope))\n",
    "count += 1\n",
    "####\n",
    "## 30 n0\n",
    "# img = io.imread(r'D:\\Wei\\transient\\030\\00400.tif')\n",
    "# df = density_fluctuation(img)\n",
    "# xx = df.n/510**2\n",
    "# yy = df.d/df.n**.5\n",
    "# plt.plot(xx, yy, label=str(30), ls='', marker='s',\n",
    "#         mfc=(0,0,0,0), mec=wowcolor(count), markersize=10)\n",
    "# x = xx.loc[df.n<1e4]\n",
    "# y = yy.loc[df.n<1e4] \n",
    "# xf, yf, xt, yt, slope = label_slope(x, y, location='n')\n",
    "# plt.plot(xf, yf, ls='--', color='black')\n",
    "# plt.text(xt, yt, '{:.2f}'.format(slope))\n",
    "# count += 1\n",
    "####\n",
    "# ## 50 n0\n",
    "# img = io.imread(r'D:\\Wei\\transient\\050\\00400.tif')\n",
    "# df = density_fluctuation(img)\n",
    "# xx = df.n/510**2\n",
    "# yy = df.d/df.n**.5\n",
    "# plt.plot(xx, yy, label=str(50), ls='', marker='s',\n",
    "#         mfc=(0,0,0,0), mec=wowcolor(count), markersize=10)\n",
    "# x = xx.loc[df.n<1e4]\n",
    "# y = yy.loc[df.n<1e4] \n",
    "# xf, yf, xt, yt, slope = label_slope(x, y, location='n')\n",
    "# plt.plot(xf, yf, ls='--', color='black')\n",
    "# plt.text(xt, yt, '{:.2f}'.format(slope))\n",
    "# count += 1\n",
    "# ####\n",
    "\n",
    "\n",
    "for name in data.Name.drop_duplicates():\n",
    "    subdata = data.loc[data.Name==name]\n",
    "    \n",
    "    # to plot, xx yy\n",
    "    xx = subdata.n/420**2\n",
    "    yy = subdata.d/subdata.n**.5\n",
    "       \n",
    "    plt.plot(xx, yy, label=str(name), ls='', marker='s',\n",
    "            mfc=(0,0,0,0), mec=wowcolor(count), markersize=10)\n",
    "    # to fit\n",
    "    x = xx.loc[subdata.n<1e4]\n",
    "    y = yy.loc[subdata.n<1e4] \n",
    "    xf, yf, xt, yt, slope = label_slope(x, y, location='n')\n",
    "    plt.plot(xf, yf, ls='--', color='black')\n",
    "    plt.text(xt, yt, '{:.2f}'.format(slope))\n",
    "    count += 1\n",
    "\n",
    "\n",
    "plt.legend()\n",
    "plt.xscale('log')\n",
    "plt.yscale('log')\n",
    "plt.xlabel('$l^2/L^2$')\n",
    "plt.ylabel('$\\Delta N/N^{0.5}$')"
   ]
  },
  {
   "cell_type": "markdown",
   "metadata": {},
   "source": [
    "* Generate the data that are used in the plot"
   ]
  },
  {
   "cell_type": "code",
   "execution_count": 23,
   "metadata": {},
   "outputs": [],
   "source": [
    "# Exp data\n",
    "n = [20, 40, 60, 80, 100]\n",
    "expo = [0.07, 0.22, 0.34, 0.36, 0.36]\n",
    "GNFdata = pd.DataFrame().assign(n=n, expo=expo)\n",
    "GNFdata.to_csv(r'I:\\Google Drive\\Research projects\\DF\\Figures\\fig2-GNF\\GNF_exp_data.csv'\n",
    "              , index=False)"
   ]
  },
  {
   "cell_type": "code",
   "execution_count": null,
   "metadata": {},
   "outputs": [],
   "source": [
    "# GNF data\n"
   ]
  }
 ],
 "metadata": {
  "kernelspec": {
   "display_name": "Python 3",
   "language": "python",
   "name": "python3"
  },
  "language_info": {
   "codemirror_mode": {
    "name": "ipython",
    "version": 3
   },
   "file_extension": ".py",
   "mimetype": "text/x-python",
   "name": "python",
   "nbconvert_exporter": "python",
   "pygments_lexer": "ipython3",
   "version": "3.7.3"
  }
 },
 "nbformat": 4,
 "nbformat_minor": 2
}

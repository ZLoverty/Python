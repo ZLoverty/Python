{
 "cells": [
  {
   "cell_type": "code",
   "execution_count": 15,
   "metadata": {},
   "outputs": [],
   "source": [
    "import matplotlib.pyplot as plt\n",
    "import pandas as pd\n",
    "import typesetting.main as tm\n",
    "import numpy as np\n",
    "import os\n",
    "from corrLib import readdata\n",
    "from corr_utils import *\n",
    "tm.prl('1-column-2-panel')\n",
    "dirs = data_log_mapping(kw='aug')"
   ]
  },
  {
   "cell_type": "markdown",
   "metadata": {},
   "source": [
    "# Plans\n",
    "\n",
    "- <del>finish the calculation for all samples</del>\n",
    "- <del>draw the kinetics plot (including energy and order) for all samples</del>\n",
    "- <del>summarize the density fluctuation results (both dynamics and kinetics)</del>\n",
    "- <del>order parameter calculation seems different from previous version (where shift matrix was used), check the consistency</del>\n",
    "- 30 n0 data look strange. In correlation length data, they show larger errorbars, and in df data, they show unexpected nonmonotonic trend.\n",
    "    - indeed, one of the 30 n0 video shows collective motion while the other two don't. This leads to the $l_{vv}$ value larger than expected. However, the low $\\alpha$ value has no good explanation yet.\n",
    "- The low velocity and concentration correlation may result from including the kinetics part of data. It is intuitive that the correlation is weak when bacterial turbulence is now fully developed. Try exclude the initial part!"
   ]
  },
  {
   "cell_type": "markdown",
   "metadata": {},
   "source": [
    "## 1. Velocity correlation"
   ]
  },
  {
   "cell_type": "code",
   "execution_count": 2,
   "metadata": {
    "scrolled": true
   },
   "outputs": [
    {
     "data": {
      "text/plain": [
       "Text(0, 0.5, '$l_{vv}/l_b$')"
      ]
     },
     "execution_count": 2,
     "metadata": {},
     "output_type": "execute_result"
    },
    {
     "data": {
      "image/png": "[encoded data removed]",
      "text/plain": [
       "<Figure size 471x345.4 with 1 Axes>"
      ]
     },
     "metadata": {
      "needs_background": "light"
     },
     "output_type": "display_data"
    }
   ],
   "source": [
    "data = pd.read_excel(io=r'E:\\Google Drive\\Research projects\\DF\\data\\new_data_summary.xlsx', sheet_name='corrV')\n",
    "data = data.dropna()\n",
    "plt.figure(figsize=(3, 2.2))\n",
    "plt.errorbar(data['conc'], data['avg']*0.33/3, yerr=data['std']*0.33/3, ls='', elinewidth=0.5, marker='o')\n",
    "plt.xlabel('$n$ [n$_0$]')\n",
    "plt.ylabel('$l_{vv}/l_b$')"
   ]
  },
  {
   "cell_type": "code",
   "execution_count": 19,
   "metadata": {},
   "outputs": [],
   "source": [
    "lv = np.array(data['avg'])"
   ]
  },
  {
   "cell_type": "code",
   "execution_count": 15,
   "metadata": {},
   "outputs": [],
   "source": [
    "# summarize data\n",
    "# sample 10 frames out of the last 1/3 of frames\n",
    "corr_data_path = r'E:\\moreData\\08052020\\cav_imseq'\n",
    "num_sample = 20 # number of frames to sample\n",
    "sample_clA = []\n",
    "sample_clV = []\n",
    "sfL = next(os.walk(corr_data_path))[1]\n",
    "sfL_new = []\n",
    "for s in sfL:\n",
    "#     print('sample ' + str(n))\n",
    "    corr_data_path_num = os.path.join(corr_data_path, s)\n",
    "    \n",
    "    # sample 20 frames in the last 1/3 frames\n",
    "    \n",
    "    l = len(corrLib.readdata(corr_data_path_num))\n",
    "    if l > 60:\n",
    "        samples = np.random.randint((l*2/3)/2, (l-1)/2, num_sample) * 2\n",
    "        clAL = []\n",
    "        clVL = []\n",
    "        for i in samples:\n",
    "            data_raw = pd.read_csv(os.path.join(corr_data_path_num, '{0:04d}-{1:04d}.csv'.format(i, i+1))) # X Y CA CV\n",
    "            data_AV = xy_to_r(data_raw).sort_values(by=['R'])     \n",
    "            clA, fit = corr_length(data_AV.rename(columns={'CA': 'C'}), fitting_range=500)\n",
    "            clV, fit = corr_length(data_AV.rename(columns={'CV': 'C'}), fitting_range=500)\n",
    "            clAL.append(clA)\n",
    "            clVL.append(clV)\n",
    "        sample_clA.append(np.array(clAL).mean())\n",
    "        sample_clV.append(np.array(clVL).mean())\n",
    "        sfL_new.append(int(s))\n",
    "    else:\n",
    "        raise ValueError('Too few data to sample from. Need at least 60 .csv files.')\n",
    "summary = pd.DataFrame({'sample': sfL_new, 'clA': sample_clA, 'clV': sample_clV})\n",
    "summary.to_csv(os.path.join(corr_data_path, 'summary.csv'), index=False)\n",
    "### Needs further improvement"
   ]
  },
  {
   "cell_type": "code",
   "execution_count": 5,
   "metadata": {},
   "outputs": [
    {
     "data": {
      "text/plain": [
       "['00', '01', '02', '03', '04', '05', '06', '07', '08', '09', '10', '11']"
      ]
     },
     "execution_count": 5,
     "metadata": {},
     "output_type": "execute_result"
    }
   ],
   "source": [
    "corr_data_path = r'E:\\moreData\\08052020\\cav_imseq'\n",
    "sfL = next(os.walk(corr_data_path))[1]\n",
    "sfL"
   ]
  },
  {
   "cell_type": "code",
   "execution_count": 3,
   "metadata": {},
   "outputs": [
    {
     "data": {
      "text/plain": [
       "{'120': ['08062020-3', '08062020-4', '08062020-5'],\n",
       " '100': ['08062020-0', '08062020-1', '08062020-2'],\n",
       " '85': ['08052020-3', '08052020-4', '08052020-5'],\n",
       " '80': ['08032020-0', '08032020-1', '08032020-2'],\n",
       " '70': ['08042020-0', '08042020-1', '08042020-2'],\n",
       " '60': ['08032020-3', '08032020-4', '08032020-5'],\n",
       " '50': ['08042020-3', '08042020-4', '08042020-5'],\n",
       " '40': ['08032020-6', '08032020-7', '08032020-8'],\n",
       " '30': ['08042020-6', '08042020-7', '08042020-8'],\n",
       " '20': ['08032020-9', '08032020-10', '08032020-11'],\n",
       " '10': ['08042020-9', '08042020-10', '08042020-11'],\n",
       " '00': ['08032020-12', '08032020-13', '08032020-14']}"
      ]
     },
     "execution_count": 3,
     "metadata": {},
     "output_type": "execute_result"
    }
   ],
   "source": [
    "dirs"
   ]
  },
  {
   "cell_type": "code",
   "execution_count": 36,
   "metadata": {},
   "outputs": [],
   "source": [
    "# retrieve data from cav_imseq/summary.csv\n",
    "folder = r'E:\\moreData'\n",
    "subfolder_name = 'cav_imseq'\n",
    "data = {'conc': [], 'clA_avg': [], 'clV_avg': [], 'clA_std': [], 'clV_std': []}\n",
    "for kw in dirs:\n",
    "    if kw != '00':\n",
    "        conc = int(kw)\n",
    "        for n, dn in enumerate(dirs[kw]):\n",
    "            date, num = dn.split('-')\n",
    "            summary_dir = os.path.join(folder, date, subfolder_name, 'summary.csv')\n",
    "            temp = pd.read_csv(summary_dir, index_col='sample').loc[[int(num)]]\n",
    "            if n == 0:\n",
    "                conc_data = temp\n",
    "            else:\n",
    "                conc_data = conc_data.append(temp)\n",
    "        data['conc'].append(conc)\n",
    "        data['clA_avg'].append(conc_data.clA.mean())\n",
    "        data['clV_avg'].append(conc_data.clV.mean())\n",
    "        data['clA_std'].append(conc_data.clA.std())\n",
    "        data['clV_std'].append(conc_data.clV.std())"
   ]
  },
  {
   "cell_type": "code",
   "execution_count": 39,
   "metadata": {},
   "outputs": [
    {
     "data": {
      "text/html": [
       "<div>\n",
       "<style scoped>\n",
       "    .dataframe tbody tr th:only-of-type {\n",
       "        vertical-align: middle;\n",
       "    }\n",
       "\n",
       "    .dataframe tbody tr th {\n",
       "        vertical-align: top;\n",
       "    }\n",
       "\n",
       "    .dataframe thead th {\n",
       "        text-align: right;\n",
       "    }\n",
       "</style>\n",
       "<table border=\"1\" class=\"dataframe\">\n",
       "  <thead>\n",
       "    <tr style=\"text-align: right;\">\n",
       "      <th></th>\n",
       "      <th>conc</th>\n",
       "      <th>clA_avg</th>\n",
       "      <th>clV_avg</th>\n",
       "      <th>clA_std</th>\n",
       "      <th>clV_std</th>\n",
       "    </tr>\n",
       "  </thead>\n",
       "  <tbody>\n",
       "    <tr>\n",
       "      <th>0</th>\n",
       "      <td>120</td>\n",
       "      <td>131.100812</td>\n",
       "      <td>111.828270</td>\n",
       "      <td>28.195589</td>\n",
       "      <td>12.638994</td>\n",
       "    </tr>\n",
       "    <tr>\n",
       "      <th>1</th>\n",
       "      <td>100</td>\n",
       "      <td>161.152071</td>\n",
       "      <td>96.753156</td>\n",
       "      <td>89.188712</td>\n",
       "      <td>9.837196</td>\n",
       "    </tr>\n",
       "    <tr>\n",
       "      <th>2</th>\n",
       "      <td>85</td>\n",
       "      <td>141.072291</td>\n",
       "      <td>100.711927</td>\n",
       "      <td>30.304600</td>\n",
       "      <td>14.873771</td>\n",
       "    </tr>\n",
       "    <tr>\n",
       "      <th>3</th>\n",
       "      <td>80</td>\n",
       "      <td>79.118514</td>\n",
       "      <td>82.306710</td>\n",
       "      <td>8.986337</td>\n",
       "      <td>8.614581</td>\n",
       "    </tr>\n",
       "    <tr>\n",
       "      <th>4</th>\n",
       "      <td>70</td>\n",
       "      <td>130.699408</td>\n",
       "      <td>113.078446</td>\n",
       "      <td>19.173139</td>\n",
       "      <td>5.336671</td>\n",
       "    </tr>\n",
       "    <tr>\n",
       "      <th>5</th>\n",
       "      <td>60</td>\n",
       "      <td>124.650246</td>\n",
       "      <td>116.078907</td>\n",
       "      <td>37.929393</td>\n",
       "      <td>24.759475</td>\n",
       "    </tr>\n",
       "    <tr>\n",
       "      <th>6</th>\n",
       "      <td>50</td>\n",
       "      <td>106.842831</td>\n",
       "      <td>96.616186</td>\n",
       "      <td>10.622119</td>\n",
       "      <td>12.428217</td>\n",
       "    </tr>\n",
       "    <tr>\n",
       "      <th>7</th>\n",
       "      <td>40</td>\n",
       "      <td>107.955754</td>\n",
       "      <td>101.865676</td>\n",
       "      <td>22.076049</td>\n",
       "      <td>13.505755</td>\n",
       "    </tr>\n",
       "    <tr>\n",
       "      <th>8</th>\n",
       "      <td>30</td>\n",
       "      <td>101.501364</td>\n",
       "      <td>81.795533</td>\n",
       "      <td>25.253006</td>\n",
       "      <td>41.343303</td>\n",
       "    </tr>\n",
       "    <tr>\n",
       "      <th>9</th>\n",
       "      <td>20</td>\n",
       "      <td>66.145536</td>\n",
       "      <td>63.173435</td>\n",
       "      <td>6.840477</td>\n",
       "      <td>4.618811</td>\n",
       "    </tr>\n",
       "    <tr>\n",
       "      <th>10</th>\n",
       "      <td>10</td>\n",
       "      <td>68.019370</td>\n",
       "      <td>41.622898</td>\n",
       "      <td>13.089633</td>\n",
       "      <td>4.026853</td>\n",
       "    </tr>\n",
       "  </tbody>\n",
       "</table>\n",
       "</div>"
      ],
      "text/plain": [
       "    conc     clA_avg     clV_avg    clA_std    clV_std\n",
       "0    120  131.100812  111.828270  28.195589  12.638994\n",
       "1    100  161.152071   96.753156  89.188712   9.837196\n",
       "2     85  141.072291  100.711927  30.304600  14.873771\n",
       "3     80   79.118514   82.306710   8.986337   8.614581\n",
       "4     70  130.699408  113.078446  19.173139   5.336671\n",
       "5     60  124.650246  116.078907  37.929393  24.759475\n",
       "6     50  106.842831   96.616186  10.622119  12.428217\n",
       "7     40  107.955754  101.865676  22.076049  13.505755\n",
       "8     30  101.501364   81.795533  25.253006  41.343303\n",
       "9     20   66.145536   63.173435   6.840477   4.618811\n",
       "10    10   68.019370   41.622898  13.089633   4.026853"
      ]
     },
     "execution_count": 39,
     "metadata": {},
     "output_type": "execute_result"
    }
   ],
   "source": [
    "pd.DataFrame(data)"
   ]
  },
  {
   "cell_type": "markdown",
   "metadata": {},
   "source": [
    "## 2. Concentration correlation"
   ]
  },
  {
   "cell_type": "code",
   "execution_count": 16,
   "metadata": {},
   "outputs": [
    {
     "data": {
      "text/plain": [
       "Text(0, 0.5, '$l_{nn}/l_b$')"
      ]
     },
     "execution_count": 16,
     "metadata": {},
     "output_type": "execute_result"
    },
    {
     "data": {
      "image/png": "[encoded data removed]",
      "text/plain": [
       "<Figure size 471x345.4 with 1 Axes>"
      ]
     },
     "metadata": {
      "needs_background": "light"
     },
     "output_type": "display_data"
    }
   ],
   "source": [
    "data1 = pd.read_excel(io=r'I:\\Google Drive\\Research projects\\DF\\data\\new_data_summary.xlsx', sheet_name='corrI')\n",
    "data1 = data1.dropna()\n",
    "plt.figure(figsize=(3, 2.2))\n",
    "plt.errorbar(data1['conc'], data1['avg']*0.33/3, yerr=data1['std']*0.33/3, ls='', elinewidth=0.5, marker='o')\n",
    "plt.xlabel('$n$ [n$_0$]')\n",
    "plt.ylabel('$l_{nn}/l_b$')"
   ]
  },
  {
   "cell_type": "code",
   "execution_count": 17,
   "metadata": {},
   "outputs": [],
   "source": [
    "ln = np.array(data['avg'])"
   ]
  },
  {
   "cell_type": "code",
   "execution_count": 13,
   "metadata": {},
   "outputs": [
    {
     "data": {
      "text/plain": [
       "<matplotlib.legend.Legend at 0x19b0e9b9b08>"
      ]
     },
     "execution_count": 13,
     "metadata": {},
     "output_type": "execute_result"
    },
    {
     "data": {
      "image/png": "[encoded data removed]",
      "text/plain": [
       "<Figure size 471x345.4 with 1 Axes>"
      ]
     },
     "metadata": {
      "needs_background": "light"
     },
     "output_type": "display_data"
    }
   ],
   "source": [
    "plt.figure(figsize=(3, 2.2))\n",
    "plt.errorbar(data['conc'], data['avg']*0.33/3, yerr=data['std']*0.33/3, ls='', elinewidth=0.5, marker='o', label='velocity corr')\n",
    "plt.errorbar(data1['conc'], data1['avg']*0.33/3, yerr=data1['std']*0.33/3, ls='', elinewidth=0.5, marker='s', label='concentration corr')\n",
    "plt.xlabel('$n$ [n$_0$]')\n",
    "plt.ylabel('$l/l_b$')\n",
    "plt.legend(loc='lower right')"
   ]
  },
  {
   "cell_type": "code",
   "execution_count": 22,
   "metadata": {},
   "outputs": [
    {
     "data": {
      "text/plain": [
       "Text(0, 0.5, '$l_{vv}/l_{nn}$')"
      ]
     },
     "execution_count": 22,
     "metadata": {},
     "output_type": "execute_result"
    },
    {
     "data": {
      "image/png": "[encoded data removed]",
      "text/plain": [
       "<Figure size 471x345.4 with 1 Axes>"
      ]
     },
     "metadata": {
      "needs_background": "light"
     },
     "output_type": "display_data"
    }
   ],
   "source": [
    "plt.figure(figsize=(3, 2.2))\n",
    "plt.plot(data['conc'], lv/ln, ls='', marker='o')\n",
    "plt.xlabel('$n$ [n$_0$]')\n",
    "plt.ylabel('$l_{vv}/l_{nn}$')"
   ]
  },
  {
   "cell_type": "markdown",
   "metadata": {},
   "source": [
    "## 3. Density fluctuations "
   ]
  },
  {
   "cell_type": "markdown",
   "metadata": {},
   "source": [
    "### 3.1 Summarize experiments of a day"
   ]
  },
  {
   "cell_type": "markdown",
   "metadata": {},
   "source": [
    "#### 3.1.1 Obtain info from one sample"
   ]
  },
  {
   "cell_type": "code",
   "execution_count": 15,
   "metadata": {},
   "outputs": [
    {
     "data": {
      "image/png": "[encoded data removed]",
      "text/plain": [
       "<Figure size 246.49x196.25 with 2 Axes>"
      ]
     },
     "metadata": {},
     "output_type": "display_data"
    }
   ],
   "source": [
    "n = 14\n",
    "date = '08032020'\n",
    "fps = data_log()[date]['fps'][n]\n",
    "k_folder = r'E:\\moreData\\{0}\\df2_kinetics\\{1:02d}'.format(date, n)\n",
    "i_folder = r'E:\\moreData\\{0}\\overall_intensity\\{1:02d}'.format(date, n)\n",
    "k_data = pd.read_csv(os.path.join(k_folder, 'kinetics_data.csv'))\n",
    "i_data = pd.read_csv(os.path.join(i_folder, 'intensity.csv'))\n",
    "data, fig, ax = plot_kinetics(k_data, i_data, tlim=None, xlim=[0, 100], lb=10, mpp=0.33, seg_length=50, fps=fps)"
   ]
  },
  {
   "cell_type": "code",
   "execution_count": 16,
   "metadata": {},
   "outputs": [
    {
     "name": "stdout",
     "output_type": "stream",
     "text": [
      "0.1529581979627492\n"
     ]
    }
   ],
   "source": [
    "df = pd.DataFrame().assign(t=data['t0'], alpha=data['alpha'])\n",
    "# alpha = df['alpha'].loc[df['t']>df['t'].max()*0.8].mean()\n",
    "alpha = df['alpha'].mean()\n",
    "print(alpha)"
   ]
  },
  {
   "cell_type": "markdown",
   "metadata": {},
   "source": [
    "#### 3.1.2 Batch processing"
   ]
  },
  {
   "cell_type": "code",
   "execution_count": 5,
   "metadata": {},
   "outputs": [],
   "source": [
    "dates = ['08032020', '08042020', '08052020', '08062020']\n",
    "sampling_range = 1 # range between 0 and 1, above which we sample the alpha values and average\n",
    "\n",
    "for date in dates:\n",
    "    date_folder = r'D:\\density_fluctuations\\{}'.format(date)\n",
    "    k_master_folder = os.path.join(date_folder, 'df2_kinetics')\n",
    "    i_master_folder = os.path.join(date_folder, 'overall_intensity')\n",
    "    sfL = next(os.walk(k_master_folder))[1]\n",
    "    alpha_list = []\n",
    "    n_list = []\n",
    "    for sf in sfL:\n",
    "        n = int(sf)\n",
    "        fps = data_log()[date]['fps'][n]\n",
    "        k_folder = r'D:\\density_fluctuations\\{0}\\df2_kinetics\\{1:02d}'.format(date, n)\n",
    "        i_folder = r'D:\\density_fluctuations\\{0}\\overall_intensity\\{1:02d}'.format(date, n)\n",
    "        k_data = pd.read_csv(os.path.join(k_folder, 'kinetics_data.csv'))\n",
    "        i_data = pd.read_csv(os.path.join(i_folder, 'intensity.csv'))\n",
    "        data = plot_kinetics(k_data, i_data, tlim=None, xlim=[1, 10], lb=10, mpp=0.33, seg_length=50, fps=fps, plot=False)\n",
    "        df = pd.DataFrame().assign(t=data['t0'], alpha=data['alpha'])\n",
    "        alpha = df['alpha'].loc[df['t']>=df['t'].max()*sampling_range].mean()\n",
    "        n_list.append(n)\n",
    "        alpha_list.append(alpha)\n",
    "    data = pd.DataFrame({'n': n_list, 'alpha': alpha_list})\n",
    "    data.to_csv(os.path.join(k_master_folder, 'summary.csv'), index=False)"
   ]
  },
  {
   "cell_type": "code",
   "execution_count": 17,
   "metadata": {},
   "outputs": [
    {
     "data": {
      "text/plain": [
       "Text(0, 0.5, '$\\\\alpha$')"
      ]
     },
     "execution_count": 17,
     "metadata": {},
     "output_type": "execute_result"
    },
    {
     "data": {
      "image/png": "[encoded data removed]",
      "text/plain": [
       "<Figure size 471x345.4 with 1 Axes>"
      ]
     },
     "metadata": {
      "needs_background": "light"
     },
     "output_type": "display_data"
    }
   ],
   "source": [
    "data = pd.read_excel(io=r'I:\\Google Drive\\Research projects\\DF\\data\\new_data_summary.xlsx', sheet_name='df2')\n",
    "# data = data.dropna()\n",
    "plt.figure(figsize=(3, 2.2))\n",
    "plt.errorbar(data['conc'], data['avg'], yerr=data['std'], ls='', elinewidth=0.5, marker='o')\n",
    "plt.xlabel('$n$ [n$_0$]')\n",
    "plt.ylabel('$\\\\alpha$')"
   ]
  },
  {
   "cell_type": "code",
   "execution_count": null,
   "metadata": {},
   "outputs": [],
   "source": [
    "# plot std as a function of box size for various concentrations of bacteria\n",
    "count = 0\n",
    "symbol_list = [ 'x', 's', 'P', '*', 'd', 'o', '^']\n",
    "fig = plt.figure()\n",
    "ax = fig.add_axes([0,0,1,1])\n",
    "for kw in dirs:    \n",
    "    gnf_data_tuple = prepare_multiple_data(dirs[kw])\n",
    "    collapsed = collapse_data(gnf_data_tuple, 10, xlim=[1, 100], sparse=3)\n",
    "    ax.plot(collapsed.index, collapsed.avg, mec=bestcolor(count), \n",
    "            label=kw, lw=0, marker=symbol_list[count], markersize=4, mfc=(0,0,0,0), mew=1)\n",
    "    ax.errorbar(collapsed.index, collapsed.avg, yerr=collapsed['std'], \n",
    "                 marker=symbol_list[count], capsize=1, lw=0, elinewidth=0.5, mec=bestcolor(count), \n",
    "                markersize=4, mfc=(0,0,0,0), mew=1, ecolor=bestcolor(count))\n",
    "    count += 1\n",
    "ax.loglog()\n",
    "ax.set_ylim([0.9, 11])\n",
    "# ax.yaxis.set_major_formatter(ScalarFormatter())\n",
    "\n",
    "ax.legend(ncol=2)\n",
    "ax.set_xlabel('$l^2/l_b^2$')\n",
    "ax.set_ylabel('$\\Delta N/\\sqrt{N}$')\n",
    "\n",
    "# guide of the eye slope\n",
    "x = np.array([3, 15])\n",
    "y = x**0.5 *1.2\n",
    "ax.plot(x, y, color='black', lw=0.5, ls='--')\n",
    "ax.text(0.6*x[0]+0.2*x[1], 0.5*y[0]+0.5*y[1], '0.5', fontsize=6)\n",
    "# plt.savefig(r'E:\\Github\\Personal-Images\\07142020\\GNF-clean.png', fmt='png')"
   ]
  },
  {
   "cell_type": "markdown",
   "metadata": {},
   "source": [
    "## 4. Density fluctuation kinetics"
   ]
  },
  {
   "cell_type": "markdown",
   "metadata": {},
   "source": [
    "|concentration|sample 1|sample 2|sample 3|\n",
    "|:---------:|:---------:|:---------:|:---------:|\n",
    "|85|![](temp_data\\kinetics_eo\\85-1.png)|![](temp_data\\kinetics_eo\\85-2.png)|![](temp_data\\kinetics_eo\\85-3.png)|\n",
    "|80|![](temp_data\\kinetics_eo\\80-1.png)|![](temp_data\\kinetics_eo\\80-2.png)|![](temp_data\\kinetics_eo\\80-3.png)|\n",
    "|70|![](temp_data\\kinetics_eo\\70-1.png)|![](temp_data\\kinetics_eo\\70-2.png)|![](temp_data\\kinetics_eo\\70-3.png)|\n",
    "|60|![](temp_data\\kinetics_eo\\60-1.png)|![](temp_data\\kinetics_eo\\60-2.png)|![](temp_data\\kinetics_eo\\60-3.png)|\n",
    "|50|![](temp_data\\kinetics_eo\\50-1.png)|![](temp_data\\kinetics_eo\\50-2.png)|![](temp_data\\kinetics_eo\\50-3.png)|\n",
    "|40|![](temp_data\\kinetics_eo\\40-1.png)|![](temp_data\\kinetics_eo\\40-2.png)|![](temp_data\\kinetics_eo\\40-3.png)|\n",
    "|30|![](temp_data\\kinetics_eo\\30-1.png)|![](temp_data\\kinetics_eo\\30-2.png)|![](temp_data\\kinetics_eo\\30-3.png)|\n",
    "|20|![](temp_data\\kinetics_eo\\20-1.png)|![](temp_data\\kinetics_eo\\20-2.png)|![](temp_data\\kinetics_eo\\20-3.png)|\n",
    "|10|![](temp_data\\kinetics_eo\\10-1.png)|![](temp_data\\kinetics_eo\\10-2.png)|![](temp_data\\kinetics_eo\\10-3.png)|\n",
    "|0|![](temp_data\\kinetics_eo\\0-1.png)|![](temp_data\\kinetics_eo\\0-2.png)|![](temp_data\\kinetics_eo\\0-3.png)|"
   ]
  },
  {
   "cell_type": "markdown",
   "metadata": {},
   "source": [
    "## 5. Correlation between concentration and velocity"
   ]
  },
  {
   "cell_type": "markdown",
   "metadata": {},
   "source": [
    "### 5.1 Local concentration fluctuations and velocity\n",
    "\n",
    "We have found that local concentration fluctuation, which is defined as the standard deviation of concentrations at certain place over a short time, shows high correlation with the magnitude of the product between velocity and concentration gradient. This product can be interpreted as the concentration change caused by advection flows. "
   ]
  },
  {
   "cell_type": "code",
   "execution_count": 21,
   "metadata": {},
   "outputs": [],
   "source": [
    "data = pd.read_excel(io=r'I:\\Google Drive\\Research projects\\DF\\data\\new_data_summary.xlsx', sheet_name='flow_conc_corr')"
   ]
  },
  {
   "cell_type": "code",
   "execution_count": 24,
   "metadata": {},
   "outputs": [
    {
     "data": {
      "text/plain": [
       "[<matplotlib.lines.Line2D at 0x20af8a44cf8>]"
      ]
     },
     "execution_count": 24,
     "metadata": {},
     "output_type": "execute_result"
    },
    {
     "data": {
      "image/png": "[encoded data removed]",
      "text/plain": [
       "<Figure size 471x345.4 with 1 Axes>"
      ]
     },
     "metadata": {
      "needs_background": "light"
     },
     "output_type": "display_data"
    }
   ],
   "source": [
    "plt.figure(figsize=(3, 2.2))\n",
    "markers = {'vorticity': 'o', 'divergence': 's', 'convection': '^', 'divcn': 'x'}\n",
    "labels = {}\n",
    "labels['vorticity'] = r'$(\\nabla\\times v)^2$'\n",
    "labels['divergence'] = r'$(\\nabla\\cdot v)^2$'\n",
    "labels['convection'] = r'$(v\\cdot\\nabla c)^2$'\n",
    "labels['divcn'] = r'$(\\nabla \\cdot (cv))^2$'\n",
    "\n",
    "for kw in markers:\n",
    "    plt.errorbar(data['conc'], data[kw], yerr=data[kw+'_err'], label=labels[kw],\n",
    "                ls='', marker=markers[kw])\n",
    "    \n",
    "\n",
    "plt.legend(loc='right', fontsize=6)\n",
    "plt.xlabel('$n$ [n$_0$]')\n",
    "plt.ylabel('correlation')\n",
    "plt.plot([10, 120], [0, 0], ls='--')"
   ]
  },
  {
   "cell_type": "markdown",
   "metadata": {},
   "source": [
    "### 5.2 Why do I only consider the correlation between concentration fluctuation and advection magnitude?\n",
    "\n",
    "Concentration fluctuation is defined by standard deviation, and is used for quantifying the magnitude of concentration change at a place within certain amount of time. So, it is always a positive value and has no direction. In contrast, fluid flows always have directions, including the advection: when flow velocity and concentration gradient are in the same direction(\\*), the advection is positive, and particles are advected uphill to a higher concentration region; when flow velocity and concentration gradient are in opposite directions, the advection is negative, and particles are advected downhill to a lower concentration region. \n",
    "\n",
    "Both positive and negative advections cause local concentrations to change. We have already seen in the data, that local concentration fluctuation correlates with the magnitude of local advection very well. What if we consider not only the magnitude of the advection, but also the direction? The picture below shows the two scenario - considering or not considering direction of advcetion - and their corresponding correlation. The first row shows the local concentration fluctuation field, advection magnitude and their correlation. The second row shows the local concentration correlation, advection with direction and their correlation. Clearly, advection magnitude shows better correlation. Directly eye inspection also suggests a good consistency between local concentration fluctuation and advection magnitude.\n",
    "\n",
    "\\*: the direction of concentration gradient is defined as the ascending direction"
   ]
  },
  {
   "cell_type": "markdown",
   "metadata": {},
   "source": [
    "<img src=\"temp_data\\why_magnitude.png\" width=\"500\">"
   ]
  },
  {
   "cell_type": "markdown",
   "metadata": {},
   "source": [
    "### 5.3 Why do bacteria generate such flows?\n",
    "\n",
    "Though our analysis reveals that the advection drives the concentration fluctuations, we still have a question: why do bacteria generate such flows, which goes uphill in concentration, in the same direction with concentration gradient? In other words, given a concentration field, can we predict the flow field?\n",
    "\n",
    "We are seeking the evolution rules of concentration. Now, it gets clear that concentration field at one moment gives rise to the concentration field in the next moment by generating flows. A changed concentration field leads to a changed flow field, which, changes the concentration field for sure, but in a different way. "
   ]
  },
  {
   "cell_type": "markdown",
   "metadata": {},
   "source": [
    "## 6. Dimensionality effect\n",
    "\n",
    "Probe dimensionality effect by gradually changing the chamber thickness (200, 140, 100, <del>20</del>)"
   ]
  },
  {
   "cell_type": "code",
   "execution_count": 10,
   "metadata": {},
   "outputs": [],
   "source": [
    "data = pd.read_excel(r'E:\\Google Drive\\Research projects\\DF\\data\\new_data_summary.xlsx', sheet_name='dimensionality').dropna()"
   ]
  },
  {
   "cell_type": "code",
   "execution_count": 15,
   "metadata": {},
   "outputs": [
    {
     "data": {
      "text/plain": [
       "Text(0, 0.5, '$\\\\alpha$')"
      ]
     },
     "execution_count": 15,
     "metadata": {},
     "output_type": "execute_result"
    },
    {
     "data": {
      "image/png": "[encoded data removed]",
      "text/plain": [
       "<Figure size 246.49x196.25 with 1 Axes>"
      ]
     },
     "metadata": {
      "needs_background": "light"
     },
     "output_type": "display_data"
    }
   ],
   "source": [
    "plt.errorbar(data['thickness'], data['alpha_avg'], yerr=data['alpha_std'])\n",
    "plt.xlabel('thickness [$\\mu$m]')\n",
    "plt.ylabel('$\\\\alpha$')"
   ]
  },
  {
   "cell_type": "code",
   "execution_count": 17,
   "metadata": {},
   "outputs": [
    {
     "data": {
      "text/plain": [
       "Text(0, 0.5, 'energy [px$^2$/s$^2$]')"
      ]
     },
     "execution_count": 17,
     "metadata": {},
     "output_type": "execute_result"
    },
    {
     "data": {
      "image/png": "[encoded data removed]",
      "text/plain": [
       "<Figure size 246.49x196.25 with 1 Axes>"
      ]
     },
     "metadata": {
      "needs_background": "light"
     },
     "output_type": "display_data"
    }
   ],
   "source": [
    "plt.errorbar(data['thickness'], data['energy_avg'], yerr=data['energy_std'])\n",
    "plt.xlabel('thickness [$\\mu$m]')\n",
    "plt.ylabel('energy [px$^2$/s$^2$]')"
   ]
  },
  {
   "cell_type": "markdown",
   "metadata": {},
   "source": [
    "**<font color='red'>Question:</font>** when reducing chamber thickness, the density fluctuation scaling exponent does decrease. However, the flow energy decreases at the mean time. This observation has posed a question: does thickness influence the overall motility of bacteria, or just suppress interaction between bacteria by approaching two dimensional settings? "
   ]
  },
  {
   "cell_type": "markdown",
   "metadata": {},
   "source": [
    "## 7. Debug dxd code"
   ]
  },
  {
   "cell_type": "code",
   "execution_count": 20,
   "metadata": {},
   "outputs": [],
   "source": [
    "div = pd.read_csv('temp_data\\dxd_bug\\div.csv')\n",
    "dc_adv = pd.read_csv('temp_data\\dxd_bug\\dc_adv.csv')"
   ]
  },
  {
   "cell_type": "code",
   "execution_count": 27,
   "metadata": {},
   "outputs": [],
   "source": [
    "col = len(div.x.drop_duplicates())\n",
    "row = len(div.y.drop_duplicates())"
   ]
  },
  {
   "cell_type": "code",
   "execution_count": 29,
   "metadata": {},
   "outputs": [
    {
     "data": {
      "text/plain": [
       "Index(['x', 'y', 'divcn', 'divcv', 'divv'], dtype='object')"
      ]
     },
     "execution_count": 29,
     "metadata": {},
     "output_type": "execute_result"
    }
   ],
   "source": [
    "div.columns"
   ]
  },
  {
   "cell_type": "code",
   "execution_count": 30,
   "metadata": {},
   "outputs": [
    {
     "data": {
      "text/plain": [
       "Index(['x', 'y', 'dcx', 'dcy', 'dc', 'adv', 'vdc'], dtype='object')"
      ]
     },
     "execution_count": 30,
     "metadata": {},
     "output_type": "execute_result"
    }
   ],
   "source": [
    "dc_adv.columns"
   ]
  },
  {
   "cell_type": "code",
   "execution_count": 39,
   "metadata": {},
   "outputs": [],
   "source": [
    "mat1 = np.array(div.divv).reshape(row, col)\n",
    "mat2 = np.array(dc_adv.adv).reshape(row, col)"
   ]
  },
  {
   "cell_type": "code",
   "execution_count": 40,
   "metadata": {},
   "outputs": [],
   "source": [
    "mat1 = (mat1 - mat1.mean()) / mat1.std()\n",
    "mat2 = (mat2 - mat2.mean()) / mat2.std()"
   ]
  },
  {
   "cell_type": "code",
   "execution_count": 46,
   "metadata": {
    "scrolled": false
   },
   "outputs": [
    {
     "data": {
      "text/plain": [
       "0.038087017838403035"
      ]
     },
     "execution_count": 46,
     "metadata": {},
     "output_type": "execute_result"
    }
   ],
   "source": [
    "(mat1 * mat2).mean()"
   ]
  },
  {
   "cell_type": "code",
   "execution_count": 31,
   "metadata": {},
   "outputs": [
    {
     "data": {
      "text/plain": [
       "array([[ 2.70889276, -2.40154694],\n",
       "       [ 2.01239494, -0.92855523]])"
      ]
     },
     "execution_count": 31,
     "metadata": {},
     "output_type": "execute_result"
    }
   ],
   "source": [
    "np.random.seed(1)\n",
    "a = np.random.randn(2, 2)\n",
    "b = np.random.randn(2, 2)\n",
    "from scipy import signal\n",
    "signal.correlate2d(a, b, 'same')"
   ]
  },
  {
   "cell_type": "markdown",
   "metadata": {},
   "source": [
    "**Result:** the mismatch in coordinates is not the cause of the empty dxd data."
   ]
  },
  {
   "cell_type": "code",
   "execution_count": 51,
   "metadata": {},
   "outputs": [],
   "source": [
    "dcadv_folder = r'E:\\moreData\\08052020\\dc_adv\\00\\dt=60'\n",
    "l = readdata(dcadv_folder)"
   ]
  },
  {
   "cell_type": "code",
   "execution_count": 54,
   "metadata": {},
   "outputs": [
    {
     "data": {
      "text/html": [
       "<div>\n",
       "<style scoped>\n",
       "    .dataframe tbody tr th:only-of-type {\n",
       "        vertical-align: middle;\n",
       "    }\n",
       "\n",
       "    .dataframe tbody tr th {\n",
       "        vertical-align: top;\n",
       "    }\n",
       "\n",
       "    .dataframe thead th {\n",
       "        text-align: right;\n",
       "    }\n",
       "</style>\n",
       "<table border=\"1\" class=\"dataframe\">\n",
       "  <thead>\n",
       "    <tr style=\"text-align: right;\">\n",
       "      <th></th>\n",
       "      <th>Name</th>\n",
       "      <th>Dir</th>\n",
       "    </tr>\n",
       "  </thead>\n",
       "  <tbody>\n",
       "    <tr>\n",
       "      <th>1594</th>\n",
       "      <td>3188-3248</td>\n",
       "      <td>E:\\moreData\\08052020\\dc_adv\\00\\dt=60\\3188-3248...</td>\n",
       "    </tr>\n",
       "    <tr>\n",
       "      <th>1595</th>\n",
       "      <td>3190-3250</td>\n",
       "      <td>E:\\moreData\\08052020\\dc_adv\\00\\dt=60\\3190-3250...</td>\n",
       "    </tr>\n",
       "    <tr>\n",
       "      <th>1596</th>\n",
       "      <td>3192-3252</td>\n",
       "      <td>E:\\moreData\\08052020\\dc_adv\\00\\dt=60\\3192-3252...</td>\n",
       "    </tr>\n",
       "    <tr>\n",
       "      <th>1597</th>\n",
       "      <td>3194-3254</td>\n",
       "      <td>E:\\moreData\\08052020\\dc_adv\\00\\dt=60\\3194-3254...</td>\n",
       "    </tr>\n",
       "    <tr>\n",
       "      <th>1598</th>\n",
       "      <td>3196-3256</td>\n",
       "      <td>E:\\moreData\\08052020\\dc_adv\\00\\dt=60\\3196-3256...</td>\n",
       "    </tr>\n",
       "    <tr>\n",
       "      <th>...</th>\n",
       "      <td>...</td>\n",
       "      <td>...</td>\n",
       "    </tr>\n",
       "    <tr>\n",
       "      <th>1765</th>\n",
       "      <td>3530-3590</td>\n",
       "      <td>E:\\moreData\\08052020\\dc_adv\\00\\dt=60\\3530-3590...</td>\n",
       "    </tr>\n",
       "    <tr>\n",
       "      <th>1766</th>\n",
       "      <td>3532-3592</td>\n",
       "      <td>E:\\moreData\\08052020\\dc_adv\\00\\dt=60\\3532-3592...</td>\n",
       "    </tr>\n",
       "    <tr>\n",
       "      <th>1767</th>\n",
       "      <td>3534-3594</td>\n",
       "      <td>E:\\moreData\\08052020\\dc_adv\\00\\dt=60\\3534-3594...</td>\n",
       "    </tr>\n",
       "    <tr>\n",
       "      <th>1768</th>\n",
       "      <td>3536-3596</td>\n",
       "      <td>E:\\moreData\\08052020\\dc_adv\\00\\dt=60\\3536-3596...</td>\n",
       "    </tr>\n",
       "    <tr>\n",
       "      <th>1769</th>\n",
       "      <td>3538-3598</td>\n",
       "      <td>E:\\moreData\\08052020\\dc_adv\\00\\dt=60\\3538-3598...</td>\n",
       "    </tr>\n",
       "  </tbody>\n",
       "</table>\n",
       "<p>176 rows × 2 columns</p>\n",
       "</div>"
      ],
      "text/plain": [
       "           Name                                                Dir\n",
       "1594  3188-3248  E:\\moreData\\08052020\\dc_adv\\00\\dt=60\\3188-3248...\n",
       "1595  3190-3250  E:\\moreData\\08052020\\dc_adv\\00\\dt=60\\3190-3250...\n",
       "1596  3192-3252  E:\\moreData\\08052020\\dc_adv\\00\\dt=60\\3192-3252...\n",
       "1597  3194-3254  E:\\moreData\\08052020\\dc_adv\\00\\dt=60\\3194-3254...\n",
       "1598  3196-3256  E:\\moreData\\08052020\\dc_adv\\00\\dt=60\\3196-3256...\n",
       "...         ...                                                ...\n",
       "1765  3530-3590  E:\\moreData\\08052020\\dc_adv\\00\\dt=60\\3530-3590...\n",
       "1766  3532-3592  E:\\moreData\\08052020\\dc_adv\\00\\dt=60\\3532-3592...\n",
       "1767  3534-3594  E:\\moreData\\08052020\\dc_adv\\00\\dt=60\\3534-3594...\n",
       "1768  3536-3596  E:\\moreData\\08052020\\dc_adv\\00\\dt=60\\3536-3596...\n",
       "1769  3538-3598  E:\\moreData\\08052020\\dc_adv\\00\\dt=60\\3538-3598...\n",
       "\n",
       "[176 rows x 2 columns]"
      ]
     },
     "execution_count": 54,
     "metadata": {},
     "output_type": "execute_result"
    }
   ],
   "source": [
    "l.loc[l.index>len(l)*0.9]"
   ]
  }
 ],
 "metadata": {
  "kernelspec": {
   "display_name": "Python 3",
   "language": "python",
   "name": "python3"
  },
  "language_info": {
   "codemirror_mode": {
    "name": "ipython",
    "version": 3
   },
   "file_extension": ".py",
   "mimetype": "text/x-python",
   "name": "python",
   "nbconvert_exporter": "python",
   "pygments_lexer": "ipython3",
   "version": "3.7.7"
  }
 },
 "nbformat": 4,
 "nbformat_minor": 4
}

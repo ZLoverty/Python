{
 "cells": [
  {
   "cell_type": "code",
   "execution_count": 2,
   "metadata": {},
   "outputs": [],
   "source": [
    "import matplotlib.pyplot as plt\n",
    "import pandas as pd\n",
    "import typesetting.main as tm\n",
    "import numpy as np\n",
    "import os\n",
    "from corrLib import readdata\n",
    "from corr_utils import *\n",
    "tm.prl('1-column-2-panel')\n",
    "dirs = data_log_mapping(kw='aug')"
   ]
  },
  {
   "cell_type": "markdown",
   "metadata": {},
   "source": [
    "# Plans\n",
    "\n",
    "- <del>finish the calculation for all samples</del>\n",
    "- <del>draw the kinetics plot (including energy and order) for all samples</del>\n",
    "- <del>summarize the density fluctuation results (both dynamics and kinetics)</del>\n",
    "- <del>order parameter calculation seems different from previous version (where shift matrix was used), check the consistency</del>\n",
    "- 30 n0 data look strange. In correlation length data, they show larger errorbars, and in df data, they show unexpected nonmonotonic trend.\n",
    "    - indeed, one of the 30 n0 video shows collective motion while the other two don't. This leads to the $l_{vv}$ value larger than expected. However, the low $\\alpha$ value has no good explanation yet.\n",
    "- The low velocity and concentration correlation may result from including the kinetics part of data. It is intuitive that the correlation is weak when bacterial turbulence is now fully developed. Try exclude the initial part!"
   ]
  },
  {
   "cell_type": "markdown",
   "metadata": {},
   "source": [
    "## 1. Velocity correlation"
   ]
  },
  {
   "cell_type": "code",
   "execution_count": 51,
   "metadata": {
    "scrolled": true
   },
   "outputs": [
    {
     "data": {
      "text/plain": [
       "Text(0, 0.5, '$l_{vv}/l_b$')"
      ]
     },
     "execution_count": 51,
     "metadata": {},
     "output_type": "execute_result"
    },
    {
     "data": {
      "image/png": "[encoded data removed]",
      "text/plain": [
       "<Figure size 246.49x196.25 with 1 Axes>"
      ]
     },
     "metadata": {
      "needs_background": "light"
     },
     "output_type": "display_data"
    }
   ],
   "source": [
    "data = pd.read_excel(io=r'E:\\Google Drive\\Research projects\\DF\\data\\new_data_summary.xlsx', sheet_name='corrV')\n",
    "data = data.dropna()\n",
    "plt.errorbar(data['conc'], data['avg']*0.33/3, yerr=data['std']*0.33/3)\n",
    "plt.xlabel('$n$ [n$_0$]')\n",
    "plt.ylabel('$l_{vv}/l_b$')"
   ]
  },
  {
   "cell_type": "code",
   "execution_count": null,
   "metadata": {},
   "outputs": [],
   "source": []
  },
  {
   "cell_type": "code",
   "execution_count": 15,
   "metadata": {},
   "outputs": [],
   "source": [
    "# summarize data\n",
    "# sample 10 frames out of the last 1/3 of frames\n",
    "corr_data_path = r'E:\\moreData\\08052020\\cav_imseq'\n",
    "num_sample = 20 # number of frames to sample\n",
    "sample_clA = []\n",
    "sample_clV = []\n",
    "sfL = next(os.walk(corr_data_path))[1]\n",
    "sfL_new = []\n",
    "for s in sfL:\n",
    "#     print('sample ' + str(n))\n",
    "    corr_data_path_num = os.path.join(corr_data_path, s)\n",
    "    \n",
    "    # sample 20 frames in the last 1/3 frames\n",
    "    \n",
    "    l = len(corrLib.readdata(corr_data_path_num))\n",
    "    if l > 60:\n",
    "        samples = np.random.randint((l*2/3)/2, (l-1)/2, num_sample) * 2\n",
    "        clAL = []\n",
    "        clVL = []\n",
    "        for i in samples:\n",
    "            data_raw = pd.read_csv(os.path.join(corr_data_path_num, '{0:04d}-{1:04d}.csv'.format(i, i+1))) # X Y CA CV\n",
    "            data_AV = xy_to_r(data_raw).sort_values(by=['R'])     \n",
    "            clA, fit = corr_length(data_AV.rename(columns={'CA': 'C'}), fitting_range=500)\n",
    "            clV, fit = corr_length(data_AV.rename(columns={'CV': 'C'}), fitting_range=500)\n",
    "            clAL.append(clA)\n",
    "            clVL.append(clV)\n",
    "        sample_clA.append(np.array(clAL).mean())\n",
    "        sample_clV.append(np.array(clVL).mean())\n",
    "        sfL_new.append(int(s))\n",
    "    else:\n",
    "        raise ValueError('Too few data to sample from. Need at least 60 .csv files.')\n",
    "summary = pd.DataFrame({'sample': sfL_new, 'clA': sample_clA, 'clV': sample_clV})\n",
    "summary.to_csv(os.path.join(corr_data_path, 'summary.csv'), index=False)\n",
    "### Needs further improvement"
   ]
  },
  {
   "cell_type": "code",
   "execution_count": 5,
   "metadata": {},
   "outputs": [
    {
     "data": {
      "text/plain": [
       "['00', '01', '02', '03', '04', '05', '06', '07', '08', '09', '10', '11']"
      ]
     },
     "execution_count": 5,
     "metadata": {},
     "output_type": "execute_result"
    }
   ],
   "source": [
    "corr_data_path = r'E:\\moreData\\08052020\\cav_imseq'\n",
    "sfL = next(os.walk(corr_data_path))[1]\n",
    "sfL"
   ]
  },
  {
   "cell_type": "code",
   "execution_count": 3,
   "metadata": {},
   "outputs": [
    {
     "data": {
      "text/plain": [
       "{'120': ['08062020-3', '08062020-4', '08062020-5'],\n",
       " '100': ['08062020-0', '08062020-1', '08062020-2'],\n",
       " '85': ['08052020-3', '08052020-4', '08052020-5'],\n",
       " '80': ['08032020-0', '08032020-1', '08032020-2'],\n",
       " '70': ['08042020-0', '08042020-1', '08042020-2'],\n",
       " '60': ['08032020-3', '08032020-4', '08032020-5'],\n",
       " '50': ['08042020-3', '08042020-4', '08042020-5'],\n",
       " '40': ['08032020-6', '08032020-7', '08032020-8'],\n",
       " '30': ['08042020-6', '08042020-7', '08042020-8'],\n",
       " '20': ['08032020-9', '08032020-10', '08032020-11'],\n",
       " '10': ['08042020-9', '08042020-10', '08042020-11'],\n",
       " '00': ['08032020-12', '08032020-13', '08032020-14']}"
      ]
     },
     "execution_count": 3,
     "metadata": {},
     "output_type": "execute_result"
    }
   ],
   "source": [
    "dirs"
   ]
  },
  {
   "cell_type": "code",
   "execution_count": 36,
   "metadata": {},
   "outputs": [],
   "source": [
    "# retrieve data from cav_imseq/summary.csv\n",
    "folder = r'E:\\moreData'\n",
    "subfolder_name = 'cav_imseq'\n",
    "data = {'conc': [], 'clA_avg': [], 'clV_avg': [], 'clA_std': [], 'clV_std': []}\n",
    "for kw in dirs:\n",
    "    if kw != '00':\n",
    "        conc = int(kw)\n",
    "        for n, dn in enumerate(dirs[kw]):\n",
    "            date, num = dn.split('-')\n",
    "            summary_dir = os.path.join(folder, date, subfolder_name, 'summary.csv')\n",
    "            temp = pd.read_csv(summary_dir, index_col='sample').loc[[int(num)]]\n",
    "            if n == 0:\n",
    "                conc_data = temp\n",
    "            else:\n",
    "                conc_data = conc_data.append(temp)\n",
    "        data['conc'].append(conc)\n",
    "        data['clA_avg'].append(conc_data.clA.mean())\n",
    "        data['clV_avg'].append(conc_data.clV.mean())\n",
    "        data['clA_std'].append(conc_data.clA.std())\n",
    "        data['clV_std'].append(conc_data.clV.std())"
   ]
  },
  {
   "cell_type": "code",
   "execution_count": 39,
   "metadata": {},
   "outputs": [
    {
     "data": {
      "text/html": [
       "<div>\n",
       "<style scoped>\n",
       "    .dataframe tbody tr th:only-of-type {\n",
       "        vertical-align: middle;\n",
       "    }\n",
       "\n",
       "    .dataframe tbody tr th {\n",
       "        vertical-align: top;\n",
       "    }\n",
       "\n",
       "    .dataframe thead th {\n",
       "        text-align: right;\n",
       "    }\n",
       "</style>\n",
       "<table border=\"1\" class=\"dataframe\">\n",
       "  <thead>\n",
       "    <tr style=\"text-align: right;\">\n",
       "      <th></th>\n",
       "      <th>conc</th>\n",
       "      <th>clA_avg</th>\n",
       "      <th>clV_avg</th>\n",
       "      <th>clA_std</th>\n",
       "      <th>clV_std</th>\n",
       "    </tr>\n",
       "  </thead>\n",
       "  <tbody>\n",
       "    <tr>\n",
       "      <th>0</th>\n",
       "      <td>120</td>\n",
       "      <td>131.100812</td>\n",
       "      <td>111.828270</td>\n",
       "      <td>28.195589</td>\n",
       "      <td>12.638994</td>\n",
       "    </tr>\n",
       "    <tr>\n",
       "      <th>1</th>\n",
       "      <td>100</td>\n",
       "      <td>161.152071</td>\n",
       "      <td>96.753156</td>\n",
       "      <td>89.188712</td>\n",
       "      <td>9.837196</td>\n",
       "    </tr>\n",
       "    <tr>\n",
       "      <th>2</th>\n",
       "      <td>85</td>\n",
       "      <td>141.072291</td>\n",
       "      <td>100.711927</td>\n",
       "      <td>30.304600</td>\n",
       "      <td>14.873771</td>\n",
       "    </tr>\n",
       "    <tr>\n",
       "      <th>3</th>\n",
       "      <td>80</td>\n",
       "      <td>79.118514</td>\n",
       "      <td>82.306710</td>\n",
       "      <td>8.986337</td>\n",
       "      <td>8.614581</td>\n",
       "    </tr>\n",
       "    <tr>\n",
       "      <th>4</th>\n",
       "      <td>70</td>\n",
       "      <td>130.699408</td>\n",
       "      <td>113.078446</td>\n",
       "      <td>19.173139</td>\n",
       "      <td>5.336671</td>\n",
       "    </tr>\n",
       "    <tr>\n",
       "      <th>5</th>\n",
       "      <td>60</td>\n",
       "      <td>124.650246</td>\n",
       "      <td>116.078907</td>\n",
       "      <td>37.929393</td>\n",
       "      <td>24.759475</td>\n",
       "    </tr>\n",
       "    <tr>\n",
       "      <th>6</th>\n",
       "      <td>50</td>\n",
       "      <td>106.842831</td>\n",
       "      <td>96.616186</td>\n",
       "      <td>10.622119</td>\n",
       "      <td>12.428217</td>\n",
       "    </tr>\n",
       "    <tr>\n",
       "      <th>7</th>\n",
       "      <td>40</td>\n",
       "      <td>107.955754</td>\n",
       "      <td>101.865676</td>\n",
       "      <td>22.076049</td>\n",
       "      <td>13.505755</td>\n",
       "    </tr>\n",
       "    <tr>\n",
       "      <th>8</th>\n",
       "      <td>30</td>\n",
       "      <td>101.501364</td>\n",
       "      <td>81.795533</td>\n",
       "      <td>25.253006</td>\n",
       "      <td>41.343303</td>\n",
       "    </tr>\n",
       "    <tr>\n",
       "      <th>9</th>\n",
       "      <td>20</td>\n",
       "      <td>66.145536</td>\n",
       "      <td>63.173435</td>\n",
       "      <td>6.840477</td>\n",
       "      <td>4.618811</td>\n",
       "    </tr>\n",
       "    <tr>\n",
       "      <th>10</th>\n",
       "      <td>10</td>\n",
       "      <td>68.019370</td>\n",
       "      <td>41.622898</td>\n",
       "      <td>13.089633</td>\n",
       "      <td>4.026853</td>\n",
       "    </tr>\n",
       "  </tbody>\n",
       "</table>\n",
       "</div>"
      ],
      "text/plain": [
       "    conc     clA_avg     clV_avg    clA_std    clV_std\n",
       "0    120  131.100812  111.828270  28.195589  12.638994\n",
       "1    100  161.152071   96.753156  89.188712   9.837196\n",
       "2     85  141.072291  100.711927  30.304600  14.873771\n",
       "3     80   79.118514   82.306710   8.986337   8.614581\n",
       "4     70  130.699408  113.078446  19.173139   5.336671\n",
       "5     60  124.650246  116.078907  37.929393  24.759475\n",
       "6     50  106.842831   96.616186  10.622119  12.428217\n",
       "7     40  107.955754  101.865676  22.076049  13.505755\n",
       "8     30  101.501364   81.795533  25.253006  41.343303\n",
       "9     20   66.145536   63.173435   6.840477   4.618811\n",
       "10    10   68.019370   41.622898  13.089633   4.026853"
      ]
     },
     "execution_count": 39,
     "metadata": {},
     "output_type": "execute_result"
    }
   ],
   "source": [
    "pd.DataFrame(data)"
   ]
  },
  {
   "cell_type": "code",
   "execution_count": null,
   "metadata": {},
   "outputs": [],
   "source": [
    "date = '08062020'"
   ]
  },
  {
   "cell_type": "markdown",
   "metadata": {},
   "source": [
    "## 2. Concentration correlation"
   ]
  },
  {
   "cell_type": "code",
   "execution_count": 52,
   "metadata": {},
   "outputs": [
    {
     "data": {
      "text/plain": [
       "Text(0, 0.5, '$l_{nn}/l_b$')"
      ]
     },
     "execution_count": 52,
     "metadata": {},
     "output_type": "execute_result"
    },
    {
     "data": {
      "image/png": "[encoded data removed]",
      "text/plain": [
       "<Figure size 246.49x196.25 with 1 Axes>"
      ]
     },
     "metadata": {
      "needs_background": "light"
     },
     "output_type": "display_data"
    }
   ],
   "source": [
    "data = pd.read_excel(io=r'E:\\Google Drive\\Research projects\\DF\\data\\new_data_summary.xlsx', sheet_name='corrI')\n",
    "data = data.dropna()\n",
    "plt.errorbar(data['conc'], data['avg']*0.33/3, yerr=data['std']*0.33/3)\n",
    "plt.xlabel('$n$ [n$_0$]')\n",
    "plt.ylabel('$l_{nn}/l_b$')"
   ]
  },
  {
   "cell_type": "markdown",
   "metadata": {},
   "source": [
    "**Comments:** Bpass is still needed."
   ]
  },
  {
   "cell_type": "markdown",
   "metadata": {},
   "source": [
    "## 3. Density fluctuations "
   ]
  },
  {
   "cell_type": "code",
   "execution_count": 53,
   "metadata": {},
   "outputs": [
    {
     "data": {
      "text/plain": [
       "Text(0, 0.5, '$\\\\alpha$')"
      ]
     },
     "execution_count": 53,
     "metadata": {},
     "output_type": "execute_result"
    },
    {
     "data": {
      "image/png": "[encoded data removed]",
      "text/plain": [
       "<Figure size 246.49x196.25 with 1 Axes>"
      ]
     },
     "metadata": {
      "needs_background": "light"
     },
     "output_type": "display_data"
    }
   ],
   "source": [
    "data = pd.read_excel(io=r'E:\\Google Drive\\Research projects\\DF\\data\\new_data_summary.xlsx', sheet_name='df2')\n",
    "data = data.dropna()\n",
    "plt.errorbar(data['conc'], data['avg'], yerr=data['std'])\n",
    "plt.xlabel('$n$ [n$_0$]')\n",
    "plt.ylabel('$\\\\alpha$')"
   ]
  },
  {
   "cell_type": "markdown",
   "metadata": {},
   "source": [
    "## 4. Density fluctuation kinetics"
   ]
  },
  {
   "cell_type": "markdown",
   "metadata": {},
   "source": [
    "|concentration|sample 1|sample 2|sample 3|\n",
    "|:---------:|:---------:|:---------:|:---------:|\n",
    "|85|![](temp_data\\kinetics_eo\\85-1.png)|![](temp_data\\kinetics_eo\\85-2.png)|![](temp_data\\kinetics_eo\\85-3.png)|\n",
    "|80|![](temp_data\\kinetics_eo\\80-1.png)|![](temp_data\\kinetics_eo\\80-2.png)|![](temp_data\\kinetics_eo\\80-3.png)|\n",
    "|70|![](temp_data\\kinetics_eo\\70-1.png)|![](temp_data\\kinetics_eo\\70-2.png)|![](temp_data\\kinetics_eo\\70-3.png)|\n",
    "|60|![](temp_data\\kinetics_eo\\60-1.png)|![](temp_data\\kinetics_eo\\60-2.png)|![](temp_data\\kinetics_eo\\60-3.png)|\n",
    "|50|![](temp_data\\kinetics_eo\\50-1.png)|![](temp_data\\kinetics_eo\\50-2.png)|![](temp_data\\kinetics_eo\\50-3.png)|\n",
    "|40|![](temp_data\\kinetics_eo\\40-1.png)|![](temp_data\\kinetics_eo\\40-2.png)|![](temp_data\\kinetics_eo\\40-3.png)|\n",
    "|30|![](temp_data\\kinetics_eo\\30-1.png)|![](temp_data\\kinetics_eo\\30-2.png)|![](temp_data\\kinetics_eo\\30-3.png)|\n",
    "|20|![](temp_data\\kinetics_eo\\20-1.png)|![](temp_data\\kinetics_eo\\20-2.png)|![](temp_data\\kinetics_eo\\20-3.png)|\n",
    "|10|![](temp_data\\kinetics_eo\\10-1.png)|![](temp_data\\kinetics_eo\\10-2.png)|![](temp_data\\kinetics_eo\\10-3.png)|\n",
    "|0|![](temp_data\\kinetics_eo\\0-1.png)|![](temp_data\\kinetics_eo\\0-2.png)|![](temp_data\\kinetics_eo\\0-3.png)|"
   ]
  },
  {
   "cell_type": "markdown",
   "metadata": {},
   "source": [
    "## 5. Correlation between concentration and velocity"
   ]
  },
  {
   "cell_type": "code",
   "execution_count": 9,
   "metadata": {
    "scrolled": true
   },
   "outputs": [],
   "source": [
    "#summarize data\n",
    "folder = r'E:\\moreData\\08052020\\div_x_dcadv'\n",
    "l = readdata(folder)\n",
    "for num, i in l.iterrows():\n",
    "    f, n = os.path.split(i.Dir)\n",
    "    f, n = os.path.split(f)\n",
    "    if num == 0:\n",
    "        data = pd.read_csv(i.Dir).assign(sample=n)\n",
    "    else:\n",
    "        data = data.append(pd.read_csv(i.Dir).assign(sample=n))\n",
    "data = data.set_index('sample')\n",
    "data.to_csv(os.path.join(folder, 'summary.csv'))"
   ]
  },
  {
   "cell_type": "code",
   "execution_count": 8,
   "metadata": {},
   "outputs": [
    {
     "name": "stdout",
     "output_type": "stream",
     "text": [
      "Help on function readdata in module corrLib:\n",
      "\n",
      "readdata(folder)\n",
      "\n"
     ]
    }
   ],
   "source": [
    "help(readdata)"
   ]
  },
  {
   "cell_type": "code",
   "execution_count": 11,
   "metadata": {},
   "outputs": [],
   "source": [
    "# retrieve data from each day's summary\n",
    "folder = r'E:\\moreData'\n",
    "count = 0\n",
    "for kw in dirs: \n",
    "    avg, std = retrieve_dxd_data(folder, dirs[kw])\n",
    "    avg = avg.rename(columns={'avg': kw}).transpose()\n",
    "    std = avg.rename(columns={'std': kw}).transpose(), \n",
    "    if count == 0:\n",
    "        avg_data = avg\n",
    "        std_data = std\n",
    "        count = 1\n",
    "    else:\n",
    "        avg_data = avg_data.append(avg)\n",
    "        std_data = avg_data.append(std)"
   ]
  },
  {
   "cell_type": "code",
   "execution_count": 12,
   "metadata": {},
   "outputs": [
    {
     "data": {
      "text/plain": [
       "Text(0, 0.5, 'Correlation')"
      ]
     },
     "execution_count": 12,
     "metadata": {},
     "output_type": "execute_result"
    },
    {
     "data": {
      "image/png": "[encoded data removed]",
      "text/plain": [
       "<Figure size 942x471 with 1 Axes>"
      ]
     },
     "metadata": {
      "needs_background": "light"
     },
     "output_type": "display_data"
    }
   ],
   "source": [
    "# plot\n",
    "plt.figure(figsize=(6, 3))\n",
    "x = np.array(avg_data.index).astype('int32')\n",
    "for kw in avg_data:\n",
    "    if kw != 'dt':        \n",
    "        plt.plot(x, avg_data[kw], label=kw.replace('_', '-'))\n",
    "plt.legend(loc=4, bbox_to_anchor=(1.2, 0))\n",
    "plt.xlabel('$n$ [n$_0$]')\n",
    "plt.ylabel('Correlation')"
   ]
  },
  {
   "cell_type": "markdown",
   "metadata": {},
   "source": [
    "## 6. Dimensionality effect\n",
    "\n",
    "Probe dimensionality effect by gradually changing the chamber thickness (200, 140, 100, <del>20</del>)"
   ]
  },
  {
   "cell_type": "code",
   "execution_count": 10,
   "metadata": {},
   "outputs": [],
   "source": [
    "data = pd.read_excel(r'E:\\Google Drive\\Research projects\\DF\\data\\new_data_summary.xlsx', sheet_name='dimensionality').dropna()"
   ]
  },
  {
   "cell_type": "code",
   "execution_count": 15,
   "metadata": {},
   "outputs": [
    {
     "data": {
      "text/plain": [
       "Text(0, 0.5, '$\\\\alpha$')"
      ]
     },
     "execution_count": 15,
     "metadata": {},
     "output_type": "execute_result"
    },
    {
     "data": {
      "image/png": "[encoded data removed]",
      "text/plain": [
       "<Figure size 246.49x196.25 with 1 Axes>"
      ]
     },
     "metadata": {
      "needs_background": "light"
     },
     "output_type": "display_data"
    }
   ],
   "source": [
    "plt.errorbar(data['thickness'], data['alpha_avg'], yerr=data['alpha_std'])\n",
    "plt.xlabel('thickness [$\\mu$m]')\n",
    "plt.ylabel('$\\\\alpha$')"
   ]
  },
  {
   "cell_type": "code",
   "execution_count": 17,
   "metadata": {},
   "outputs": [
    {
     "data": {
      "text/plain": [
       "Text(0, 0.5, 'energy [px$^2$/s$^2$]')"
      ]
     },
     "execution_count": 17,
     "metadata": {},
     "output_type": "execute_result"
    },
    {
     "data": {
      "image/png": "[encoded data removed]",
      "text/plain": [
       "<Figure size 246.49x196.25 with 1 Axes>"
      ]
     },
     "metadata": {
      "needs_background": "light"
     },
     "output_type": "display_data"
    }
   ],
   "source": [
    "plt.errorbar(data['thickness'], data['energy_avg'], yerr=data['energy_std'])\n",
    "plt.xlabel('thickness [$\\mu$m]')\n",
    "plt.ylabel('energy [px$^2$/s$^2$]')"
   ]
  },
  {
   "cell_type": "markdown",
   "metadata": {},
   "source": [
    "**<font color='red'>Question:</font>** when reducing chamber thickness, the density fluctuation scaling exponent does decrease. However, the flow energy decreases at the mean time. This observation has posed a question: does thickness influence the overall motility of bacteria, or just suppress interaction between bacteria by approaching two dimensional settings? "
   ]
  },
  {
   "cell_type": "markdown",
   "metadata": {},
   "source": [
    "## 7. Debug dxd code"
   ]
  },
  {
   "cell_type": "code",
   "execution_count": 20,
   "metadata": {},
   "outputs": [],
   "source": [
    "div = pd.read_csv('temp_data\\dxd_bug\\div.csv')\n",
    "dc_adv = pd.read_csv('temp_data\\dxd_bug\\dc_adv.csv')"
   ]
  },
  {
   "cell_type": "code",
   "execution_count": 27,
   "metadata": {},
   "outputs": [],
   "source": [
    "col = len(div.x.drop_duplicates())\n",
    "row = len(div.y.drop_duplicates())"
   ]
  },
  {
   "cell_type": "code",
   "execution_count": 29,
   "metadata": {},
   "outputs": [
    {
     "data": {
      "text/plain": [
       "Index(['x', 'y', 'divcn', 'divcv', 'divv'], dtype='object')"
      ]
     },
     "execution_count": 29,
     "metadata": {},
     "output_type": "execute_result"
    }
   ],
   "source": [
    "div.columns"
   ]
  },
  {
   "cell_type": "code",
   "execution_count": 30,
   "metadata": {},
   "outputs": [
    {
     "data": {
      "text/plain": [
       "Index(['x', 'y', 'dcx', 'dcy', 'dc', 'adv', 'vdc'], dtype='object')"
      ]
     },
     "execution_count": 30,
     "metadata": {},
     "output_type": "execute_result"
    }
   ],
   "source": [
    "dc_adv.columns"
   ]
  },
  {
   "cell_type": "code",
   "execution_count": 39,
   "metadata": {},
   "outputs": [],
   "source": [
    "mat1 = np.array(div.divv).reshape(row, col)\n",
    "mat2 = np.array(dc_adv.adv).reshape(row, col)"
   ]
  },
  {
   "cell_type": "code",
   "execution_count": 40,
   "metadata": {},
   "outputs": [],
   "source": [
    "mat1 = (mat1 - mat1.mean()) / mat1.std()\n",
    "mat2 = (mat2 - mat2.mean()) / mat2.std()"
   ]
  },
  {
   "cell_type": "code",
   "execution_count": 46,
   "metadata": {
    "scrolled": false
   },
   "outputs": [
    {
     "data": {
      "text/plain": [
       "0.038087017838403035"
      ]
     },
     "execution_count": 46,
     "metadata": {},
     "output_type": "execute_result"
    }
   ],
   "source": [
    "(mat1 * mat2).mean()"
   ]
  },
  {
   "cell_type": "code",
   "execution_count": 31,
   "metadata": {},
   "outputs": [
    {
     "data": {
      "text/plain": [
       "array([[ 2.70889276, -2.40154694],\n",
       "       [ 2.01239494, -0.92855523]])"
      ]
     },
     "execution_count": 31,
     "metadata": {},
     "output_type": "execute_result"
    }
   ],
   "source": [
    "np.random.seed(1)\n",
    "a = np.random.randn(2, 2)\n",
    "b = np.random.randn(2, 2)\n",
    "from scipy import signal\n",
    "signal.correlate2d(a, b, 'same')"
   ]
  },
  {
   "cell_type": "markdown",
   "metadata": {},
   "source": [
    "**Result:** the mismatch in coordinates is not the cause of the empty dxd data."
   ]
  },
  {
   "cell_type": "code",
   "execution_count": 51,
   "metadata": {},
   "outputs": [],
   "source": [
    "dcadv_folder = r'E:\\moreData\\08052020\\dc_adv\\00\\dt=60'\n",
    "l = readdata(dcadv_folder)"
   ]
  },
  {
   "cell_type": "code",
   "execution_count": 54,
   "metadata": {},
   "outputs": [
    {
     "data": {
      "text/html": [
       "<div>\n",
       "<style scoped>\n",
       "    .dataframe tbody tr th:only-of-type {\n",
       "        vertical-align: middle;\n",
       "    }\n",
       "\n",
       "    .dataframe tbody tr th {\n",
       "        vertical-align: top;\n",
       "    }\n",
       "\n",
       "    .dataframe thead th {\n",
       "        text-align: right;\n",
       "    }\n",
       "</style>\n",
       "<table border=\"1\" class=\"dataframe\">\n",
       "  <thead>\n",
       "    <tr style=\"text-align: right;\">\n",
       "      <th></th>\n",
       "      <th>Name</th>\n",
       "      <th>Dir</th>\n",
       "    </tr>\n",
       "  </thead>\n",
       "  <tbody>\n",
       "    <tr>\n",
       "      <th>1594</th>\n",
       "      <td>3188-3248</td>\n",
       "      <td>E:\\moreData\\08052020\\dc_adv\\00\\dt=60\\3188-3248...</td>\n",
       "    </tr>\n",
       "    <tr>\n",
       "      <th>1595</th>\n",
       "      <td>3190-3250</td>\n",
       "      <td>E:\\moreData\\08052020\\dc_adv\\00\\dt=60\\3190-3250...</td>\n",
       "    </tr>\n",
       "    <tr>\n",
       "      <th>1596</th>\n",
       "      <td>3192-3252</td>\n",
       "      <td>E:\\moreData\\08052020\\dc_adv\\00\\dt=60\\3192-3252...</td>\n",
       "    </tr>\n",
       "    <tr>\n",
       "      <th>1597</th>\n",
       "      <td>3194-3254</td>\n",
       "      <td>E:\\moreData\\08052020\\dc_adv\\00\\dt=60\\3194-3254...</td>\n",
       "    </tr>\n",
       "    <tr>\n",
       "      <th>1598</th>\n",
       "      <td>3196-3256</td>\n",
       "      <td>E:\\moreData\\08052020\\dc_adv\\00\\dt=60\\3196-3256...</td>\n",
       "    </tr>\n",
       "    <tr>\n",
       "      <th>...</th>\n",
       "      <td>...</td>\n",
       "      <td>...</td>\n",
       "    </tr>\n",
       "    <tr>\n",
       "      <th>1765</th>\n",
       "      <td>3530-3590</td>\n",
       "      <td>E:\\moreData\\08052020\\dc_adv\\00\\dt=60\\3530-3590...</td>\n",
       "    </tr>\n",
       "    <tr>\n",
       "      <th>1766</th>\n",
       "      <td>3532-3592</td>\n",
       "      <td>E:\\moreData\\08052020\\dc_adv\\00\\dt=60\\3532-3592...</td>\n",
       "    </tr>\n",
       "    <tr>\n",
       "      <th>1767</th>\n",
       "      <td>3534-3594</td>\n",
       "      <td>E:\\moreData\\08052020\\dc_adv\\00\\dt=60\\3534-3594...</td>\n",
       "    </tr>\n",
       "    <tr>\n",
       "      <th>1768</th>\n",
       "      <td>3536-3596</td>\n",
       "      <td>E:\\moreData\\08052020\\dc_adv\\00\\dt=60\\3536-3596...</td>\n",
       "    </tr>\n",
       "    <tr>\n",
       "      <th>1769</th>\n",
       "      <td>3538-3598</td>\n",
       "      <td>E:\\moreData\\08052020\\dc_adv\\00\\dt=60\\3538-3598...</td>\n",
       "    </tr>\n",
       "  </tbody>\n",
       "</table>\n",
       "<p>176 rows × 2 columns</p>\n",
       "</div>"
      ],
      "text/plain": [
       "           Name                                                Dir\n",
       "1594  3188-3248  E:\\moreData\\08052020\\dc_adv\\00\\dt=60\\3188-3248...\n",
       "1595  3190-3250  E:\\moreData\\08052020\\dc_adv\\00\\dt=60\\3190-3250...\n",
       "1596  3192-3252  E:\\moreData\\08052020\\dc_adv\\00\\dt=60\\3192-3252...\n",
       "1597  3194-3254  E:\\moreData\\08052020\\dc_adv\\00\\dt=60\\3194-3254...\n",
       "1598  3196-3256  E:\\moreData\\08052020\\dc_adv\\00\\dt=60\\3196-3256...\n",
       "...         ...                                                ...\n",
       "1765  3530-3590  E:\\moreData\\08052020\\dc_adv\\00\\dt=60\\3530-3590...\n",
       "1766  3532-3592  E:\\moreData\\08052020\\dc_adv\\00\\dt=60\\3532-3592...\n",
       "1767  3534-3594  E:\\moreData\\08052020\\dc_adv\\00\\dt=60\\3534-3594...\n",
       "1768  3536-3596  E:\\moreData\\08052020\\dc_adv\\00\\dt=60\\3536-3596...\n",
       "1769  3538-3598  E:\\moreData\\08052020\\dc_adv\\00\\dt=60\\3538-3598...\n",
       "\n",
       "[176 rows x 2 columns]"
      ]
     },
     "execution_count": 54,
     "metadata": {},
     "output_type": "execute_result"
    }
   ],
   "source": [
    "l.loc[l.index>len(l)*0.9]"
   ]
  }
 ],
 "metadata": {
  "kernelspec": {
   "display_name": "Python 3",
   "language": "python",
   "name": "python3"
  },
  "language_info": {
   "codemirror_mode": {
    "name": "ipython",
    "version": 3
   },
   "file_extension": ".py",
   "mimetype": "text/x-python",
   "name": "python",
   "nbconvert_exporter": "python",
   "pygments_lexer": "ipython3",
   "version": "3.7.3"
  }
 },
 "nbformat": 4,
 "nbformat_minor": 4
}

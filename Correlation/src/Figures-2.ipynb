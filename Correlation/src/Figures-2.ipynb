{
 "cells": [
  {
   "cell_type": "code",
   "execution_count": 22,
   "metadata": {},
   "outputs": [],
   "source": [
    "import matplotlib.pyplot as plt\n",
    "import pandas as pd\n",
    "from myImageLib import wowcolor\n",
    "import numpy as np\n",
    "import os\n",
    "from corrLib import readdata\n",
    "from corr_utils import *\n",
    "from scipy.signal import savgol_filter\n",
    "import typesetting.main as tm\n",
    "tm.prl('1-column-2-panel')\n",
    "dirs = data_log_mapping(kw='aug')"
   ]
  },
  {
   "cell_type": "markdown",
   "metadata": {},
   "source": [
    "## 1 Correlation between energy and local fluctuations"
   ]
  },
  {
   "cell_type": "markdown",
   "metadata": {},
   "source": [
    "### 1.1 One frame correlation"
   ]
  },
  {
   "cell_type": "code",
   "execution_count": 16,
   "metadata": {},
   "outputs": [],
   "source": [
    "folder = r'D:\\density_fluctuations\\08032020\\local_df\\00\\dt=10'\n",
    "df = np.load(os.path.join(folder, '3000.npy'))\n",
    "piv_folder = r'D:\\density_fluctuations\\08032020\\piv_imseq\\00'\n",
    "pivData = pd.read_csv(os.path.join(piv_folder, '3000-3001.csv'))"
   ]
  },
  {
   "cell_type": "code",
   "execution_count": 12,
   "metadata": {},
   "outputs": [
    {
     "data": {
      "text/plain": [
       "0.10698462626956382"
      ]
     },
     "execution_count": 12,
     "metadata": {},
     "output_type": "execute_result"
    }
   ],
   "source": [
    "v = np.array(pivData.u**2 + pivData.v**2).reshape((42, 50))\n",
    "corr2d(df, v)"
   ]
  },
  {
   "cell_type": "markdown",
   "metadata": {},
   "source": [
    "### 1.2 Multiple frames correlation"
   ]
  },
  {
   "cell_type": "code",
   "execution_count": 13,
   "metadata": {},
   "outputs": [],
   "source": [
    "folder = r'D:\\density_fluctuations\\08032020\\local_df\\00\\dt=10'\n",
    "l = readdata(folder, 'npy')\n",
    "l = l.loc[l.Name.astype('int')>l.Name.astype('int').max()*0.8]"
   ]
  },
  {
   "cell_type": "code",
   "execution_count": 19,
   "metadata": {},
   "outputs": [],
   "source": [
    "corr_list = []\n",
    "for num, i in l.iterrows():\n",
    "    df = np.load(i.Dir)\n",
    "    n = int(i.Name)\n",
    "    pivData = pd.read_csv(os.path.join(piv_folder, '{0:04d}-{1:04d}.csv'.format(n, n+1)))\n",
    "    v = np.array(pivData.u**2 + pivData.v**2).reshape((42, 50))\n",
    "    corr = corr2d(df, v)\n",
    "#     print('{0:4d} {1:03f}'.format(n, corr))\n",
    "    corr_list.append(corr)"
   ]
  },
  {
   "cell_type": "code",
   "execution_count": 23,
   "metadata": {},
   "outputs": [
    {
     "data": {
      "text/plain": [
       "[<matplotlib.lines.Line2D at 0x2188a858668>]"
      ]
     },
     "execution_count": 23,
     "metadata": {},
     "output_type": "execute_result"
    },
    {
     "data": {
      "image/png": "[encoded data removed]",
      "text/plain": [
       "<Figure size 246.49x196.25 with 1 Axes>"
      ]
     },
     "metadata": {
      "needs_background": "light"
     },
     "output_type": "display_data"
    }
   ],
   "source": [
    "plt.plot(l.Name.astype('int'), corr_list)"
   ]
  },
  {
   "cell_type": "code",
   "execution_count": 21,
   "metadata": {},
   "outputs": [
    {
     "data": {
      "text/plain": [
       "0.10083908238213425"
      ]
     },
     "execution_count": 21,
     "metadata": {},
     "output_type": "execute_result"
    }
   ],
   "source": [
    "np.array(corr_list).mean()"
   ]
  },
  {
   "cell_type": "markdown",
   "metadata": {},
   "source": [
    "### 1.3 Summarize data"
   ]
  },
  {
   "cell_type": "code",
   "execution_count": 71,
   "metadata": {},
   "outputs": [
    {
     "name": "stdout",
     "output_type": "stream",
     "text": [
      "summarizing data in 00\n",
      "00: 0.093\n",
      "summarizing data in 01\n",
      "01: 0.103\n",
      "summarizing data in 02\n",
      "02: 0.104\n",
      "summarizing data in 03\n",
      "03: 0.066\n",
      "summarizing data in 04\n",
      "04: 0.091\n",
      "summarizing data in 05\n",
      "05: 0.103\n",
      "summarizing data in 06\n",
      "06: 0.104\n",
      "summarizing data in 07\n",
      "07: 0.119\n",
      "summarizing data in 08\n",
      "08: 0.101\n",
      "summarizing data in 09\n",
      "09: 0.093\n",
      "summarizing data in 10\n",
      "10: 0.106\n",
      "summarizing data in 11\n",
      "11: 0.093\n",
      "summarizing data in 12\n",
      "12: 0.024\n"
     ]
    }
   ],
   "source": [
    "folder = r'D:\\density_fluctuations\\08062020\\local_df'\n",
    "sfL = next(os.walk(folder))[1]\n",
    "avg_list = []\n",
    "for sf in sfL:\n",
    "    print('summarizing data in {}'.format(sf))\n",
    "    df_folder = os.path.join(folder, sf, 'dt=10')\n",
    "    piv_folder = r'D:\\density_fluctuations\\08062020\\piv_imseq\\{}'.format(sf)\n",
    "    l = readdata(df_folder, 'npy')\n",
    "    l = l.loc[l.Name.astype('int')>l.Name.astype('int').max()*0.8]\n",
    "    corr_list = []\n",
    "    for num, i in l.iterrows():\n",
    "        df = np.load(i.Dir)\n",
    "        n = int(i.Name)\n",
    "        pivData = pd.read_csv(os.path.join(piv_folder, '{0:04d}-{1:04d}.csv'.format(n, n+1)))\n",
    "        v = np.array(pivData.u**2 + pivData.v**2).reshape((42, 50))\n",
    "        corr = corr2d(df, v)\n",
    "        corr_list.append(corr)\n",
    "    avg_corr = np.array(corr_list).mean()\n",
    "    avg_list.append(avg_corr)\n",
    "    print('{0}: {1:.3f}'.format(sf, avg_corr))"
   ]
  },
  {
   "cell_type": "code",
   "execution_count": 72,
   "metadata": {},
   "outputs": [],
   "source": [
    "data = pd.DataFrame().assign(sample=sfL, E=avg_list)\n",
    "data.to_csv(os.path.join(folder, 'corr_E_sl=10.csv'), index=False)"
   ]
  },
  {
   "cell_type": "markdown",
   "metadata": {},
   "source": [
    "### 1.4 Plot the data"
   ]
  },
  {
   "cell_type": "code",
   "execution_count": 79,
   "metadata": {},
   "outputs": [],
   "source": [
    "data = pd.read_excel(io=r'I:\\Google Drive\\Research projects\\DF\\data\\new_data_summary.xlsx', sheet_name='flow_conc_corr')"
   ]
  },
  {
   "cell_type": "code",
   "execution_count": 87,
   "metadata": {},
   "outputs": [
    {
     "data": {
      "text/plain": [
       "[<matplotlib.lines.Line2D at 0x2188af537f0>]"
      ]
     },
     "execution_count": 87,
     "metadata": {},
     "output_type": "execute_result"
    },
    {
     "data": {
      "image/png": "[encoded data removed]",
      "text/plain": [
       "<Figure size 246.49x196.25 with 1 Axes>"
      ]
     },
     "metadata": {
      "needs_background": "light"
     },
     "output_type": "display_data"
    }
   ],
   "source": [
    "plt.errorbar(data['conc'], data['energy'], yerr=data['energy_err'],\n",
    "                ls='', marker='^', markersize=2, mew=1, lw=0.5)\n",
    "plt.xlabel('$n$ [n$_0$]')\n",
    "plt.ylabel('correlation')\n",
    "\n",
    "plt.plot([10, 120], [0, 0], ls='--', color=bestcolor(4))"
   ]
  },
  {
   "cell_type": "markdown",
   "metadata": {},
   "source": [
    "## 2 Order parameter as a function of concentration"
   ]
  },
  {
   "cell_type": "markdown",
   "metadata": {},
   "source": [
    "### 2.1 Summarize data"
   ]
  },
  {
   "cell_type": "code",
   "execution_count": 63,
   "metadata": {},
   "outputs": [
    {
     "name": "stdout",
     "output_type": "stream",
     "text": [
      "summarizing data in 00\n",
      "summarizing data in 01\n",
      "summarizing data in 02\n",
      "summarizing data in 03\n",
      "summarizing data in 04\n",
      "summarizing data in 05\n",
      "summarizing data in 06\n",
      "summarizing data in 07\n",
      "summarizing data in 08\n",
      "summarizing data in 09\n",
      "summarizing data in 10\n",
      "summarizing data in 11\n"
     ]
    }
   ],
   "source": [
    "eo_folder = r'D:\\density_fluctuations\\08042020\\energy_order'\n",
    "sfL = next(os.walk(eo_folder))[1]\n",
    "OP_list = []\n",
    "E_list = []\n",
    "for sf in sfL:\n",
    "    print('summarizing data in {}'.format(sf))\n",
    "    eo_data = pd.read_csv(os.path.join(eo_folder, sf, 'energy_order.csv'))\n",
    "    eo_data_crop = eo_data.loc[eo_data.t>eo_data.t.max()*0.9]\n",
    "    E = eo_data_crop.E.mean()\n",
    "    E_list.append(E)\n",
    "    OP = eo_data_crop.OP.mean()\n",
    "    OP_list.append(OP)"
   ]
  },
  {
   "cell_type": "code",
   "execution_count": 64,
   "metadata": {},
   "outputs": [],
   "source": [
    "data = pd.DataFrame().assign(sample=sfL, E=E_list, OP=OP_list)\n",
    "data.to_csv(os.path.join(eo_folder, 'eo_summary.csv'), index=False)"
   ]
  },
  {
   "cell_type": "markdown",
   "metadata": {},
   "source": [
    "### 2.2 Plot the data"
   ]
  },
  {
   "cell_type": "code",
   "execution_count": 90,
   "metadata": {},
   "outputs": [],
   "source": [
    "data = pd.read_excel(io=r'I:\\Google Drive\\Research projects\\DF\\data\\new_data_summary.xlsx', sheet_name='energy_order')"
   ]
  },
  {
   "cell_type": "code",
   "execution_count": 92,
   "metadata": {},
   "outputs": [
    {
     "data": {
      "text/plain": [
       "Text(0, 0.5, 'correlation')"
      ]
     },
     "execution_count": 92,
     "metadata": {},
     "output_type": "execute_result"
    },
    {
     "data": {
      "image/png": "[encoded data removed]",
      "text/plain": [
       "<Figure size 246.49x196.25 with 1 Axes>"
      ]
     },
     "metadata": {
      "needs_background": "light"
     },
     "output_type": "display_data"
    }
   ],
   "source": [
    "plt.errorbar(data['conc'], data['order_avg'], yerr=data['order_std'],\n",
    "                ls='', marker='o', markersize=2, mew=1, lw=0.5)\n",
    "plt.xlabel('$n$ [n$_0$]')\n",
    "plt.ylabel('correlation')"
   ]
  },
  {
   "cell_type": "markdown",
   "metadata": {},
   "source": [
    "**Comment:** the increase of order parameter at low concentration can be used to explain the $\\alpha$ increase at low concentration? Let's do local correlation between order and fluctuation."
   ]
  },
  {
   "cell_type": "markdown",
   "metadata": {},
   "source": [
    "### 2.3 Local correlation between order and fluctuation"
   ]
  },
  {
   "cell_type": "markdown",
   "metadata": {},
   "source": [
    "#### 2.3.1 One frame correlation"
   ]
  },
  {
   "cell_type": "code",
   "execution_count": 98,
   "metadata": {},
   "outputs": [],
   "source": [
    "piv_folder = r'D:\\density_fluctuations\\08032020\\piv_imseq\\00'\n",
    "pivData = pd.read_csv(os.path.join(piv_folder, '3000-3001.csv'))"
   ]
  },
  {
   "cell_type": "code",
   "execution_count": 99,
   "metadata": {},
   "outputs": [],
   "source": [
    "order = order_field(pivData)"
   ]
  },
  {
   "cell_type": "code",
   "execution_count": 102,
   "metadata": {},
   "outputs": [
    {
     "data": {
      "text/plain": [
       "0.05468329062966951"
      ]
     },
     "execution_count": 102,
     "metadata": {},
     "output_type": "execute_result"
    }
   ],
   "source": [
    "df = np.load(r'D:\\density_fluctuations\\08032020\\local_df\\00\\dt=10\\3000.npy')\n",
    "corr2d(order, df)"
   ]
  },
  {
   "cell_type": "markdown",
   "metadata": {},
   "source": [
    "#### 2.3.2 Multiple frames"
   ]
  },
  {
   "cell_type": "code",
   "execution_count": 103,
   "metadata": {},
   "outputs": [],
   "source": [
    "n = 0\n",
    "df_folder = r'D:\\density_fluctuations\\08032020\\local_df\\{:02d}\\dt=10'.format(n)\n",
    "l = readdata(df_folder, 'npy')\n",
    "l_crop = l.loc[l.Name.astype('int')>l.Name.astype('int')*0.9]"
   ]
  },
  {
   "cell_type": "code",
   "execution_count": 104,
   "metadata": {
    "collapsed": true
   },
   "outputs": [
    {
     "name": "stdout",
     "output_type": "stream",
     "text": [
      "-0.03448589183315986\n",
      "0.06508305823588612\n",
      "0.03954383050016898\n",
      "-0.012755155765094357\n",
      "0.03030128066495111\n",
      "-0.005022461538122561\n",
      "0.009636420701155977\n",
      "-0.010358129422081152\n",
      "0.027103511510603726\n",
      "0.06900110496428759\n",
      "0.027716810109461885\n",
      "0.005164401589979232\n",
      "-0.02751283057106201\n",
      "0.021795910889732126\n",
      "0.036965131621517544\n",
      "0.060108897466714016\n",
      "0.0311193657147763\n",
      "0.01881019098614233\n",
      "-0.013271845562030168\n",
      "0.05792427895860196\n",
      "0.021032749320115552\n",
      "-0.022126507472505053\n",
      "-0.00900855863276523\n",
      "0.011841081105549274\n",
      "-0.03634679603508028\n",
      "-0.022457357558294443\n",
      "0.0391328989121023\n",
      "-0.00018468836593016358\n",
      "-0.01221679293016098\n",
      "0.003988121537382846\n",
      "0.005696240294923161\n",
      "0.03650754786550233\n",
      "0.016045111110845407\n",
      "-0.038231621733632204\n",
      "0.02745454541607809\n",
      "0.015160766035512602\n",
      "-0.0570609751658589\n",
      "-0.029530217134944813\n",
      "-0.015448385671902225\n",
      "-0.06302809202575661\n",
      "-0.03717394832807388\n",
      "0.02302148084207574\n",
      "-0.00800539576793448\n",
      "0.013237725985428356\n",
      "0.04584650646094478\n",
      "0.06537845939347438\n",
      "0.007507733275645723\n",
      "0.018048798138305355\n",
      "-0.004275484375654266\n",
      "-0.013857450710266301\n",
      "0.009616809149068149\n",
      "-0.0045823442150900295\n",
      "-0.008551564366847024\n",
      "0.06586236762628024\n",
      "0.03529923577183853\n",
      "0.0516641822311748\n",
      "0.017058693294493853\n",
      "0.05936636551726878\n",
      "0.08538769395385463\n",
      "0.02253602920697202\n",
      "0.05920542132901336\n",
      "0.016933659078184973\n",
      "0.056134353749138846\n",
      "0.04592006688395673\n",
      "0.08520037258872126\n",
      "0.09297211403365296\n",
      "-0.030404723112642702\n",
      "0.04305240424672949\n",
      "0.027192659504042555\n",
      "0.05481261403336255\n",
      "0.018484444781263924\n",
      "0.024107236243472226\n",
      "-0.010343977660138271\n",
      "0.03259028387139391\n",
      "0.019354412229478726\n",
      "0.06778327824353218\n",
      "0.036994039428239395\n",
      "0.12266129198815304\n",
      "0.07600950685335493\n",
      "-0.004485896494069201\n",
      "0.07959287150478422\n",
      "0.08086515718184066\n",
      "0.03603652060395301\n",
      "0.05064768311278352\n",
      "0.01522189362687333\n",
      "0.02248424954544266\n",
      "0.06997936471822311\n",
      "0.09027060931398631\n",
      "0.057376242609182816\n",
      "0.12766669326817093\n",
      "0.12559767941258024\n",
      "0.06887602032345136\n",
      "0.06964596506192168\n",
      "0.008698513606849454\n",
      "0.013910228744024686\n",
      "0.05703093533916142\n",
      "0.040290915792008025\n",
      "0.03049510704533554\n",
      "0.02821320235547421\n",
      "0.0315316013798906\n",
      "0.09169825995217554\n",
      "0.05964227945041456\n",
      "0.050387397239934587\n",
      "0.1116077786904147\n",
      "0.0756881478775609\n",
      "0.11948757975052111\n",
      "0.08025060272480089\n",
      "0.0759217010195579\n",
      "0.03551745297172757\n",
      "0.06790730594373716\n",
      "0.08406972303905524\n",
      "0.0706479250941581\n",
      "0.07964465173604816\n",
      "0.08552416126092197\n",
      "0.07271995280965028\n",
      "0.07458955585307223\n",
      "0.04850494919918133\n",
      "0.07884068213126225\n",
      "0.12555577194778997\n",
      "0.12865166886372603\n",
      "0.09396980259540258\n",
      "0.017194812260796034\n",
      "0.08942958910545876\n",
      "0.06195885830534335\n",
      "0.08065310425191444\n",
      "0.02034524625458999\n",
      "-0.03277242972664522\n",
      "0.021430115442278942\n",
      "0.055441438138626\n",
      "-0.006730238406159361\n",
      "-0.01672637742104557\n",
      "-0.06778477043967086\n",
      "-0.07590611618942487\n",
      "-0.02309953271000159\n",
      "0.08077685253835477\n",
      "0.11737469272206809\n",
      "0.035679456292300946\n",
      "-0.020141118952113107\n",
      "0.029688656025566376\n",
      "0.029940458785242548\n",
      "0.09276311785633914\n",
      "0.063317356002364\n",
      "0.07417511162031848\n",
      "0.08900020545072596\n",
      "0.03272532282164241\n",
      "0.015996789209793312\n",
      "-0.019068812997276956\n",
      "0.05237112822827246\n",
      "0.0874626525903766\n",
      "0.08712199976948903\n",
      "0.06275398604775474\n",
      "0.016742926233409432\n",
      "0.07952724697169315\n",
      "0.037417461939561754\n",
      "0.029975704608893906\n",
      "0.017320298503937247\n",
      "0.022069653513977845\n",
      "0.05811448247103134\n",
      "0.09241488122945286\n",
      "0.09617772897987756\n",
      "0.05092428641883451\n",
      "0.09897315179347918\n",
      "0.07974619927567979\n",
      "0.005172635113026509\n",
      "0.005836561614733088\n",
      "-0.022853981366876497\n",
      "0.0008706254977271264\n",
      "-0.01215984251638004\n",
      "0.061745228691855204\n",
      "0.0950755318895054\n",
      "0.11222458498705297\n",
      "0.08369199297369734\n",
      "0.05943593051833053\n",
      "0.015844364435656635\n",
      "-0.008542581581362157\n",
      "0.036329715998396746\n",
      "-0.02534049737866747\n",
      "0.01869424430793621\n",
      "0.01638285074181679\n",
      "0.03211553907882429\n",
      "-0.012392428775591605\n",
      "-0.04321073653633338\n",
      "-0.043471446577875356\n",
      "0.03546441523815288\n",
      "0.05745480861303972\n",
      "0.017713830339672783\n",
      "0.056360475522791734\n",
      "0.05273799640727519\n",
      "0.08452537160073519\n",
      "0.04676479390308443\n",
      "0.052224289426120764\n",
      "0.07942700549602351\n",
      "0.12906817693466027\n",
      "0.056701234700082294\n",
      "0.005468987067251332\n",
      "0.029941811941554562\n",
      "0.07905009515750115\n",
      "0.0717761837031312\n",
      "0.047397619482960104\n",
      "0.04266356256798831\n",
      "0.010425251998919634\n",
      "0.01666143516156773\n",
      "0.04991845898917624\n",
      "0.05500345523810419\n",
      "0.0716608803329822\n",
      "0.07260125293141328\n",
      "0.09301011493605178\n",
      "0.10128868665035817\n",
      "0.05989792414004063\n",
      "0.03262318485820794\n",
      "-0.035343627715735924\n",
      "-0.012611281411095151\n",
      "0.08575791331947238\n",
      "0.009684770762419694\n",
      "-0.026267084524426092\n",
      "-0.028507937550937584\n",
      "0.021847260506804845\n",
      "0.09927704887200672\n",
      "0.14716227051596859\n",
      "0.13384020173578012\n",
      "0.05934186385266644\n",
      "0.10368279863306541\n",
      "0.06965677454828322\n",
      "0.10162582076802944\n",
      "0.09146649719771559\n",
      "0.07860433932700721\n",
      "0.07075283819338872\n",
      "0.05680668776201818\n",
      "0.06790795497760814\n",
      "0.10466675019810433\n",
      "0.05095046126963325\n",
      "0.021593144741755492\n",
      "0.0336676513693777\n",
      "0.04160617582785959\n",
      "0.07145792381667052\n",
      "0.07500331796994779\n",
      "0.03517236787367197\n",
      "0.07861611421044928\n",
      "0.09571160159042176\n",
      "0.08357969830002493\n",
      "0.023058994023563758\n",
      "0.057444651642560886\n",
      "0.08300507457903433\n",
      "0.09976501213317433\n",
      "0.02662543923350187\n",
      "-0.037971068281448694\n",
      "0.029163310466579762\n",
      "0.09097811567658216\n",
      "0.12950291927561866\n",
      "0.07763888264607999\n",
      "-0.04178231926463916\n",
      "-0.010366082780321832\n",
      "-0.027638993937196783\n",
      "0.04587637605056572\n",
      "0.10033697701829734\n",
      "0.09637837372043517\n",
      "0.011194112704093581\n",
      "-0.0011523232781724508\n",
      "0.03389205921736655\n",
      "0.07442521307028087\n",
      "0.09821338113686558\n",
      "0.10011242865568759\n",
      "0.06369484344266631\n",
      "0.06557821502770977\n",
      "0.055391143486529515\n",
      "0.026514154935466255\n",
      "0.06176291024607857\n",
      "0.07976574536771147\n",
      "0.07358912858349177\n",
      "0.036132513013263035\n",
      "0.05935832757458866\n",
      "0.030309586418971097\n",
      "0.029647758502883488\n",
      "0.04404732539830336\n",
      "0.07600913482771741\n",
      "0.04868206250462505\n",
      "0.09136570145812262\n",
      "0.04771816139482031\n",
      "0.0333865517608759\n",
      "0.07500967253634759\n",
      "0.06951062266229317\n",
      "0.09205750480197047\n",
      "0.033294871840573885\n",
      "0.07941088376207704\n",
      "0.06970028458634431\n",
      "0.06489008836511988\n",
      "0.060038181570905035\n",
      "0.07011880959451496\n",
      "0.04456153202994844\n",
      "0.06431985969338146\n",
      "0.028032465832227096\n",
      "0.0306534832471806\n",
      "0.010082366076591192\n",
      "0.06286756947226574\n",
      "0.04539629301666926\n",
      "-0.003568071439889309\n",
      "-0.006454881851541484\n",
      "0.09214152601852194\n",
      "0.06979074778649492\n",
      "0.05468329062966951\n",
      "0.026201557883306078\n",
      "0.05865207233485861\n",
      "0.013627974972146016\n",
      "-0.012175294789278101\n",
      "0.01192295940044018\n",
      "-0.005991867475350677\n",
      "0.008908579986969681\n",
      "0.034741858192032626\n",
      "0.03821098890751674\n",
      "0.08115668739495062\n",
      "-0.002244162867865674\n",
      "0.07884322955430588\n",
      "0.0908552549739788\n",
      "0.06828373423552199\n",
      "0.04638083151937923\n",
      "0.017632707078213693\n",
      "0.004632708830138118\n",
      "0.010659599711325156\n",
      "0.017428108290936432\n",
      "0.025420971401023913\n",
      "0.08015470062851549\n",
      "0.07262494074682246\n",
      "0.058880157576946986\n",
      "0.08280886862789041\n",
      "0.108077232516843\n",
      "0.10082384154550607\n",
      "0.11359481252999296\n",
      "0.08763201817536877\n",
      "0.07560690819895519\n",
      "0.0782625901888208\n",
      "0.05718229530385112\n",
      "0.04072788917248136\n",
      "0.02200873220213893\n",
      "0.08567605110987858\n",
      "0.04176245199448484\n",
      "0.044922054155126796\n",
      "0.0560691802719261\n",
      "0.08665884566943714\n",
      "0.029331840704389885\n",
      "0.13880575257722205\n",
      "0.09025300413466793\n",
      "0.08118705279641991\n",
      "0.08241922898651835\n",
      "0.025613570634724196\n",
      "-0.017979348116318333\n",
      "-0.013713807228259087\n",
      "0.03973831206276164\n",
      "0.11879628629089978\n",
      "0.09895234107112301\n",
      "0.10124353489884377\n",
      "0.02272014758354122\n",
      "0.01805084843302197\n",
      "-0.03153985882961949\n",
      "0.06935126316057436\n",
      "0.114452007442253\n",
      "0.08110011760145862\n",
      "0.0607890366173593\n",
      "0.06541837303469444\n",
      "0.08743351291840927\n"
     ]
    }
   ],
   "source": [
    "corr_list = []\n",
    "for num, i in l_crop.iterrows():\n",
    "    f = int(i.Name)\n",
    "    df = np.load(i.Dir)\n",
    "    pivData = pd.read_csv(os.path.join(piv_folder, '{0:04d}-{1:04d}.csv'.format(f, f+1)))\n",
    "    order = order_field(pivData)\n",
    "    corr = corr2d(order, df)\n",
    "    corr_list.append(corr)"
   ]
  },
  {
   "cell_type": "code",
   "execution_count": 105,
   "metadata": {},
   "outputs": [
    {
     "data": {
      "text/plain": [
       "[<matplotlib.lines.Line2D at 0x2188c16bf98>]"
      ]
     },
     "execution_count": 105,
     "metadata": {},
     "output_type": "execute_result"
    },
    {
     "data": {
      "image/png": "[encoded data removed]",
      "text/plain": [
       "<Figure size 246.49x196.25 with 1 Axes>"
      ]
     },
     "metadata": {
      "needs_background": "light"
     },
     "output_type": "display_data"
    }
   ],
   "source": [
    "plt.plot(corr_list)"
   ]
  },
  {
   "cell_type": "code",
   "execution_count": 106,
   "metadata": {
    "scrolled": true
   },
   "outputs": [
    {
     "data": {
      "text/plain": [
       "0.044576342280529424"
      ]
     },
     "execution_count": 106,
     "metadata": {},
     "output_type": "execute_result"
    }
   ],
   "source": [
    "np.array(corr_list).mean()"
   ]
  },
  {
   "cell_type": "code",
   "execution_count": 107,
   "metadata": {},
   "outputs": [],
   "source": [
    "def order_df_correlation(df_folder, piv_folder, after=0.9):\n",
    "    \"\"\"\n",
    "    Compute the local correlation between local density fluctuations and local flow order.\n",
    "    \n",
    "    Args:\n",
    "    df_folder -- local density fluctuations data folder\n",
    "    piv_folder -- piv data folder\n",
    "    after -- only process data after certain percentage, when 0, process all data and when 1, process only the last data.\n",
    "                Default is 0.9.\n",
    "    \n",
    "    Returns:\n",
    "    corr_list -- an array of correlations at different frames\n",
    "    \"\"\"\n",
    "    \n",
    "    l = readdata(df_folder, 'npy')\n",
    "    l_crop = l.loc[l.Name.astype('int')>l.Name.astype('int')*0.9]\n",
    "    corr_list = []\n",
    "    for num, i in l_crop.iterrows():\n",
    "        f = int(i.Name)\n",
    "        df = np.load(i.Dir)\n",
    "        pivData = pd.read_csv(os.path.join(piv_folder, '{0:04d}-{1:04d}.csv'.format(f, f+1)))\n",
    "        order = order_field(pivData)\n",
    "        corr = corr2d(order, df)\n",
    "        corr_list.append(corr)\n",
    "    \n",
    "    return np.array(corr_list)"
   ]
  },
  {
   "cell_type": "code",
   "execution_count": 109,
   "metadata": {},
   "outputs": [],
   "source": [
    "order = order_df_correlation(df_folder, piv_folder)"
   ]
  },
  {
   "cell_type": "markdown",
   "metadata": {},
   "source": [
    "#### 2.3.3 Multiple videos"
   ]
  },
  {
   "cell_type": "code",
   "execution_count": 112,
   "metadata": {},
   "outputs": [],
   "source": [
    "folder = r'D:\\density_fluctuations\\08032020\\local_df'\n",
    "sfL = next(os.walk(folder))[1]\n",
    "corr_list = []\n",
    "for sf in sfL:\n",
    "    df_folder = os.path.join(folder, sf, 'dt=10')\n",
    "    piv_folder = r'D:\\density_fluctuations\\08032020\\piv_imseq\\{}'.format(sf)\n",
    "    corr = order_df_correlation(df_folder, piv_folder)\n",
    "    corr_list.append(corr.mean())"
   ]
  },
  {
   "cell_type": "code",
   "execution_count": 114,
   "metadata": {},
   "outputs": [
    {
     "data": {
      "text/plain": [
       "[0.044576342280529424,\n",
       " 0.04139434300714307,\n",
       " 0.029839219272416978,\n",
       " 0.034999868994945546,\n",
       " 0.05187642309174348,\n",
       " 0.04728575612373624,\n",
       " 0.037564256147555236,\n",
       " 0.05473049390870529,\n",
       " 0.05333552738352719,\n",
       " 0.006306700790230181,\n",
       " 0.01568100817394825,\n",
       " 0.009532549680268657,\n",
       " 0.007158949047647931,\n",
       " -0.00609247485232311,\n",
       " -0.003175327604850616]"
      ]
     },
     "execution_count": 114,
     "metadata": {},
     "output_type": "execute_result"
    }
   ],
   "source": [
    "corr_list"
   ]
  },
  {
   "cell_type": "markdown",
   "metadata": {},
   "source": [
    "**Comment:** this set of local correlation shows that flow order is more correlated with local fluctuation at high concentration, similar to energy. So this is not an evidence for correlation between order and ldf at low concentration."
   ]
  },
  {
   "cell_type": "markdown",
   "metadata": {},
   "source": [
    "## 3 Distribution of $\\nabla c$"
   ]
  },
  {
   "cell_type": "code",
   "execution_count": null,
   "metadata": {},
   "outputs": [],
   "source": []
  }
 ],
 "metadata": {
  "kernelspec": {
   "display_name": "Python 3",
   "language": "python",
   "name": "python3"
  },
  "language_info": {
   "codemirror_mode": {
    "name": "ipython",
    "version": 3
   },
   "file_extension": ".py",
   "mimetype": "text/x-python",
   "name": "python",
   "nbconvert_exporter": "python",
   "pygments_lexer": "ipython3",
   "version": "3.7.3"
  }
 },
 "nbformat": 4,
 "nbformat_minor": 2
}

{
 "cells": [
  {
   "cell_type": "code",
   "execution_count": 7,
   "metadata": {},
   "outputs": [],
   "source": [
    "import numpy as np\n",
    "import matplotlib.pyplot as plt\n",
    "from myImageLib import dirrec, bestcolor, bpass, wowcolor\n",
    "from skimage import io, measure\n",
    "from mpl_toolkits.mplot3d import Axes3D\n",
    "import pandas as pd\n",
    "from scipy.signal import savgol_filter, medfilt\n",
    "import os\n",
    "from miscLib import label_slope\n",
    "import matplotlib\n",
    "import typesetting.main as tm\n",
    "tm.prl('1-column-2-panel')\n",
    "import cv2\n",
    "import pandas as pd\n",
    "import corrLib"
   ]
  },
  {
   "cell_type": "code",
   "execution_count": 52,
   "metadata": {},
   "outputs": [],
   "source": [
    "def autocorr_imseq(seq):\n",
    "    \"\"\"\n",
    "    Compute intensity autocorrelation of an image sequence.\n",
    "    \n",
    "    Args:\n",
    "    seq -- image sequence, a DataFrame table containing a set of image names and directories. Return value of corrLib.readseq()\n",
    "    \n",
    "    Returns:\n",
    "    ac_mean -- the autocorrelation\n",
    "    \"\"\"\n",
    "    def autocorr(x):\n",
    "        x = (x-x.mean()) / x.std()\n",
    "        result = np.correlate(x, x, mode='full')/len(x)\n",
    "        return result[len(result)//2:]\n",
    "    \n",
    "    samples = []\n",
    "    for num, i in seq.iterrows():\n",
    "            X, Y, I = corrLib.divide_windows(io.imread(i.Dir), windowsize=[50, 50], step=300)\n",
    "            samples.append(I)\n",
    "    stack = np.stack(samples)\n",
    "    r = stack.reshape((stack.shape[0], stack.shape[1]*stack.shape[2])).transpose()\n",
    "    ac_list = []\n",
    "    for x in r:\n",
    "        ac = autocorr(x)\n",
    "        ac_list.append(ac)\n",
    "    ac_stack = np.stack(ac_list)\n",
    "    ac_mean = ac_stack.mean(axis=0)\n",
    "    return ac_mean"
   ]
  },
  {
   "cell_type": "code",
   "execution_count": 53,
   "metadata": {},
   "outputs": [
    {
     "data": {
      "image/png": "[encoded data removed]",
      "text/plain": [
       "<Figure size 246.49x196.25 with 1 Axes>"
      ]
     },
     "metadata": {
      "needs_background": "light"
     },
     "output_type": "display_data"
    }
   ],
   "source": [
    "num_list = [1, 4, 7, 10]\n",
    "range_list = [(3000, 3600), (3000, 3600), (1600, 1800), (1600, 1800)]\n",
    "fps_list = [30, 30, 10, 10]\n",
    "for n, r, fps in zip(num_list, range_list, fps_list):\n",
    "    folder =r'D:\\density_fluctuations\\08032020\\{:02d}\\8-bit'.format(n)\n",
    "    l = corrLib.readseq(folder)\n",
    "    seq = l.loc[(l.Name.astype('int')>r[0])&(l.Name.astype('int')<r[1])]\n",
    "    ac = autocorr_imseq(seq)\n",
    "    t = np.array(range(0, len(ac))) / fps\n",
    "    plt.plot(t, ac)"
   ]
  }
 ],
 "metadata": {
  "kernelspec": {
   "display_name": "Python 3",
   "language": "python",
   "name": "python3"
  },
  "language_info": {
   "codemirror_mode": {
    "name": "ipython",
    "version": 3
   },
   "file_extension": ".py",
   "mimetype": "text/x-python",
   "name": "python",
   "nbconvert_exporter": "python",
   "pygments_lexer": "ipython3",
   "version": "3.7.7"
  }
 },
 "nbformat": 4,
 "nbformat_minor": 2
}

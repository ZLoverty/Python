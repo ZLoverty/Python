{
 "cells": [
  {
   "cell_type": "markdown",
   "metadata": {},
   "source": [
    "# Figure 4 - what drives concentration fluctuations? - continue"
   ]
  },
  {
   "cell_type": "markdown",
   "metadata": {},
   "source": [
    "<script src=\"https://polyfill.io/v3/polyfill.min.js?features=es6\"></script>\n",
    "<script id=\"MathJax-script\" async src=\"https://cdn.jsdelivr.net/npm/mathjax@3/es5/tex-mml-chtml.js\"></script>"
   ]
  },
  {
   "cell_type": "markdown",
   "metadata": {},
   "source": [
    "Saintillan and Shelly (2008) identifies source field $\\nabla \\cdot (c\\boldsymbol{n})$ as the driving force of giant number fluctuations in pusher suspensions. The equation they found was a direct consequence of a probability conservation equation, with microswimmer velocity modelled by the sum of self-propelling, flow advection and diffusion:\n",
    "$$ \\dot{x}=U_0\\boldsymbol{p}+\\boldsymbol{u}-D\\nabla_x(\\ln{\\Phi})$$\n",
    "and the resulting conservation equation is:\n",
    "$$ \\frac{\\partial c}{\\partial t} + \\boldsymbol{u}\\cdot \\nabla_xc-D\\nabla_x^2c=-U_0\\nabla\\cdot(c\\boldsymbol{n})$$"
   ]
  },
  {
   "cell_type": "markdown",
   "metadata": {},
   "source": [
    "Below, we take the example of 02042020/80-1 data, and analyze the terms $\\frac{\\partial c}{\\partial t}$, $\\frac{\\partial c}{\\partial t}+\\boldsymbol{u}\\cdot \\nabla_xc$ and $-U_0\\nabla\\cdot(c\\boldsymbol{n})$, hoping to find the correlations between them. "
   ]
  },
  {
   "cell_type": "code",
   "execution_count": null,
   "metadata": {},
   "outputs": [],
   "source": []
  }
 ],
 "metadata": {
  "kernelspec": {
   "display_name": "Python 3",
   "language": "python",
   "name": "python3"
  },
  "language_info": {
   "codemirror_mode": {
    "name": "ipython",
    "version": 3
   },
   "file_extension": ".py",
   "mimetype": "text/x-python",
   "name": "python",
   "nbconvert_exporter": "python",
   "pygments_lexer": "ipython3",
   "version": "3.7.3"
  }
 },
 "nbformat": 4,
 "nbformat_minor": 2
}

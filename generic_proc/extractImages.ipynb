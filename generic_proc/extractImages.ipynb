{
 "cells": [
  {
   "cell_type": "markdown",
   "id": "d055a0e8",
   "metadata": {},
   "source": [
    "# Extract Image from Raw Files\n",
    "\n",
    "This notebook tests code that extract .tif images from .raw (binary) files. I aim to create a \"to_tif.py\" equivalence for .raw files. The .raw format is not a standard image format. I describe the structure of .raw file below, and explain the procedure of converting .raw to sequences of .tif.\n",
    "\n",
    "## 1 The structure of .raw file \n",
    "\n",
    ".raw file is a binary file containing all the images and their corresponding image numbers. Such structure can be illustrated as the following sketch\n",
    "<img src='doc-images/raw-structure.png'>"
   ]
  },
  {
   "cell_type": "markdown",
   "id": "438b2944",
   "metadata": {},
   "source": [
    "## 2 Rearrange the sequential data into seperate images\n",
    "\n",
    "Compared to using a for loop to iterate over all the images one-by-one, reading the whole stack is apparently more efficient. I will read the whole stack, and then rearrange the array as the following sketch, so that I can seperate the images. \n",
    "<img src='doc-images/seperate.png'>"
   ]
  },
  {
   "cell_type": "markdown",
   "id": "d8f4d40c",
   "metadata": {},
   "source": [
    "Then, the sequential \"pixel info\" is reshaped into the actual dimensions of images (with height and width), as shown below:\n"
   ]
  },
  {
   "cell_type": "markdown",
   "id": "d08c4cea",
   "metadata": {},
   "source": [
    "<img src=\"doc-images/reshape.png\">"
   ]
  },
  {
   "cell_type": "markdown",
   "id": "a2f6d4b3",
   "metadata": {},
   "source": [
    "Finally, we can save the images as a sequence of .tif files, which are easier to play with. "
   ]
  },
  {
   "cell_type": "markdown",
   "id": "f592bb11",
   "metadata": {},
   "source": [
    "## 3 Image labels\n",
    "\n",
    "The image labels (numbers) are saved as `uint32` in the .raw file. When reading the .raw file using `np.fromfile` with `dtype=uint16`, the `uint32` number is represented as two `uint16` numbers. \n",
    "\n",
    "For example, in the sample images below, the label of the first image is `a = 60639`. When represented as two `uint16` numbers, it's `b = [60638, 0]`. To make image labels consistent with numbers in stagePosition.txt file, I use `a = b[0] + b[1] * 2 ** 16 + 1` to convert the two `uint16` to one `uint32`. \n",
    "\n",
    "**NOTE:** since I only have one data point now, I am not totally sure that this conversion is correct for all the images. Verify the relation when more data are available."
   ]
  },
  {
   "cell_type": "markdown",
   "id": "93945019",
   "metadata": {},
   "source": [
    "## 4 py script implementation\n",
    "\n",
    "A python script `py_files/extractImages.py` is implemented to enable batch processing without opening and modifying this notebook. The original working functions are kept here for future development. Other testing contents are removed."
   ]
  },
  {
   "cell_type": "code",
   "execution_count": 1,
   "id": "301ea4dd",
   "metadata": {},
   "outputs": [],
   "source": [
    "import os\n",
    "import numpy as np\n",
    "from matplotlib import pyplot as plt\n",
    "from skimage import io"
   ]
  },
  {
   "cell_type": "markdown",
   "id": "17962ad5",
   "metadata": {},
   "source": [
    "## 5 Wrap in a function\n",
    "\n",
    "1. Check for necessary files: RawImage.raw, RawImageInfo.txt, ...\n",
    "2. Read image info from RawImageInfo.txt\n",
    "3. Read RawImage.raw and save .tif images"
   ]
  },
  {
   "cell_type": "code",
   "execution_count": 2,
   "id": "b1224b5f",
   "metadata": {},
   "outputs": [],
   "source": [
    "def check_necessary_files(folder):\n",
    "    \"\"\"\n",
    "    Check for necessary files: RawImage.raw, RawImageInfo.txt, ...\n",
    "    \"\"\"\n",
    "    return os.path.exists(os.path.join(folder, 'RawImage.raw')) and \\\n",
    "            os.path.exists(os.path.join(folder, 'RawImageInfo.txt'))"
   ]
  },
  {
   "cell_type": "code",
   "execution_count": 3,
   "id": "71d1ca3f",
   "metadata": {},
   "outputs": [
    {
     "data": {
      "text/plain": [
       "True"
      ]
     },
     "execution_count": 3,
     "metadata": {},
     "output_type": "execute_result"
    }
   ],
   "source": [
    "# test check_necessary_files(folder)\n",
    "folder = '/home/zhengyang/Documents/MATLAB/image-processing/ExtractImage/test-files'\n",
    "check_necessary_files(folder)"
   ]
  },
  {
   "cell_type": "code",
   "execution_count": 4,
   "id": "c669da38",
   "metadata": {},
   "outputs": [],
   "source": [
    "def read_raw_image_info(info_file):\n",
    "    \"\"\"\n",
    "    Read image info, such as fps and image dimensions,\n",
    "    from RawImageInfo.txt\n",
    "    \"\"\"\n",
    "    with open(info_file, 'r') as f:\n",
    "        a = f.read()\n",
    "    fps, h, w = a.split('\\n')[0:3]\n",
    "    return int(fps), int(h), int(w)"
   ]
  },
  {
   "cell_type": "code",
   "execution_count": 5,
   "id": "c9fe996d",
   "metadata": {},
   "outputs": [
    {
     "data": {
      "text/plain": [
       "(80, 1024, 1024)"
      ]
     },
     "execution_count": 5,
     "metadata": {},
     "output_type": "execute_result"
    }
   ],
   "source": [
    "# test read_raw_image_info(info_file)\n",
    "info_file = os.path.join(folder, 'RawImageInfo.txt')\n",
    "read_raw_image_info(info_file)"
   ]
  },
  {
   "cell_type": "code",
   "execution_count": 16,
   "id": "b98b45a3",
   "metadata": {},
   "outputs": [],
   "source": [
    "def raw_to_tif(raw_file, img_dim, save_folder):\n",
    "    \"\"\"\n",
    "    Read RawImage.raw and save .tif images\n",
    "    \n",
    "    Args:\n",
    "    raw_file -- the directory of .raw file\n",
    "    img_dim -- the (h, w) tuple of each frame\n",
    "    \"\"\"\n",
    "    \n",
    "    \n",
    "    a = np.fromfile(raw_file, dtype='uint16')\n",
    "    # to make sure the raw_file contains correct information,\n",
    "    # we check if the number of numbers in array a can be\n",
    "    # divided exactly by h*w+2\n",
    "    h, w = img_dim\n",
    "    assert(a.shape[0] % (h*w+2) == 0)\n",
    "    num_images = a.shape[0] // (h*w+2)\n",
    "    \n",
    "    folder = os.path.split(raw_file)[0]\n",
    "    write_log(folder, num_images)\n",
    "    \n",
    "    img_in_row = a.reshape(num_images, h*w+2)\n",
    "    labels = img_in_row[:, :2] # not in use currently\n",
    "    images = img_in_row[:, 2:]\n",
    "    images_reshape = images.reshape(num_images, h, w)\n",
    "    \n",
    "    # save the images as .tif sequence\n",
    "    if os.path.exists(save_folder) == False:\n",
    "        os.makedirs(save_folder)\n",
    "#     for num, img in enumerate(images_reshape):\n",
    "#         io.imsave(os.path.join(save_folder, '{:04d}.tif'.format(num)), img, check_contrast=False)\n",
    "    for label, img in zip(labels, images_reshape):\n",
    "        num = label[0] + label[1] * 2 ** 16 + 1\n",
    "        io.imsave(os.path.join(save_folder, '{:08d}.tif'.format(num)), img, check_contrast=False)"
   ]
  },
  {
   "cell_type": "code",
   "execution_count": 17,
   "id": "487c2868",
   "metadata": {},
   "outputs": [],
   "source": [
    "# test raw_to_tif(raw_file, img_dim, save_folder)\n",
    "raw_file = os.path.join(folder, 'RawImage.raw')\n",
    "img_dim = (1024, 1024)\n",
    "save_folder = os.path.join(folder, 'images')\n",
    "raw_to_tif(raw_file, img_dim, save_folder)"
   ]
  },
  {
   "cell_type": "code",
   "execution_count": 14,
   "id": "e437dc40",
   "metadata": {},
   "outputs": [],
   "source": [
    "# combine the functions\n",
    "def extract_images(folder):\n",
    "    if check_necessary_files(folder):\n",
    "        info_file = os.path.join(folder, 'RawImageInfo.txt')\n",
    "        raw_file = os.path.join(folder, 'RawImage.raw')\n",
    "        save_folder = os.path.join(folder, 'images')\n",
    "        fps, h, w = read_raw_image_info(info_file)\n",
    "        raw_to_tif(raw_file, (h, w), save_folder)\n",
    "    else:\n",
    "        print('Imcomplete files')"
   ]
  },
  {
   "cell_type": "code",
   "execution_count": 10,
   "id": "7c1c595a",
   "metadata": {
    "scrolled": true
   },
   "outputs": [],
   "source": [
    "# test extract_images(folder)\n",
    "folder = '/home/zhengyang/Documents/GitHub/Python/generic_proc/test_images/extractImages'\n",
    "extract_images(folder)"
   ]
  },
  {
   "cell_type": "code",
   "execution_count": 13,
   "id": "4c179b4e",
   "metadata": {},
   "outputs": [],
   "source": [
    "def write_log(folder, num_images):\n",
    "    \"\"\"\n",
    "    Generate a log file to the same folder as .raw file.\n",
    "    Records the total number of frames in .raw.\n",
    "    This log is used to check if the image extraction is complete.\n",
    "    \n",
    "    Args:\n",
    "    folder -- folder of .raw\n",
    "    num_images -- total number of frames in .raw\n",
    "    \"\"\"\n",
    "    \n",
    "    with open(os.path.join(folder, 'log.txt'), 'w') as f:\n",
    "        f.write(\"Raw image has {:d} frames\".format(num_images))"
   ]
  }
 ],
 "metadata": {
  "kernelspec": {
   "display_name": "Python 3",
   "language": "python",
   "name": "python3"
  },
  "language_info": {
   "codemirror_mode": {
    "name": "ipython",
    "version": 3
   },
   "file_extension": ".py",
   "mimetype": "text/x-python",
   "name": "python",
   "nbconvert_exporter": "python",
   "pygments_lexer": "ipython3",
   "version": "3.8.10"
  }
 },
 "nbformat": 4,
 "nbformat_minor": 5
}

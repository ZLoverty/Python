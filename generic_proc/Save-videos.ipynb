{
 "cells": [
  {
   "cell_type": "markdown",
   "id": "cce6e1ea",
   "metadata": {},
   "source": [
    "# Write images to videos\n",
    "\n",
    "Using opencv-python"
   ]
  },
  {
   "cell_type": "code",
   "execution_count": 19,
   "id": "021211a4",
   "metadata": {},
   "outputs": [],
   "source": [
    "import cv2\n",
    "from skimage import io\n",
    "import os\n",
    "from corrLib import readdata\n",
    "from myImageLib import to8bit\n",
    "import time"
   ]
  },
  {
   "cell_type": "code",
   "execution_count": 21,
   "id": "2a89885a",
   "metadata": {},
   "outputs": [],
   "source": [
    "test_image_folder = r'C:\\Users\\liuzy\\Documents\\Data\\DE\\nov22\\00'\n",
    "l = readdata(test_image_folder, 'tif')"
   ]
  },
  {
   "cell_type": "code",
   "execution_count": 22,
   "id": "54610cd1",
   "metadata": {},
   "outputs": [
    {
     "name": "stdout",
     "output_type": "stream",
     "text": [
      "Wall time: 16.2 s\n"
     ]
    }
   ],
   "source": [
    "%%time\n",
    "sample_img = io.imread(l.Dir[0])\n",
    "video = cv2.VideoWriter(os.path.join(test_image_folder, 'video.avi'), cv2.VideoWriter_fourcc(*'DIVX'), 50, sample_img.shape, isColor=False)\n",
    "for num, i in l.iterrows():\n",
    "    img = io.imread(i.Dir)\n",
    "    video.write(to8bit(img))\n",
    "video.release()"
   ]
  },
  {
   "cell_type": "markdown",
   "id": "5289f991",
   "metadata": {},
   "source": [
    "## Invoke `ffmpeg`"
   ]
  },
  {
   "cell_type": "code",
   "execution_count": 23,
   "id": "4c614f87",
   "metadata": {},
   "outputs": [
    {
     "data": {
      "text/plain": [
       "0"
      ]
     },
     "execution_count": 23,
     "metadata": {},
     "output_type": "execute_result"
    }
   ],
   "source": [
    "os.system('dir')"
   ]
  },
  {
   "cell_type": "markdown",
   "id": "2f931f44",
   "metadata": {},
   "source": [
    "When the python script is run, the `dir` command will be invoked. SIMPLE!"
   ]
  },
  {
   "cell_type": "markdown",
   "id": "8e932236",
   "metadata": {},
   "source": [
    "The following command directly convert images to mp4, bypassing the need for opencv\n",
    "```\n",
    "ffmpeg -f image2 -r 1/5 -i ./images/swissGenevaLake%01d.jpg -vcodec mpeg4 -y ./videos/swissGenevaLake.mp4\n",
    "```"
   ]
  },
  {
   "cell_type": "code",
   "execution_count": 24,
   "id": "2afdd4c3",
   "metadata": {},
   "outputs": [
    {
     "data": {
      "text/plain": [
       "1"
      ]
     },
     "execution_count": 24,
     "metadata": {},
     "output_type": "execute_result"
    }
   ],
   "source": [
    "os.system('ffmpeg -f image2 -r 50 -i {0}\\*.tif -vcodec mpeg4 -y {1}.mp4'.format(test_image_folder, test_image_folder))"
   ]
  }
 ],
 "metadata": {
  "kernelspec": {
   "display_name": "Python 3 (ipykernel)",
   "language": "python",
   "name": "python3"
  },
  "language_info": {
   "codemirror_mode": {
    "name": "ipython",
    "version": 3
   },
   "file_extension": ".py",
   "mimetype": "text/x-python",
   "name": "python",
   "nbconvert_exporter": "python",
   "pygments_lexer": "ipython3",
   "version": "3.8.5"
  }
 },
 "nbformat": 4,
 "nbformat_minor": 5
}

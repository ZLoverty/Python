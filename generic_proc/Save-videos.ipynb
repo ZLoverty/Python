{
 "cells": [
  {
   "cell_type": "markdown",
   "id": "a24a84bd",
   "metadata": {},
   "source": [
    "# Write images to videos\n",
    "\n",
    "Using opencv-python"
   ]
  },
  {
   "cell_type": "code",
   "execution_count": 19,
   "id": "f0eddb4e",
   "metadata": {},
   "outputs": [],
   "source": [
    "import cv2\n",
    "from skimage import io\n",
    "import os\n",
    "from corrLib import readdata\n",
    "from myImageLib import to8bit\n",
    "import time"
   ]
  },
  {
   "cell_type": "code",
   "execution_count": 21,
   "id": "9fc5eb67",
   "metadata": {},
   "outputs": [],
   "source": [
    "test_image_folder = r'C:\\Users\\liuzy\\Documents\\Data\\DE\\nov22\\00'\n",
    "l = readdata(test_image_folder, 'tif')"
   ]
  },
  {
   "cell_type": "code",
   "execution_count": 22,
   "id": "b23b6bac",
   "metadata": {},
   "outputs": [
    {
     "name": "stdout",
     "output_type": "stream",
     "text": [
      "Wall time: 16.2 s\n"
     ]
    }
   ],
   "source": [
    "%%time\n",
    "sample_img = io.imread(l.Dir[0])\n",
    "video = cv2.VideoWriter(os.path.join(test_image_folder, 'video.avi'), cv2.VideoWriter_fourcc(*'DIVX'), 50, sample_img.shape, isColor=False)\n",
    "for num, i in l.iterrows():\n",
    "    img = io.imread(i.Dir)\n",
    "    video.write(to8bit(img))\n",
    "video.release()"
   ]
  },
  {
   "cell_type": "markdown",
   "id": "9a3f3763",
   "metadata": {},
   "source": [
    "## Invoke `ffmpeg`"
   ]
  },
  {
   "cell_type": "code",
   "execution_count": 23,
   "id": "49f233d0",
   "metadata": {},
   "outputs": [
    {
     "data": {
      "text/plain": [
       "0"
      ]
     },
     "execution_count": 23,
     "metadata": {},
     "output_type": "execute_result"
    }
   ],
   "source": [
    "os.system('dir')"
   ]
  },
  {
   "cell_type": "markdown",
   "id": "09c5691b",
   "metadata": {},
   "source": [
    "When the python script is run, the `dir` command will be invoked. SIMPLE!"
   ]
  },
  {
   "cell_type": "markdown",
   "id": "8df4298c",
   "metadata": {},
   "source": [
    "The following command directly convert images to mp4, bypassing the need for opencv\n",
    "```\n",
    "ffmpeg -f image2 -r 1/5 -i ./images/swissGenevaLake%01d.jpg -vcodec mpeg4 -y ./videos/swissGenevaLake.mp4\n",
    "```"
   ]
  },
  {
   "cell_type": "code",
   "execution_count": 24,
   "id": "70fdfd09",
   "metadata": {},
   "outputs": [
    {
     "data": {
      "text/plain": [
       "1"
      ]
     },
     "execution_count": 24,
     "metadata": {},
     "output_type": "execute_result"
    }
   ],
   "source": [
    "os.system('ffmpeg -f image2 -r 50 -i {0}\\*.tif -vcodec mpeg4 -y {1}.mp4'.format(test_image_folder, test_image_folder))"
   ]
  },
  {
   "cell_type": "markdown",
   "id": "8d159071",
   "metadata": {},
   "source": [
    "## Incompatible with 16-bit gray\n",
    "\n",
    "When converting 16-bit gray images to videos, `ffmpeg` does not adjust the contrast and the videos look very bad. In this section, we try to use `colorlevels` filter to manually adjust the contrast, to make the videos look better. [[ref]](https://stackoverflow.com/questions/66155414/convert-16bit-grayscale-png-to-hevc-x265)"
   ]
  },
  {
   "cell_type": "markdown",
   "id": "e3ec7188",
   "metadata": {},
   "source": [
    "Though 16-bit gray images don't work well when converting to videos, the 8-bit images wors very well. "
   ]
  },
  {
   "cell_type": "markdown",
   "id": "a402addb",
   "metadata": {},
   "source": [
    "So far `h264` is the best encoder I find. An avi output will be produced for each image sequence. The output video is quite small in size. For instance, a 12 GB nd2 video will be converted to a ~70 MB avi video. The compression ratio is around 171, the following command can do the conversion:\n",
    "```\n",
    "ffmpeg -framerate xx -i input -vcodec h264 output.avi\n",
    "```"
   ]
  },
  {
   "cell_type": "code",
   "execution_count": 26,
   "id": "0c3003f4",
   "metadata": {},
   "outputs": [],
   "source": [
    "folder = r'C:\\Users\\liuzy\\Documents\\Data\\DE\\nov22'"
   ]
  },
  {
   "cell_type": "code",
   "execution_count": 41,
   "id": "ed26a20c",
   "metadata": {},
   "outputs": [],
   "source": [
    "l = dirrec(folder, '00000.tif')"
   ]
  },
  {
   "cell_type": "code",
   "execution_count": 29,
   "id": "f47aa289",
   "metadata": {},
   "outputs": [
    {
     "data": {
      "text/plain": [
       "<function myImageLib.dirrec(path, filename)>"
      ]
     },
     "execution_count": 29,
     "metadata": {},
     "output_type": "execute_result"
    }
   ],
   "source": [
    "dirrec"
   ]
  },
  {
   "cell_type": "code",
   "execution_count": 39,
   "id": "aa91b8a9",
   "metadata": {},
   "outputs": [
    {
     "data": {
      "text/plain": [
       "1"
      ]
     },
     "execution_count": 39,
     "metadata": {},
     "output_type": "execute_result"
    }
   ],
   "source": [
    "input_folder = os.path.join(folder, '00', '8-bit')\n",
    "output_file = os.path.join(folder, '00.avi')\n",
    "# input format: by default it's %05d, however custom format should be supported by passing keyword fmt\n",
    "# framerate: by default frame rate is set to 50, and it can be modified by passing keyword fps\n",
    "fmt = \"%05d.tif\"\n",
    "input_imseq = os.path.join(input_folder, fmt)\n",
    "fps = 50\n",
    "cmd = 'ffmpeg -framerate {0:d} -i {1} -vodec h264 {2}'.format(fps, input_imseq, output_file)\n",
    "os.system(cmd)"
   ]
  },
  {
   "cell_type": "code",
   "execution_count": 43,
   "id": "bacff939",
   "metadata": {},
   "outputs": [
    {
     "name": "stdout",
     "output_type": "stream",
     "text": [
      "C:\\Users\\liuzy\\Documents\\Data\\DE\\nov22\\00\\8-bit\\00000.tif\n",
      "00\n",
      "C:\\Users\\liuzy\\Documents\\Data\\DE\\nov22\\02\\8-bit\\00000.tif\n",
      "02\n",
      "C:\\Users\\liuzy\\Documents\\Data\\DE\\nov22\\03\\8-bit\\00000.tif\n",
      "03\n",
      "C:\\Users\\liuzy\\Documents\\Data\\DE\\nov22\\04\\8-bit\\00000.tif\n",
      "04\n",
      "C:\\Users\\liuzy\\Documents\\Data\\DE\\nov22\\05\\8-bit\\00000.tif\n",
      "05\n",
      "C:\\Users\\liuzy\\Documents\\Data\\DE\\nov22\\06\\8-bit\\00000.tif\n",
      "06\n",
      "C:\\Users\\liuzy\\Documents\\Data\\DE\\nov22\\07\\8-bit\\00000.tif\n",
      "07\n",
      "C:\\Users\\liuzy\\Documents\\Data\\DE\\nov22\\08\\8-bit\\00000.tif\n",
      "08\n",
      "C:\\Users\\liuzy\\Documents\\Data\\DE\\nov22\\09\\8-bit\\00000.tif\n",
      "09\n",
      "C:\\Users\\liuzy\\Documents\\Data\\DE\\nov22\\10\\8-bit\\00000.tif\n",
      "10\n",
      "C:\\Users\\liuzy\\Documents\\Data\\DE\\nov22\\count\\00\\8-bit\\00000.tif\n",
      "00\n",
      "C:\\Users\\liuzy\\Documents\\Data\\DE\\nov22\\count\\00001\\8-bit\\00000.tif\n",
      "00001\n",
      "C:\\Users\\liuzy\\Documents\\Data\\DE\\nov22\\count\\00002\\8-bit\\00000.tif\n",
      "00002\n",
      "C:\\Users\\liuzy\\Documents\\Data\\DE\\nov22\\count\\00003\\8-bit\\00000.tif\n",
      "00003\n",
      "C:\\Users\\liuzy\\Documents\\Data\\DE\\nov22\\count\\00004\\8-bit\\00000.tif\n",
      "00004\n",
      "C:\\Users\\liuzy\\Documents\\Data\\DE\\nov22\\count\\00005\\8-bit\\00000.tif\n",
      "00005\n",
      "C:\\Users\\liuzy\\Documents\\Data\\DE\\nov22\\count\\00006\\8-bit\\00000.tif\n",
      "00006\n",
      "C:\\Users\\liuzy\\Documents\\Data\\DE\\nov22\\count\\00007\\8-bit\\00000.tif\n",
      "00007\n",
      "C:\\Users\\liuzy\\Documents\\Data\\DE\\nov22\\count\\00008\\8-bit\\00000.tif\n",
      "00008\n",
      "C:\\Users\\liuzy\\Documents\\Data\\DE\\nov22\\count\\00009\\8-bit\\00000.tif\n",
      "00009\n",
      "C:\\Users\\liuzy\\Documents\\Data\\DE\\nov22\\count\\00010\\8-bit\\00000.tif\n",
      "00010\n",
      "C:\\Users\\liuzy\\Documents\\Data\\DE\\nov22\\count\\00011\\8-bit\\00000.tif\n",
      "00011\n",
      "C:\\Users\\liuzy\\Documents\\Data\\DE\\nov22\\count\\00013\\8-bit\\00000.tif\n",
      "00013\n",
      "C:\\Users\\liuzy\\Documents\\Data\\DE\\nov22\\count\\00014\\8-bit\\00000.tif\n",
      "00014\n",
      "C:\\Users\\liuzy\\Documents\\Data\\DE\\nov22\\count\\00015\\8-bit\\00000.tif\n",
      "00015\n",
      "C:\\Users\\liuzy\\Documents\\Data\\DE\\nov22\\count\\00016\\8-bit\\00000.tif\n",
      "00016\n",
      "C:\\Users\\liuzy\\Documents\\Data\\DE\\nov22\\count\\00017\\8-bit\\00000.tif\n",
      "00017\n",
      "C:\\Users\\liuzy\\Documents\\Data\\DE\\nov22\\count\\00018\\8-bit\\00000.tif\n",
      "00018\n"
     ]
    }
   ],
   "source": [
    "for i in l:\n",
    "    if \"8-bit\" in i:\n",
    "        print(i)\n",
    "        print(os.path.split(os.path.split(os.path.split(i)[0])[0])[1])"
   ]
  }
 ],
 "metadata": {
  "kernelspec": {
   "display_name": "Python 3 (ipykernel)",
   "language": "python",
   "name": "python3"
  },
  "language_info": {
   "codemirror_mode": {
    "name": "ipython",
    "version": 3
   },
   "file_extension": ".py",
   "mimetype": "text/x-python",
   "name": "python",
   "nbconvert_exporter": "python",
   "pygments_lexer": "ipython3",
   "version": "3.8.5"
  }
 },
 "nbformat": 4,
 "nbformat_minor": 5
}

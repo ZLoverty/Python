{
 "cells": [
  {
   "cell_type": "markdown",
   "metadata": {},
   "source": [
    "# Typesetting doc"
   ]
  },
  {
   "cell_type": "markdown",
   "metadata": {},
   "source": [
    "## 1. main.py\n",
    "```Python\n",
    "import typesetting.main as tm\n",
    "```"
   ]
  },
  {
   "cell_type": "markdown",
   "metadata": {},
   "source": [
    "### 1.1 prl\n",
    "```Python\n",
    "def prl(preset='1-column-2-panel'):\n",
    "    \"\"\"\n",
    "    Args:\n",
    "    preset -- the type of preset to use (figure size and dpi)\n",
    "    \"\"\"\n",
    "    return None\n",
    "```\n",
    "preset can be set as the following:\n",
    "\n",
    "- `'1-column-2-panel'`: width is 1.57 inch\n",
    "- `'1-column-1-panel'`: width is 3.20 inch\n",
    "- ... "
   ]
  }
 ],
 "metadata": {
  "kernelspec": {
   "display_name": "Python 3",
   "language": "python",
   "name": "python3"
  },
  "language_info": {
   "codemirror_mode": {
    "name": "ipython",
    "version": 3
   },
   "file_extension": ".py",
   "mimetype": "text/x-python",
   "name": "python",
   "nbconvert_exporter": "python",
   "pygments_lexer": "ipython3",
   "version": "3.7.7"
  }
 },
 "nbformat": 4,
 "nbformat_minor": 4
}

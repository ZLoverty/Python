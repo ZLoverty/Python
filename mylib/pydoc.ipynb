{
 "cells": [
  {
   "cell_type": "markdown",
   "metadata": {},
   "source": [
    "# \\*.py file Document\n",
    "\\*.py files are used as executives on HPC systems. They can take in arguments from commandline commands, such as *input_folder* and *output_folder*.\n",
    "\n",
    "This document aims to summarize all the syntax of these files. "
   ]
  },
  {
   "cell_type": "markdown",
   "metadata": {},
   "source": [
    "## Correlation analysis"
   ]
  },
  {
   "cell_type": "markdown",
   "metadata": {},
   "source": [
    "### Spatial intensity correlation\n",
    "<code>corr_imseq.py</code> [src](https://github.com/ZLoverty/Python/blob/master/Correlation/src/py_files/corr_imseq.py) \n",
    "\n",
    "Calculate spatial correlation function for all images in given folder (image sequence), and save corrlen data for each image in a separated \\*.csv file. \n",
    "#### Syntax\n",
    "```\n",
    "python corr_imseq.py input_folder output_folder wsize step\n",
    "```\n",
    "#### Test params\n",
    "```\n",
    "input_folder = I:\\Github\\Python\\Correlation\\test_images\\cl\n",
    "output_folder = I:\\Github\\Python\\Correlation\\test_images\\cl\\result_test\n",
    "wsize = 20\n",
    "step = 20\n",
    "```"
   ]
  },
  {
   "cell_type": "markdown",
   "metadata": {},
   "source": [
    "### Density fluctuations\n",
    "\n",
    "<code>df_imseq.py</code> [src](https://github.com/ZLoverty/Python/blob/master/Correlation/src/py_files/df_imseq.py) \n",
    "\n",
    "Calculate density (intensity) fluctuation for all images in given folder (image sequence), and save corrlen data for each image in a separated \\*.csv file. \n",
    "#### Syntax\n",
    "```\n",
    "python df_imseq.py input_folder output_folder\n",
    "```\n",
    "#### Test params\n",
    "```\n",
    "input_folder = I:\\Github\\Python\\Correlation\\test_images\\cl\n",
    "output_folder = I:\\Github\\Python\\Correlation\\test_images\\df_result\n",
    "\n",
    "```"
   ]
  },
  {
   "cell_type": "markdown",
   "metadata": {},
   "source": [
    "### Intensity autocorrelation\n",
    "<code>autocorr_imseq.py</code>[src](https://github.com/ZLoverty/Python/blob/master/Correlation/src/py_files/autocorr_imseq.py) \n",
    "\n",
    "Calculate temporal correlation (autocorrelation) of average intensity in a box centered at (500, 500), box size is 40 (px).\n",
    "#### Syntax\n",
    "```\n",
    "python autocorr_imseq.py input_folder output_folder\n",
    "```\n",
    "#### Test params\n",
    "```\n",
    "input_folder = I:\\Github\\Python\\Correlation\\test_images\\cl\n",
    "output_folder = I:\\Github\\Python\\Correlation\\test_images\\cl\\ac_result\n",
    "\n",
    "```"
   ]
  },
  {
   "cell_type": "markdown",
   "metadata": {},
   "source": [
    "### Bandpass filter\n",
    "<code>bpass.py</code> [src](https://github.com/ZLoverty/Python/blob/master/generic_proc/bpass.py)\n",
    "\n",
    "Convert \\*.nd2 file to image sequence and apply bandpass filter to each image. Save this image sequence in a subfolder under the same folder as the \\*.nd2 file with corresponding name as the \\*.nd2 file name.\n",
    "#### Syntax\n",
    "```\n",
    "python bpass.py nd2Dir bpassLow bpassHigh\n",
    "```\n",
    "#### Test params\n",
    "```\n",
    "nd2Dir = E:\\Github\\Python\\generic_proc\\test_images\\test.nd2\n",
    "bpassLow = 3\n",
    "bpassHigh = 100\n",
    "```\n",
    "#### Log\n",
    "```\n",
    "Tue Jan 14 20:54:03 2020 // Frame 00000 converted\n",
    "```"
   ]
  },
  {
   "cell_type": "markdown",
   "metadata": {},
   "source": [
    "### Convert nd2 files to 8-bit image sequences\n",
    "<code>to8bit.py</code> [src](https://github.com/ZLoverty/Python/blob/master/generic_proc/to8bit.py)\n",
    "\n",
    "Convert \\*.nd2 file to image sequence of 8-bit grayscale images. Save this image sequence in a subfolder under the same folder as the \\*.nd2 file with corresponding name as the \\*.nd2 file name.\n",
    "#### Syntax\n",
    "```\n",
    "python to8bit.py nd2Dir\n",
    "```\n",
    "#### Test params\n",
    "```\n",
    "nd2Dir = E:\\Github\\Python\\generic_proc\\test_images\\test.nd2\n",
    "```\n",
    "#### Log\n",
    "```\n",
    "Tue Jan 14 21:04:30 2020 // Frame 00000 converted\n",
    "```"
   ]
  },
  {
   "cell_type": "markdown",
   "metadata": {},
   "source": [
    "### PIV for image sequence\n",
    "<code>piv_imseq.py</code> [src](https://github.com/ZLoverty/Python/blob/master/PIV/src/py_files/piv_imseq.py)\n",
    "\n",
    "Perform PIV analysis on given image sequence.\n",
    "#### Syntax\n",
    "```\n",
    "python piv_imseq.py input_folder output_folder winsize overlap fps\n",
    "```\n",
    "#### Test params\n",
    "```\n",
    "input_folder = I:\\Github\\Python\\PIV\\test_images\\imseq\n",
    "output_folder = I:\\Github\\Python\\PIV\\test_images\\imseq\\pivData\n",
    "winsize = 50\n",
    "overlap = 25\n",
    "fps = 30\n",
    "```\n",
    "#### Log\n",
    "```\n",
    "Mon Feb 10 17:43:35 2020 // 0001 calculated\n",
    "Mon Feb 10 17:43:36 2020 // 0003 calculated\n",
    "```"
   ]
  },
  {
   "cell_type": "markdown",
   "metadata": {},
   "source": [
    "### Velocity and orientation spatial correlation\n",
    "<code>cav_imseq.py</code> [src](https://github.com/ZLoverty/Python/blob/master/Correlation/src/py_files/cav_imseq.py)\n",
    "\n",
    "Perform orientation and velocity spatial correlation analysis.\n",
    "#### Syntax\n",
    "```\n",
    "python cav_imseq.py input_folder output_folder\n",
    "```\n",
    "#### Test params\n",
    "```\n",
    "input_folder = I:\\Github\\Python\\Correlation\\test_images\\CAV\n",
    "output_folder = I:\\Github\\Python\\Correlation\\test_images\\CAV\\cav_result\n",
    "```\n",
    "#### Log\n",
    "```\n",
    "Thu Feb 13 11:39:47 2020 // 900-901 calculated\n",
    "Thu Feb 13 11:40:35 2020 // 902-903 calculated\n",
    "```"
   ]
  },
  {
   "cell_type": "markdown",
   "metadata": {},
   "source": [
    "### Divergence field calculation and plot\n",
    "<code>div.py</code> [src](https://github.com/ZLoverty/Python/blob/master/Correlation/src/py_files/div.py)\n",
    "\n",
    "Plot concentration, velocity and divergence fields $\\nabla \\cdot (c\\boldsymbol{n})$ and $\\nabla \\cdot (c\\boldsymbol{v})$\n",
    "#### Syntax\n",
    "```\n",
    "python div.py piv_folder img_folder output_folder winsize step\n",
    "```\n",
    "#### Test params\n",
    "```\n",
    "piv_folder = I:\\Github\\Python\\Correlation\\test_images\\div\n",
    "img_folder = I:\\Github\\Python\\Correlation\\test_images\\div\n",
    "output_folder = I:\\Github\\Python\\Correlation\\test_images\\div\n",
    "winsize = 10\n",
    "step = 10\n",
    "```\n",
    "#### Log\n",
    "```\n",
    "Wed Feb 26 16:16:24 2020 // 900 calculated\n",
    "Wed Feb 26 16:16:27 2020 // 916 calculated\n",
    "```"
   ]
  },
  {
   "cell_type": "markdown",
   "metadata": {},
   "source": [
    "### Density fluctuations (alternative)\n",
    "<code>df2.py</code> [src](https://github.com/ZLoverty/Python/blob/master/Correlation/src/py_files/df2.py)\n",
    "\n",
    "An alternative method to quantify density fluctuation: time variance -> spatial average\n",
    "#### Syntax\n",
    "```\n",
    "python df2.py input_folder output_folder\n",
    "```\n",
    "#### Test params\n",
    "```\n",
    "input_folder = I:\\Github\\Python\\Correlation\\test_images\\GNF\\alternative\\lowc \n",
    "output_folder = I:\\Github\\Python\\Correlation\\test_images\\GNF\\alternative\\lowc\\result\n",
    "```\n",
    "#### Log\n",
    "```\n",
    "Tue Mar  3 13:14:42 2020 // 922 calculated\n",
    "Tue Mar  3 13:14:44 2020 // 923 calculated\n",
    "Tue Mar  3 13:14:45 2020 // 924 calculated\n",
    "```"
   ]
  }
 ],
 "metadata": {
  "kernelspec": {
   "display_name": "Python 3",
   "language": "python",
   "name": "python3"
  },
  "language_info": {
   "codemirror_mode": {
    "name": "ipython",
    "version": 3
   },
   "file_extension": ".py",
   "mimetype": "text/x-python",
   "name": "python",
   "nbconvert_exporter": "python",
   "pygments_lexer": "ipython3",
   "version": "3.7.3"
  }
 },
 "nbformat": 4,
 "nbformat_minor": 2
}

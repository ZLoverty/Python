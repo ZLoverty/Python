{
 "cells": [
  {
   "cell_type": "markdown",
   "metadata": {},
   "source": [
    "# \\*.py file Document\n",
    "\\*.py files are used as executives on HPC systems. They can take in arguments from commandline commands, such as *input_folder* and *output_folder*.\n",
    "\n",
    "This document aims to summarize all the syntax of these files. "
   ]
  },
  {
   "cell_type": "markdown",
   "metadata": {},
   "source": [
    "### corr_imseq.py [src](https://github.com/ZLoverty/Python/blob/master/Correlation/src/py_files/corr_imseq.py) ~/Python/Correlation/src/py_files/corr_imseq.py\n",
    "Calculate spatial correlation function for all images in given folder (image sequence), and save corrlen data for each image in a separated \\*.csv file. \n",
    "#### Syntax\n",
    "```\n",
    "python corr_imseq.py input_folder output_folder wsize step\n",
    "```\n",
    "#### Test params\n",
    "```\n",
    "input_folder = I:\\Github\\Python\\Correlation\\test_images\\cl\n",
    "output_folder = I:\\Github\\Python\\Correlation\\test_images\\cl\\result_test\n",
    "wsize = 20\n",
    "step = 20\n",
    "```"
   ]
  },
  {
   "cell_type": "markdown",
   "metadata": {},
   "source": [
    "### df_imseq.py [src](https://github.com/ZLoverty/Python/blob/master/Correlation/src/py_files/df_imseq.py) ~/Python/Correlation/src/py_files/df_imseq.py\n",
    "Calculate density (intensity) fluctuation for all images in given folder (image sequence), and save corrlen data for each image in a separated \\*.csv file. \n",
    "#### Syntax\n",
    "```\n",
    "python df_imseq.py input_folder output_folder\n",
    "```\n",
    "#### Test params\n",
    "```\n",
    "input_folder = I:\\Github\\Python\\Correlation\\test_images\\cl\n",
    "output_folder = I:\\Github\\Python\\Correlation\\test_images\\df_result\n",
    "\n",
    "```"
   ]
  },
  {
   "cell_type": "markdown",
   "metadata": {},
   "source": [
    "### bpass.py [src](https://github.com/ZLoverty/Python/blob/master/generic_proc/bpass.py) ~/Python/generic_proc/bpass.py\n",
    "Convert \\*.nd2 file to image sequence and apply bandpass filter to each image. Save this image sequence in a subfolder under the same folder as the \\*.nd2 file with corresponding name as the \\*.nd2 file name.\n",
    "#### Syntax\n",
    "```\n",
    "python bpass.py nd2Dir bpassLow bpassHigh\n",
    "```\n",
    "#### Test params\n",
    "```\n",
    "nd2Dir = E:\\Github\\Python\\generic_proc\\test_images\\test.nd2\n",
    "bpassLow = 3\n",
    "bpassHigh = 100\n",
    "```\n",
    "#### Log\n",
    "```\n",
    "Tue Jan 14 20:54:03 2020 // Frame 00000 converted\n",
    "```"
   ]
  },
  {
   "cell_type": "markdown",
   "metadata": {},
   "source": [
    "### to8bit.py [src](https://github.com/ZLoverty/Python/blob/master/generic_proc/to8bit.py) ~/Python/generic_proc/to8bit.py\n",
    "Convert \\*.nd2 file to image sequence of 8-bit grayscale images. Save this image sequence in a subfolder under the same folder as the \\*.nd2 file with corresponding name as the \\*.nd2 file name.\n",
    "#### Syntax\n",
    "```\n",
    "python to8bit.py nd2Dir\n",
    "```\n",
    "#### Test params\n",
    "```\n",
    "nd2Dir = E:\\Github\\Python\\generic_proc\\test_images\\test.nd2\n",
    "```\n",
    "#### Log\n",
    "```\n",
    "Tue Jan 14 21:04:30 2020 // Frame 00000 converted\n",
    "```"
   ]
  }
 ],
 "metadata": {
  "kernelspec": {
   "display_name": "Python 3",
   "language": "python",
   "name": "python3"
  },
  "language_info": {
   "codemirror_mode": {
    "name": "ipython",
    "version": 3
   },
   "file_extension": ".py",
   "mimetype": "text/x-python",
   "name": "python",
   "nbconvert_exporter": "python",
   "pygments_lexer": "ipython3",
   "version": "3.7.3"
  }
 },
 "nbformat": 4,
 "nbformat_minor": 2
}

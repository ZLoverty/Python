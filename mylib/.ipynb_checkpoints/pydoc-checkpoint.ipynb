{
 "cells": [
  {
   "cell_type": "markdown",
   "metadata": {},
   "source": [
    "# \\*.py file Document\n",
    "\\*.py files are used as executives on HPC systems. They can take in arguments from commandline commands, such as *input_folder* and *output_folder*.\n",
    "\n",
    "This document aims to summarize all the syntax of these files. "
   ]
  },
  {
   "cell_type": "markdown",
   "metadata": {},
   "source": [
    "### corr_imseq.py [src](https://github.com/ZLoverty/Python/blob/master/Correlation/src/py_files/corr_imseq.py)\n",
    "Calculate spatial correlation function for all images in given folder (image sequence), and save corrlen data for each image in a separated \\*.csv file. \n",
    "#### Syntax\n",
    "```\n",
    "python corr_imseq.py input_folder output_folder wsize step\n",
    "```\n",
    "#### Test params\n",
    "```\n",
    "input_folder = I:\\Github\\Python\\Correlation\\test_images\\cl\n",
    "output_folder = I:\\Github\\Python\\Correlation\\test_images\\cl\\result_test\n",
    "wsize = 20\n",
    "step = 20\n",
    "```"
   ]
  },
  {
   "cell_type": "markdown",
   "metadata": {},
   "source": [
    "### df_imseq.py [src](https://github.com/ZLoverty/Python/blob/master/Correlation/src/py_files/df_imseq.py)\n",
    "Calculate density (intensity) fluctuation for all images in given folder (image sequence), and save corrlen data for each image in a separated \\*.csv file. \n",
    "#### Syntax\n",
    "```\n",
    "python df_imseq.py input_folder output_folder\n",
    "```\n",
    "#### Test params\n",
    "```\n",
    "input_folder = I:\\Github\\Python\\Correlation\\test_images\\cl\n",
    "output_folder = I:\\Github\\Python\\Correlation\\test_images\\df_result\n",
    "\n",
    "```"
   ]
  }
 ],
 "metadata": {
  "kernelspec": {
   "display_name": "Python 3",
   "language": "python",
   "name": "python3"
  },
  "language_info": {
   "codemirror_mode": {
    "name": "ipython",
    "version": 3
   },
   "file_extension": ".py",
   "mimetype": "text/x-python",
   "name": "python",
   "nbconvert_exporter": "python",
   "pygments_lexer": "ipython3",
   "version": "3.7.3"
  }
 },
 "nbformat": 4,
 "nbformat_minor": 2
}

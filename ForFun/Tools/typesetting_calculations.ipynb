{
 "cells": [
  {
   "cell_type": "markdown",
   "metadata": {},
   "source": [
    "# Calculations for typesetting controls\n",
    "\n",
    "This notebook will do calculations based on existing paper to learn how other people set figure size, figure text size in various layouts."
   ]
  },
  {
   "cell_type": "markdown",
   "metadata": {},
   "source": [
    "## 1. PRL\n",
    "\n",
    "Learn from PRL 123, 218001 (2019)\n",
    "\n",
    "**Column width**\n",
    "\n",
    "- total width of paper: 1336 px (8.5 in)\n",
    "- column width of paper: 528 px\n",
    "- one-column figure width: 508 px\n",
    "- two-panel in one-column, the width of each panel: 246 px\n",
    "\n",
    "**height**\n",
    "\n",
    "- figure height: 196 px (slightly smaller than panel width)\n",
    "\n",
    "**text**\n",
    "\n",
    "Text is a bit smaller than that in main text.\n",
    "\n",
    "- in figure text: 14 px\n",
    "- caption text: 17 px\n",
    "- main text: 20 px\n",
    "\n",
    "**dpi**\n",
    "\n",
    "dpi of main text can be obtained from total width of paper and pixel size of text. \n",
    "\n",
    "With these observations in mind we can start doing some tuning in matplotlib to make better control of the output graph."
   ]
  },
  {
   "cell_type": "code",
   "execution_count": 8,
   "metadata": {},
   "outputs": [],
   "source": [
    "import matplotlib.pyplot as plt\n",
    "import numpy as np\n",
    "import matplotlib"
   ]
  },
  {
   "cell_type": "code",
   "execution_count": 38,
   "metadata": {},
   "outputs": [],
   "source": [
    "# matplotlib configs\n",
    "matplotlib.rcParams['font.family'] = 'Times New Roman'\n",
    "matplotlib.rcParams['text.usetex'] = True \n",
    "\n",
    "matplotlib.rcParams['axes.labelpad'] = 1.0\n",
    "matplotlib.rcParams['axes.linewidth'] = 0.5\n",
    "\n",
    "matplotlib.rcParams['xtick.labelsize'] = 'small'\n",
    "matplotlib.rcParams['xtick.direction'] = 'in'\n",
    "matplotlib.rcParams['xtick.minor.visible'] = True\n",
    "matplotlib.rcParams['xtick.top'] = True\n",
    "matplotlib.rcParams['xtick.major.size'] = 2.5\n",
    "matplotlib.rcParams['xtick.minor.size'] = 1.6\n",
    "\n",
    "matplotlib.rcParams['ytick.labelsize'] = 'small'\n",
    "matplotlib.rcParams['ytick.direction'] = 'in'\n",
    "matplotlib.rcParams['ytick.minor.visible'] = True\n",
    "matplotlib.rcParams['ytick.right'] = True\n",
    "matplotlib.rcParams['ytick.major.size'] = 2.5\n",
    "matplotlib.rcParams['ytick.minor.size'] = 1.6"
   ]
  },
  {
   "cell_type": "code",
   "execution_count": 21,
   "metadata": {},
   "outputs": [
    {
     "data": {
      "text/plain": [
       "'E:\\\\anaconda\\\\miniconda\\\\lib\\\\site-packages\\\\matplotlib\\\\mpl-data\\\\matplotlibrc'"
      ]
     },
     "execution_count": 21,
     "metadata": {},
     "output_type": "execute_result"
    }
   ],
   "source": [
    "matplotlib.matplotlib_fname()"
   ]
  },
  {
   "cell_type": "markdown",
   "metadata": {},
   "source": [
    "**Use a dictionary to save these presettings**\n",
    "\n",
    "Structure: dictionary keys will be the figure type, e.g. 2-column-4-panel, 1-column-2-panel, etc. Each item will be a tuple of (height, width, dpi) which can then be used to initialize a mpl.Figure."
   ]
  },
  {
   "cell_type": "code",
   "execution_count": 40,
   "metadata": {},
   "outputs": [],
   "source": [
    "presets = {}\n",
    "presets['1-column-2-panel'] = (1.25, 1.57, 157)\n",
    "presets['1-column-1-panel'] = (1.25, 3.2, 157)"
   ]
  },
  {
   "cell_type": "code",
   "execution_count": 39,
   "metadata": {},
   "outputs": [
    {
     "data": {
      "text/plain": [
       "3.2320359281437128"
      ]
     },
     "execution_count": 39,
     "metadata": {},
     "output_type": "execute_result"
    }
   ],
   "source": [
    "508/1336*8.5"
   ]
  },
  {
   "cell_type": "markdown",
   "metadata": {},
   "source": [
    "**A test figure**"
   ]
  },
  {
   "cell_type": "code",
   "execution_count": 35,
   "metadata": {},
   "outputs": [],
   "source": [
    "x = range(0, 100)\n",
    "y = np.random.randn(100)"
   ]
  },
  {
   "cell_type": "code",
   "execution_count": 36,
   "metadata": {},
   "outputs": [
    {
     "data": {
      "text/plain": [
       "Text(0, 0.5, '$y$')"
      ]
     },
     "execution_count": 36,
     "metadata": {},
     "output_type": "execute_result"
    },
    {
     "data": {
      "image/png": "[encoded data removed]",
      "text/plain": [
       "<Figure size 246.49x196.25 with 1 Axes>"
      ]
     },
     "metadata": {
      "needs_background": "light"
     },
     "output_type": "display_data"
    }
   ],
   "source": [
    "h, w, dpi = presets['1-column-2-panel']\n",
    "fig = plt.figure(figsize=(w, h), dpi=dpi)\n",
    "ax = fig.add_axes([0, 0, 1, 1])\n",
    "ax.plot(x, y)\n",
    "ax.text(x[50], y[50], 'test text')\n",
    "ax.set_xlabel('$x$')\n",
    "ax.set_ylabel('$y$')"
   ]
  }
 ],
 "metadata": {
  "kernelspec": {
   "display_name": "Python 3",
   "language": "python",
   "name": "python3"
  },
  "language_info": {
   "codemirror_mode": {
    "name": "ipython",
    "version": 3
   },
   "file_extension": ".py",
   "mimetype": "text/x-python",
   "name": "python",
   "nbconvert_exporter": "python",
   "pygments_lexer": "ipython3",
   "version": "3.7.7"
  }
 },
 "nbformat": 4,
 "nbformat_minor": 4
}

{
 "cells": [
  {
   "cell_type": "markdown",
   "metadata": {},
   "source": [
    "# Generate job files for MSI computing\n",
    "Main feature is to get all subfolders in a directory, and set up the output folders correspondingly"
   ]
  },
  {
   "cell_type": "code",
   "execution_count": 1,
   "metadata": {},
   "outputs": [],
   "source": [
    "import myImageLib as mil\n",
    "import os\n",
    "import numpy as np\n",
    "from tool_utils import header"
   ]
  },
  {
   "cell_type": "markdown",
   "metadata": {},
   "source": [
    "Generate a header for job file:\n",
    "```Python\n",
    "def header(walltime, mem, code_path, to_file=None):\n",
    "    \"\"\"\n",
    "    walltime -- estimate running time (hr)\n",
    "    mem -- memory needed (gb)\n",
    "    code_path -- the folder in which the code can be found\n",
    "    to_file -- file object to write to. If you want to print in console, set to None (default)\n",
    "```"
   ]
  },
  {
   "cell_type": "code",
   "execution_count": 4,
   "metadata": {},
   "outputs": [
    {
     "name": "stdout",
     "output_type": "stream",
     "text": [
      "#!/bin/bash -l\n",
      "#PBS -l walltime=8:00:00,nodes=1:ppn=8,mem=3gb\n",
      "#PBS -m abe\n",
      "#PBS -M liux3141@umn.edu\n",
      "\n",
      "cd ~/code/Python/Correlation/src/py_files\n",
      "module load python3\n",
      "source activate pythonEnv\n"
     ]
    }
   ],
   "source": [
    "# test header()\n",
    "header(8, 3, '~/code/Python/Correlation/src/py_files')"
   ]
  },
  {
   "cell_type": "markdown",
   "metadata": {},
   "source": [
    "- 01.pbs: python piv_imseq.py img_folder output_folder winsize overlap fps smooth\n",
    "- 02.pbs: python df2_kinetics.py folder folder_out seg_length\n",
    "- 03.pbs: python overall_intensity.py folder folder_out\n",
    "- 04.pbs: python corr_imseq.py input_folder output_folder wsize step\n",
    "\n",
    "\n",
    "- 05.pbs: python div2.py piv_folder imgDir output_folder winsize step\n",
    "- 06.pbs: python cav_imseq.py piv_folder output_folder\n",
    "- 07.pbs: python dc_adv.py folder_img folder_piv folder_out interval fps step\n",
    "- 08.pbs: python div_x_dcadv.py folder_div folder_dcadv folder_out"
   ]
  },
  {
   "cell_type": "code",
   "execution_count": 11,
   "metadata": {},
   "outputs": [],
   "source": [
    "# create folder for job file\n",
    "folder = r'I:\\Github\\Python\\job_files\\08042020'\n",
    "# folder_out = '~/numerics/illumination_noise'\n",
    "if os.path.exists(folder) == False:\n",
    "    os.makedirs(folder)\n",
    "with open(os.path.join(folder, '01.pbs'), 'w') as f:\n",
    "    header(16, 3, '~/code/Python/PIV/src/py_files', to_file=f)\n",
    "    num = range(0, 15)\n",
    "    fpsL = [30, 30, 30, 30, 30, 30, 30, 10, 10, 10, 10, 10, 10, 10, 10]\n",
    "    for n, fps in zip(num, fpsL):\n",
    "        f.write('python piv_imseq.py ~/Data/08032020/{0:02d}/8-bit ~/Data/08032020/piv_imseq/{0:02d}  50 25 {1:d} 1 &\\n'.format(n, fps))\n",
    "    f.write('wait')"
   ]
  },
  {
   "cell_type": "code",
   "execution_count": 13,
   "metadata": {},
   "outputs": [],
   "source": [
    "# df2_kinetics, 02\n",
    "folder = r'I:\\Github\\Python\\job_files\\08042020'\n",
    "# folder_out = '~/numerics/illumination_noise'\n",
    "if os.path.exists(folder) == False:\n",
    "    os.makedirs(folder)\n",
    "with open(os.path.join(folder, '02.pbs'), 'w') as f:\n",
    "    header(16, 3, '~/code/Python/Correlation/src/py_files', to_file=f)\n",
    "    num = range(0, 15)\n",
    "    fpsL = [30, 30, 30, 30, 30, 30, 30, 10, 10, 10, 10, 10, 10, 10, 10]\n",
    "    for n, fps in zip(num, fpsL):\n",
    "        f.write('python df2_kinetics.py ~/Data/08032020/{0:02d}/8-bit ~/Data/08032020/df2_kinetics/{0:02d} 50 &\\n'.format(n))\n",
    "    f.write('wait')"
   ]
  },
  {
   "cell_type": "code",
   "execution_count": 16,
   "metadata": {},
   "outputs": [],
   "source": [
    "# overall_intensity, 03\n",
    "folder = r'I:\\Github\\Python\\job_files\\08042020'\n",
    "# folder_out = '~/numerics/illumination_noise'\n",
    "if os.path.exists(folder) == False:\n",
    "    os.makedirs(folder)\n",
    "with open(os.path.join(folder, '03.pbs'), 'w') as f:\n",
    "    header(16, 3, '~/code/Python/Correlation/src/py_files', to_file=f)\n",
    "    num = range(0, 15)\n",
    "    fpsL = [30, 30, 30, 30, 30, 30, 30, 10, 10, 10, 10, 10, 10, 10, 10]\n",
    "    for n, fps in zip(num, fpsL):\n",
    "        f.write('python overall_intensity.py ~/Data/08032020/{0:02d}/8-bit ~/Data/08032020/overall_intensity/{0:02d} &\\n'.format(n))\n",
    "    f.write('wait')"
   ]
  },
  {
   "cell_type": "code",
   "execution_count": 18,
   "metadata": {},
   "outputs": [],
   "source": [
    "# corr_imseq, 04\n",
    "folder = r'I:\\Github\\Python\\job_files\\08042020'\n",
    "# folder_out = '~/numerics/illumination_noise'\n",
    "if os.path.exists(folder) == False:\n",
    "    os.makedirs(folder)\n",
    "with open(os.path.join(folder, '04.pbs'), 'w') as f:\n",
    "    header(16, 3, '~/code/Python/Correlation/src/py_files', to_file=f)\n",
    "    num = range(0, 15)\n",
    "    fpsL = [30, 30, 30, 30, 30, 30, 30, 10, 10, 10, 10, 10, 10, 10, 10]\n",
    "    for n, fps in zip(num, fpsL):\n",
    "        f.write('python corr_imseq.py ~/Data/08032020/{0:02d}/8-bit ~/Data/08032020/corr_imseq/{0:02d} 10 10 &\\n'.format(n))\n",
    "    f.write('wait')"
   ]
  },
  {
   "cell_type": "code",
   "execution_count": 19,
   "metadata": {},
   "outputs": [],
   "source": [
    "# div2, 05\n",
    "folder = r'I:\\Github\\Python\\job_files\\08042020'\n",
    "# folder_out = '~/numerics/illumination_noise'\n",
    "if os.path.exists(folder) == False:\n",
    "    os.makedirs(folder)\n",
    "with open(os.path.join(folder, '05.pbs'), 'w') as f:\n",
    "    header(16, 3, '~/code/Python/Correlation/src/py_files', to_file=f)\n",
    "    num = range(0, 15)\n",
    "    fpsL = [30, 30, 30, 30, 30, 30, 30, 10, 10, 10, 10, 10, 10, 10, 10]\n",
    "    for n, fps in zip(num, fpsL):\n",
    "        f.write('python div2.py ~/Data/08032020/piv_imseq/{0:02d} ~/Data/08032020/{0:02d}/8-bit ~/Data/08032020/div2/{0:02d} 50 25 &\\n'.format(n))\n",
    "    f.write('wait')"
   ]
  },
  {
   "cell_type": "code",
   "execution_count": 20,
   "metadata": {},
   "outputs": [],
   "source": [
    "# cav_imseq, 06\n",
    "folder = r'I:\\Github\\Python\\job_files\\08042020'\n",
    "# folder_out = '~/numerics/illumination_noise'\n",
    "if os.path.exists(folder) == False:\n",
    "    os.makedirs(folder)\n",
    "with open(os.path.join(folder, '06.pbs'), 'w') as f:\n",
    "    header(16, 3, '~/code/Python/Correlation/src/py_files', to_file=f)\n",
    "    num = range(0, 15)\n",
    "    fpsL = [30, 30, 30, 30, 30, 30, 30, 10, 10, 10, 10, 10, 10, 10, 10]\n",
    "    for n, fps in zip(num, fpsL):\n",
    "        f.write('python cav_imseq.py ~/Data/08032020/piv_imseq/{0:02d} ~/Data/08032020/cav_imseq/{0:02d} &\\n'.format(n))\n",
    "    f.write('wait')"
   ]
  },
  {
   "cell_type": "code",
   "execution_count": 23,
   "metadata": {},
   "outputs": [],
   "source": [
    "# dc_adv, 07\n",
    "folder = r'I:\\Github\\Python\\job_files\\08042020'\n",
    "# folder_out = '~/numerics/illumination_noise'\n",
    "if os.path.exists(folder) == False:\n",
    "    os.makedirs(folder)\n",
    "with open(os.path.join(folder, '07.pbs'), 'w') as f:\n",
    "    header(16, 3, '~/code/Python/Correlation/src/py_files', to_file=f)\n",
    "    num = range(0, 15)\n",
    "    fpsL = [30, 30, 30, 30, 30, 30, 30, 10, 10, 10, 10, 10, 10, 10, 10]\n",
    "    for n, fps in zip(num, fpsL):\n",
    "        f.write('python dc_adv.py ~/Data/08032020/{0:02d}/8-bit ~/Data/08032020/piv_imseq/{0:02d} ~/Data/08032020/dc_adv/{0:02d}/dt={1:d} {1:d} {2:d} 25 &\\n'.format(n, 2*fps, fps))\n",
    "    f.write('wait')"
   ]
  },
  {
   "cell_type": "code",
   "execution_count": 24,
   "metadata": {},
   "outputs": [],
   "source": [
    "# div_x_dcadv, 08, after 07 finishes\n",
    "folder = r'I:\\Github\\Python\\job_files\\08042020'\n",
    "# folder_out = '~/numerics/illumination_noise'\n",
    "if os.path.exists(folder) == False:\n",
    "    os.makedirs(folder)\n",
    "with open(os.path.join(folder, '08.pbs'), 'w') as f:\n",
    "    header(16, 3, '~/code/Python/Correlation/src/py_files', to_file=f)\n",
    "    num = range(0, 15)\n",
    "    fpsL = [30, 30, 30, 30, 30, 30, 30, 10, 10, 10, 10, 10, 10, 10, 10]\n",
    "    for n, fps in zip(num, fpsL):\n",
    "        f.write('python div_x_dcadv.py ~/Data/08032020/div2/{0:02d} ~/Data/08032020/dc_adv/{0:02d} ~/Data/08032020/div_x_dcadv/{0:02d} &\\n'.format(n))\n",
    "    f.write('wait')"
   ]
  }
 ],
 "metadata": {
  "kernelspec": {
   "display_name": "Python 3",
   "language": "python",
   "name": "python3"
  },
  "language_info": {
   "codemirror_mode": {
    "name": "ipython",
    "version": 3
   },
   "file_extension": ".py",
   "mimetype": "text/x-python",
   "name": "python",
   "nbconvert_exporter": "python",
   "pygments_lexer": "ipython3",
   "version": "3.7.3"
  }
 },
 "nbformat": 4,
 "nbformat_minor": 2
}

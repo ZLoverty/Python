{
 "cells": [
  {
   "cell_type": "markdown",
   "metadata": {},
   "source": [
    "# Generate job files for MSI computing\n",
    "Main feature is to get all subfolders in a directory, and set up the output folders correspondingly"
   ]
  },
  {
   "cell_type": "code",
   "execution_count": 9,
   "metadata": {},
   "outputs": [],
   "source": [
    "import myImageLib as mil\n",
    "import os"
   ]
  },
  {
   "cell_type": "code",
   "execution_count": 69,
   "metadata": {},
   "outputs": [],
   "source": [
    "# Construct args_list \n",
    "args_list = []\n",
    "local_input = r'D:\\Data\\02182020\\img'\n",
    "remote_input = r'~\\Data\\Wei\\03032020\\10n0\\8-bit'\n",
    "remote_output = r'~\\Data\\02182020\\img\\result'\n",
    "nd2Dirs = mil.dirrec(local_input, '*.nd2')\n",
    "for nd2Dir in nd2Dirs:\n",
    "    folder, file = os.path.split(nd2Dir)\n",
    "    name, ext = os.path.splitext(file)\n",
    "    input_dir = os.path.join(remote_input)\n",
    "    output_dir = os.path.join(remote_output)\n",
    "    args = ' '.join((input_dir, '')).replace('\\\\', '/') ### Pay attention here\n",
    "    args_list.append(args)\n",
    "# test master_input = I:\\Github\\Python\\generic_proc\\test_images\n",
    "# test master_output = I:\\Github\\Python\\generic_proc\\test_images\\result"
   ]
  },
  {
   "cell_type": "code",
   "execution_count": 70,
   "metadata": {},
   "outputs": [],
   "source": [
    "code_path = r'~/code/Python/generic_proc/py_files'\n",
    "py_name = r'to_tif.py'\n",
    "walltime = int(len(args_list) * 0.1)# hr\n",
    "nodes = 1\n",
    "memory = 1 # gb"
   ]
  },
  {
   "cell_type": "code",
   "execution_count": 71,
   "metadata": {},
   "outputs": [
    {
     "name": "stdout",
     "output_type": "stream",
     "text": [
      "#!/bin/bash -l\n",
      "#PBS -l walltime=2:00:00,nodes=3:ppn=8,mem=1gb\n",
      "#PBS -m abe\n",
      "#PBS -M liux3141@umn.edu\n",
      "\n",
      "cd ~/code/Python/generic_proc/py_files\n",
      "module load python3\n",
      "source activate pythonEnv\n",
      "python to_tif.py ~/Data/Wei/02182020/img/No_1.nd2  &\n",
      "python to_tif.py ~/Data/Wei/02182020/img/No_10.nd2  &\n",
      "python to_tif.py ~/Data/Wei/02182020/img/No_10P.nd2  &\n",
      "python to_tif.py ~/Data/Wei/02182020/img/No_1P.nd2  &\n",
      "python to_tif.py ~/Data/Wei/02182020/img/No_2.nd2  &\n",
      "python to_tif.py ~/Data/Wei/02182020/img/No_2P.nd2  &\n",
      "python to_tif.py ~/Data/Wei/02182020/img/No_3.nd2  &\n",
      "python to_tif.py ~/Data/Wei/02182020/img/No_3P.nd2  &\n",
      "python to_tif.py ~/Data/Wei/02182020/img/No_4.nd2  &\n",
      "python to_tif.py ~/Data/Wei/02182020/img/No_4P.nd2  &\n",
      "python to_tif.py ~/Data/Wei/02182020/img/No_5.nd2  &\n",
      "python to_tif.py ~/Data/Wei/02182020/img/No_5P.nd2  &\n",
      "python to_tif.py ~/Data/Wei/02182020/img/No_6.nd2  &\n",
      "python to_tif.py ~/Data/Wei/02182020/img/No_6P.nd2  &\n",
      "python to_tif.py ~/Data/Wei/02182020/img/No_7.nd2  &\n",
      "python to_tif.py ~/Data/Wei/02182020/img/No_7P.nd2  &\n",
      "python to_tif.py ~/Data/Wei/02182020/img/No_8.nd2  &\n",
      "python to_tif.py ~/Data/Wei/02182020/img/No_8P.nd2  &\n",
      "python to_tif.py ~/Data/Wei/02182020/img/No_9.nd2  &\n",
      "python to_tif.py ~/Data/Wei/02182020/img/No_9P.nd2  &\n",
      "wait\n"
     ]
    }
   ],
   "source": [
    "print('#!/bin/bash -l')\n",
    "print('#PBS -l walltime={0}:00:00,nodes={1}:ppn=8,mem={2}gb'.format(walltime, nodes, memory))\n",
    "print('#PBS -m abe')\n",
    "print('#PBS -M liux3141@umn.edu\\n')\n",
    "print('cd {}'.format(code_path))\n",
    "print('module load python3')\n",
    "print('source activate pythonEnv')\n",
    "\n",
    "for args in args_list:\n",
    "    print('python {} {} &'.format(py_name, args))\n",
    "print('wait')"
   ]
  }
 ],
 "metadata": {
  "kernelspec": {
   "display_name": "Python 3",
   "language": "python",
   "name": "python3"
  },
  "language_info": {
   "codemirror_mode": {
    "name": "ipython",
    "version": 3
   },
   "file_extension": ".py",
   "mimetype": "text/x-python",
   "name": "python",
   "nbconvert_exporter": "python",
   "pygments_lexer": "ipython3",
   "version": "3.7.3"
  }
 },
 "nbformat": 4,
 "nbformat_minor": 2
}

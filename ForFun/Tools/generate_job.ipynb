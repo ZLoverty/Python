{
 "cells": [
  {
   "cell_type": "markdown",
   "metadata": {},
   "source": [
    "# Generate job files for MSI computing\n",
    "Main feature is to get all subfolders in a directory, and set up the output folders correspondingly"
   ]
  },
  {
   "cell_type": "code",
   "execution_count": 2,
   "metadata": {},
   "outputs": [],
   "source": [
    "import myImageLib as mil\n",
    "import os\n",
    "import numpy as np"
   ]
  },
  {
   "cell_type": "code",
   "execution_count": 3,
   "metadata": {},
   "outputs": [],
   "source": [
    "def header(walltime, mem, code_path, to_file=None):\n",
    "    # hrs, gb\n",
    "    if to_file == None:\n",
    "        print('#!/bin/bash -l')\n",
    "        print('#PBS -l walltime={0}:00:00,nodes=1:ppn=8,mem={1}gb'.format(walltime, mem))\n",
    "        print('#PBS -m abe')\n",
    "        print('#PBS -M liux3141@umn.edu\\n')\n",
    "        print('cd {}'.format(code_path))\n",
    "        print('module load python3')\n",
    "        print('source activate pythonEnv')\n",
    "    else:\n",
    "        f.write('#!/bin/bash -l\\n')\n",
    "        f.write('#PBS -l walltime={0}:00:00,nodes=1:ppn=8,mem={1}gb\\n'.format(walltime, mem))\n",
    "        f.write('#PBS -m abe\\n')\n",
    "        f.write('#PBS -M liux3141@umn.edu\\n')\n",
    "        f.write('cd {}\\n\\n'.format(code_path))\n",
    "        f.write('module load python3\\n')\n",
    "        f.write('source activate pythonEnv\\n')"
   ]
  },
  {
   "cell_type": "code",
   "execution_count": 3,
   "metadata": {},
   "outputs": [
    {
     "name": "stdout",
     "output_type": "stream",
     "text": [
      "#!/bin/bash -l\n",
      "#PBS -l walltime=8:00:00,nodes=1:ppn=8,mem=3gb\n",
      "#PBS -m abe\n",
      "#PBS -M liux3141@umn.edu\n",
      "\n",
      "cd ~/code/Python/Correlation/src/py_files\n",
      "module load python3\n",
      "source activate pythonEnv\n",
      "python div_x_dcadv.py ~/Data/02042020/div/20-1 ~/Data/02042020/dc_adv/20-1 ~/Data/02042020/divXdcadv/20-1 &\n",
      "python div_x_dcadv.py ~/Data/02042020/div/20-2 ~/Data/02042020/dc_adv/20-2 ~/Data/02042020/divXdcadv/20-2 &\n",
      "python div_x_dcadv.py ~/Data/02042020/div/20-3 ~/Data/02042020/dc_adv/20-3 ~/Data/02042020/divXdcadv/20-3 &\n",
      "python div_x_dcadv.py ~/Data/02042020/div/40-1 ~/Data/02042020/dc_adv/40-1 ~/Data/02042020/divXdcadv/40-1 &\n",
      "python div_x_dcadv.py ~/Data/02042020/div/40-2 ~/Data/02042020/dc_adv/40-2 ~/Data/02042020/divXdcadv/40-2 &\n",
      "python div_x_dcadv.py ~/Data/02042020/div/40-3 ~/Data/02042020/dc_adv/40-3 ~/Data/02042020/divXdcadv/40-3 &\n",
      "python div_x_dcadv.py ~/Data/02042020/div/60-1 ~/Data/02042020/dc_adv/60-1 ~/Data/02042020/divXdcadv/60-1 &\n",
      "python div_x_dcadv.py ~/Data/02042020/div/60-2 ~/Data/02042020/dc_adv/60-2 ~/Data/02042020/divXdcadv/60-2 &\n",
      "python div_x_dcadv.py ~/Data/02042020/div/60-3 ~/Data/02042020/dc_adv/60-3 ~/Data/02042020/divXdcadv/60-3 &\n",
      "python div_x_dcadv.py ~/Data/02042020/div/80-1 ~/Data/02042020/dc_adv/80-1 ~/Data/02042020/divXdcadv/80-1 &\n",
      "python div_x_dcadv.py ~/Data/02042020/div/80-2 ~/Data/02042020/dc_adv/80-2 ~/Data/02042020/divXdcadv/80-2 &\n",
      "python div_x_dcadv.py ~/Data/02042020/div/80-3 ~/Data/02042020/dc_adv/80-3 ~/Data/02042020/divXdcadv/80-3 &\n",
      "wait\n"
     ]
    }
   ],
   "source": [
    "# job file generator\n",
    "header(8, 3, '~/code/Python/Correlation/src/py_files')\n",
    "conc = [20, 40, 60, 80]\n",
    "num = [1, 2, 3]\n",
    "for c in conc:\n",
    "    for n in num:\n",
    "        # print('python div2.py ~/Data/02042020/piv_result_50/{0:d}-{1:d} ~/Data/02042020/{0:d}-{1:d}/8-bit ~/Data/02042020/div/{0:d}-{1:d} 50 25 &'.format(c, n))\n",
    "        print('python div_x_dcadv.py ~/Data/02042020/div/{0:d}-{1:d} ~/Data/02042020/dc_adv/{0:d}-{1:d} ~/Data/02042020/divXdcadv/{0:d}-{1:d} &'.format(c, n))\n",
    "#         print('python df2_nobp.py ~/Data/02042020/{0:2d}-{1:d}/8-bit ~/Data/02042020/df2_nobp/{0:2d}-{1:d}'.format(c, n))\n",
    "#         print('python dc_adv.py ~/Data/02042020/{0:d}-{1:d}/8-bit ~/Data/02042020/piv_result_50/{0:d}-{1:d} ~/Data/02042020/dc_adv_dt90/{0:d}-{1:d}/dt=90 90 30 25 &'.format(c, n))\n",
    "print('wait')"
   ]
  },
  {
   "cell_type": "code",
   "execution_count": 4,
   "metadata": {},
   "outputs": [],
   "source": [
    "# create a series of job files {:02d}.pbs from 00.pbs\n",
    "count = 0\n",
    "conc = [20, 40, 60, 80]\n",
    "num = [1, 2, 3]\n",
    "dtL = list(range(10, 250, 10)) + list(range(250, 500, 50))\n",
    "folder = r'E:\\Github\\Python\\job_files\\07142020\\dc_adv'\n",
    "if os.path.exists(folder) == False:\n",
    "    os.makedirs(folder)\n",
    "for c in conc:\n",
    "    for n in num:\n",
    "        with open(os.path.join(folder, '{:02d}.pbs'.format(count)), 'w') as f:\n",
    "            header(8, 3, '~/code/Python/Correlation/src/py_files', to_file=f)\n",
    "            for dt in dtL:\n",
    "                f.write('python dc_adv.py ~/Data/02042020/{0:d}-{1:d}/8-bit ~/Data/02042020/piv_result_50/{0:d}-{1:d} ~/Data/02042020/dc_adv/{0:d}-{1:d}/dt={2:d} {2:d} 30 25 &\\n'.format(c, n, dt))\n",
    "            f.write('wait')\n",
    "        count += 1\n",
    "# for dt in dtL:\n",
    "    "
   ]
  },
  {
   "cell_type": "code",
   "execution_count": 7,
   "metadata": {},
   "outputs": [],
   "source": [
    "count = 1\n",
    "conc = [20, 40]\n",
    "num = [1, 2, 3]\n",
    "folder = r'E:\\Github\\Python\\job_files\\07272020'\n",
    "if os.path.exists(folder) == False:\n",
    "    os.makedirs(folder)\n",
    "with open(os.path.join(folder, '{:02d}.pbs'.format(count)), 'w') as f:\n",
    "    header(8, 3, '~/code/Python/PIV/src/py_files', to_file=f)\n",
    "    for c in conc:\n",
    "        for n in num:\n",
    "            name = '{0}-{1}'.format(c, n)\n",
    "            f.write('python piv_imseq.py ~/Data/02042020/{0}/8-bit ~/Data/02042020/piv_imseq_nosmooth/{0} 50 25 30 0 &\\n'.format(name))\n",
    "    f.write('wait')        \n",
    "    count += 1"
   ]
  }
 ],
 "metadata": {
  "kernelspec": {
   "display_name": "Python 3",
   "language": "python",
   "name": "python3"
  },
  "language_info": {
   "codemirror_mode": {
    "name": "ipython",
    "version": 3
   },
   "file_extension": ".py",
   "mimetype": "text/x-python",
   "name": "python",
   "nbconvert_exporter": "python",
   "pygments_lexer": "ipython3",
   "version": "3.7.7"
  }
 },
 "nbformat": 4,
 "nbformat_minor": 2
}

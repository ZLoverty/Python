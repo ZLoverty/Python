{
 "cells": [
  {
   "cell_type": "markdown",
   "metadata": {},
   "source": [
    "# Generate job files for MSI computing\n",
    "Main feature is to get all subfolders in a directory, and set up the output folders correspondingly"
   ]
  },
  {
   "cell_type": "code",
   "execution_count": 9,
   "metadata": {},
   "outputs": [],
   "source": [
    "import myImageLib as mil\n",
    "import os"
   ]
  },
  {
   "cell_type": "code",
   "execution_count": 84,
   "metadata": {},
   "outputs": [],
   "source": [
    "# Construct args_list \n",
    "args_list = []\n",
    "local_input = r'D:\\Wei\\02042020'\n",
    "remote_input = r'~\\Data\\Wei\\02042020'\n",
    "remote_output = r'~\\Data\\02182020\\img\\result'\n",
    "nd2Dirs = mil.dirrec(local_input, '*.nd2')\n",
    "for nd2Dir in nd2Dirs:\n",
    "    folder, file = os.path.split(nd2Dir)\n",
    "    name, ext = os.path.splitext(file)\n",
    "    input_dir = os.path.join(remote_input)\n",
    "    output_dir = os.path.join(remote_output)\n",
    "    args = ' '.join((os.path.join(input_dir, file), '')).replace('\\\\', '/') ### Pay attention here\n",
    "    args_list.append(args)\n",
    "# test master_input = I:\\Github\\Python\\generic_proc\\test_images\n",
    "# test master_output = I:\\Github\\Python\\generic_proc\\test_images\\result"
   ]
  },
  {
   "cell_type": "code",
   "execution_count": 85,
   "metadata": {},
   "outputs": [
    {
     "data": {
      "text/plain": [
       "['~/Data/Wei/02042020/20-1.nd2 ',\n",
       " '~/Data/Wei/02042020/20-2.nd2 ',\n",
       " '~/Data/Wei/02042020/20-3.nd2 ',\n",
       " '~/Data/Wei/02042020/40-1.nd2 ',\n",
       " '~/Data/Wei/02042020/40-2.nd2 ',\n",
       " '~/Data/Wei/02042020/40-3.nd2 ',\n",
       " '~/Data/Wei/02042020/60-1.nd2 ',\n",
       " '~/Data/Wei/02042020/60-2.nd2 ',\n",
       " '~/Data/Wei/02042020/60-3.nd2 ',\n",
       " '~/Data/Wei/02042020/80-1.nd2 ',\n",
       " '~/Data/Wei/02042020/80-2.nd2 ',\n",
       " '~/Data/Wei/02042020/80-3.nd2 ']"
      ]
     },
     "execution_count": 85,
     "metadata": {},
     "output_type": "execute_result"
    }
   ],
   "source": [
    "args_list"
   ]
  },
  {
   "cell_type": "code",
   "execution_count": 79,
   "metadata": {},
   "outputs": [],
   "source": [
    "# batch rename files\n",
    "for nd2Dir in nd2Dirs:\n",
    "    os.rename(nd2Dir, nd2Dir.replace('no', ''))"
   ]
  },
  {
   "cell_type": "code",
   "execution_count": 86,
   "metadata": {},
   "outputs": [],
   "source": [
    "code_path = r'~/code/Python/generic_proc/py_files'\n",
    "py_name = r'to_tif.py'\n",
    "walltime = int(len(args_list) * 0.3)# hr\n",
    "nodes = 1\n",
    "memory = 1 # gb"
   ]
  },
  {
   "cell_type": "code",
   "execution_count": 87,
   "metadata": {},
   "outputs": [
    {
     "name": "stdout",
     "output_type": "stream",
     "text": [
      "#!/bin/bash -l\n",
      "#PBS -l walltime=3:00:00,nodes=1:ppn=8,mem=1gb\n",
      "#PBS -m abe\n",
      "#PBS -M liux3141@umn.edu\n",
      "\n",
      "cd ~/code/Python/generic_proc/py_files\n",
      "module load python3\n",
      "source activate pythonEnv\n",
      "python to_tif.py ~/Data/Wei/02042020/20-1.nd2  &\n",
      "python to_tif.py ~/Data/Wei/02042020/20-2.nd2  &\n",
      "python to_tif.py ~/Data/Wei/02042020/20-3.nd2  &\n",
      "python to_tif.py ~/Data/Wei/02042020/40-1.nd2  &\n",
      "python to_tif.py ~/Data/Wei/02042020/40-2.nd2  &\n",
      "python to_tif.py ~/Data/Wei/02042020/40-3.nd2  &\n",
      "python to_tif.py ~/Data/Wei/02042020/60-1.nd2  &\n",
      "python to_tif.py ~/Data/Wei/02042020/60-2.nd2  &\n",
      "python to_tif.py ~/Data/Wei/02042020/60-3.nd2  &\n",
      "python to_tif.py ~/Data/Wei/02042020/80-1.nd2  &\n",
      "python to_tif.py ~/Data/Wei/02042020/80-2.nd2  &\n",
      "python to_tif.py ~/Data/Wei/02042020/80-3.nd2  &\n",
      "wait\n"
     ]
    }
   ],
   "source": [
    "print('#!/bin/bash -l')\n",
    "print('#PBS -l walltime={0}:00:00,nodes={1}:ppn=8,mem={2}gb'.format(walltime, nodes, memory))\n",
    "print('#PBS -m abe')\n",
    "print('#PBS -M liux3141@umn.edu\\n')\n",
    "print('cd {}'.format(code_path))\n",
    "print('module load python3')\n",
    "print('source activate pythonEnv')\n",
    "\n",
    "for args in args_list:\n",
    "    print('python {} {} &'.format(py_name, args))\n",
    "print('wait')"
   ]
  }
 ],
 "metadata": {
  "kernelspec": {
   "display_name": "Python 3",
   "language": "python",
   "name": "python3"
  },
  "language_info": {
   "codemirror_mode": {
    "name": "ipython",
    "version": 3
   },
   "file_extension": ".py",
   "mimetype": "text/x-python",
   "name": "python",
   "nbconvert_exporter": "python",
   "pygments_lexer": "ipython3",
   "version": "3.7.3"
  }
 },
 "nbformat": 4,
 "nbformat_minor": 2
}

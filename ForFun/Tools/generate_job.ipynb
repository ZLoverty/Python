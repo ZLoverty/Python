{
 "cells": [
  {
   "cell_type": "markdown",
   "metadata": {},
   "source": [
    "# Generate job files for MSI computing\n",
    "Main feature is to get all subfolders in a directory, and set up the output folders correspondingly"
   ]
  },
  {
   "cell_type": "code",
   "execution_count": 2,
   "metadata": {},
   "outputs": [],
   "source": [
    "import myImageLib as mil\n",
    "import os\n",
    "import numpy as np\n",
    "from tool_utils import header"
   ]
  },
  {
   "cell_type": "markdown",
   "metadata": {},
   "source": [
    "Generate a header for job file:\n",
    "```Python\n",
    "def header(walltime, mem, code_path, to_file=None):\n",
    "    \"\"\"\n",
    "    walltime -- estimate running time (hr)\n",
    "    mem -- memory needed (gb)\n",
    "    code_path -- the folder in which the code can be found\n",
    "    to_file -- file object to write to. If you want to print in console, set to None (default)\n",
    "```"
   ]
  },
  {
   "cell_type": "code",
   "execution_count": 4,
   "metadata": {},
   "outputs": [
    {
     "name": "stdout",
     "output_type": "stream",
     "text": [
      "#!/bin/bash -l\n",
      "#PBS -l walltime=8:00:00,nodes=1:ppn=8,mem=3gb\n",
      "#PBS -m abe\n",
      "#PBS -M liux3141@umn.edu\n",
      "\n",
      "cd ~/code/Python/Correlation/src/py_files\n",
      "module load python3\n",
      "source activate pythonEnv\n"
     ]
    }
   ],
   "source": [
    "# test header()\n",
    "header(8, 3, '~/code/Python/Correlation/src/py_files')"
   ]
  },
  {
   "cell_type": "code",
   "execution_count": 6,
   "metadata": {},
   "outputs": [],
   "source": [
    "# create folder for job file\n",
    "folder = r'E:\\Github\\Python\\job_files\\07312020'\n",
    "folder_out = '~/numerics/illumination_noise'\n",
    "if os.path.exists(folder) == False:\n",
    "    os.makedirs(folder)\n",
    "amp_n = range(1, 101)\n",
    "jobs_per_file = 10\n",
    "for num, a in enumerate(amp_n):\n",
    "    if num % jobs_per_file == 0:\n",
    "        job_file_name = '{:02d}.pbs'.format(num//jobs_per_file)\n",
    "        with open(os.path.join(folder, job_file_name), 'w') as f:\n",
    "            header(1, 1, '~/code/Python/Correlation/src/py_files', to_file=f)\n",
    "    with open(os.path.join(folder, job_file_name), 'a') as f:\n",
    "        f.write('python illumination_noise.py {0} {1} & \\n'.format(a, folder_out))    "
   ]
  }
 ],
 "metadata": {
  "kernelspec": {
   "display_name": "Python 3",
   "language": "python",
   "name": "python3"
  }
 },
 "nbformat": 4,
 "nbformat_minor": 2
}

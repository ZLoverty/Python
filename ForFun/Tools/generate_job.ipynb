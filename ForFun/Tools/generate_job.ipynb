{
 "cells": [
  {
   "cell_type": "markdown",
   "metadata": {},
   "source": [
    "# Generate job files for MSI computing\n",
    "Main feature is to get all subfolders in a directory, and set up the output folders correspondingly"
   ]
  },
  {
   "cell_type": "code",
   "execution_count": 1,
   "metadata": {},
   "outputs": [],
   "source": [
    "import myImageLib as mil\n",
    "import os\n",
    "import numpy as np\n",
    "from tool_utils import *"
   ]
  },
  {
   "cell_type": "markdown",
   "metadata": {},
   "source": [
    "Generate a header for job file:\n",
    "```Python\n",
    "def header(walltime, mem, code_path, to_file=None):\n",
    "    \"\"\"\n",
    "    walltime -- estimate running time (hr)\n",
    "    mem -- memory needed (gb)\n",
    "    code_path -- the folder in which the code can be found\n",
    "    to_file -- file object to write to. If you want to print in console, set to None (default)\n",
    "```"
   ]
  },
  {
   "cell_type": "code",
   "execution_count": 3,
   "metadata": {},
   "outputs": [
    {
     "name": "stdout",
     "output_type": "stream",
     "text": [
      "#!/bin/bash -l\n",
      "#PBS -l walltime=8:00:00,nodes=2:ppn=8,mem=3gb\n",
      "#PBS -m abe\n",
      "#PBS -M liux3141@umn.edu\n",
      "\n",
      "cd ~/code/Python/Correlation/src/py_files\n",
      "module load python3\n",
      "source activate pythonEnv\n"
     ]
    }
   ],
   "source": [
    "# test header()\n",
    "header(8, 3, '~/code/Python/Correlation/src/py_files', nodes=2)"
   ]
  },
  {
   "cell_type": "code",
   "execution_count": 4,
   "metadata": {},
   "outputs": [
    {
     "name": "stdout",
     "output_type": "stream",
     "text": [
      "{'08032020': {'num': [0, 1, 2, 3, 4, 5, 6, 7, 8, 9, 10, 11, 12, 13, 14], 'fps': [30, 30, 30, 30, 30, 30, 30, 10, 10, 10, 10, 10, 10, 10, 10]}, '08042020': {'num': [0, 1, 2, 3, 4, 5, 6, 7, 8, 9, 10, 11], 'fps': [30, 30, 30, 30, 30, 30, 30, 30, 30, 10, 10, 10]}, '08052020': {'num': [0, 1, 2, 3, 4, 5, 6, 7, 8, 9, 10, 11], 'fps': [30, 30, 30, 30, 30, 30, 30, 30, 30, 10, 10, 10]}, '08062020': {'num': [0, 1, 2, 3, 4, 5, 6, 7, 8, 9, 10, 11, 12], 'fps': [30, 30, 30, 30, 30, 30, 30, 30, 30, 30, 30, 30, 10]}}\n"
     ]
    }
   ],
   "source": [
    "# log\n",
    "print(data_log())"
   ]
  },
  {
   "cell_type": "markdown",
   "metadata": {},
   "source": [
    "- 00.pbs: python to_tif nd2Dir\n",
    "- 01.pbs: python piv_imseq.py img_folder output_folder winsize overlap fps smooth\n",
    "- 02.pbs: python df2_kinetics.py img_folder kinetics_folder seg_length\n",
    "- 03.pbs: python overall_intensity.py folder folder_out\n",
    "- 04.pbs: python corr_imseq.py input_folder output_folder wsize step\n",
    "\n",
    "\n",
    "- 05.pbs: python div2.py piv_folder imgDir output_folder winsize step\n",
    "- 06.pbs: python cav_imseq.py piv_folder output_folder\n",
    "- 07.pbs: python dc_adv.py folder_img folder_piv folder_out interval fps step\n",
    "- 08.pbs: python div_x_dcadv.py folder_div folder_dcadv folder_out\n",
    "- 09.pbs: python energy_order.py piv_folder eo_folder mpp fps\n",
    "- 10.pbs: python piv_overlay.py pivDataFolder imgFolder output_folder sparcity\n",
    "- 11.pbs: python piv_imseq.py img_folder output_folder winsize overlap fps smooth (no smoothing)\n",
    "- 12.pbs: python flow-derivs.py piv_folder img_folder flow_folder winsize step\n",
    "- 13.pbs: python local_df.py img_folder save_folder seg_length winsize step\n",
    "- 14.pbs: python local_df.py img_folder save_folder seg_length winsize step (a range of seg_length)\n",
    "- 15.pbs: python small_imseq.py img_folder out_folder wsize step\n",
    "- 16.pbs: python concgrad_velocity.py small_img_folder piv_folder out_folder\n",
    "- 17.pbs: python energy_spectrum.py piv_folder out_folder percentile"
   ]
  },
  {
   "cell_type": "code",
   "execution_count": 10,
   "metadata": {},
   "outputs": [],
   "source": [
    "# Global dirs\n",
    "################# INPUT ##############################\n",
    "folder = r'E:\\Github\\Python\\job_files\\08042020' # job file folder\n",
    "date = '08032020' # data date\n",
    "######################################################\n",
    "if os.path.exists(folder) == False:\n",
    "    os.makedirs(folder)\n",
    "data_path = '~/Data/' + date\n",
    "num = data_log()[date]['num']\n",
    "fpsL = data_log()[date]['fps']\n",
    "\n",
    "nd2Dir = data_path + '/{0:02d}.nd2'\n",
    "img_folder = data_path + '/{0:02d}/8-bit'\n",
    "piv_folder = data_path + '/piv_imseq/{0:02d}'\n",
    "i_folder = data_path + '/overall_intensity/{0:02d}'\n",
    "dxd_folder = data_path + '/div_x_dcadv/{0:02d}'\n",
    "kinetics_folder = data_path + '/df2_kinetics/{0:02d}'\n",
    "dcadv_folder = data_path + '/dc_adv/{0:02d}/dt={1:d}'\n",
    "dcadv_master_folder = data_path + '/dc_adv/{0:02d}'\n",
    "corr_folder = data_path + '/corr_imseq/{0:02d}'\n",
    "cav_folder = data_path + '/cav_imseq/{0:02d}'\n",
    "div_folder = data_path + '/div2/{0:02d}'\n",
    "eo_folder = data_path + '/energy_order/{0:02d}'\n",
    "overlay_folder = data_path + '/piv_overlay/{0:02d}'\n",
    "piv_nosmooth_folder = data_path + '/piv_nosmooth/{0:02d}'\n",
    "flow_folder = data_path + '/flow_derivs/{0:02d}'\n",
    "local_df_folder = data_path + '/local_df/{0:02d}'\n",
    "small_img_folder = data_path + '/small_imseq/{0:02d}'\n",
    "concgrad_velocity_folder = data_path + '/concgrad_velocity/{0:02d}'\n",
    "es_folder = data_path + '/energy_spectrum/{0:02d}'"
   ]
  },
  {
   "cell_type": "code",
   "execution_count": 11,
   "metadata": {},
   "outputs": [],
   "source": [
    "script = 'to_tif.py'\n",
    "job_num = 0 # job file number\n",
    "walltime = 3 # hours\n",
    "mem = 3 # gb\n",
    "code_dir = '~/code/Python/generic_proc/py_files' # python script dir\n",
    "with open(os.path.join(folder, '{:02d}.pbs'.format(job_num)), 'w') as f:\n",
    "    header(walltime, mem, code_dir, to_file=f)    \n",
    "    for n, fps in zip(num, fpsL):       \n",
    "        f.write(('python ' + script + ' ' + nd2Dir +' &\\n').format(n))\n",
    "    f.write('wait')"
   ]
  },
  {
   "cell_type": "code",
   "execution_count": 12,
   "metadata": {},
   "outputs": [],
   "source": [
    "script = 'piv_imseq.py'\n",
    "job_num = 1 # job file number\n",
    "walltime = 20 # hours\n",
    "mem = 3 # gb\n",
    "code_dir = '~/code/Python/PIV/src/py_files' # python script dir\n",
    "with open(os.path.join(folder, '{:02d}.pbs'.format(job_num)), 'w') as f:\n",
    "    header(walltime, mem, code_dir, to_file=f)    \n",
    "    for n, fps in zip(num, fpsL):       \n",
    "        f.write(('python ' + script + ' ' + img_folder + ' ' + piv_folder + ' 50 25 {1:d} 1' +' &\\n').format(n, fps))\n",
    "    f.write('wait')"
   ]
  },
  {
   "cell_type": "code",
   "execution_count": 13,
   "metadata": {},
   "outputs": [],
   "source": [
    "script = 'df2_kinetics.py'\n",
    "job_num = 2 # job file number\n",
    "walltime = 10 # hours\n",
    "mem = 3 # gb\n",
    "code_dir = '~/code/Python/Correlation/src/py_files' # python script dir\n",
    "cmd = ('python ' + script + ' ' + img_folder + ' ' + kinetics_folder + ' 50' +' &\\n')\n",
    "with open(os.path.join(folder, '{:02d}.pbs'.format(job_num)), 'w') as f:\n",
    "    header(walltime, mem, code_dir, to_file=f)    \n",
    "    for n, fps in zip(num, fpsL):       \n",
    "        f.write(cmd.format(n))\n",
    "    f.write('wait')"
   ]
  },
  {
   "cell_type": "code",
   "execution_count": 14,
   "metadata": {},
   "outputs": [],
   "source": [
    "# python overall_intensity.py folder folder_out\n",
    "script = 'overall_intensity.py'\n",
    "job_num = 3 # job file number\n",
    "walltime = 3 # hours\n",
    "mem = 3 # gb\n",
    "code_dir = '~/code/Python/Correlation/src/py_files' # python script dir\n",
    "cmd = ('python ' + script + ' ' + img_folder + ' ' + i_folder +' &\\n')\n",
    "with open(os.path.join(folder, '{:02d}.pbs'.format(job_num)), 'w') as f:\n",
    "    header(walltime, mem, code_dir, to_file=f)    \n",
    "    for n, fps in zip(num, fpsL):       \n",
    "        f.write(cmd.format(n))\n",
    "    f.write('wait')"
   ]
  },
  {
   "cell_type": "code",
   "execution_count": 15,
   "metadata": {},
   "outputs": [],
   "source": [
    "# python corr_imseq.py img_folder corr_folder wsize step\n",
    "script = 'corr_imseq.py'\n",
    "job_num = 4 # job file number\n",
    "walltime = 16 # hours\n",
    "mem = 3 # gb\n",
    "code_dir = '~/code/Python/Correlation/src/py_files' # python script dir\n",
    "cmd = ('python ' + script + ' ' + img_folder + ' ' + corr_folder + ' 25 25' +' &\\n')\n",
    "with open(os.path.join(folder, '{:02d}.pbs'.format(job_num)), 'w') as f:\n",
    "    header(walltime, mem, code_dir, to_file=f)    \n",
    "    for n, fps in zip(num, fpsL):       \n",
    "        f.write(cmd.format(n))\n",
    "    f.write('wait')"
   ]
  },
  {
   "cell_type": "code",
   "execution_count": 16,
   "metadata": {},
   "outputs": [],
   "source": [
    "# python div2.py piv_folder imgDir output_folder winsize step\n",
    "script = 'div2.py'\n",
    "job_num = 5 # job file number\n",
    "walltime = 16 # hours\n",
    "mem = 3 # gb\n",
    "code_dir = '~/code/Python/Correlation/src/py_files' # python script dir\n",
    "cmd = ('python ' + script + ' ' + piv_folder + ' ' + img_folder + ' ' + div_folder + ' 50 25' +' &\\n')\n",
    "with open(os.path.join(folder, '{:02d}.pbs'.format(job_num)), 'w') as f:\n",
    "    header(walltime, mem, code_dir, to_file=f)    \n",
    "    for n, fps in zip(num, fpsL):       \n",
    "        f.write(cmd.format(n))\n",
    "    f.write('wait')"
   ]
  },
  {
   "cell_type": "code",
   "execution_count": 17,
   "metadata": {},
   "outputs": [],
   "source": [
    "# python cav_imseq.py piv_folder output_folder\n",
    "script = 'cav_imseq.py'\n",
    "job_num = 6 # job file number\n",
    "walltime = 5 # hours\n",
    "mem = 3 # gb\n",
    "code_dir = '~/code/Python/Correlation/src/py_files' # python script dir\n",
    "cmd = ('python ' + script + ' ' + piv_folder + ' ' + cav_folder +' &\\n')\n",
    "with open(os.path.join(folder, '{:02d}.pbs'.format(job_num)), 'w') as f:\n",
    "    header(walltime, mem, code_dir, to_file=f)    \n",
    "    for n, fps in zip(num, fpsL):       \n",
    "        f.write(cmd.format(n))\n",
    "    f.write('wait')"
   ]
  },
  {
   "cell_type": "code",
   "execution_count": 17,
   "metadata": {},
   "outputs": [],
   "source": [
    "# python dc_adv.py folder_img folder_piv folder_out interval fps step\n",
    "script = 'dc_adv.py'\n",
    "job_num = 7 # job file number\n",
    "walltime = 16 # hours\n",
    "mem = 3 # gb\n",
    "code_dir = '~/code/Python/Correlation/src/py_files' # python script dir\n",
    "dtL = range(0, 15)\n",
    "cmd = ('python ' + script + ' ' + img_folder + ' ' + piv_folder + ' ' + dcadv_folder + ' {1:d} {2:d} 25' +' &\\n')\n",
    "with open(os.path.join(folder, '{:02d}.pbs'.format(job_num)), 'w') as f:\n",
    "    header(walltime, mem, code_dir, to_file=f)   \n",
    "    for n, fps in zip(num, fpsL):\n",
    "        for dt in dtL:\n",
    "            f.write(cmd.format(n, dt*fps, fps))\n",
    "    f.write('wait')"
   ]
  },
  {
   "cell_type": "code",
   "execution_count": 10,
   "metadata": {},
   "outputs": [],
   "source": [
    "# python div_x_dcadv.py folder_div folder_dcadv folder_out\n",
    "script = 'div_x_dcadv.py'\n",
    "job_num = 8 # job file number\n",
    "walltime = 16 # hours\n",
    "mem = 3 # gb\n",
    "code_dir = '~/code/Python/Correlation/src/py_files' # python script dir\n",
    "cmd = ('python ' + script + ' ' + div_folder + ' ' + dcadv_master_folder + ' ' + dxd_folder + ' &\\n')\n",
    "with open(os.path.join(folder, '{:02d}.pbs'.format(job_num)), 'w') as f:\n",
    "    header(walltime, mem, code_dir, to_file=f)    \n",
    "    for n, fps in zip(num, fpsL):       \n",
    "        f.write(cmd.format(n, 2*fps, fps))\n",
    "    f.write('wait')"
   ]
  },
  {
   "cell_type": "code",
   "execution_count": 25,
   "metadata": {},
   "outputs": [],
   "source": [
    "# python energy_order.py piv_folder eo_folder mpp fps\n",
    "script = 'energy_order.py'\n",
    "job_num = 9 # job file number\n",
    "walltime = 8 # hours\n",
    "mem = 3 # gb\n",
    "code_dir = '~/code/Python/Correlation/src/py_files' # python script dir\n",
    "cmd = ('python ' + script + ' ' + piv_folder + ' ' + eo_folder + ' 0.33 {2:d} &\\n')\n",
    "with open(os.path.join(folder, '{:02d}.pbs'.format(job_num)), 'w') as f:\n",
    "    header(walltime, mem, code_dir, to_file=f)    \n",
    "    for n, fps in zip(num, fpsL):       \n",
    "        f.write(cmd.format(n, 2*fps, fps))\n",
    "    f.write('wait')"
   ]
  },
  {
   "cell_type": "code",
   "execution_count": 7,
   "metadata": {},
   "outputs": [],
   "source": [
    "# python piv_overlay.py pivDataFolder imgFolder output_folder sparcity\n",
    "script = 'piv_overlay.py'\n",
    "job_num = 10 # job file number\n",
    "walltime = 16 # hours\n",
    "mem = 3 # gb\n",
    "code_dir = '~/code/Python/PIV/src/py_files' # python script dir\n",
    "cmd = ('python ' + script + ' ' + piv_folder + ' ' + img_folder + ' ' + overlay_folder + ' 2 &\\n')\n",
    "with open(os.path.join(folder, '{:02d}.pbs'.format(job_num)), 'w') as f:\n",
    "    header(walltime, mem, code_dir, to_file=f)    \n",
    "    for n, fps in zip(num, fpsL):       \n",
    "        f.write(cmd.format(n, 2*fps, fps))\n",
    "    f.write('wait')"
   ]
  },
  {
   "cell_type": "code",
   "execution_count": 6,
   "metadata": {},
   "outputs": [],
   "source": [
    "script = 'piv_imseq.py'\n",
    "job_num = 11 # job file number\n",
    "walltime = 20 # hours\n",
    "mem = 3 # gb\n",
    "code_dir = '~/code/Python/PIV/src/py_files' # python script dir\n",
    "with open(os.path.join(folder, '{:02d}.pbs'.format(job_num)), 'w') as f:\n",
    "    header(walltime, mem, code_dir, to_file=f)    \n",
    "    for n, fps in zip(num, fpsL):       \n",
    "        f.write(('python ' + script + ' ' + img_folder + ' ' + piv_folder + ' 50 25 {1:d} 0' +' &\\n').format(n, fps))\n",
    "    f.write('wait')"
   ]
  },
  {
   "cell_type": "code",
   "execution_count": 15,
   "metadata": {},
   "outputs": [],
   "source": [
    "script = 'flow_derivs.py'\n",
    "job_num = 12 # job file number\n",
    "walltime = 8 # hours\n",
    "mem = 3 # gb\n",
    "code_dir = '~/code/Python/Correlation/src/py_files' # python script dir\n",
    "with open(os.path.join(folder, '{:02d}.pbs'.format(job_num)), 'w') as f:\n",
    "    header(walltime, mem, code_dir, to_file=f)    \n",
    "    for n, fps in zip(num, fpsL):       \n",
    "        f.write(('python ' + script + ' ' + piv_folder + ' ' + img_folder + ' ' + flow_folder + ' 50 25 ' + ' &\\n').format(n, fps))\n",
    "    f.write('wait')"
   ]
  },
  {
   "cell_type": "code",
   "execution_count": 16,
   "metadata": {},
   "outputs": [],
   "source": [
    "script = 'local_df.py'\n",
    "job_num = 13 # job file number\n",
    "walltime = 8 # hours\n",
    "mem = 3 # gb\n",
    "code_dir = '~/code/Python/Correlation/src/py_files' # python script dir\n",
    "with open(os.path.join(folder, '{:02d}.pbs'.format(job_num)), 'w') as f:\n",
    "    header(walltime, mem, code_dir, to_file=f)    \n",
    "    for n, fps in zip(num, fpsL):       \n",
    "        f.write(('python ' + script + ' ' + img_folder + ' ' + local_df_folder + ' 50 50 25' +' &\\n').format(n, fps))\n",
    "    f.write('wait')"
   ]
  },
  {
   "cell_type": "code",
   "execution_count": 13,
   "metadata": {},
   "outputs": [],
   "source": [
    "script = 'local_df.py'\n",
    "job_num = 14 # job file number\n",
    "walltime = 8 # hours\n",
    "mem = 3 # gb\n",
    "code_dir = '~/code/Python/Correlation/src/py_files' # python script dir\n",
    "with open(os.path.join(folder, '{:02d}.pbs'.format(job_num)), 'w') as f:\n",
    "    header(walltime, mem, code_dir, to_file=f)    \n",
    "    for n, fps in zip(num, fpsL):\n",
    "        for seg_length in range(10, 100, 10):\n",
    "            f.write(('python ' + script + ' ' + img_folder + ' ' + local_df_folder + '/dt={2:d} {2:d} 50 25' +' &\\n').format(n, fps, seg_length))\n",
    "    f.write('wait')"
   ]
  },
  {
   "cell_type": "code",
   "execution_count": 19,
   "metadata": {},
   "outputs": [],
   "source": [
    "script = 'small_imseq.py'\n",
    "job_num = 15 # job file number\n",
    "walltime = 2 # hours\n",
    "mem = 3 # gb\n",
    "code_dir = '~/code/Python/generic_proc/py_files' # python script dir\n",
    "with open(os.path.join(folder, '{:02d}.pbs'.format(job_num)), 'w') as f:\n",
    "    header(walltime, mem, code_dir, to_file=f)    \n",
    "    for n, fps in zip(num, fpsL):\n",
    "        f.write(('python ' + script + ' ' + img_folder + ' ' + small_img_folder + ' 50 25 &\\n').format(n, fps))\n",
    "    f.write('wait')"
   ]
  },
  {
   "cell_type": "code",
   "execution_count": 22,
   "metadata": {},
   "outputs": [],
   "source": [
    "script = 'concgrad_velocity.py'\n",
    "job_num = 16 # job file number\n",
    "walltime = 4 # hours\n",
    "mem = 3 # gb\n",
    "code_dir = '~/code/Python/Correlation/src/py_files' # python script dir\n",
    "with open(os.path.join(folder, '{:02d}.pbs'.format(job_num)), 'w') as f:\n",
    "    header(walltime, mem, code_dir, to_file=f)    \n",
    "    for n, fps in zip(num, fpsL):\n",
    "        f.write(('python ' + script + ' ' + small_img_folder + ' ' + piv_folder + ' ' + concgrad_velocity_folder + ' &\\n').format(n, fps))\n",
    "    f.write('wait')"
   ]
  },
  {
   "cell_type": "code",
   "execution_count": 11,
   "metadata": {},
   "outputs": [],
   "source": [
    "script = 'energy_spectrum.py'\n",
    "job_num = 17 # job file number\n",
    "walltime = 4 # hours\n",
    "mem = 3 # gb\n",
    "code_dir = '~/code/Python/Correlation/src/py_files' # python script dir\n",
    "with open(os.path.join(folder, '{:02d}.pbs'.format(job_num)), 'w') as f:\n",
    "    header(walltime, mem, code_dir, to_file=f)    \n",
    "    for n, fps in zip(num, fpsL):\n",
    "        f.write(('python ' + script + ' ' +  piv_folder + ' ' + es_folder + ' 0.8 &\\n').format(n, fps))\n",
    "    f.write('wait')"
   ]
  }
 ],
 "metadata": {
  "kernelspec": {
   "display_name": "Python 3",
   "language": "python",
   "name": "python3"
  },
  "language_info": {
   "codemirror_mode": {
    "name": "ipython",
    "version": 3
   },
   "file_extension": ".py",
   "mimetype": "text/x-python",
   "name": "python",
   "nbconvert_exporter": "python",
   "pygments_lexer": "ipython3",
   "version": "3.7.7"
  }
 },
 "nbformat": 4,
 "nbformat_minor": 2
}

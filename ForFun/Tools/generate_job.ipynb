{
 "cells": [
  {
   "cell_type": "markdown",
   "metadata": {},
   "source": [
    "# Generate job files for MSI computing\n",
    "Main feature is to get all subfolders in a directory, and set up the output folders correspondingly"
   ]
  },
  {
   "cell_type": "code",
   "execution_count": 1,
   "metadata": {},
   "outputs": [],
   "source": [
    "import myImageLib as mil\n",
    "import os\n",
    "import numpy as np"
   ]
  },
  {
   "cell_type": "code",
   "execution_count": 84,
   "metadata": {},
   "outputs": [],
   "source": [
    "# Construct args_list \n",
    "args_list = []\n",
    "local_input = r'D:\\Wei\\02042020'\n",
    "remote_input = r'~\\Data\\Wei\\02042020'\n",
    "remote_output = r'~\\Data\\02182020\\img\\result'\n",
    "nd2Dirs = mil.dirrec(local_input, '*.nd2')\n",
    "for nd2Dir in nd2Dirs:\n",
    "    folder, file = os.path.split(nd2Dir)\n",
    "    name, ext = os.path.splitext(file)\n",
    "    input_dir = os.path.join(remote_input)\n",
    "    output_dir = os.path.join(remote_output)\n",
    "    args = ' '.join((os.path.join(input_dir, file), '')).replace('\\\\', '/') ### Pay attention here\n",
    "    args_list.append(args)\n",
    "# test master_input = I:\\Github\\Python\\generic_proc\\test_images\n",
    "# test master_output = I:\\Github\\Python\\generic_proc\\test_images\\result"
   ]
  },
  {
   "cell_type": "code",
   "execution_count": 85,
   "metadata": {},
   "outputs": [
    {
     "data": {
      "text/plain": [
       "['~/Data/Wei/02042020/20-1.nd2 ',\n",
       " '~/Data/Wei/02042020/20-2.nd2 ',\n",
       " '~/Data/Wei/02042020/20-3.nd2 ',\n",
       " '~/Data/Wei/02042020/40-1.nd2 ',\n",
       " '~/Data/Wei/02042020/40-2.nd2 ',\n",
       " '~/Data/Wei/02042020/40-3.nd2 ',\n",
       " '~/Data/Wei/02042020/60-1.nd2 ',\n",
       " '~/Data/Wei/02042020/60-2.nd2 ',\n",
       " '~/Data/Wei/02042020/60-3.nd2 ',\n",
       " '~/Data/Wei/02042020/80-1.nd2 ',\n",
       " '~/Data/Wei/02042020/80-2.nd2 ',\n",
       " '~/Data/Wei/02042020/80-3.nd2 ']"
      ]
     },
     "execution_count": 85,
     "metadata": {},
     "output_type": "execute_result"
    }
   ],
   "source": [
    "args_list"
   ]
  },
  {
   "cell_type": "code",
   "execution_count": 79,
   "metadata": {},
   "outputs": [],
   "source": [
    "# batch rename files\n",
    "for nd2Dir in nd2Dirs:\n",
    "    os.rename(nd2Dir, nd2Dir.replace('no', ''))"
   ]
  },
  {
   "cell_type": "code",
   "execution_count": 86,
   "metadata": {},
   "outputs": [],
   "source": [
    "code_path = r'~/code/Python/generic_proc/py_files'\n",
    "py_name = r'to_tif.py'\n",
    "walltime = int(len(args_list) * 0.3)# hr\n",
    "nodes = 1\n",
    "memory = 1 # gb"
   ]
  },
  {
   "cell_type": "code",
   "execution_count": 87,
   "metadata": {},
   "outputs": [
    {
     "name": "stdout",
     "output_type": "stream",
     "text": [
      "#!/bin/bash -l\n",
      "#PBS -l walltime=3:00:00,nodes=1:ppn=8,mem=1gb\n",
      "#PBS -m abe\n",
      "#PBS -M liux3141@umn.edu\n",
      "\n",
      "cd ~/code/Python/generic_proc/py_files\n",
      "module load python3\n",
      "source activate pythonEnv\n",
      "python to_tif.py ~/Data/Wei/02042020/20-1.nd2  &\n",
      "python to_tif.py ~/Data/Wei/02042020/20-2.nd2  &\n",
      "python to_tif.py ~/Data/Wei/02042020/20-3.nd2  &\n",
      "python to_tif.py ~/Data/Wei/02042020/40-1.nd2  &\n",
      "python to_tif.py ~/Data/Wei/02042020/40-2.nd2  &\n",
      "python to_tif.py ~/Data/Wei/02042020/40-3.nd2  &\n",
      "python to_tif.py ~/Data/Wei/02042020/60-1.nd2  &\n",
      "python to_tif.py ~/Data/Wei/02042020/60-2.nd2  &\n",
      "python to_tif.py ~/Data/Wei/02042020/60-3.nd2  &\n",
      "python to_tif.py ~/Data/Wei/02042020/80-1.nd2  &\n",
      "python to_tif.py ~/Data/Wei/02042020/80-2.nd2  &\n",
      "python to_tif.py ~/Data/Wei/02042020/80-3.nd2  &\n",
      "wait\n"
     ]
    }
   ],
   "source": [
    "print('#!/bin/bash -l')\n",
    "print('#PBS -l walltime={0}:00:00,nodes={1}:ppn=8,mem={2}gb'.format(walltime, nodes, memory))\n",
    "print('#PBS -m abe')\n",
    "print('#PBS -M liux3141@umn.edu\\n')\n",
    "print('cd {}'.format(code_path))\n",
    "print('module load python3')\n",
    "print('source activate pythonEnv')\n",
    "\n",
    "for args in args_list:\n",
    "    print('python {} {} &'.format(py_name, args))\n",
    "print('wait')"
   ]
  },
  {
   "cell_type": "code",
   "execution_count": 8,
   "metadata": {},
   "outputs": [],
   "source": [
    "def header(walltime, mem, code_path):\n",
    "    # hrs, gb\n",
    "    print('#!/bin/bash -l')\n",
    "    print('#PBS -l walltime={0}:00:00,nodes=1:ppn=8,mem={1}gb'.format(walltime, mem))\n",
    "    print('#PBS -m abe')\n",
    "    print('#PBS -M liux3141@umn.edu\\n')\n",
    "    print('cd {}'.format(code_path))\n",
    "    print('module load python3')\n",
    "    print('source activate pythonEnv')"
   ]
  },
  {
   "cell_type": "code",
   "execution_count": 13,
   "metadata": {},
   "outputs": [
    {
     "name": "stdout",
     "output_type": "stream",
     "text": [
      "#!/bin/bash -l\n",
      "#PBS -l walltime=4:00:00,nodes=1:ppn=8,mem=3gb\n",
      "#PBS -m abe\n",
      "#PBS -M liux3141@umn.edu\n",
      "\n",
      "cd ~/code/Python/Correlation/src/py_files\n",
      "module load python3\n",
      "source activate pythonEnv\n",
      "python div_x_dcadv.py ~/Data/02042020/div/20-1 ~/Data/02042020/dc_adv/20-1 ~/Data/02042020/divXdcadv/20-1 &\n",
      "python div_x_dcadv.py ~/Data/02042020/div/20-2 ~/Data/02042020/dc_adv/20-2 ~/Data/02042020/divXdcadv/20-2 &\n",
      "python div_x_dcadv.py ~/Data/02042020/div/20-3 ~/Data/02042020/dc_adv/20-3 ~/Data/02042020/divXdcadv/20-3 &\n",
      "python div_x_dcadv.py ~/Data/02042020/div/40-1 ~/Data/02042020/dc_adv/40-1 ~/Data/02042020/divXdcadv/40-1 &\n",
      "python div_x_dcadv.py ~/Data/02042020/div/40-2 ~/Data/02042020/dc_adv/40-2 ~/Data/02042020/divXdcadv/40-2 &\n",
      "python div_x_dcadv.py ~/Data/02042020/div/40-3 ~/Data/02042020/dc_adv/40-3 ~/Data/02042020/divXdcadv/40-3 &\n",
      "python div_x_dcadv.py ~/Data/02042020/div/60-1 ~/Data/02042020/dc_adv/60-1 ~/Data/02042020/divXdcadv/60-1 &\n",
      "python div_x_dcadv.py ~/Data/02042020/div/60-2 ~/Data/02042020/dc_adv/60-2 ~/Data/02042020/divXdcadv/60-2 &\n",
      "python div_x_dcadv.py ~/Data/02042020/div/60-3 ~/Data/02042020/dc_adv/60-3 ~/Data/02042020/divXdcadv/60-3 &\n",
      "python div_x_dcadv.py ~/Data/02042020/div/80-1 ~/Data/02042020/dc_adv/80-1 ~/Data/02042020/divXdcadv/80-1 &\n",
      "python div_x_dcadv.py ~/Data/02042020/div/80-2 ~/Data/02042020/dc_adv/80-2 ~/Data/02042020/divXdcadv/80-2 &\n",
      "python div_x_dcadv.py ~/Data/02042020/div/80-3 ~/Data/02042020/dc_adv/80-3 ~/Data/02042020/divXdcadv/80-3 &\n",
      "wait\n"
     ]
    }
   ],
   "source": [
    "# job file generator\n",
    "header(4, 3, '~/code/Python/Correlation/src/py_files')\n",
    "conc = [20, 40, 60, 80]\n",
    "num = [1, 2, 3]\n",
    "for c in conc:\n",
    "    for n in num:\n",
    "        # print('python div2.py ~/Data/02042020/piv_result_50/{0:d}-{1:d} ~/Data/02042020/{0:d}-{1:d}/8-bit ~/Data/02042020/div/{0:d}-{1:d} 50 25 &'.format(c, n))\n",
    "        # print('python div_x_dcadv.py ~/Data/02042020/div/{0:d}-{1:d} ~/Data/02042020/dc_adv/{0:d}-{1:d} ~/Data/02042020/divXdcadv/{0:d}-{1:d} &'.format(c, n))\n",
    "        \n",
    "print('wait')"
   ]
  },
  {
   "cell_type": "code",
   "execution_count": 13,
   "metadata": {},
   "outputs": [
    {
     "name": "stdout",
     "output_type": "stream",
     "text": [
      "python dc_adv.py ~/Data/02042020/20-3/8-bit ~/Data/02042020/piv_result_50/20-3 ~/Data/02042020/dc_adv/20-3/dt=1 1 30 25 &\n",
      "python dc_adv.py ~/Data/02042020/20-3/8-bit ~/Data/02042020/piv_result_50/20-3 ~/Data/02042020/dc_adv/20-3/dt=3 3 30 25 &\n",
      "python dc_adv.py ~/Data/02042020/20-3/8-bit ~/Data/02042020/piv_result_50/20-3 ~/Data/02042020/dc_adv/20-3/dt=5 5 30 25 &\n",
      "python dc_adv.py ~/Data/02042020/20-3/8-bit ~/Data/02042020/piv_result_50/20-3 ~/Data/02042020/dc_adv/20-3/dt=7 7 30 25 &\n",
      "python dc_adv.py ~/Data/02042020/20-3/8-bit ~/Data/02042020/piv_result_50/20-3 ~/Data/02042020/dc_adv/20-3/dt=9 9 30 25 &\n",
      "python dc_adv.py ~/Data/02042020/20-3/8-bit ~/Data/02042020/piv_result_50/20-3 ~/Data/02042020/dc_adv/20-3/dt=11 11 30 25 &\n",
      "python dc_adv.py ~/Data/02042020/20-3/8-bit ~/Data/02042020/piv_result_50/20-3 ~/Data/02042020/dc_adv/20-3/dt=13 13 30 25 &\n",
      "python dc_adv.py ~/Data/02042020/20-3/8-bit ~/Data/02042020/piv_result_50/20-3 ~/Data/02042020/dc_adv/20-3/dt=15 15 30 25 &\n",
      "python dc_adv.py ~/Data/02042020/20-3/8-bit ~/Data/02042020/piv_result_50/20-3 ~/Data/02042020/dc_adv/20-3/dt=20 20 30 25 &\n",
      "python dc_adv.py ~/Data/02042020/20-3/8-bit ~/Data/02042020/piv_result_50/20-3 ~/Data/02042020/dc_adv/20-3/dt=30 30 30 25 &\n",
      "python dc_adv.py ~/Data/02042020/20-3/8-bit ~/Data/02042020/piv_result_50/20-3 ~/Data/02042020/dc_adv/20-3/dt=40 40 30 25 &\n",
      "python dc_adv.py ~/Data/02042020/20-3/8-bit ~/Data/02042020/piv_result_50/20-3 ~/Data/02042020/dc_adv/20-3/dt=50 50 30 25 &\n",
      "python dc_adv.py ~/Data/02042020/20-3/8-bit ~/Data/02042020/piv_result_50/20-3 ~/Data/02042020/dc_adv/20-3/dt=60 60 30 25 &\n",
      "python dc_adv.py ~/Data/02042020/20-3/8-bit ~/Data/02042020/piv_result_50/20-3 ~/Data/02042020/dc_adv/20-3/dt=70 70 30 25 &\n",
      "python dc_adv.py ~/Data/02042020/20-3/8-bit ~/Data/02042020/piv_result_50/20-3 ~/Data/02042020/dc_adv/20-3/dt=80 80 30 25 &\n",
      "python dc_adv.py ~/Data/02042020/20-3/8-bit ~/Data/02042020/piv_result_50/20-3 ~/Data/02042020/dc_adv/20-3/dt=90 90 30 25 &\n",
      "python dc_adv.py ~/Data/02042020/20-3/8-bit ~/Data/02042020/piv_result_50/20-3 ~/Data/02042020/dc_adv/20-3/dt=100 100 30 25 &\n",
      "python dc_adv.py ~/Data/02042020/20-3/8-bit ~/Data/02042020/piv_result_50/20-3 ~/Data/02042020/dc_adv/20-3/dt=200 200 30 25 &\n",
      "python dc_adv.py ~/Data/02042020/20-3/8-bit ~/Data/02042020/piv_result_50/20-3 ~/Data/02042020/dc_adv/20-3/dt=300 300 30 25 &\n",
      "python dc_adv.py ~/Data/02042020/20-3/8-bit ~/Data/02042020/piv_result_50/20-3 ~/Data/02042020/dc_adv/20-3/dt=400 400 30 25 &\n",
      "python dc_adv.py ~/Data/02042020/20-3/8-bit ~/Data/02042020/piv_result_50/20-3 ~/Data/02042020/dc_adv/20-3/dt=500 500 30 25 &\n"
     ]
    }
   ],
   "source": [
    "intervals = [1, 3, 5, 7, 9, 11, 13, 15, 20, 30, 40, 50, 60, 70, 80, 90, 100, 200, 300, 400, 500]\n",
    "exp = '20-3'\n",
    "for i in intervals:\n",
    "    interval = int(i)\n",
    "    print('python dc_adv.py ~/Data/02042020/{2}/8-bit ~/Data/02042020/piv_result_50/{2} ~/Data/02042020/dc_adv/{2}/dt={0:d} {1:d} 30 25 &'.format(interval, interval, exp))"
   ]
  },
  {
   "cell_type": "code",
   "execution_count": 1,
   "metadata": {},
   "outputs": [
    {
     "name": "stdout",
     "output_type": "stream",
     "text": [
      "python piv_imseq.py ~/Data/06232020/00 ~/Data/06232020/overall_intensity/00 50 25 10 &\n",
      "python piv_imseq.py ~/Data/06232020/01 ~/Data/06232020/overall_intensity/01 50 25 10 &\n",
      "python piv_imseq.py ~/Data/06232020/02 ~/Data/06232020/overall_intensity/02 50 25 10 &\n",
      "python piv_imseq.py ~/Data/06232020/03 ~/Data/06232020/overall_intensity/03 50 25 10 &\n",
      "python piv_imseq.py ~/Data/06232020/04 ~/Data/06232020/overall_intensity/04 50 25 10 &\n"
     ]
    }
   ],
   "source": [
    "numL = range(0, 5)\n",
    "for num in numL:\n",
    "    # print('python to_tif.py ~/Data/06232020/{0:02d}.nd2 &'.format(num))\n",
    "    # print('python df2_kinetics.py ~/Data/06232020/{0:02d} ~/Data/06232020/df2_kinetics/{0:02d} 100 &'.format(num))\n",
    "    # print('python overall_intensity.py ~/Data/06232020/{0:02d} ~/Data/06232020/overall_intensity/{0:02d} &'.format(num))\n",
    "    print('python piv_imseq.py ~/Data/06232020/{0:02d} ~/Data/06232020/piv_imseq/{0:02d} 50 25 10 &'.format(num))"
   ]
  },
  {
   "cell_type": "code",
   "execution_count": 5,
   "metadata": {},
   "outputs": [
    {
     "name": "stdout",
     "output_type": "stream",
     "text": [
      "python df2_kinetics.py ~/Data/06232020/00 ~/Data/06232020/df2_kinetics/i=25/00 25 &\n",
      "python df2_kinetics.py ~/Data/06232020/00 ~/Data/06232020/df2_kinetics/i=50/00 50 &\n",
      "python df2_kinetics.py ~/Data/06232020/00 ~/Data/06232020/df2_kinetics/i=75/00 75 &\n",
      "python df2_kinetics.py ~/Data/06232020/01 ~/Data/06232020/df2_kinetics/i=25/01 25 &\n",
      "python df2_kinetics.py ~/Data/06232020/01 ~/Data/06232020/df2_kinetics/i=50/01 50 &\n",
      "python df2_kinetics.py ~/Data/06232020/01 ~/Data/06232020/df2_kinetics/i=75/01 75 &\n",
      "python df2_kinetics.py ~/Data/06232020/02 ~/Data/06232020/df2_kinetics/i=25/02 25 &\n",
      "python df2_kinetics.py ~/Data/06232020/02 ~/Data/06232020/df2_kinetics/i=50/02 50 &\n",
      "python df2_kinetics.py ~/Data/06232020/02 ~/Data/06232020/df2_kinetics/i=75/02 75 &\n",
      "python df2_kinetics.py ~/Data/06232020/03 ~/Data/06232020/df2_kinetics/i=25/03 25 &\n",
      "python df2_kinetics.py ~/Data/06232020/03 ~/Data/06232020/df2_kinetics/i=50/03 50 &\n",
      "python df2_kinetics.py ~/Data/06232020/03 ~/Data/06232020/df2_kinetics/i=75/03 75 &\n",
      "python df2_kinetics.py ~/Data/06232020/04 ~/Data/06232020/df2_kinetics/i=25/04 25 &\n",
      "python df2_kinetics.py ~/Data/06232020/04 ~/Data/06232020/df2_kinetics/i=50/04 50 &\n",
      "python df2_kinetics.py ~/Data/06232020/04 ~/Data/06232020/df2_kinetics/i=75/04 75 &\n"
     ]
    }
   ],
   "source": [
    "num = range(0, 5)\n",
    "interval = [25, 50, 75]\n",
    "for n in num:\n",
    "    for i in interval:\n",
    "        print('python df2_kinetics.py ~/Data/06232020/{0:02d} ~/Data/06232020/df2_kinetics/i={1:d}/{0:02d} {1:d} &'.format(n, i))"
   ]
  },
  {
   "cell_type": "code",
   "execution_count": 3,
   "metadata": {},
   "outputs": [],
   "source": [
    "import corrLib as cl\n",
    "l = cl.readseq(r'E:\\moreData\\02042020\\20-1')"
   ]
  },
  {
   "cell_type": "code",
   "execution_count": 4,
   "metadata": {},
   "outputs": [
    {
     "data": {
      "text/plain": [
       "'E:\\\\moreData\\\\02042020\\\\20-1\\\\16-bit\\\\0000.tif'"
      ]
     },
     "execution_count": 4,
     "metadata": {},
     "output_type": "execute_result"
    }
   ],
   "source": [
    "l.Dir.loc[0]"
   ]
  }
 ],
 "metadata": {
  "kernelspec": {
   "display_name": "Python 3",
   "language": "python",
   "name": "python3"
  },
  "language_info": {
   "codemirror_mode": {
    "name": "ipython",
    "version": 3
   },
   "file_extension": ".py",
   "mimetype": "text/x-python",
   "name": "python",
   "nbconvert_exporter": "python",
   "pygments_lexer": "ipython3",
   "version": "3.7.7"
  }
 },
 "nbformat": 4,
 "nbformat_minor": 2
}

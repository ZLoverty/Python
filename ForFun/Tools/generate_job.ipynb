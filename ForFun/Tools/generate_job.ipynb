{
 "cells": [
  {
   "cell_type": "markdown",
   "metadata": {},
   "source": [
    "# Generate job files for MSI computing\n",
    "Main feature is to get all subfolders in a directory, and set up the output folders correspondingly"
   ]
  },
  {
   "cell_type": "code",
   "execution_count": 3,
   "metadata": {},
   "outputs": [],
   "source": [
    "import myImageLib as mil\n",
    "import os\n",
    "import numpy as np"
   ]
  },
  {
   "cell_type": "code",
   "execution_count": 84,
   "metadata": {},
   "outputs": [],
   "source": [
    "# Construct args_list \n",
    "args_list = []\n",
    "local_input = r'D:\\Wei\\02042020'\n",
    "remote_input = r'~\\Data\\Wei\\02042020'\n",
    "remote_output = r'~\\Data\\02182020\\img\\result'\n",
    "nd2Dirs = mil.dirrec(local_input, '*.nd2')\n",
    "for nd2Dir in nd2Dirs:\n",
    "    folder, file = os.path.split(nd2Dir)\n",
    "    name, ext = os.path.splitext(file)\n",
    "    input_dir = os.path.join(remote_input)\n",
    "    output_dir = os.path.join(remote_output)\n",
    "    args = ' '.join((os.path.join(input_dir, file), '')).replace('\\\\', '/') ### Pay attention here\n",
    "    args_list.append(args)\n",
    "# test master_input = I:\\Github\\Python\\generic_proc\\test_images\n",
    "# test master_output = I:\\Github\\Python\\generic_proc\\test_images\\result"
   ]
  },
  {
   "cell_type": "code",
   "execution_count": 85,
   "metadata": {},
   "outputs": [
    {
     "data": {
      "text/plain": [
       "['~/Data/Wei/02042020/20-1.nd2 ',\n",
       " '~/Data/Wei/02042020/20-2.nd2 ',\n",
       " '~/Data/Wei/02042020/20-3.nd2 ',\n",
       " '~/Data/Wei/02042020/40-1.nd2 ',\n",
       " '~/Data/Wei/02042020/40-2.nd2 ',\n",
       " '~/Data/Wei/02042020/40-3.nd2 ',\n",
       " '~/Data/Wei/02042020/60-1.nd2 ',\n",
       " '~/Data/Wei/02042020/60-2.nd2 ',\n",
       " '~/Data/Wei/02042020/60-3.nd2 ',\n",
       " '~/Data/Wei/02042020/80-1.nd2 ',\n",
       " '~/Data/Wei/02042020/80-2.nd2 ',\n",
       " '~/Data/Wei/02042020/80-3.nd2 ']"
      ]
     },
     "execution_count": 85,
     "metadata": {},
     "output_type": "execute_result"
    }
   ],
   "source": [
    "args_list"
   ]
  },
  {
   "cell_type": "code",
   "execution_count": 79,
   "metadata": {},
   "outputs": [],
   "source": [
    "# batch rename files\n",
    "for nd2Dir in nd2Dirs:\n",
    "    os.rename(nd2Dir, nd2Dir.replace('no', ''))"
   ]
  },
  {
   "cell_type": "code",
   "execution_count": 86,
   "metadata": {},
   "outputs": [],
   "source": [
    "code_path = r'~/code/Python/generic_proc/py_files'\n",
    "py_name = r'to_tif.py'\n",
    "walltime = int(len(args_list) * 0.3)# hr\n",
    "nodes = 1\n",
    "memory = 1 # gb"
   ]
  },
  {
   "cell_type": "code",
   "execution_count": 87,
   "metadata": {},
   "outputs": [
    {
     "name": "stdout",
     "output_type": "stream",
     "text": [
      "#!/bin/bash -l\n",
      "#PBS -l walltime=3:00:00,nodes=1:ppn=8,mem=1gb\n",
      "#PBS -m abe\n",
      "#PBS -M liux3141@umn.edu\n",
      "\n",
      "cd ~/code/Python/generic_proc/py_files\n",
      "module load python3\n",
      "source activate pythonEnv\n",
      "python to_tif.py ~/Data/Wei/02042020/20-1.nd2  &\n",
      "python to_tif.py ~/Data/Wei/02042020/20-2.nd2  &\n",
      "python to_tif.py ~/Data/Wei/02042020/20-3.nd2  &\n",
      "python to_tif.py ~/Data/Wei/02042020/40-1.nd2  &\n",
      "python to_tif.py ~/Data/Wei/02042020/40-2.nd2  &\n",
      "python to_tif.py ~/Data/Wei/02042020/40-3.nd2  &\n",
      "python to_tif.py ~/Data/Wei/02042020/60-1.nd2  &\n",
      "python to_tif.py ~/Data/Wei/02042020/60-2.nd2  &\n",
      "python to_tif.py ~/Data/Wei/02042020/60-3.nd2  &\n",
      "python to_tif.py ~/Data/Wei/02042020/80-1.nd2  &\n",
      "python to_tif.py ~/Data/Wei/02042020/80-2.nd2  &\n",
      "python to_tif.py ~/Data/Wei/02042020/80-3.nd2  &\n",
      "wait\n"
     ]
    }
   ],
   "source": [
    "print('#!/bin/bash -l')\n",
    "print('#PBS -l walltime={0}:00:00,nodes={1}:ppn=8,mem={2}gb'.format(walltime, nodes, memory))\n",
    "print('#PBS -m abe')\n",
    "print('#PBS -M liux3141@umn.edu\\n')\n",
    "print('cd {}'.format(code_path))\n",
    "print('module load python3')\n",
    "print('source activate pythonEnv')\n",
    "\n",
    "for args in args_list:\n",
    "    print('python {} {} &'.format(py_name, args))\n",
    "print('wait')"
   ]
  },
  {
   "cell_type": "code",
   "execution_count": 2,
   "metadata": {},
   "outputs": [
    {
     "name": "stdout",
     "output_type": "stream",
     "text": [
      "python dc_adv.py ~/Data/02042020/20-1/8-bit ~/Data/02042020/piv_result_50/20-1 ~/Data/02042020/dc+adv/20-1 10 &\n",
      "python dc_adv.py ~/Data/02042020/20-2/8-bit ~/Data/02042020/piv_result_50/20-2 ~/Data/02042020/dc+adv/20-2 10 &\n",
      "python dc_adv.py ~/Data/02042020/20-3/8-bit ~/Data/02042020/piv_result_50/20-3 ~/Data/02042020/dc+adv/20-3 10 &\n",
      "python dc_adv.py ~/Data/02042020/40-1/8-bit ~/Data/02042020/piv_result_50/40-1 ~/Data/02042020/dc+adv/40-1 10 &\n",
      "python dc_adv.py ~/Data/02042020/40-2/8-bit ~/Data/02042020/piv_result_50/40-2 ~/Data/02042020/dc+adv/40-2 10 &\n",
      "python dc_adv.py ~/Data/02042020/40-3/8-bit ~/Data/02042020/piv_result_50/40-3 ~/Data/02042020/dc+adv/40-3 10 &\n",
      "python dc_adv.py ~/Data/02042020/60-1/8-bit ~/Data/02042020/piv_result_50/60-1 ~/Data/02042020/dc+adv/60-1 10 &\n",
      "python dc_adv.py ~/Data/02042020/60-2/8-bit ~/Data/02042020/piv_result_50/60-2 ~/Data/02042020/dc+adv/60-2 10 &\n",
      "python dc_adv.py ~/Data/02042020/60-3/8-bit ~/Data/02042020/piv_result_50/60-3 ~/Data/02042020/dc+adv/60-3 10 &\n",
      "python dc_adv.py ~/Data/02042020/80-1/8-bit ~/Data/02042020/piv_result_50/80-1 ~/Data/02042020/dc+adv/80-1 10 &\n",
      "python dc_adv.py ~/Data/02042020/80-2/8-bit ~/Data/02042020/piv_result_50/80-2 ~/Data/02042020/dc+adv/80-2 10 &\n",
      "python dc_adv.py ~/Data/02042020/80-3/8-bit ~/Data/02042020/piv_result_50/80-3 ~/Data/02042020/dc+adv/80-3 10 &\n"
     ]
    }
   ],
   "source": [
    "# job file generator\n",
    "c = [20, 40, 60, 80]\n",
    "n = [1, 2, 3]\n",
    "for cc in c:\n",
    "    for nn in n:\n",
    "        name = '{0}-{1}'.format(cc, nn)\n",
    "        print('python dc_adv.py ~/Data/02042020/'+name+'/8-bit ~/Data/02042020/piv_result_50/'+name+' ~/Data/02042020/dc+adv/'+name+' 10 &')"
   ]
  },
  {
   "cell_type": "code",
   "execution_count": 6,
   "metadata": {},
   "outputs": [
    {
     "name": "stdout",
     "output_type": "stream",
     "text": [
      "python dc_adv.py ~/Data/02042020/80-1/8-bit ~/Data/02042020/piv_result_50/80-1 ~/Data/02042020/dc_adv/01/dt=10 10 10 25 &\n",
      "python dc_adv.py ~/Data/02042020/80-1/8-bit ~/Data/02042020/piv_result_50/80-1 ~/Data/02042020/dc_adv/01/dt=19 19 10 25 &\n",
      "python dc_adv.py ~/Data/02042020/80-1/8-bit ~/Data/02042020/piv_result_50/80-1 ~/Data/02042020/dc_adv/01/dt=29 29 10 25 &\n",
      "python dc_adv.py ~/Data/02042020/80-1/8-bit ~/Data/02042020/piv_result_50/80-1 ~/Data/02042020/dc_adv/01/dt=39 39 10 25 &\n",
      "python dc_adv.py ~/Data/02042020/80-1/8-bit ~/Data/02042020/piv_result_50/80-1 ~/Data/02042020/dc_adv/01/dt=49 49 10 25 &\n",
      "python dc_adv.py ~/Data/02042020/80-1/8-bit ~/Data/02042020/piv_result_50/80-1 ~/Data/02042020/dc_adv/01/dt=59 59 10 25 &\n",
      "python dc_adv.py ~/Data/02042020/80-1/8-bit ~/Data/02042020/piv_result_50/80-1 ~/Data/02042020/dc_adv/01/dt=69 69 10 25 &\n",
      "python dc_adv.py ~/Data/02042020/80-1/8-bit ~/Data/02042020/piv_result_50/80-1 ~/Data/02042020/dc_adv/01/dt=79 79 10 25 &\n",
      "python dc_adv.py ~/Data/02042020/80-1/8-bit ~/Data/02042020/piv_result_50/80-1 ~/Data/02042020/dc_adv/01/dt=89 89 10 25 &\n",
      "python dc_adv.py ~/Data/02042020/80-1/8-bit ~/Data/02042020/piv_result_50/80-1 ~/Data/02042020/dc_adv/01/dt=99 99 10 25 &\n",
      "python dc_adv.py ~/Data/02042020/80-1/8-bit ~/Data/02042020/piv_result_50/80-1 ~/Data/02042020/dc_adv/01/dt=108 108 10 25 &\n",
      "python dc_adv.py ~/Data/02042020/80-1/8-bit ~/Data/02042020/piv_result_50/80-1 ~/Data/02042020/dc_adv/01/dt=118 118 10 25 &\n",
      "python dc_adv.py ~/Data/02042020/80-1/8-bit ~/Data/02042020/piv_result_50/80-1 ~/Data/02042020/dc_adv/01/dt=128 128 10 25 &\n",
      "python dc_adv.py ~/Data/02042020/80-1/8-bit ~/Data/02042020/piv_result_50/80-1 ~/Data/02042020/dc_adv/01/dt=138 138 10 25 &\n",
      "python dc_adv.py ~/Data/02042020/80-1/8-bit ~/Data/02042020/piv_result_50/80-1 ~/Data/02042020/dc_adv/01/dt=148 148 10 25 &\n",
      "python dc_adv.py ~/Data/02042020/80-1/8-bit ~/Data/02042020/piv_result_50/80-1 ~/Data/02042020/dc_adv/01/dt=158 158 10 25 &\n",
      "python dc_adv.py ~/Data/02042020/80-1/8-bit ~/Data/02042020/piv_result_50/80-1 ~/Data/02042020/dc_adv/01/dt=168 168 10 25 &\n",
      "python dc_adv.py ~/Data/02042020/80-1/8-bit ~/Data/02042020/piv_result_50/80-1 ~/Data/02042020/dc_adv/01/dt=178 178 10 25 &\n",
      "python dc_adv.py ~/Data/02042020/80-1/8-bit ~/Data/02042020/piv_result_50/80-1 ~/Data/02042020/dc_adv/01/dt=188 188 10 25 &\n",
      "python dc_adv.py ~/Data/02042020/80-1/8-bit ~/Data/02042020/piv_result_50/80-1 ~/Data/02042020/dc_adv/01/dt=198 198 10 25 &\n",
      "python dc_adv.py ~/Data/02042020/80-1/8-bit ~/Data/02042020/piv_result_50/80-1 ~/Data/02042020/dc_adv/01/dt=207 207 10 25 &\n",
      "python dc_adv.py ~/Data/02042020/80-1/8-bit ~/Data/02042020/piv_result_50/80-1 ~/Data/02042020/dc_adv/01/dt=217 217 10 25 &\n",
      "python dc_adv.py ~/Data/02042020/80-1/8-bit ~/Data/02042020/piv_result_50/80-1 ~/Data/02042020/dc_adv/01/dt=227 227 10 25 &\n",
      "python dc_adv.py ~/Data/02042020/80-1/8-bit ~/Data/02042020/piv_result_50/80-1 ~/Data/02042020/dc_adv/01/dt=237 237 10 25 &\n",
      "python dc_adv.py ~/Data/02042020/80-1/8-bit ~/Data/02042020/piv_result_50/80-1 ~/Data/02042020/dc_adv/01/dt=247 247 10 25 &\n",
      "python dc_adv.py ~/Data/02042020/80-1/8-bit ~/Data/02042020/piv_result_50/80-1 ~/Data/02042020/dc_adv/01/dt=257 257 10 25 &\n",
      "python dc_adv.py ~/Data/02042020/80-1/8-bit ~/Data/02042020/piv_result_50/80-1 ~/Data/02042020/dc_adv/01/dt=267 267 10 25 &\n",
      "python dc_adv.py ~/Data/02042020/80-1/8-bit ~/Data/02042020/piv_result_50/80-1 ~/Data/02042020/dc_adv/01/dt=277 277 10 25 &\n",
      "python dc_adv.py ~/Data/02042020/80-1/8-bit ~/Data/02042020/piv_result_50/80-1 ~/Data/02042020/dc_adv/01/dt=287 287 10 25 &\n",
      "python dc_adv.py ~/Data/02042020/80-1/8-bit ~/Data/02042020/piv_result_50/80-1 ~/Data/02042020/dc_adv/01/dt=297 297 10 25 &\n",
      "python dc_adv.py ~/Data/02042020/80-1/8-bit ~/Data/02042020/piv_result_50/80-1 ~/Data/02042020/dc_adv/01/dt=306 306 10 25 &\n",
      "python dc_adv.py ~/Data/02042020/80-1/8-bit ~/Data/02042020/piv_result_50/80-1 ~/Data/02042020/dc_adv/01/dt=316 316 10 25 &\n",
      "python dc_adv.py ~/Data/02042020/80-1/8-bit ~/Data/02042020/piv_result_50/80-1 ~/Data/02042020/dc_adv/01/dt=326 326 10 25 &\n",
      "python dc_adv.py ~/Data/02042020/80-1/8-bit ~/Data/02042020/piv_result_50/80-1 ~/Data/02042020/dc_adv/01/dt=336 336 10 25 &\n",
      "python dc_adv.py ~/Data/02042020/80-1/8-bit ~/Data/02042020/piv_result_50/80-1 ~/Data/02042020/dc_adv/01/dt=346 346 10 25 &\n",
      "python dc_adv.py ~/Data/02042020/80-1/8-bit ~/Data/02042020/piv_result_50/80-1 ~/Data/02042020/dc_adv/01/dt=356 356 10 25 &\n",
      "python dc_adv.py ~/Data/02042020/80-1/8-bit ~/Data/02042020/piv_result_50/80-1 ~/Data/02042020/dc_adv/01/dt=366 366 10 25 &\n",
      "python dc_adv.py ~/Data/02042020/80-1/8-bit ~/Data/02042020/piv_result_50/80-1 ~/Data/02042020/dc_adv/01/dt=376 376 10 25 &\n",
      "python dc_adv.py ~/Data/02042020/80-1/8-bit ~/Data/02042020/piv_result_50/80-1 ~/Data/02042020/dc_adv/01/dt=386 386 10 25 &\n",
      "python dc_adv.py ~/Data/02042020/80-1/8-bit ~/Data/02042020/piv_result_50/80-1 ~/Data/02042020/dc_adv/01/dt=396 396 10 25 &\n",
      "python dc_adv.py ~/Data/02042020/80-1/8-bit ~/Data/02042020/piv_result_50/80-1 ~/Data/02042020/dc_adv/01/dt=405 405 10 25 &\n",
      "python dc_adv.py ~/Data/02042020/80-1/8-bit ~/Data/02042020/piv_result_50/80-1 ~/Data/02042020/dc_adv/01/dt=415 415 10 25 &\n",
      "python dc_adv.py ~/Data/02042020/80-1/8-bit ~/Data/02042020/piv_result_50/80-1 ~/Data/02042020/dc_adv/01/dt=425 425 10 25 &\n",
      "python dc_adv.py ~/Data/02042020/80-1/8-bit ~/Data/02042020/piv_result_50/80-1 ~/Data/02042020/dc_adv/01/dt=435 435 10 25 &\n",
      "python dc_adv.py ~/Data/02042020/80-1/8-bit ~/Data/02042020/piv_result_50/80-1 ~/Data/02042020/dc_adv/01/dt=445 445 10 25 &\n",
      "python dc_adv.py ~/Data/02042020/80-1/8-bit ~/Data/02042020/piv_result_50/80-1 ~/Data/02042020/dc_adv/01/dt=455 455 10 25 &\n",
      "python dc_adv.py ~/Data/02042020/80-1/8-bit ~/Data/02042020/piv_result_50/80-1 ~/Data/02042020/dc_adv/01/dt=465 465 10 25 &\n",
      "python dc_adv.py ~/Data/02042020/80-1/8-bit ~/Data/02042020/piv_result_50/80-1 ~/Data/02042020/dc_adv/01/dt=475 475 10 25 &\n",
      "python dc_adv.py ~/Data/02042020/80-1/8-bit ~/Data/02042020/piv_result_50/80-1 ~/Data/02042020/dc_adv/01/dt=485 485 10 25 &\n",
      "python dc_adv.py ~/Data/02042020/80-1/8-bit ~/Data/02042020/piv_result_50/80-1 ~/Data/02042020/dc_adv/01/dt=495 495 10 25 &\n",
      "python dc_adv.py ~/Data/02042020/80-1/8-bit ~/Data/02042020/piv_result_50/80-1 ~/Data/02042020/dc_adv/01/dt=504 504 10 25 &\n",
      "python dc_adv.py ~/Data/02042020/80-1/8-bit ~/Data/02042020/piv_result_50/80-1 ~/Data/02042020/dc_adv/01/dt=514 514 10 25 &\n",
      "python dc_adv.py ~/Data/02042020/80-1/8-bit ~/Data/02042020/piv_result_50/80-1 ~/Data/02042020/dc_adv/01/dt=524 524 10 25 &\n",
      "python dc_adv.py ~/Data/02042020/80-1/8-bit ~/Data/02042020/piv_result_50/80-1 ~/Data/02042020/dc_adv/01/dt=534 534 10 25 &\n",
      "python dc_adv.py ~/Data/02042020/80-1/8-bit ~/Data/02042020/piv_result_50/80-1 ~/Data/02042020/dc_adv/01/dt=544 544 10 25 &\n",
      "python dc_adv.py ~/Data/02042020/80-1/8-bit ~/Data/02042020/piv_result_50/80-1 ~/Data/02042020/dc_adv/01/dt=554 554 10 25 &\n",
      "python dc_adv.py ~/Data/02042020/80-1/8-bit ~/Data/02042020/piv_result_50/80-1 ~/Data/02042020/dc_adv/01/dt=564 564 10 25 &\n",
      "python dc_adv.py ~/Data/02042020/80-1/8-bit ~/Data/02042020/piv_result_50/80-1 ~/Data/02042020/dc_adv/01/dt=574 574 10 25 &\n",
      "python dc_adv.py ~/Data/02042020/80-1/8-bit ~/Data/02042020/piv_result_50/80-1 ~/Data/02042020/dc_adv/01/dt=584 584 10 25 &\n",
      "python dc_adv.py ~/Data/02042020/80-1/8-bit ~/Data/02042020/piv_result_50/80-1 ~/Data/02042020/dc_adv/01/dt=594 594 10 25 &\n",
      "python dc_adv.py ~/Data/02042020/80-1/8-bit ~/Data/02042020/piv_result_50/80-1 ~/Data/02042020/dc_adv/01/dt=603 603 10 25 &\n",
      "python dc_adv.py ~/Data/02042020/80-1/8-bit ~/Data/02042020/piv_result_50/80-1 ~/Data/02042020/dc_adv/01/dt=613 613 10 25 &\n",
      "python dc_adv.py ~/Data/02042020/80-1/8-bit ~/Data/02042020/piv_result_50/80-1 ~/Data/02042020/dc_adv/01/dt=623 623 10 25 &\n",
      "python dc_adv.py ~/Data/02042020/80-1/8-bit ~/Data/02042020/piv_result_50/80-1 ~/Data/02042020/dc_adv/01/dt=633 633 10 25 &\n",
      "python dc_adv.py ~/Data/02042020/80-1/8-bit ~/Data/02042020/piv_result_50/80-1 ~/Data/02042020/dc_adv/01/dt=643 643 10 25 &\n",
      "python dc_adv.py ~/Data/02042020/80-1/8-bit ~/Data/02042020/piv_result_50/80-1 ~/Data/02042020/dc_adv/01/dt=653 653 10 25 &\n",
      "python dc_adv.py ~/Data/02042020/80-1/8-bit ~/Data/02042020/piv_result_50/80-1 ~/Data/02042020/dc_adv/01/dt=663 663 10 25 &\n",
      "python dc_adv.py ~/Data/02042020/80-1/8-bit ~/Data/02042020/piv_result_50/80-1 ~/Data/02042020/dc_adv/01/dt=673 673 10 25 &\n",
      "python dc_adv.py ~/Data/02042020/80-1/8-bit ~/Data/02042020/piv_result_50/80-1 ~/Data/02042020/dc_adv/01/dt=683 683 10 25 &\n",
      "python dc_adv.py ~/Data/02042020/80-1/8-bit ~/Data/02042020/piv_result_50/80-1 ~/Data/02042020/dc_adv/01/dt=693 693 10 25 &\n",
      "python dc_adv.py ~/Data/02042020/80-1/8-bit ~/Data/02042020/piv_result_50/80-1 ~/Data/02042020/dc_adv/01/dt=702 702 10 25 &\n",
      "python dc_adv.py ~/Data/02042020/80-1/8-bit ~/Data/02042020/piv_result_50/80-1 ~/Data/02042020/dc_adv/01/dt=712 712 10 25 &\n",
      "python dc_adv.py ~/Data/02042020/80-1/8-bit ~/Data/02042020/piv_result_50/80-1 ~/Data/02042020/dc_adv/01/dt=722 722 10 25 &\n",
      "python dc_adv.py ~/Data/02042020/80-1/8-bit ~/Data/02042020/piv_result_50/80-1 ~/Data/02042020/dc_adv/01/dt=732 732 10 25 &\n",
      "python dc_adv.py ~/Data/02042020/80-1/8-bit ~/Data/02042020/piv_result_50/80-1 ~/Data/02042020/dc_adv/01/dt=742 742 10 25 &\n",
      "python dc_adv.py ~/Data/02042020/80-1/8-bit ~/Data/02042020/piv_result_50/80-1 ~/Data/02042020/dc_adv/01/dt=752 752 10 25 &\n",
      "python dc_adv.py ~/Data/02042020/80-1/8-bit ~/Data/02042020/piv_result_50/80-1 ~/Data/02042020/dc_adv/01/dt=762 762 10 25 &\n",
      "python dc_adv.py ~/Data/02042020/80-1/8-bit ~/Data/02042020/piv_result_50/80-1 ~/Data/02042020/dc_adv/01/dt=772 772 10 25 &\n",
      "python dc_adv.py ~/Data/02042020/80-1/8-bit ~/Data/02042020/piv_result_50/80-1 ~/Data/02042020/dc_adv/01/dt=782 782 10 25 &\n",
      "python dc_adv.py ~/Data/02042020/80-1/8-bit ~/Data/02042020/piv_result_50/80-1 ~/Data/02042020/dc_adv/01/dt=792 792 10 25 &\n",
      "python dc_adv.py ~/Data/02042020/80-1/8-bit ~/Data/02042020/piv_result_50/80-1 ~/Data/02042020/dc_adv/01/dt=801 801 10 25 &\n",
      "python dc_adv.py ~/Data/02042020/80-1/8-bit ~/Data/02042020/piv_result_50/80-1 ~/Data/02042020/dc_adv/01/dt=811 811 10 25 &\n",
      "python dc_adv.py ~/Data/02042020/80-1/8-bit ~/Data/02042020/piv_result_50/80-1 ~/Data/02042020/dc_adv/01/dt=821 821 10 25 &\n",
      "python dc_adv.py ~/Data/02042020/80-1/8-bit ~/Data/02042020/piv_result_50/80-1 ~/Data/02042020/dc_adv/01/dt=831 831 10 25 &\n",
      "python dc_adv.py ~/Data/02042020/80-1/8-bit ~/Data/02042020/piv_result_50/80-1 ~/Data/02042020/dc_adv/01/dt=841 841 10 25 &\n",
      "python dc_adv.py ~/Data/02042020/80-1/8-bit ~/Data/02042020/piv_result_50/80-1 ~/Data/02042020/dc_adv/01/dt=851 851 10 25 &\n",
      "python dc_adv.py ~/Data/02042020/80-1/8-bit ~/Data/02042020/piv_result_50/80-1 ~/Data/02042020/dc_adv/01/dt=861 861 10 25 &\n",
      "python dc_adv.py ~/Data/02042020/80-1/8-bit ~/Data/02042020/piv_result_50/80-1 ~/Data/02042020/dc_adv/01/dt=871 871 10 25 &\n",
      "python dc_adv.py ~/Data/02042020/80-1/8-bit ~/Data/02042020/piv_result_50/80-1 ~/Data/02042020/dc_adv/01/dt=881 881 10 25 &\n",
      "python dc_adv.py ~/Data/02042020/80-1/8-bit ~/Data/02042020/piv_result_50/80-1 ~/Data/02042020/dc_adv/01/dt=891 891 10 25 &\n",
      "python dc_adv.py ~/Data/02042020/80-1/8-bit ~/Data/02042020/piv_result_50/80-1 ~/Data/02042020/dc_adv/01/dt=900 900 10 25 &\n",
      "python dc_adv.py ~/Data/02042020/80-1/8-bit ~/Data/02042020/piv_result_50/80-1 ~/Data/02042020/dc_adv/01/dt=910 910 10 25 &\n",
      "python dc_adv.py ~/Data/02042020/80-1/8-bit ~/Data/02042020/piv_result_50/80-1 ~/Data/02042020/dc_adv/01/dt=920 920 10 25 &\n",
      "python dc_adv.py ~/Data/02042020/80-1/8-bit ~/Data/02042020/piv_result_50/80-1 ~/Data/02042020/dc_adv/01/dt=930 930 10 25 &\n",
      "python dc_adv.py ~/Data/02042020/80-1/8-bit ~/Data/02042020/piv_result_50/80-1 ~/Data/02042020/dc_adv/01/dt=940 940 10 25 &\n",
      "python dc_adv.py ~/Data/02042020/80-1/8-bit ~/Data/02042020/piv_result_50/80-1 ~/Data/02042020/dc_adv/01/dt=950 950 10 25 &\n",
      "python dc_adv.py ~/Data/02042020/80-1/8-bit ~/Data/02042020/piv_result_50/80-1 ~/Data/02042020/dc_adv/01/dt=960 960 10 25 &\n",
      "python dc_adv.py ~/Data/02042020/80-1/8-bit ~/Data/02042020/piv_result_50/80-1 ~/Data/02042020/dc_adv/01/dt=970 970 10 25 &\n",
      "python dc_adv.py ~/Data/02042020/80-1/8-bit ~/Data/02042020/piv_result_50/80-1 ~/Data/02042020/dc_adv/01/dt=980 980 10 25 &\n",
      "python dc_adv.py ~/Data/02042020/80-1/8-bit ~/Data/02042020/piv_result_50/80-1 ~/Data/02042020/dc_adv/01/dt=990 990 10 25 &\n"
     ]
    }
   ],
   "source": [
    "intervals = np.linspace(10, 990, 100)\n",
    "for i in intervals:\n",
    "    interval = int(i)\n",
    "    print('python dc_adv.py ~/Data/02042020/80-1/8-bit ~/Data/02042020/piv_result_50/80-1 ~/Data/02042020/dc_adv/01/dt={0:d} {1:d} 10 25 &'.format(interval, interval))"
   ]
  },
  {
   "cell_type": "code",
   "execution_count": 2,
   "metadata": {},
   "outputs": [
    {
     "name": "stdout",
     "output_type": "stream",
     "text": [
      "python df2_kinetics.py ~/Data/06162020/00/8-bit ~/Data/06162020/df2_kinetics/00 100 &\n",
      "python df2_kinetics.py ~/Data/06162020/01/8-bit ~/Data/06162020/df2_kinetics/01 100 &\n",
      "python df2_kinetics.py ~/Data/06162020/02/8-bit ~/Data/06162020/df2_kinetics/02 100 &\n",
      "python df2_kinetics.py ~/Data/06162020/03/8-bit ~/Data/06162020/df2_kinetics/03 100 &\n",
      "python df2_kinetics.py ~/Data/06162020/04/8-bit ~/Data/06162020/df2_kinetics/04 100 &\n",
      "python df2_kinetics.py ~/Data/06162020/05/8-bit ~/Data/06162020/df2_kinetics/05 100 &\n",
      "python df2_kinetics.py ~/Data/06162020/06/8-bit ~/Data/06162020/df2_kinetics/06 100 &\n",
      "python df2_kinetics.py ~/Data/06162020/07/8-bit ~/Data/06162020/df2_kinetics/07 100 &\n"
     ]
    }
   ],
   "source": [
    "numL = range(0, 8)\n",
    "for num in numL:\n",
    "    print('python df2_kinetics.py ~/Data/06162020/{0:02d}/8-bit ~/Data/06162020/df2_kinetics/{0:02d} 100 &'.format(num))"
   ]
  }
 ],
 "metadata": {
  "kernelspec": {
   "display_name": "Python 3",
   "language": "python",
   "name": "python3"
  },
  "language_info": {
   "codemirror_mode": {
    "name": "ipython",
    "version": 3
   },
   "file_extension": ".py",
   "mimetype": "text/x-python",
   "name": "python",
   "nbconvert_exporter": "python",
   "pygments_lexer": "ipython3",
   "version": "3.7.3"
  }
 },
 "nbformat": 4,
 "nbformat_minor": 2
}

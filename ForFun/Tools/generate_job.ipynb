{
 "cells": [
  {
   "cell_type": "markdown",
   "metadata": {},
   "source": [
    "# Generate job files for MSI computing\n",
    "Main feature is to get all subfolders in a directory, and set up the output folders correspondingly"
   ]
  },
  {
   "cell_type": "code",
   "execution_count": 2,
   "metadata": {},
   "outputs": [],
   "source": [
    "import myImageLib as mil\n",
    "import os\n",
    "import numpy as np"
   ]
  },
  {
   "cell_type": "code",
   "execution_count": 3,
   "metadata": {},
   "outputs": [],
   "source": [
    "def header(walltime, mem, code_path):\n",
    "    # hrs, gb\n",
    "    print('#!/bin/bash -l')\n",
    "    print('#PBS -l walltime={0}:00:00,nodes=1:ppn=8,mem={1}gb'.format(walltime, mem))\n",
    "    print('#PBS -m abe')\n",
    "    print('#PBS -M liux3141@umn.edu\\n')\n",
    "    print('cd {}'.format(code_path))\n",
    "    print('module load python3')\n",
    "    print('source activate pythonEnv')"
   ]
  },
  {
   "cell_type": "code",
   "execution_count": 8,
   "metadata": {},
   "outputs": [
    {
     "name": "stdout",
     "output_type": "stream",
     "text": [
      "#!/bin/bash -l\n",
      "#PBS -l walltime=8:00:00,nodes=1:ppn=8,mem=3gb\n",
      "#PBS -m abe\n",
      "#PBS -M liux3141@umn.edu\n",
      "\n",
      "cd ~/code/Python/Correlation/src/py_files\n",
      "module load python3\n",
      "source activate pythonEnv\n",
      "python df2_nobp.py ~/Data/02042020/20-1/8-bit ~/Data/02042020/df2_nobp/20-1\n",
      "python df2_nobp.py ~/Data/02042020/20-2/8-bit ~/Data/02042020/df2_nobp/20-2\n",
      "python df2_nobp.py ~/Data/02042020/20-3/8-bit ~/Data/02042020/df2_nobp/20-3\n",
      "python df2_nobp.py ~/Data/02042020/40-1/8-bit ~/Data/02042020/df2_nobp/40-1\n",
      "python df2_nobp.py ~/Data/02042020/40-2/8-bit ~/Data/02042020/df2_nobp/40-2\n",
      "python df2_nobp.py ~/Data/02042020/40-3/8-bit ~/Data/02042020/df2_nobp/40-3\n",
      "python df2_nobp.py ~/Data/02042020/60-1/8-bit ~/Data/02042020/df2_nobp/60-1\n",
      "python df2_nobp.py ~/Data/02042020/60-2/8-bit ~/Data/02042020/df2_nobp/60-2\n",
      "python df2_nobp.py ~/Data/02042020/60-3/8-bit ~/Data/02042020/df2_nobp/60-3\n",
      "python df2_nobp.py ~/Data/02042020/80-1/8-bit ~/Data/02042020/df2_nobp/80-1\n",
      "python df2_nobp.py ~/Data/02042020/80-2/8-bit ~/Data/02042020/df2_nobp/80-2\n",
      "python df2_nobp.py ~/Data/02042020/80-3/8-bit ~/Data/02042020/df2_nobp/80-3\n",
      "python df2_nobp.py ~/Data/Wei/Dynamics_raw/20 ~/Data/Wei/Dynamics_raw/df2_nobp/20\n",
      "python df2_nobp.py ~/Data/Wei/Dynamics_raw/40 ~/Data/Wei/Dynamics_raw/df2_nobp/40\n",
      "python df2_nobp.py ~/Data/Wei/Dynamics_raw/60 ~/Data/Wei/Dynamics_raw/df2_nobp/60\n",
      "python df2_nobp.py ~/Data/Wei/Dynamics_raw/80 ~/Data/Wei/Dynamics_raw/df2_nobp/80\n",
      "python df2_nobp.py ~/Data/Wei/Dynamics_raw/100 ~/Data/Wei/Dynamics_raw/df2_nobp/100\n",
      "python df2_nobp.py ~/Data/03032020/10n0/8-bit ~/Data/03032020/df2_nobp/10n0\n",
      "wait\n"
     ]
    }
   ],
   "source": [
    "# job file generator\n",
    "header(8, 3, '~/code/Python/Correlation/src/py_files')\n",
    "conc = [20, 40, 60, 80]\n",
    "num = [1, 2, 3]\n",
    "for c in conc:\n",
    "    for n in num:\n",
    "        # print('python div2.py ~/Data/02042020/piv_result_50/{0:d}-{1:d} ~/Data/02042020/{0:d}-{1:d}/8-bit ~/Data/02042020/div/{0:d}-{1:d} 50 25 &'.format(c, n))\n",
    "        # print('python div_x_dcadv.py ~/Data/02042020/div/{0:d}-{1:d} ~/Data/02042020/dc_adv/{0:d}-{1:d} ~/Data/02042020/divXdcadv/{0:d}-{1:d} &'.format(c, n))\n",
    "        print('python df2_nobp.py ~/Data/02042020/{0:2d}-{1:d}/8-bit ~/Data/02042020/df2_nobp/{0:2d}-{1:d}'.format(c, n))\n",
    "conc = [20, 40, 60, 80, 100]\n",
    "for c in conc:\n",
    "    print('python df2_nobp.py ~/Data/Wei/Dynamics_raw/{0:d} ~/Data/Wei/Dynamics_raw/df2_nobp/{0:d}'.format(c))\n",
    "print('python df2_nobp.py ~/Data/03032020/10n0/8-bit ~/Data/03032020/df2_nobp/10n0')\n",
    "print('wait')"
   ]
  }
 ],
 "metadata": {
  "kernelspec": {
   "display_name": "Python 3",
   "language": "python",
   "name": "python3"
  },
  "language_info": {
   "codemirror_mode": {
    "name": "ipython",
    "version": 3
   },
   "file_extension": ".py",
   "mimetype": "text/x-python",
   "name": "python",
   "nbconvert_exporter": "python",
   "pygments_lexer": "ipython3",
   "version": "3.7.7"
  }
 },
 "nbformat": 4,
 "nbformat_minor": 2
}

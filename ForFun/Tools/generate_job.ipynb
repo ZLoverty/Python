{
 "cells": [
  {
   "cell_type": "markdown",
   "metadata": {},
   "source": [
    "# Generate job files for MSI computing\n",
    "Main feature is to get all subfolders in a directory, and set up the output folders correspondingly"
   ]
  },
  {
   "cell_type": "code",
   "execution_count": 1,
   "metadata": {},
   "outputs": [],
   "source": [
    "import myImageLib as mil\n",
    "import os\n",
    "import numpy as np"
   ]
  },
  {
   "cell_type": "code",
   "execution_count": 84,
   "metadata": {},
   "outputs": [],
   "source": [
    "# Construct args_list \n",
    "args_list = []\n",
    "local_input = r'D:\\Wei\\02042020'\n",
    "remote_input = r'~\\Data\\Wei\\02042020'\n",
    "remote_output = r'~\\Data\\02182020\\img\\result'\n",
    "nd2Dirs = mil.dirrec(local_input, '*.nd2')\n",
    "for nd2Dir in nd2Dirs:\n",
    "    folder, file = os.path.split(nd2Dir)\n",
    "    name, ext = os.path.splitext(file)\n",
    "    input_dir = os.path.join(remote_input)\n",
    "    output_dir = os.path.join(remote_output)\n",
    "    args = ' '.join((os.path.join(input_dir, file), '')).replace('\\\\', '/') ### Pay attention here\n",
    "    args_list.append(args)\n",
    "# test master_input = I:\\Github\\Python\\generic_proc\\test_images\n",
    "# test master_output = I:\\Github\\Python\\generic_proc\\test_images\\result"
   ]
  },
  {
   "cell_type": "code",
   "execution_count": 85,
   "metadata": {},
   "outputs": [
    {
     "data": {
      "text/plain": [
       "['~/Data/Wei/02042020/20-1.nd2 ',\n",
       " '~/Data/Wei/02042020/20-2.nd2 ',\n",
       " '~/Data/Wei/02042020/20-3.nd2 ',\n",
       " '~/Data/Wei/02042020/40-1.nd2 ',\n",
       " '~/Data/Wei/02042020/40-2.nd2 ',\n",
       " '~/Data/Wei/02042020/40-3.nd2 ',\n",
       " '~/Data/Wei/02042020/60-1.nd2 ',\n",
       " '~/Data/Wei/02042020/60-2.nd2 ',\n",
       " '~/Data/Wei/02042020/60-3.nd2 ',\n",
       " '~/Data/Wei/02042020/80-1.nd2 ',\n",
       " '~/Data/Wei/02042020/80-2.nd2 ',\n",
       " '~/Data/Wei/02042020/80-3.nd2 ']"
      ]
     },
     "execution_count": 85,
     "metadata": {},
     "output_type": "execute_result"
    }
   ],
   "source": [
    "args_list"
   ]
  },
  {
   "cell_type": "code",
   "execution_count": 79,
   "metadata": {},
   "outputs": [],
   "source": [
    "# batch rename files\n",
    "for nd2Dir in nd2Dirs:\n",
    "    os.rename(nd2Dir, nd2Dir.replace('no', ''))"
   ]
  },
  {
   "cell_type": "code",
   "execution_count": 86,
   "metadata": {},
   "outputs": [],
   "source": [
    "code_path = r'~/code/Python/generic_proc/py_files'\n",
    "py_name = r'to_tif.py'\n",
    "walltime = int(len(args_list) * 0.3)# hr\n",
    "nodes = 1\n",
    "memory = 1 # gb"
   ]
  },
  {
   "cell_type": "code",
   "execution_count": 87,
   "metadata": {},
   "outputs": [
    {
     "name": "stdout",
     "output_type": "stream",
     "text": [
      "#!/bin/bash -l\n",
      "#PBS -l walltime=3:00:00,nodes=1:ppn=8,mem=1gb\n",
      "#PBS -m abe\n",
      "#PBS -M liux3141@umn.edu\n",
      "\n",
      "cd ~/code/Python/generic_proc/py_files\n",
      "module load python3\n",
      "source activate pythonEnv\n",
      "python to_tif.py ~/Data/Wei/02042020/20-1.nd2  &\n",
      "python to_tif.py ~/Data/Wei/02042020/20-2.nd2  &\n",
      "python to_tif.py ~/Data/Wei/02042020/20-3.nd2  &\n",
      "python to_tif.py ~/Data/Wei/02042020/40-1.nd2  &\n",
      "python to_tif.py ~/Data/Wei/02042020/40-2.nd2  &\n",
      "python to_tif.py ~/Data/Wei/02042020/40-3.nd2  &\n",
      "python to_tif.py ~/Data/Wei/02042020/60-1.nd2  &\n",
      "python to_tif.py ~/Data/Wei/02042020/60-2.nd2  &\n",
      "python to_tif.py ~/Data/Wei/02042020/60-3.nd2  &\n",
      "python to_tif.py ~/Data/Wei/02042020/80-1.nd2  &\n",
      "python to_tif.py ~/Data/Wei/02042020/80-2.nd2  &\n",
      "python to_tif.py ~/Data/Wei/02042020/80-3.nd2  &\n",
      "wait\n"
     ]
    }
   ],
   "source": [
    "print('#!/bin/bash -l')\n",
    "print('#PBS -l walltime={0}:00:00,nodes={1}:ppn=8,mem={2}gb'.format(walltime, nodes, memory))\n",
    "print('#PBS -m abe')\n",
    "print('#PBS -M liux3141@umn.edu\\n')\n",
    "print('cd {}'.format(code_path))\n",
    "print('module load python3')\n",
    "print('source activate pythonEnv')\n",
    "\n",
    "for args in args_list:\n",
    "    print('python {} {} &'.format(py_name, args))\n",
    "print('wait')"
   ]
  },
  {
   "cell_type": "code",
   "execution_count": 2,
   "metadata": {},
   "outputs": [
    {
     "name": "stdout",
     "output_type": "stream",
     "text": [
      "python dc_adv.py ~/Data/02042020/20-1/8-bit ~/Data/02042020/piv_result_50/20-1 ~/Data/02042020/dc+adv/20-1 10 &\n",
      "python dc_adv.py ~/Data/02042020/20-2/8-bit ~/Data/02042020/piv_result_50/20-2 ~/Data/02042020/dc+adv/20-2 10 &\n",
      "python dc_adv.py ~/Data/02042020/20-3/8-bit ~/Data/02042020/piv_result_50/20-3 ~/Data/02042020/dc+adv/20-3 10 &\n",
      "python dc_adv.py ~/Data/02042020/40-1/8-bit ~/Data/02042020/piv_result_50/40-1 ~/Data/02042020/dc+adv/40-1 10 &\n",
      "python dc_adv.py ~/Data/02042020/40-2/8-bit ~/Data/02042020/piv_result_50/40-2 ~/Data/02042020/dc+adv/40-2 10 &\n",
      "python dc_adv.py ~/Data/02042020/40-3/8-bit ~/Data/02042020/piv_result_50/40-3 ~/Data/02042020/dc+adv/40-3 10 &\n",
      "python dc_adv.py ~/Data/02042020/60-1/8-bit ~/Data/02042020/piv_result_50/60-1 ~/Data/02042020/dc+adv/60-1 10 &\n",
      "python dc_adv.py ~/Data/02042020/60-2/8-bit ~/Data/02042020/piv_result_50/60-2 ~/Data/02042020/dc+adv/60-2 10 &\n",
      "python dc_adv.py ~/Data/02042020/60-3/8-bit ~/Data/02042020/piv_result_50/60-3 ~/Data/02042020/dc+adv/60-3 10 &\n",
      "python dc_adv.py ~/Data/02042020/80-1/8-bit ~/Data/02042020/piv_result_50/80-1 ~/Data/02042020/dc+adv/80-1 10 &\n",
      "python dc_adv.py ~/Data/02042020/80-2/8-bit ~/Data/02042020/piv_result_50/80-2 ~/Data/02042020/dc+adv/80-2 10 &\n",
      "python dc_adv.py ~/Data/02042020/80-3/8-bit ~/Data/02042020/piv_result_50/80-3 ~/Data/02042020/dc+adv/80-3 10 &\n"
     ]
    }
   ],
   "source": [
    "# job file generator\n",
    "c = [20, 40, 60, 80]\n",
    "n = [1, 2, 3]\n",
    "for cc in c:\n",
    "    for nn in n:\n",
    "        name = '{0}-{1}'.format(cc, nn)\n",
    "        print('python dc_adv.py ~/Data/02042020/'+name+'/8-bit ~/Data/02042020/piv_result_50/'+name+' ~/Data/02042020/dc+adv/'+name+' 10 &')"
   ]
  },
  {
   "cell_type": "code",
   "execution_count": 13,
   "metadata": {},
   "outputs": [
    {
     "name": "stdout",
     "output_type": "stream",
     "text": [
      "python dc_adv.py ~/Data/02042020/20-3/8-bit ~/Data/02042020/piv_result_50/20-3 ~/Data/02042020/dc_adv/20-3/dt=1 1 30 25 &\n",
      "python dc_adv.py ~/Data/02042020/20-3/8-bit ~/Data/02042020/piv_result_50/20-3 ~/Data/02042020/dc_adv/20-3/dt=3 3 30 25 &\n",
      "python dc_adv.py ~/Data/02042020/20-3/8-bit ~/Data/02042020/piv_result_50/20-3 ~/Data/02042020/dc_adv/20-3/dt=5 5 30 25 &\n",
      "python dc_adv.py ~/Data/02042020/20-3/8-bit ~/Data/02042020/piv_result_50/20-3 ~/Data/02042020/dc_adv/20-3/dt=7 7 30 25 &\n",
      "python dc_adv.py ~/Data/02042020/20-3/8-bit ~/Data/02042020/piv_result_50/20-3 ~/Data/02042020/dc_adv/20-3/dt=9 9 30 25 &\n",
      "python dc_adv.py ~/Data/02042020/20-3/8-bit ~/Data/02042020/piv_result_50/20-3 ~/Data/02042020/dc_adv/20-3/dt=11 11 30 25 &\n",
      "python dc_adv.py ~/Data/02042020/20-3/8-bit ~/Data/02042020/piv_result_50/20-3 ~/Data/02042020/dc_adv/20-3/dt=13 13 30 25 &\n",
      "python dc_adv.py ~/Data/02042020/20-3/8-bit ~/Data/02042020/piv_result_50/20-3 ~/Data/02042020/dc_adv/20-3/dt=15 15 30 25 &\n",
      "python dc_adv.py ~/Data/02042020/20-3/8-bit ~/Data/02042020/piv_result_50/20-3 ~/Data/02042020/dc_adv/20-3/dt=20 20 30 25 &\n",
      "python dc_adv.py ~/Data/02042020/20-3/8-bit ~/Data/02042020/piv_result_50/20-3 ~/Data/02042020/dc_adv/20-3/dt=30 30 30 25 &\n",
      "python dc_adv.py ~/Data/02042020/20-3/8-bit ~/Data/02042020/piv_result_50/20-3 ~/Data/02042020/dc_adv/20-3/dt=40 40 30 25 &\n",
      "python dc_adv.py ~/Data/02042020/20-3/8-bit ~/Data/02042020/piv_result_50/20-3 ~/Data/02042020/dc_adv/20-3/dt=50 50 30 25 &\n",
      "python dc_adv.py ~/Data/02042020/20-3/8-bit ~/Data/02042020/piv_result_50/20-3 ~/Data/02042020/dc_adv/20-3/dt=60 60 30 25 &\n",
      "python dc_adv.py ~/Data/02042020/20-3/8-bit ~/Data/02042020/piv_result_50/20-3 ~/Data/02042020/dc_adv/20-3/dt=70 70 30 25 &\n",
      "python dc_adv.py ~/Data/02042020/20-3/8-bit ~/Data/02042020/piv_result_50/20-3 ~/Data/02042020/dc_adv/20-3/dt=80 80 30 25 &\n",
      "python dc_adv.py ~/Data/02042020/20-3/8-bit ~/Data/02042020/piv_result_50/20-3 ~/Data/02042020/dc_adv/20-3/dt=90 90 30 25 &\n",
      "python dc_adv.py ~/Data/02042020/20-3/8-bit ~/Data/02042020/piv_result_50/20-3 ~/Data/02042020/dc_adv/20-3/dt=100 100 30 25 &\n",
      "python dc_adv.py ~/Data/02042020/20-3/8-bit ~/Data/02042020/piv_result_50/20-3 ~/Data/02042020/dc_adv/20-3/dt=200 200 30 25 &\n",
      "python dc_adv.py ~/Data/02042020/20-3/8-bit ~/Data/02042020/piv_result_50/20-3 ~/Data/02042020/dc_adv/20-3/dt=300 300 30 25 &\n",
      "python dc_adv.py ~/Data/02042020/20-3/8-bit ~/Data/02042020/piv_result_50/20-3 ~/Data/02042020/dc_adv/20-3/dt=400 400 30 25 &\n",
      "python dc_adv.py ~/Data/02042020/20-3/8-bit ~/Data/02042020/piv_result_50/20-3 ~/Data/02042020/dc_adv/20-3/dt=500 500 30 25 &\n"
     ]
    }
   ],
   "source": [
    "intervals = [1, 3, 5, 7, 9, 11, 13, 15, 20, 30, 40, 50, 60, 70, 80, 90, 100, 200, 300, 400, 500]\n",
    "exp = '20-3'\n",
    "for i in intervals:\n",
    "    interval = int(i)\n",
    "    print('python dc_adv.py ~/Data/02042020/{2}/8-bit ~/Data/02042020/piv_result_50/{2} ~/Data/02042020/dc_adv/{2}/dt={0:d} {1:d} 30 25 &'.format(interval, interval, exp))"
   ]
  },
  {
   "cell_type": "code",
   "execution_count": 2,
   "metadata": {},
   "outputs": [
    {
     "name": "stdout",
     "output_type": "stream",
     "text": [
      "python df2_kinetics.py ~/Data/06162020/00/8-bit ~/Data/06162020/df2_kinetics/00 100 &\n",
      "python df2_kinetics.py ~/Data/06162020/01/8-bit ~/Data/06162020/df2_kinetics/01 100 &\n",
      "python df2_kinetics.py ~/Data/06162020/02/8-bit ~/Data/06162020/df2_kinetics/02 100 &\n",
      "python df2_kinetics.py ~/Data/06162020/03/8-bit ~/Data/06162020/df2_kinetics/03 100 &\n",
      "python df2_kinetics.py ~/Data/06162020/04/8-bit ~/Data/06162020/df2_kinetics/04 100 &\n",
      "python df2_kinetics.py ~/Data/06162020/05/8-bit ~/Data/06162020/df2_kinetics/05 100 &\n",
      "python df2_kinetics.py ~/Data/06162020/06/8-bit ~/Data/06162020/df2_kinetics/06 100 &\n",
      "python df2_kinetics.py ~/Data/06162020/07/8-bit ~/Data/06162020/df2_kinetics/07 100 &\n"
     ]
    }
   ],
   "source": [
    "numL = range(0, 8)\n",
    "for num in numL:\n",
    "    print('python df2_kinetics.py ~/Data/06162020/{0:02d}/8-bit ~/Data/06162020/df2_kinetics/{0:02d} 100 &'.format(num))"
   ]
  }
 ],
 "metadata": {
  "kernelspec": {
   "display_name": "Python 3",
   "language": "python",
   "name": "python3"
  },
  "language_info": {
   "codemirror_mode": {
    "name": "ipython",
    "version": 3
   },
   "file_extension": ".py",
   "mimetype": "text/x-python",
   "name": "python",
   "nbconvert_exporter": "python",
   "pygments_lexer": "ipython3",
   "version": "3.7.7"
  }
 },
 "nbformat": 4,
 "nbformat_minor": 2
}

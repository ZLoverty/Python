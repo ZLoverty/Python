{
 "cells": [
  {
   "cell_type": "markdown",
   "metadata": {},
   "source": [
    "# Generate job files for MSI computing\n",
    "Main feature is to get all subfolders in a directory, and set up the output folders correspondingly"
   ]
  },
  {
   "cell_type": "code",
   "execution_count": 1,
   "metadata": {},
   "outputs": [],
   "source": [
    "import myImageLib as mil\n",
    "import os\n",
    "import numpy as np\n",
    "from tool_utils import header"
   ]
  },
  {
   "cell_type": "markdown",
   "metadata": {},
   "source": [
    "Generate a header for job file:\n",
    "```Python\n",
    "def header(walltime, mem, code_path, to_file=None):\n",
    "    \"\"\"\n",
    "    walltime -- estimate running time (hr)\n",
    "    mem -- memory needed (gb)\n",
    "    code_path -- the folder in which the code can be found\n",
    "    to_file -- file object to write to. If you want to print in console, set to None (default)\n",
    "```"
   ]
  },
  {
   "cell_type": "code",
   "execution_count": 4,
   "metadata": {},
   "outputs": [
    {
     "name": "stdout",
     "output_type": "stream",
     "text": [
      "#!/bin/bash -l\n",
      "#PBS -l walltime=8:00:00,nodes=1:ppn=8,mem=3gb\n",
      "#PBS -m abe\n",
      "#PBS -M liux3141@umn.edu\n",
      "\n",
      "cd ~/code/Python/Correlation/src/py_files\n",
      "module load python3\n",
      "source activate pythonEnv\n"
     ]
    }
   ],
   "source": [
    "# test header()\n",
    "header(8, 3, '~/code/Python/Correlation/src/py_files')"
   ]
  },
  {
   "cell_type": "markdown",
   "metadata": {},
   "source": [
    "- 00.pbs: python to_tif nd2Dir\n",
    "- 01.pbs: python piv_imseq.py img_folder output_folder winsize overlap fps smooth\n",
    "- 02.pbs: python df2_kinetics.py img_folder kinetics_folder seg_length\n",
    "- 03.pbs: python overall_intensity.py folder folder_out\n",
    "- 04.pbs: python corr_imseq.py input_folder output_folder wsize step\n",
    "\n",
    "\n",
    "- 05.pbs: python div2.py piv_folder imgDir output_folder winsize step\n",
    "- 06.pbs: python cav_imseq.py piv_folder output_folder\n",
    "- 07.pbs: python dc_adv.py folder_img folder_piv folder_out interval fps step\n",
    "- 08.pbs: python div_x_dcadv.py folder_div folder_dcadv folder_out"
   ]
  },
  {
   "cell_type": "code",
   "execution_count": 25,
   "metadata": {},
   "outputs": [],
   "source": [
    "# Global dirs\n",
    "folder = r'E:\\Github\\Python\\job_files\\08102020' # job file folder\n",
    "if os.path.exists(folder) == False:\n",
    "    os.makedirs(folder)\n",
    "data_path = '~/Data/08052020'\n",
    "num = range(0, 12)\n",
    "fpsL = [30, 30, 30, 30, 30, 30, 30, 30, 30, 10, 10, 10]"
   ]
  },
  {
   "cell_type": "code",
   "execution_count": 46,
   "metadata": {},
   "outputs": [],
   "source": [
    "nd2Dir = data_path + '/{0:02d}.nd2'\n",
    "img_folder = data_path + '/{0:02d}/8-bit'\n",
    "piv_folder = data_path + '/piv_imseq/{0:02d}'\n",
    "i_folder = data_path + '/overall_intensity/{0:02d}'\n",
    "dxd_folder = data_path + '/div_x_dcadv/{0:02d}'\n",
    "kinetics_folder = data_path + '/df2_kinetics/{0:02d}'\n",
    "dcadv_folder = data_path + '/dc_adv/{0:02d}/dt={1:d}'\n",
    "corr_folder = data_path + '/corr_imseq/{0:02d}'\n",
    "cav_folder = data_path + '/cav_imseq/{0:02d}'\n",
    "div_folder = data_path + '/div2/{0:02d}'"
   ]
  },
  {
   "cell_type": "code",
   "execution_count": 20,
   "metadata": {
    "scrolled": true
   },
   "outputs": [
    {
     "data": {
      "text/plain": [
       "'~/Data/08042020/01.nd2'"
      ]
     },
     "execution_count": 20,
     "metadata": {},
     "output_type": "execute_result"
    }
   ],
   "source": [
    "nd2Dir.format(1)"
   ]
  },
  {
   "cell_type": "code",
   "execution_count": 28,
   "metadata": {},
   "outputs": [],
   "source": [
    "script = 'to_tif.py'\n",
    "job_num = 0 # job file number\n",
    "walltime = 3 # hours\n",
    "mem = 3 # gb\n",
    "code_dir = '~/code/Python/generic_proc/py_files' # python script dir\n",
    "with open(os.path.join(folder, '{:02d}.pbs'.format(job_num)), 'w') as f:\n",
    "    header(walltime, mem, code_dir, to_file=f)    \n",
    "    for n, fps in zip(num, fpsL):       \n",
    "        f.write(('python ' + script + ' ' + nd2Dir +' &\\n').format(n))\n",
    "    f.write('wait')"
   ]
  },
  {
   "cell_type": "code",
   "execution_count": 35,
   "metadata": {},
   "outputs": [],
   "source": [
    "script = 'piv_imseq.py'\n",
    "job_num = 1 # job file number\n",
    "walltime = 20 # hours\n",
    "mem = 3 # gb\n",
    "code_dir = '~/code/Python/PIV/src/py_files' # python script dir\n",
    "with open(os.path.join(folder, '{:02d}.pbs'.format(job_num)), 'w') as f:\n",
    "    header(walltime, mem, code_dir, to_file=f)    \n",
    "    for n, fps in zip(num, fpsL):       \n",
    "        f.write(('python ' + script + ' ' + img_folder + ' ' + piv_folder + ' 50 25 1' +' &\\n').format(n))\n",
    "    f.write('wait')"
   ]
  },
  {
   "cell_type": "code",
   "execution_count": 37,
   "metadata": {},
   "outputs": [],
   "source": [
    "script = 'df2_kinetics.py'\n",
    "job_num = 2 # job file number\n",
    "walltime = 10 # hours\n",
    "mem = 3 # gb\n",
    "code_dir = '~/code/Python/Correlation/src/py_files' # python script dir\n",
    "cmd = ('python ' + script + ' ' + img_folder + ' ' + kinetics_folder + ' 50' +' &\\n')\n",
    "with open(os.path.join(folder, '{:02d}.pbs'.format(job_num)), 'w') as f:\n",
    "    header(walltime, mem, code_dir, to_file=f)    \n",
    "    for n, fps in zip(num, fpsL):       \n",
    "        f.write(cmd.format(n))\n",
    "    f.write('wait')"
   ]
  },
  {
   "cell_type": "code",
   "execution_count": 38,
   "metadata": {},
   "outputs": [],
   "source": [
    "# python overall_intensity.py folder folder_out\n",
    "script = 'overall_intensity.py'\n",
    "job_num = 3 # job file number\n",
    "walltime = 3 # hours\n",
    "mem = 3 # gb\n",
    "code_dir = '~/code/Python/Correlation/src/py_files' # python script dir\n",
    "cmd = ('python ' + script + ' ' + img_folder + ' ' + i_folder +' &\\n')\n",
    "with open(os.path.join(folder, '{:02d}.pbs'.format(job_num)), 'w') as f:\n",
    "    header(walltime, mem, code_dir, to_file=f)    \n",
    "    for n, fps in zip(num, fpsL):       \n",
    "        f.write(cmd.format(n))\n",
    "    f.write('wait')"
   ]
  },
  {
   "cell_type": "code",
   "execution_count": 43,
   "metadata": {},
   "outputs": [],
   "source": [
    "# python corr_imseq.py img_folder corr_folder wsize step\n",
    "script = 'corr_imseq.py'\n",
    "job_num = 4 # job file number\n",
    "walltime = 16 # hours\n",
    "mem = 3 # gb\n",
    "code_dir = '~/code/Python/Correlation/src/py_files' # python script dir\n",
    "cmd = ('python ' + script + ' ' + img_folder + ' ' + corr_folder + ' 25 25' +' &\\n')\n",
    "with open(os.path.join(folder, '{:02d}.pbs'.format(job_num)), 'w') as f:\n",
    "    header(walltime, mem, code_dir, to_file=f)    \n",
    "    for n, fps in zip(num, fpsL):       \n",
    "        f.write(cmd.format(n))\n",
    "    f.write('wait')"
   ]
  },
  {
   "cell_type": "code",
   "execution_count": 44,
   "metadata": {},
   "outputs": [],
   "source": [
    "# python div2.py piv_folder imgDir output_folder winsize step\n",
    "script = 'div2.py'\n",
    "job_num = 5 # job file number\n",
    "walltime = 16 # hours\n",
    "mem = 3 # gb\n",
    "code_dir = '~/code/Python/Correlation/src/py_files' # python script dir\n",
    "cmd = ('python ' + script + ' ' + piv_folder + ' ' + img_folder + ' ' + div_folder + ' 50 25' +' &\\n')\n",
    "with open(os.path.join(folder, '{:02d}.pbs'.format(job_num)), 'w') as f:\n",
    "    header(walltime, mem, code_dir, to_file=f)    \n",
    "    for n, fps in zip(num, fpsL):       \n",
    "        f.write(cmd.format(n))\n",
    "    f.write('wait')"
   ]
  },
  {
   "cell_type": "code",
   "execution_count": 45,
   "metadata": {},
   "outputs": [],
   "source": [
    "# python cav_imseq.py piv_folder output_folder\n",
    "script = 'cav_imseq.py'\n",
    "job_num = 6 # job file number\n",
    "walltime = 5 # hours\n",
    "mem = 3 # gb\n",
    "code_dir = '~/code/Python/Correlation/src/py_files' # python script dir\n",
    "cmd = ('python ' + script + ' ' + piv_folder + ' ' + cav_folder +' &\\n')\n",
    "with open(os.path.join(folder, '{:02d}.pbs'.format(job_num)), 'w') as f:\n",
    "    header(walltime, mem, code_dir, to_file=f)    \n",
    "    for n, fps in zip(num, fpsL):       \n",
    "        f.write(cmd.format(n))\n",
    "    f.write('wait')"
   ]
  },
  {
   "cell_type": "code",
   "execution_count": 47,
   "metadata": {},
   "outputs": [],
   "source": [
    "# python dc_adv.py folder_img folder_piv folder_out interval fps step\n",
    "script = 'dc_adv.py'\n",
    "job_num = 7 # job file number\n",
    "walltime = 16 # hours\n",
    "mem = 3 # gb\n",
    "code_dir = '~/code/Python/Correlation/src/py_files' # python script dir\n",
    "cmd = ('python ' + script + ' ' + img_folder + ' ' + piv_folder + ' ' + dcadv_folder + ' {1:d} {2:d} 25' +' &\\n')\n",
    "with open(os.path.join(folder, '{:02d}.pbs'.format(job_num)), 'w') as f:\n",
    "    header(walltime, mem, code_dir, to_file=f)    \n",
    "    for n, fps in zip(num, fpsL):       \n",
    "        f.write(cmd.format(n, 2*fps, fps))\n",
    "    f.write('wait')"
   ]
  },
  {
   "cell_type": "code",
   "execution_count": 48,
   "metadata": {},
   "outputs": [],
   "source": [
    "# python div_x_dcadv.py folder_div folder_dcadv folder_out\n",
    "script = 'div_x_dcadv.py'\n",
    "job_num = 8 # job file number\n",
    "walltime = 16 # hours\n",
    "mem = 3 # gb\n",
    "code_dir = '~/code/Python/Correlation/src/py_files' # python script dir\n",
    "cmd = ('python ' + script + ' ' + div_folder + ' ' + dcadv_folder + ' ' + dxd_folder + ' &\\n')\n",
    "with open(os.path.join(folder, '{:02d}.pbs'.format(job_num)), 'w') as f:\n",
    "    header(walltime, mem, code_dir, to_file=f)    \n",
    "    for n, fps in zip(num, fpsL):       \n",
    "        f.write(cmd.format(n, 2*fps, fps))\n",
    "    f.write('wait')"
   ]
  },
  {
   "cell_type": "code",
   "execution_count": 7,
   "metadata": {},
   "outputs": [],
   "source": [
    "# piv, 01\n",
    "folder = r'E:\\Github\\Python\\job_files\\08082020'\n",
    "# folder_out = '~/numerics/illumination_noise'\n",
    "if os.path.exists(folder) == False:\n",
    "    os.makedirs(folder)\n",
    "with open(os.path.join(folder, '01.pbs'), 'w') as f:\n",
    "    header(16, 3, '~/code/Python/PIV/src/py_files', to_file=f)\n",
    "    num = range(0, 12)\n",
    "    fpsL = [30, 30, 30, 30, 30, 30, 30, 30, 30, 10, 10, 10]\n",
    "    for n, fps in zip(num, fpsL):\n",
    "        f.write('python piv_imseq.py ~/Data/08042020/{0:02d}/8-bit ~/Data/08042020/piv_imseq/{0:02d}  50 25 {1:d} 1 &\\n'.format(n, fps))\n",
    "    f.write('wait')"
   ]
  },
  {
   "cell_type": "code",
   "execution_count": 9,
   "metadata": {},
   "outputs": [],
   "source": [
    "# df2_kinetics, 02\n",
    "folder = r'E:\\Github\\Python\\job_files\\08082020'\n",
    "# folder_out = '~/numerics/illumination_noise'\n",
    "if os.path.exists(folder) == False:\n",
    "    os.makedirs(folder)\n",
    "with open(os.path.join(folder, '02.pbs'), 'w') as f:\n",
    "    header(16, 3, '~/code/Python/Correlation/src/py_files', to_file=f)\n",
    "    num = range(0, 12)\n",
    "    fpsL = [30, 30, 30, 30, 30, 30, 30, 30, 30, 10, 10, 10]\n",
    "    for n, fps in zip(num, fpsL):\n",
    "        f.write('python df2_kinetics.py ~/Data/08042020/{0:02d}/8-bit ~/Data/08042020/df2_kinetics/{0:02d} 50 &\\n'.format(n))\n",
    "    f.write('wait')"
   ]
  },
  {
   "cell_type": "code",
   "execution_count": 10,
   "metadata": {},
   "outputs": [],
   "source": [
    "# overall_intensity, 03\n",
    "folder = r'E:\\Github\\Python\\job_files\\08082020'\n",
    "# folder_out = '~/numerics/illumination_noise'\n",
    "if os.path.exists(folder) == False:\n",
    "    os.makedirs(folder)\n",
    "with open(os.path.join(folder, '03.pbs'), 'w') as f:\n",
    "    header(16, 3, '~/code/Python/Correlation/src/py_files', to_file=f)\n",
    "    num = range(0, 12)\n",
    "    fpsL = [30, 30, 30, 30, 30, 30, 30, 30, 30, 10, 10, 10]\n",
    "    for n, fps in zip(num, fpsL):\n",
    "        f.write('python overall_intensity.py ~/Data/08042020/{0:02d}/8-bit ~/Data/08042020/overall_intensity/{0:02d} &\\n'.format(n))\n",
    "    f.write('wait')"
   ]
  },
  {
   "cell_type": "code",
   "execution_count": 16,
   "metadata": {},
   "outputs": [],
   "source": [
    "# corr_imseq, 04\n",
    "folder = r'E:\\Github\\Python\\job_files\\08082020'\n",
    "# folder_out = '~/numerics/illumination_noise'\n",
    "if os.path.exists(folder) == False:\n",
    "    os.makedirs(folder)\n",
    "with open(os.path.join(folder, '04.pbs'), 'w') as f:\n",
    "    header(16, 3, '~/code/Python/Correlation/src/py_files', to_file=f)\n",
    "    num = range(0, 12)\n",
    "    fpsL = [30, 30, 30, 30, 30, 30, 30, 30, 30, 10, 10, 10]\n",
    "    for n, fps in zip(num, fpsL):\n",
    "        f.write('python corr_imseq.py ~/Data/08042020/{0:02d}/8-bit ~/Data/08042020/corr_imseq/{0:02d} 10 10 &\\n'.format(n))\n",
    "    f.write('wait')"
   ]
  },
  {
   "cell_type": "code",
   "execution_count": 12,
   "metadata": {},
   "outputs": [],
   "source": [
    "# div2, 05\n",
    "folder = r'E:\\Github\\Python\\job_files\\08082020'\n",
    "# folder_out = '~/numerics/illumination_noise'\n",
    "if os.path.exists(folder) == False:\n",
    "    os.makedirs(folder)\n",
    "with open(os.path.join(folder, '05.pbs'), 'w') as f:\n",
    "    header(16, 3, '~/code/Python/Correlation/src/py_files', to_file=f)\n",
    "    num = range(0, 12)\n",
    "    fpsL = [30, 30, 30, 30, 30, 30, 30, 30, 30, 10, 10, 10]\n",
    "    for n, fps in zip(num, fpsL):\n",
    "        f.write('python div2.py ~/Data/08042020/piv_imseq/{0:02d} ~/Data/08042020/{0:02d}/8-bit ~/Data/08032020/div2/{0:02d} 50 25 &\\n'.format(n))\n",
    "    f.write('wait')"
   ]
  },
  {
   "cell_type": "code",
   "execution_count": 13,
   "metadata": {},
   "outputs": [],
   "source": [
    "# cav_imseq, 06\n",
    "folder = r'E:\\Github\\Python\\job_files\\08082020'\n",
    "# folder_out = '~/numerics/illumination_noise'\n",
    "if os.path.exists(folder) == False:\n",
    "    os.makedirs(folder)\n",
    "with open(os.path.join(folder, '06.pbs'), 'w') as f:\n",
    "    header(16, 3, '~/code/Python/Correlation/src/py_files', to_file=f)\n",
    "    num = range(0, 12)\n",
    "    fpsL = [30, 30, 30, 30, 30, 30, 30, 30, 30, 10, 10, 10]\n",
    "    for n, fps in zip(num, fpsL):\n",
    "        f.write('python cav_imseq.py ~/Data/08042020/piv_imseq/{0:02d} ~/Data/08042020/cav_imseq/{0:02d} &\\n'.format(n))\n",
    "    f.write('wait')"
   ]
  },
  {
   "cell_type": "code",
   "execution_count": 14,
   "metadata": {},
   "outputs": [],
   "source": [
    "# dc_adv, 07\n",
    "folder = r'E:\\Github\\Python\\job_files\\08082020'\n",
    "# folder_out = '~/numerics/illumination_noise'\n",
    "if os.path.exists(folder) == False:\n",
    "    os.makedirs(folder)\n",
    "with open(os.path.join(folder, '07.pbs'), 'w') as f:\n",
    "    header(16, 3, '~/code/Python/Correlation/src/py_files', to_file=f)\n",
    "    num = range(0, 12)\n",
    "    fpsL = [30, 30, 30, 30, 30, 30, 30, 30, 30, 10, 10, 10]\n",
    "    for n, fps in zip(num, fpsL):\n",
    "        f.write('python dc_adv.py ~/Data/08042020/{0:02d}/8-bit ~/Data/08042020/piv_imseq/{0:02d} ~/Data/08042020/dc_adv/{0:02d}/dt={1:d} {1:d} {2:d} 25 &\\n'.format(n, 2*fps, fps))\n",
    "    f.write('wait')"
   ]
  },
  {
   "cell_type": "code",
   "execution_count": 15,
   "metadata": {},
   "outputs": [],
   "source": [
    "# div_x_dcadv, 08, after 07 finishes\n",
    "folder = r'E:\\Github\\Python\\job_files\\08082020'\n",
    "# folder_out = '~/numerics/illumination_noise'\n",
    "if os.path.exists(folder) == False:\n",
    "    os.makedirs(folder)\n",
    "with open(os.path.join(folder, '08.pbs'), 'w') as f:\n",
    "    header(16, 3, '~/code/Python/Correlation/src/py_files', to_file=f)\n",
    "    num = range(0, 12)\n",
    "    fpsL = [30, 30, 30, 30, 30, 30, 30, 30, 30, 10, 10, 10]\n",
    "    for n, fps in zip(num, fpsL):\n",
    "        f.write('python div_x_dcadv.py ~/Data/08042020/div2/{0:02d} ~/Data/08042020/dc_adv/{0:02d} ~/Data/08042020/div_x_dcadv/{0:02d} &\\n'.format(n))\n",
    "    f.write('wait')"
   ]
  },
  {
   "cell_type": "code",
   "execution_count": 4,
   "metadata": {},
   "outputs": [],
   "source": [
    "# df2_nobp, 09\n",
    "folder = r'E:\\Github\\Python\\job_files\\08082020'\n",
    "if os.path.exists(folder) == False:\n",
    "    os.makedirs(folder)\n",
    "with open(os.path.join(folder, '09.pbs'), 'w') as f:\n",
    "    header(16, 3, '~/code/Python/Correlation/src/py_files', to_file=f)\n",
    "    num = range(0, 12)\n",
    "    fpsL = [30, 30, 30, 30, 30, 30, 30, 30, 30, 10, 10, 10]\n",
    "    for n, fps in zip(num, fpsL):\n",
    "        f.write('python df2_nobp.py ~/Data/08042020/{0:02d}/8-bit ~/Data/08042020/df2_nobp/{0:02d} &\\n'.format(n))\n",
    "    f.write('wait')"
   ]
  },
  {
   "cell_type": "code",
   "execution_count": 9,
   "metadata": {},
   "outputs": [
    {
     "data": {
      "text/plain": [
       "'1'"
      ]
     },
     "execution_count": 9,
     "metadata": {},
     "output_type": "execute_result"
    }
   ],
   "source": []
  }
 ],
 "metadata": {
  "kernelspec": {
   "display_name": "Python 3",
   "language": "python",
   "name": "python3"
  },
  "language_info": {
   "codemirror_mode": {
    "name": "ipython",
    "version": 3
   },
   "file_extension": ".py",
   "mimetype": "text/x-python",
   "name": "python",
   "nbconvert_exporter": "python",
   "pygments_lexer": "ipython3",
   "version": "3.7.7"
  }
 },
 "nbformat": 4,
 "nbformat_minor": 2
}

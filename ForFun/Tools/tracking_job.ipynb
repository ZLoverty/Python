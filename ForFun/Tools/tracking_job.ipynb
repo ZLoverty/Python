{
 "cells": [
  {
   "cell_type": "code",
   "execution_count": 1,
   "metadata": {},
   "outputs": [],
   "source": [
    "import myImageLib as mil\n",
    "import os\n",
    "import numpy as np\n",
    "from tool_utils import *"
   ]
  },
  {
   "cell_type": "markdown",
   "metadata": {},
   "source": [
    "# Generate particle tracking job files\n",
    "\n",
    "- bpass\n",
    "- particle detection"
   ]
  },
  {
   "cell_type": "code",
   "execution_count": 11,
   "metadata": {},
   "outputs": [],
   "source": [
    "num = [0, 1, 2, 3, 4]\n",
    "fpsL = [30, 30, 30, 30, 30]\n",
    "folder = r'E:\\Github\\Python\\job_files\\11102020'\n",
    "\n",
    "\n",
    "nd2Dir = '~/Data/11102020/{0:02d}.nd2'\n",
    "img_folder = '~/Data/11102020/{0:02d}'\n",
    "tracking_folder = '~/Data/11102020/tracking/{0:02d}'\n",
    "piv_folder = '~/Data/11102020/piv_imseq/{0:02d}'"
   ]
  },
  {
   "cell_type": "code",
   "execution_count": 4,
   "metadata": {},
   "outputs": [],
   "source": [
    "script = 'bpass.py'\n",
    "job_num = 0 # job file number\n",
    "walltime = 20 # hours\n",
    "mem = 3 # gb\n",
    "code_dir = '~/code/Python/generic_proc/py_files' # python script dir\n",
    "with open(os.path.join(folder, '{:02d}.pbs'.format(job_num)), 'w') as f:\n",
    "    header(walltime, mem, code_dir, to_file=f)    \n",
    "    for n in num:       \n",
    "        f.write(('python ' + script + ' ' + nd2Dir +' &\\n').format(n))\n",
    "    f.write('wait')"
   ]
  },
  {
   "cell_type": "code",
   "execution_count": 10,
   "metadata": {},
   "outputs": [],
   "source": [
    "# tracking\n",
    "script = 'detect.py'\n",
    "job_num = 1 # job file number\n",
    "walltime = 20 # hours\n",
    "mem = 3 # gb\n",
    "code_dir = '~/code/Python/generic_proc/py_files' # python script dir\n",
    "with open(os.path.join(folder, '{:02d}.pbs'.format(job_num)), 'w') as f:\n",
    "    header(walltime, mem, code_dir, to_file=f)    \n",
    "    for n in num:       \n",
    "        f.write(('python ' + script + ' ' + img_folder + ' ' + tracking_folder + ' 1500 0 &\\n').format(n))\n",
    "    f.write('wait')"
   ]
  },
  {
   "cell_type": "code",
   "execution_count": 12,
   "metadata": {},
   "outputs": [],
   "source": [
    "script = 'piv_imseq.py'\n",
    "job_num = 2 # job file number\n",
    "walltime = 20 # hours\n",
    "mem = 3 # gb\n",
    "code_dir = '~/code/Python/PIV/src/py_files' # python script dir\n",
    "with open(os.path.join(folder, '{:02d}.pbs'.format(job_num)), 'w') as f:\n",
    "    header(walltime, mem, code_dir, to_file=f)    \n",
    "    for n, fps in zip(num, fpsL):       \n",
    "        f.write(('python ' + script + ' ' + img_folder + ' ' + piv_folder + ' 30 15 {1:d} 1 0' +' &\\n').format(n, fps))\n",
    "    f.write('wait')"
   ]
  }
 ],
 "metadata": {
  "kernelspec": {
   "display_name": "Python 3",
   "language": "python",
   "name": "python3"
  },
  "language_info": {
   "codemirror_mode": {
    "name": "ipython",
    "version": 3
   },
   "file_extension": ".py",
   "mimetype": "text/x-python",
   "name": "python",
   "nbconvert_exporter": "python",
   "pygments_lexer": "ipython3",
   "version": "3.7.7"
  }
 },
 "nbformat": 4,
 "nbformat_minor": 4
}

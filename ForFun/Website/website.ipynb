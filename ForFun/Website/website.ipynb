{
 "cells": [
  {
   "cell_type": "markdown",
   "metadata": {},
   "source": [
    "# Useful code for website writing"
   ]
  },
  {
   "cell_type": "code",
   "execution_count": 14,
   "metadata": {},
   "outputs": [],
   "source": [
    "from myImageLib import dirrec\n",
    "import os"
   ]
  },
  {
   "cell_type": "code",
   "execution_count": 29,
   "metadata": {},
   "outputs": [],
   "source": [
    "# For image gallery HTML code\n",
    "folder = r'E:\\Github\\zloverty.github.io\\research\\DF\\gallery'\n",
    "exts = ['.png', '.gif', '.svg']"
   ]
  },
  {
   "cell_type": "code",
   "execution_count": 30,
   "metadata": {},
   "outputs": [
    {
     "name": "stdout",
     "output_type": "stream",
     "text": [
      "<div class=\"gallery\">\n",
      "  <a href=\"https://zloverty.github.io/research/DF/gallery/observation_0\">\n",
      "    <img src=\"https://zloverty.github.io/research/DF/gallery/observation_0.gif\" height=300></img>\n",
      "  </a>\n",
      "  <span class=\"tooltip\">observation_0</span>\n",
      "</div>\n",
      "<div class=\"gallery\">\n",
      "  <a href=\"https://zloverty.github.io/research/DF/gallery/corrlen\">\n",
      "    <img src=\"https://zloverty.github.io/research/DF/gallery/corrlen.svg\" height=300></img>\n",
      "  </a>\n",
      "  <span class=\"tooltip\">corrlen</span>\n",
      "</div>\n"
     ]
    }
   ],
   "source": [
    "for ext in exts:\n",
    "    imgDirs = dirrec(folder, '*' + ext)\n",
    "    for imgDir in imgDirs:\n",
    "        link = imgDir.replace('E:\\\\Github\\\\', 'https://').replace('\\\\', '/').replace(ext, '')\n",
    "        imgURL = imgDir.replace('E:\\\\Github\\\\', 'https://').replace('\\\\', '/')\n",
    "        name = os.path.split(link)[1]\n",
    "        print('<div class=\\\"gallery\\\">')\n",
    "        print('  <a href=\\\"' + link + '\\\">')\n",
    "        print('    <img src=\\\"' + imgURL + '\\\" height=300></img>')\n",
    "        print('  </a>')\n",
    "        print('  <span class=\\\"tooltip\\\">' + name + '</span>')\n",
    "        print('</div>')\n",
    "        # generate image detail folder\n",
    "        if os.path.exists(os.path.join(folder, name)) == False:\n",
    "            os.mkdir(os.path.join(folder, name))"
   ]
  },
  {
   "cell_type": "code",
   "execution_count": 22,
   "metadata": {},
   "outputs": [
    {
     "data": {
      "text/plain": [
       "True"
      ]
     },
     "execution_count": 22,
     "metadata": {},
     "output_type": "execute_result"
    }
   ],
   "source": [
    "os.path.exists(folder)"
   ]
  },
  {
   "cell_type": "code",
   "execution_count": 1,
   "metadata": {},
   "outputs": [
    {
     "data": {
      "text/plain": [
       "254.97000000000003"
      ]
     },
     "execution_count": 1,
     "metadata": {},
     "output_type": "execute_result"
    }
   ],
   "source": [
    "78.88+86.86+58.44+89.78-11.99-47"
   ]
  }
 ],
 "metadata": {
  "kernelspec": {
   "display_name": "Python 3",
   "language": "python",
   "name": "python3"
  },
  "language_info": {
   "codemirror_mode": {
    "name": "ipython",
    "version": 3
   },
   "file_extension": ".py",
   "mimetype": "text/x-python",
   "name": "python",
   "nbconvert_exporter": "python",
   "pygments_lexer": "ipython3",
   "version": "3.7.7"
  }
 },
 "nbformat": 4,
 "nbformat_minor": 2
}

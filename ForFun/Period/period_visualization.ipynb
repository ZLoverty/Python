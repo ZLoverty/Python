{
 "cells": [
  {
   "cell_type": "code",
   "execution_count": 1,
   "metadata": {},
   "outputs": [],
   "source": [
    "import time\n",
    "import matplotlib.pyplot as plt"
   ]
  },
  {
   "cell_type": "code",
   "execution_count": 2,
   "metadata": {},
   "outputs": [],
   "source": [
    "def read_date(period_dir):\n",
    "    L = []\n",
    "    with open(period_dir, 'r') as f:\n",
    "        while True:\n",
    "            a = f.readline()\n",
    "            if a == '':\n",
    "                break        \n",
    "            L.append(a.replace('\\n', ''))\n",
    "    return L\n",
    "def compute_lap(date_list):\n",
    "    count = 0\n",
    "    lapL = []\n",
    "    for l in date_list:\n",
    "        date = l.split('/')\n",
    "        t = (int(date[2]), int(date[0]), int(date[1]), 0, 0, 0, 0, 0, 0)\n",
    "        if count == 0:        \n",
    "            t0 = time.mktime(t)\n",
    "            count += 1\n",
    "        else:\n",
    "            count += 1\n",
    "            t1 = time.mktime(t)\n",
    "            lap = (t1 - t0) / 24 / 3600\n",
    "            lapL.append(lap)\n",
    "            t0 = t1\n",
    "    return lapL\n",
    "def plot_period(date_list, lap):\n",
    "    l = len(date_list)\n",
    "    x = range(0, l-1)\n",
    "    fig, ax = plt.subplots()\n",
    "    ax.bar(x, lap)\n",
    "    ax.set_xticklabels(date_list[0:l])\n",
    "    ax.plot([0, l-2], [28, 28], ls='--', color='black')"
   ]
  },
  {
   "cell_type": "code",
   "execution_count": 4,
   "metadata": {},
   "outputs": [
    {
     "data": {
      "image/png": "[encoded data removed]",
      "text/plain": [
       "<Figure size 432x288 with 1 Axes>"
      ]
     },
     "metadata": {
      "needs_background": "light"
     },
     "output_type": "display_data"
    }
   ],
   "source": [
    "period_dir = r'C:\\Users\\liuzy\\OneDrive\\桌面\\period.txt'\n",
    "date_list = read_date(period_dir)\n",
    "lap = compute_lap(date_list)\n",
    "plot_period(date_list, lap)"
   ]
  }
 ],
 "metadata": {
  "kernelspec": {
   "display_name": "Python 3",
   "language": "python",
   "name": "python3"
  },
  "language_info": {
   "codemirror_mode": {
    "name": "ipython",
    "version": 3
   },
   "file_extension": ".py",
   "mimetype": "text/x-python",
   "name": "python",
   "nbconvert_exporter": "python",
   "pygments_lexer": "ipython3",
   "version": "3.7.7"
  }
 },
 "nbformat": 4,
 "nbformat_minor": 4
}

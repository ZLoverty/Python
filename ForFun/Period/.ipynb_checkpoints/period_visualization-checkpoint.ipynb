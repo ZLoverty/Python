{
 "cells": [
  {
   "cell_type": "code",
   "execution_count": null,
   "metadata": {},
   "outputs": [],
   "source": [
    "raw_data = "
   ]
  },
  {
   "cell_type": "code",
   "execution_count": 32,
   "metadata": {},
   "outputs": [],
   "source": [
    "import time\n",
    "import matplotlib.pyplot as plt"
   ]
  },
  {
   "cell_type": "code",
   "execution_count": 2,
   "metadata": {},
   "outputs": [],
   "source": [
    "t = time.gmtime()"
   ]
  },
  {
   "cell_type": "code",
   "execution_count": 6,
   "metadata": {},
   "outputs": [],
   "source": [
    "t = time.struct_time((2020, 6, 23, 0, 0, 0, 0, 0, 0))"
   ]
  },
  {
   "cell_type": "code",
   "execution_count": 8,
   "metadata": {},
   "outputs": [],
   "source": [
    "t1 = time.struct_time((2020, 5, 27, 0, 0, 0, 0, 0, 0))"
   ]
  },
  {
   "cell_type": "code",
   "execution_count": 20,
   "metadata": {},
   "outputs": [],
   "source": [
    "t2 = time.mktime( t)"
   ]
  },
  {
   "cell_type": "code",
   "execution_count": 19,
   "metadata": {},
   "outputs": [],
   "source": [
    "t3 = time.mktime(t1)"
   ]
  },
  {
   "cell_type": "code",
   "execution_count": 21,
   "metadata": {},
   "outputs": [
    {
     "data": {
      "text/plain": [
       "27.0"
      ]
     },
     "execution_count": 21,
     "metadata": {},
     "output_type": "execute_result"
    }
   ],
   "source": [
    "(t2 - t3) / 24 / 3600"
   ]
  },
  {
   "cell_type": "code",
   "execution_count": 65,
   "metadata": {},
   "outputs": [],
   "source": [
    "def read_date(period_dir):\n",
    "    L = []\n",
    "    with open(period_dir, 'r') as f:\n",
    "        while True:\n",
    "            a = f.readline()\n",
    "            if a == '':\n",
    "                break        \n",
    "            L.append(a.replace('\\n', ''))\n",
    "    return L"
   ]
  },
  {
   "cell_type": "code",
   "execution_count": 64,
   "metadata": {},
   "outputs": [],
   "source": [
    "def compute_lap(date_list):\n",
    "    count = 0\n",
    "    lapL = []\n",
    "    for l in date_list:\n",
    "        date = l.split('/')\n",
    "        t = (int(date[2]), int(date[0]), int(date[1]), 0, 0, 0, 0, 0, 0)\n",
    "        if count == 0:        \n",
    "            t0 = time.mktime(t)\n",
    "            count += 1\n",
    "        else:\n",
    "            count += 1\n",
    "            t1 = time.mktime(t)\n",
    "            lap = (t1 - t0) / 24 / 3600\n",
    "            lapL.append(lap)\n",
    "            t0 = t1\n",
    "    return lapL"
   ]
  },
  {
   "cell_type": "code",
   "execution_count": 73,
   "metadata": {},
   "outputs": [],
   "source": [
    "def plot_period(date_list, lap):\n",
    "    l = len(date_list)\n",
    "    x = range(0, l-1)\n",
    "    fig, ax = plt.subplots()\n",
    "    ax.bar(x, lap)\n",
    "    ax.set_xticklabels(date_list[0:l])\n",
    "    ax.plot([0, l-2], [28, 28], ls='--', color='black')"
   ]
  },
  {
   "cell_type": "code",
   "execution_count": 74,
   "metadata": {},
   "outputs": [
    {
     "data": {
      "image/png": "[encoded data removed]",
      "text/plain": [
       "<Figure size 432x288 with 1 Axes>"
      ]
     },
     "metadata": {
      "needs_background": "light"
     },
     "output_type": "display_data"
    }
   ],
   "source": [
    "period_dir = r'C:\\Users\\liuzy\\OneDrive\\桌面\\period.txt'\n",
    "date_list = read_date(period_dir)\n",
    "lap = compute_lap(date_list)\n",
    "plot_period(date_list, lap)"
   ]
  },
  {
   "cell_type": "code",
   "execution_count": 57,
   "metadata": {},
   "outputs": [
    {
     "data": {
      "text/plain": [
       "[Text(0, 0, '1/27/2020'),\n",
       " Text(0, 0, '2/29/2020'),\n",
       " Text(0, 0, '3/27/2020'),\n",
       " Text(0, 0, '4/28/2020'),\n",
       " Text(0, 0, '5/26/2020'),\n",
       " Text(0, 0, '6/23/2020')]"
      ]
     },
     "execution_count": 57,
     "metadata": {},
     "output_type": "execute_result"
    },
    {
     "data": {
      "image/png": "[encoded data removed]",
      "text/plain": [
       "<Figure size 432x288 with 1 Axes>"
      ]
     },
     "metadata": {
      "needs_background": "light"
     },
     "output_type": "display_data"
    }
   ],
   "source": [
    "x = range(0, len(L)-1)\n",
    "height = [1, 2, 3, 4, 5]\n",
    "fig, ax = plt.subplots()\n",
    "ax.bar(x, height)\n",
    "ax.set_xticklabels(L[0:len(L)])"
   ]
  },
  {
   "cell_type": "code",
   "execution_count": 44,
   "metadata": {},
   "outputs": [],
   "source": [
    "a = L.remove(L[0])"
   ]
  },
  {
   "cell_type": "code",
   "execution_count": 58,
   "metadata": {},
   "outputs": [
    {
     "data": {
      "text/plain": [
       "['2', '29', '2020']"
      ]
     },
     "execution_count": 58,
     "metadata": {},
     "output_type": "execute_result"
    }
   ],
   "source": [
    "'2/29/2020'.split('/')"
   ]
  }
 ],
 "metadata": {
  "kernelspec": {
   "display_name": "Python 3",
   "language": "python",
   "name": "python3"
  },
  "language_info": {
   "codemirror_mode": {
    "name": "ipython",
    "version": 3
   },
   "file_extension": ".py",
   "mimetype": "text/x-python",
   "name": "python",
   "nbconvert_exporter": "python",
   "pygments_lexer": "ipython3",
   "version": "3.7.7"
  }
 },
 "nbformat": 4,
 "nbformat_minor": 4
}

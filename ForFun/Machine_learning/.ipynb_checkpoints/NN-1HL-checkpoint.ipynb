{
 "cells": [
  {
   "cell_type": "markdown",
   "metadata": {},
   "source": [
    "# Neural Network with one hidden layer\n",
    "In this notebook I will implement a neural network with one hidden layer. This NN will then be used to classify the digital figures from [MNIST database](http://yann.lecun.com/exdb/mnist/). The output layer would be activated using \"softmax\" since the output is not just 0 or 1. "
   ]
  },
  {
   "cell_type": "markdown",
   "metadata": {},
   "source": [
    "## 1. Packages"
   ]
  },
  {
   "cell_type": "code",
   "execution_count": 1,
   "metadata": {},
   "outputs": [],
   "source": [
    "import tensorflow as tf\n",
    "import matplotlib.pyplot as plt\n",
    "import numpy as np"
   ]
  },
  {
   "cell_type": "code",
   "execution_count": 2,
   "metadata": {},
   "outputs": [],
   "source": [
    "# load data\n",
    "mnist = tf.keras.datasets.mnist\n",
    "(x_train, y_train), (x_test, y_test) = mnist.load_data()"
   ]
  },
  {
   "cell_type": "code",
   "execution_count": 6,
   "metadata": {},
   "outputs": [
    {
     "name": "stdout",
     "output_type": "stream",
     "text": [
      "training set dimensions: (60000, 28, 28)\n",
      "training label dimensions: (60000,)\n",
      "test set dimensions: (10000, 28, 28)\n",
      "test label dimensions: (10000,)\n"
     ]
    }
   ],
   "source": [
    "# data dims\n",
    "print('training set dimensions: ' + str(x_train.shape))\n",
    "print('training label dimensions: ' + str(y_train.shape))\n",
    "print('test set dimensions: ' + str(x_test.shape))\n",
    "print('test label dimensions: ' + str(y_test.shape))"
   ]
  },
  {
   "cell_type": "markdown",
   "metadata": {},
   "source": [
    "### 1.1 helper functions\n",
    "- sigmoid\n",
    "- relu\n",
    "- softmax"
   ]
  },
  {
   "cell_type": "code",
   "execution_count": 39,
   "metadata": {},
   "outputs": [],
   "source": [
    "def sigmoid(x):\n",
    "    return 1 / (1 + np.exp(-x)), x\n",
    "def relu(x):\n",
    "    return np.maximum(0, x), x\n",
    "def softmax(x):\n",
    "    return np.exp(x) / np.sum(np.exp(x)), x"
   ]
  },
  {
   "cell_type": "code",
   "execution_count": 41,
   "metadata": {},
   "outputs": [
    {
     "data": {
      "text/plain": [
       "[<matplotlib.lines.Line2D at 0x182be3a1f08>]"
      ]
     },
     "execution_count": 41,
     "metadata": {},
     "output_type": "execute_result"
    },
    {
     "data": {
      "image/png": "[encoded data removed]",
      "text/plain": [
       "<Figure size 432x288 with 1 Axes>"
      ]
     },
     "metadata": {
      "needs_background": "light"
     },
     "output_type": "display_data"
    }
   ],
   "source": [
    "# test helper functions\n",
    "x = np.linspace(-10, 10)\n",
    "plt.plot(x, softmax(x)[0])"
   ]
  },
  {
   "cell_type": "markdown",
   "metadata": {},
   "source": [
    "## 2. Initialize parameters"
   ]
  },
  {
   "cell_type": "code",
   "execution_count": 92,
   "metadata": {},
   "outputs": [],
   "source": [
    "def initialize_parameters(layer_dims):\n",
    "    \"\"\"\n",
    "    Initialize the parameters W's and b's.\n",
    "    \n",
    "    Argument:\n",
    "    layer_dims -- an array of layer dimensions [n0, n1, ..., nL]\n",
    "    \n",
    "    Returns:\n",
    "    parameters -- a dictionary of initialized parameters\n",
    "                    W1: random\n",
    "                    b1: zeros\n",
    "                    ...\n",
    "                    WL: random\n",
    "                    bL: zeros\n",
    "    \"\"\"\n",
    "    parameters = {}\n",
    "    L = len(layer_dims)\n",
    "    for l in range(1, L):\n",
    "        parameters['W'+str(l)] = np.random.randn(layer_dims[l], layer_dims[l-1]) * 0.01\n",
    "        parameters['b'+str(l)] = np.zeros((layer_dims[l], 1))\n",
    "    \n",
    "    return parameters"
   ]
  },
  {
   "cell_type": "code",
   "execution_count": 74,
   "metadata": {},
   "outputs": [
    {
     "name": "stdout",
     "output_type": "stream",
     "text": [
      "{'W1': array([[ 0.70489977,  2.02850029,  0.34440333,  1.11052513, -1.08081652],\n",
      "       [ 1.21532409, -1.5404018 ,  1.55449119, -1.18478207, -0.25581854],\n",
      "       [-1.44603519,  0.16279023, -0.52684983, -0.93217436, -1.31376191],\n",
      "       [ 0.65892708,  0.3836431 , -1.49557389,  0.37448568,  1.58956988]]), 'b1': array([[0.],\n",
      "       [0.],\n",
      "       [0.],\n",
      "       [0.]]), 'W2': array([[ 1.70136281,  2.4908491 , -0.00452855,  1.52846754]]), 'b2': array([[0.]])}\n"
     ]
    }
   ],
   "source": [
    "# test initialize_parameters()\n",
    "layer_dims = [5, 4, 1]\n",
    "parameters = initialize_parameters(layer_dims)\n",
    "print(parameters)"
   ]
  },
  {
   "cell_type": "markdown",
   "metadata": {},
   "source": [
    "## 3. Forward propagation"
   ]
  },
  {
   "cell_type": "code",
   "execution_count": 11,
   "metadata": {},
   "outputs": [],
   "source": [
    "# linear forward\n",
    "def linear_forward(A_prev, W, b):\n",
    "    \"\"\"\n",
    "    The linear part of forward propagation: Z = WA + b\n",
    "    \n",
    "    Argument:\n",
    "    A_prev -- the activitions of previous step (X for the first hidden layer)\n",
    "    W, b -- parameters \n",
    "    \n",
    "    Returns:\n",
    "    Z -- result of linear forward propagation\n",
    "    cache -- cache A_prev and the parameters W and b for convenience when calculating backpropagation\n",
    "    \"\"\"\n",
    "    \n",
    "    Z = W @ A_prev + b\n",
    "    cache = (A_prev, W, b)\n",
    "    \n",
    "    return Z, cache"
   ]
  },
  {
   "cell_type": "code",
   "execution_count": 60,
   "metadata": {},
   "outputs": [
    {
     "name": "stdout",
     "output_type": "stream",
     "text": [
      "Z: [[ 0.07496603]\n",
      " [-1.29750846]\n",
      " [-6.51086663]\n",
      " [14.86836287]]\n",
      "cache: (array([[1],\n",
      "       [2],\n",
      "       [3],\n",
      "       [4],\n",
      "       [5]]), array([[ 0.24231137,  0.79358088,  0.64267379, -1.6697503 ,  0.59929455],\n",
      "       [ 0.68962104, -0.73433347,  0.65714267,  0.55391356, -0.94110896],\n",
      "       [-1.43654678, -0.07274414, -2.67653623,  0.34781203,  0.34190581],\n",
      "       [-1.09771533, -1.82268597,  1.91273632,  0.89321228,  2.06007841]]), array([[0.],\n",
      "       [0.],\n",
      "       [0.],\n",
      "       [0.]]))\n"
     ]
    }
   ],
   "source": [
    "# test linear forward\n",
    "layer_dims = [5, 4, 1]\n",
    "parameters = initialize_parameters(layer_dims)\n",
    "A_prev = np.array([1, 2, 3, 4, 5]).reshape((5, 1))\n",
    "W = parameters['W1']\n",
    "b = parameters['b1']\n",
    "Z, cache = linear_forward(A_prev, W, b)\n",
    "print('Z: ' + str(Z))\n",
    "print('cache: ' + str(cache))"
   ]
  },
  {
   "cell_type": "code",
   "execution_count": 90,
   "metadata": {},
   "outputs": [],
   "source": [
    "def linear_activation_forward(A_prev, W, b, activation):\n",
    "    \"\"\"\n",
    "    Forward propagation including both linear mapping and activation\n",
    "    \n",
    "    Argument:\n",
    "    A_prev -- the activations of previous step (X for the first hidden layer)\n",
    "    W, b -- parameters\n",
    "    activation -- activation function used in this layer\n",
    "    \n",
    "    Returns:\n",
    "    A -- The activation values of current layer\n",
    "    cache -- A tuple containing both caches from linear part and activation part, (linear_cache, activation_cache)\n",
    "                where linear_cache is (A_prev, W, b), and activation_cache is Z\n",
    "    \"\"\"\n",
    "    \n",
    "    assert(W.shape[1]==A_prev.shape[0])\n",
    "    Z, linear_cache = linear_forward(A_prev, W, b)\n",
    "    if activation == 'relu':        \n",
    "        A, activation_cache = relu(Z)\n",
    "    elif activation == 'sigmoid':\n",
    "        A, activation_cache = sigmoid(Z)\n",
    "    elif activation == 'softmax':\n",
    "        A, activation_cache = softmax(Z)\n",
    "    cache = (linear_cache, activation_cache)\n",
    "    \n",
    "    return A, cache"
   ]
  },
  {
   "cell_type": "code",
   "execution_count": 47,
   "metadata": {},
   "outputs": [
    {
     "name": "stdout",
     "output_type": "stream",
     "text": [
      "A: [[9.15843267e-01]\n",
      " [4.81944495e-02]\n",
      " [3.58630571e-02]\n",
      " [9.92262631e-05]]\n",
      "cache: ((array([[1],\n",
      "       [2],\n",
      "       [3],\n",
      "       [4],\n",
      "       [5]]), array([[ 0.33024446,  0.69524729,  0.18531272, -0.41053868,  0.52340408],\n",
      "       [-0.03743498, -0.20204586,  1.31900975, -1.02470386,  0.17805087],\n",
      "       [-0.39225625,  0.94519371, -0.54069818,  0.42527993, -0.31315021],\n",
      "       [-0.3966761 ,  1.50437164, -0.33590766, -0.91941424, -0.76106843]]), array([[0.],\n",
      "       [0.],\n",
      "       [0.],\n",
      "       [0.]])), array([[ 3.25154286],\n",
      "       [ 0.30694147],\n",
      "       [ 0.01140533],\n",
      "       [-5.87865494]]))\n"
     ]
    }
   ],
   "source": [
    "# test linear_activation_forward\n",
    "layer_dims = [5, 4, 1]\n",
    "parameters = initialize_parameters(layer_dims)\n",
    "A_prev = np.array([1, 2, 3, 4, 5]).reshape((5, 1))\n",
    "W = parameters['W1']\n",
    "b = parameters['b1']\n",
    "A, cache = linear_activation_forward(A_prev, W, b, activation='softmax')\n",
    "print(\"A: \" + str(A))\n",
    "print(\"cache: \" + str(cache))"
   ]
  },
  {
   "cell_type": "code",
   "execution_count": 86,
   "metadata": {},
   "outputs": [],
   "source": [
    "def L_model_forward(X, parameters):\n",
    "    \"\"\"\n",
    "    Use current parameters to calculate the output layer value AL.\n",
    "    \n",
    "    Arguments:\n",
    "    X -- input data\n",
    "    parameters -- a dictionary containing W and b\n",
    "    \n",
    "    Returns:\n",
    "    AL -- output layer values \n",
    "    caches -- a list of cache, returned by linear_activation_forward() at each layer\n",
    "    \"\"\"\n",
    "    \n",
    "    caches = []\n",
    "    L = int(len(parameters) / 2)\n",
    "    A_prev = X\n",
    "    for l in range(1, L):\n",
    "        A_prev, cache = linear_activation_forward(A_prev, parameters['W'+str(l)], parameters['b'+str(l)], activation='relu')\n",
    "        caches.append(cache)\n",
    "    \n",
    "    # Last layer\n",
    "    AL, cache = linear_activation_forward(A_prev, parameters['W'+str(L)], parameters['b'+str(L)], activation='softmax')\n",
    "    caches.append(cache)\n",
    "    \n",
    "    return AL, caches"
   ]
  },
  {
   "cell_type": "code",
   "execution_count": 93,
   "metadata": {},
   "outputs": [
    {
     "name": "stdout",
     "output_type": "stream",
     "text": [
      "AL: [[0.33328926]\n",
      " [0.33340757]\n",
      " [0.33330317]]\n",
      "caches: 2\n"
     ]
    }
   ],
   "source": [
    "layer_dims = [5, 4, 3]\n",
    "parameters = initialize_parameters(layer_dims)\n",
    "X = np.array([1, 2, 3, 4, 5]).reshape((5, 1))\n",
    "AL, caches = L_model_forward(X, parameters)\n",
    "print('AL: ' + str(AL))\n",
    "print('caches: ' + str(len(caches)))"
   ]
  },
  {
   "cell_type": "markdown",
   "metadata": {},
   "source": [
    "## 4. Compute cost"
   ]
  },
  {
   "cell_type": "code",
   "execution_count": 101,
   "metadata": {},
   "outputs": [],
   "source": [
    "def compute_cost(AL, Y):\n",
    "    \"\"\"\n",
    "    Compute the cost function of softmax activation\n",
    "    \n",
    "    Argument:\n",
    "    AL -- hypothesis of the model\n",
    "    Y -- training labels\n",
    "    \n",
    "    Returns:\n",
    "    cost -- the value of cost function\n",
    "    \"\"\"\n",
    "    m = AL.shape[1]\n",
    "    cost = -1/m * np.sum(Y*np.log(AL))\n",
    "    cost = np.squeeze(cost)\n",
    "    return cost"
   ]
  },
  {
   "cell_type": "code",
   "execution_count": 102,
   "metadata": {},
   "outputs": [
    {
     "name": "stdout",
     "output_type": "stream",
     "text": [
      "cost: 1.7919430854803733\n"
     ]
    }
   ],
   "source": [
    "layer_dims = [5, 4, 3]\n",
    "parameters = initialize_parameters(layer_dims)\n",
    "X = np.array([[1, 2, 3, 4, 5], [6, 7, 8, 9, 10]]).reshape((5, 2))\n",
    "Y = np.array([1, 0, 0, 0, 0, 1]).reshape((3, 2))\n",
    "AL, caches = L_model_forward(X, parameters)\n",
    "cost = compute_cost(AL, Y)\n",
    "print('cost: ' + str(cost))"
   ]
  },
  {
   "cell_type": "markdown",
   "metadata": {},
   "source": [
    "## 5. Backward propagation"
   ]
  },
  {
   "cell_type": "code",
   "execution_count": 104,
   "metadata": {},
   "outputs": [],
   "source": [
    "def linear_backward(dZ, cache):\n",
    "    \"\"\"\n",
    "    Linear part of the backward propagation: \n",
    "    dW = 1/m * dZ * dA_prev.T (n[l], n[l-1]) (n[l], m) (n[l-1], m)\n",
    "    db = 1/m * np.sum(dZ, axis=1, keepdims=True)\n",
    "    \n",
    "    Args:\n",
    "    dZ -- derivative of cost function with respect to Z\n",
    "    cache -- cache from linear forward propagation, (A, W, b)\n",
    "    \n",
    "    Returns:\n",
    "    grads -- gradients used for gradient descent\n",
    "    \"\"\"\n",
    "    \n",
    "    m = dZ.shape[1]\n",
    "    dA_prev = cache[0]\n",
    "    \n",
    "    dW = 1/m * dZ @ dA_prev.T\n",
    "    db = 1/m * np.sum(dZ, axis=1, keepdims=True)\n",
    "    \n",
    "    grads = {'dW': dW,\n",
    "             'db': db}\n",
    "    \n",
    "    return grads    "
   ]
  },
  {
   "cell_type": "code",
   "execution_count": 106,
   "metadata": {},
   "outputs": [
    {
     "name": "stdout",
     "output_type": "stream",
     "text": [
      "grads: {'dW': array([[ 0.85210537,  1.06147179,  0.26176881, -0.95751962],\n",
      "       [ 1.70421073,  2.12294357,  0.52353762, -1.91503923],\n",
      "       [ 2.5563161 ,  3.18441536,  0.78530643, -2.87255885]]), 'db': array([[1.],\n",
      "       [2.],\n",
      "       [3.]])}\n"
     ]
    }
   ],
   "source": [
    "dZ = np.array([1, 2, 3]).reshape((3, 1))\n",
    "cache = (np.random.randn(4, 1), 0, 0)\n",
    "grads = linear_backward(dZ, cache)\n",
    "print('grads: ' + str(grads))"
   ]
  },
  {
   "cell_type": "code",
   "execution_count": null,
   "metadata": {},
   "outputs": [],
   "source": [
    "def linear_activation_backward(dA, cache, activation):\n",
    "    \"\"\"\n",
    "    Linear + activation parts, whole backward propagation dA -> dA_prev\n",
    "    \n",
    "    Args:\n",
    "    dA -- derivative of cost function with respect to A\n",
    "    cache -- cache from linear activation forward propagation, (linear_cache, activation_cache)\n",
    "    \n",
    "    Returns:\n",
    "    grads -- gradients used for gradient descent\n",
    "    \"\"\"\n",
    "    linear_cache, activation_cache = cache\n",
    "    \n",
    "    if activation == 'sigmoid':\n",
    "        dZ = sigmoid_backward(dA)\n",
    "    elif activation == 'relu':\n",
    "        dZ = relu_backward(dA)\n",
    "    elif activation == 'softmax':\n",
    "        dZ = softmax_backward(dA)\n",
    "        \n",
    "    "
   ]
  },
  {
   "cell_type": "markdown",
   "metadata": {},
   "source": [
    "## 6. Update parameters"
   ]
  }
 ],
 "metadata": {
  "kernelspec": {
   "display_name": "Python 3",
   "language": "python",
   "name": "python3"
  },
  "language_info": {
   "codemirror_mode": {
    "name": "ipython",
    "version": 3
   },
   "file_extension": ".py",
   "mimetype": "text/x-python",
   "name": "python",
   "nbconvert_exporter": "python",
   "pygments_lexer": "ipython3",
   "version": "3.7.7"
  }
 },
 "nbformat": 4,
 "nbformat_minor": 4
}

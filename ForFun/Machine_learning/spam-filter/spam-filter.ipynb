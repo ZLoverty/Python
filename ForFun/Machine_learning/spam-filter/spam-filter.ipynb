{
 "cells": [
  {
   "cell_type": "markdown",
   "metadata": {},
   "source": [
    "# Spam filter\n",
    "\n",
    "Training data is from https://archive.ics.uci.edu/ml/datasets/spambase.\n",
    "\n",
    "Here, I implement a spam filter by naive-Bayes algorithm."
   ]
  },
  {
   "cell_type": "markdown",
   "metadata": {},
   "source": [
    "## 1 Read data\n",
    "\n",
    "**Data organization in file**\n",
    "\n",
    "The data is organized as a set of strings deliminated by commas. Each element denotes the frequency of certain word in an email. below is the first two lines of the data:\n",
    "```\n",
    "0,0.64,0.64,0,0.32,0,0,0,0,0,0,0.64,0,0,0,0.32,0,1.29,1.93,0,0.96,0,0,0,0,0,0,0,0,0,0,0,0,0,0,0,0,0,0,0,0,0,0,0,0,0,0,0,0,0,0,0.778,0,0,3.756,61,278,1\n",
    "0.21,0.28,0.5,0,0.14,0.28,0.21,0.07,0,0.94,0.21,0.79,0.65,0.21,0.14,0.14,0.07,0.28,3.47,0,1.59,0,0.43,0.43,0,0,0,0,0,0,0,0,0,0,0,0,0.07,0,0,0,0,0,0,0,0,0,0,0,0,0.132,0,0.372,0.18,0.048,5.114,101,1028,1\n",
    "...\n",
    "```\n",
    "The data has 4600 lines in total, each line consisting of 58 elements. The last element is either 0 (non-spam) or 1 (spam)."
   ]
  },
  {
   "cell_type": "markdown",
   "metadata": {},
   "source": [
    "**Data in code**\n",
    "\n",
    "The data will be organized in two numpy arrays: data array and label array. Data array has a shape of (4601, 57), label array has a shape of (4601, 1). For the Naive-Bayes algorithm implementation, we will convert all the non-zero value in data array to 1."
   ]
  },
  {
   "cell_type": "code",
   "execution_count": null,
   "metadata": {},
   "outputs": [],
   "source": [
    "import numpy as np\n",
    "import tensorflow as tf"
   ]
  },
  {
   "cell_type": "code",
   "execution_count": 1,
   "metadata": {},
   "outputs": [],
   "source": [
    "data_all = np.loadtxt('data\\spambase.data', delimiter=',')\n",
    "data_all[data_all > 0] = 1"
   ]
  },
  {
   "cell_type": "markdown",
   "metadata": {},
   "source": [
    "## 2 Naive Bayes algorithm"
   ]
  },
  {
   "cell_type": "markdown",
   "metadata": {},
   "source": [
    "## 3 Neural network"
   ]
  },
  {
   "cell_type": "code",
   "execution_count": 2,
   "metadata": {},
   "outputs": [],
   "source": [
    "data_all = np.loadtxt('data\\spambase.data', delimiter=',')\n",
    "data = data_all[:, :57]\n",
    "label = data_all[:, -1:]"
   ]
  },
  {
   "cell_type": "code",
   "execution_count": 33,
   "metadata": {},
   "outputs": [],
   "source": [
    "inputs = tf.keras.Input(shape=(57, ))\n",
    "x = tf.keras.layers.Dense(20, activation=tf.nn.relu)(inputs)\n",
    "x1 = tf.keras.layers.Dense(5, activation=tf.nn.relu)(x)\n",
    "x2 = tf.keras.layers.Dense(3, activation=tf.nn.relu)(x1)\n",
    "outputs = tf.keras.layers.Dense(1, activation=tf.sigmoid)(x2)\n",
    "model = tf.keras.Model(inputs=inputs, outputs=outputs)"
   ]
  },
  {
   "cell_type": "code",
   "execution_count": 18,
   "metadata": {},
   "outputs": [],
   "source": [
    "loss = tf.keras.losses.BinaryCrossentropy()\n",
    "metric = tf.keras.metrics.BinaryCrossentropy()\n",
    "model.compile(optimizer='adam', loss=loss, metrics=None)"
   ]
  },
  {
   "cell_type": "code",
   "execution_count": 23,
   "metadata": {
    "scrolled": true
   },
   "outputs": [
    {
     "name": "stdout",
     "output_type": "stream",
     "text": [
      "Train on 4601 samples\n",
      "Epoch 1/5\n",
      "4601/4601 [==============================] - 0s 32us/sample - loss: 0.2782\n",
      "Epoch 2/5\n",
      "4601/4601 [==============================] - 0s 28us/sample - loss: 0.2286\n",
      "Epoch 3/5\n",
      "4601/4601 [==============================] - 0s 28us/sample - loss: 0.2205\n",
      "Epoch 4/5\n",
      "4601/4601 [==============================] - 0s 28us/sample - loss: 0.2884\n",
      "Epoch 5/5\n",
      "4601/4601 [==============================] - 0s 28us/sample - loss: 0.3622\n"
     ]
    },
    {
     "data": {
      "text/plain": [
       "<tensorflow.python.keras.callbacks.History at 0x15322a6f390>"
      ]
     },
     "execution_count": 23,
     "metadata": {},
     "output_type": "execute_result"
    }
   ],
   "source": [
    "model.fit(x=data, y=label, epochs=5)"
   ]
  },
  {
   "cell_type": "code",
   "execution_count": 112,
   "metadata": {},
   "outputs": [
    {
     "name": "stdout",
     "output_type": "stream",
     "text": [
      "correct prediction\n"
     ]
    }
   ],
   "source": [
    "n = 3000\n",
    "pred = model.predict(data[n, :].reshape(1, 57))\n",
    "if int(pred*2) == label[n]:\n",
    "    print('correct prediction')\n",
    "else:\n",
    "    print('wrong prediction')   "
   ]
  },
  {
   "cell_type": "code",
   "execution_count": 24,
   "metadata": {
    "scrolled": true
   },
   "outputs": [
    {
     "data": {
      "text/plain": [
       "0.08606824603347099"
      ]
     },
     "execution_count": 24,
     "metadata": {},
     "output_type": "execute_result"
    }
   ],
   "source": [
    "pred = model.predict(data)\n",
    "det = np.floor(2*pred) - label\n",
    "np.count_nonzero(det) / len(det)"
   ]
  },
  {
   "cell_type": "code",
   "execution_count": 28,
   "metadata": {},
   "outputs": [],
   "source": [
    "sess = tf.compat.v1.Session()"
   ]
  },
  {
   "cell_type": "code",
   "execution_count": 40,
   "metadata": {},
   "outputs": [
    {
     "data": {
      "text/plain": [
       "['OVERLOADABLE_OPERATORS',\n",
       " '_USE_EQUALITY',\n",
       " '__abs__',\n",
       " '__add__',\n",
       " '__and__',\n",
       " '__array__',\n",
       " '__array_priority__',\n",
       " '__bool__',\n",
       " '__class__',\n",
       " '__copy__',\n",
       " '__delattr__',\n",
       " '__dict__',\n",
       " '__dir__',\n",
       " '__div__',\n",
       " '__doc__',\n",
       " '__eq__',\n",
       " '__floordiv__',\n",
       " '__format__',\n",
       " '__ge__',\n",
       " '__getattribute__',\n",
       " '__getitem__',\n",
       " '__gt__',\n",
       " '__hash__',\n",
       " '__init__',\n",
       " '__init_subclass__',\n",
       " '__invert__',\n",
       " '__iter__',\n",
       " '__le__',\n",
       " '__len__',\n",
       " '__lt__',\n",
       " '__matmul__',\n",
       " '__mod__',\n",
       " '__module__',\n",
       " '__mul__',\n",
       " '__ne__',\n",
       " '__neg__',\n",
       " '__new__',\n",
       " '__nonzero__',\n",
       " '__or__',\n",
       " '__pow__',\n",
       " '__radd__',\n",
       " '__rand__',\n",
       " '__rdiv__',\n",
       " '__reduce__',\n",
       " '__reduce_ex__',\n",
       " '__repr__',\n",
       " '__rfloordiv__',\n",
       " '__rmatmul__',\n",
       " '__rmod__',\n",
       " '__rmul__',\n",
       " '__ror__',\n",
       " '__rpow__',\n",
       " '__rsub__',\n",
       " '__rtruediv__',\n",
       " '__rxor__',\n",
       " '__setattr__',\n",
       " '__sizeof__',\n",
       " '__str__',\n",
       " '__sub__',\n",
       " '__subclasshook__',\n",
       " '__truediv__',\n",
       " '__weakref__',\n",
       " '__xor__',\n",
       " '_as_node_def_input',\n",
       " '_as_tf_output',\n",
       " '_c_api_shape',\n",
       " '_consumers',\n",
       " '_create_with_tf_output',\n",
       " '_disallow_bool_casting',\n",
       " '_disallow_in_graph_mode',\n",
       " '_disallow_iteration',\n",
       " '_disallow_when_autograph_disabled',\n",
       " '_disallow_when_autograph_enabled',\n",
       " '_dtype',\n",
       " '_id',\n",
       " '_keras_history',\n",
       " '_keras_mask',\n",
       " '_name',\n",
       " '_op',\n",
       " '_override_operator',\n",
       " '_rank',\n",
       " '_shape',\n",
       " '_shape_as_list',\n",
       " '_shape_tuple',\n",
       " '_shape_val',\n",
       " '_tf_api_names',\n",
       " '_tf_api_names_v1',\n",
       " '_tf_output',\n",
       " '_value_index',\n",
       " 'consumers',\n",
       " 'device',\n",
       " 'dtype',\n",
       " 'eval',\n",
       " 'experimental_ref',\n",
       " 'get_shape',\n",
       " 'graph',\n",
       " 'name',\n",
       " 'op',\n",
       " 'set_shape',\n",
       " 'shape',\n",
       " 'value_index']"
      ]
     },
     "execution_count": 40,
     "metadata": {},
     "output_type": "execute_result"
    }
   ],
   "source": [
    "dir(x)"
   ]
  },
  {
   "cell_type": "code",
   "execution_count": 37,
   "metadata": {},
   "outputs": [
    {
     "data": {
      "text/plain": [
       "['_ControlDependenciesController',\n",
       " '__class__',\n",
       " '__delattr__',\n",
       " '__dict__',\n",
       " '__dir__',\n",
       " '__doc__',\n",
       " '__eq__',\n",
       " '__format__',\n",
       " '__ge__',\n",
       " '__getattribute__',\n",
       " '__gt__',\n",
       " '__hash__',\n",
       " '__init__',\n",
       " '__init_subclass__',\n",
       " '__le__',\n",
       " '__lt__',\n",
       " '__module__',\n",
       " '__ne__',\n",
       " '__new__',\n",
       " '__reduce__',\n",
       " '__reduce_ex__',\n",
       " '__repr__',\n",
       " '__setattr__',\n",
       " '__sizeof__',\n",
       " '__str__',\n",
       " '__subclasshook__',\n",
       " '__weakref__',\n",
       " '_add_control_dependencies',\n",
       " '_add_device_to_stack',\n",
       " '_add_function',\n",
       " '_add_new_tf_operations',\n",
       " '_add_op',\n",
       " '_apply_device_functions',\n",
       " '_as_graph_def',\n",
       " '_as_graph_element_locked',\n",
       " '_attr_scope',\n",
       " '_attr_scope_map',\n",
       " '_auto_cast_variable_read_dtype',\n",
       " '_bcast_grad_args_cache',\n",
       " '_building_function',\n",
       " '_c_graph',\n",
       " '_check_not_finalized',\n",
       " '_collections',\n",
       " '_colocate_with_for_gradient',\n",
       " '_colocation_stack',\n",
       " '_container',\n",
       " '_control_dependencies_for_inputs',\n",
       " '_control_dependencies_stack',\n",
       " '_control_flow_context',\n",
       " '_copy_functions_to_graph_def',\n",
       " '_create_op_from_tf_operation',\n",
       " '_create_op_helper',\n",
       " '_create_op_internal',\n",
       " '_current_control_dependencies',\n",
       " '_default_original_op',\n",
       " '_device_function_stack',\n",
       " '_device_functions_outer_to_inner',\n",
       " '_distribution_strategy_stack',\n",
       " '_enable_auto_casting_variables',\n",
       " '_finalized',\n",
       " '_functions',\n",
       " '_get_control_flow_context',\n",
       " '_get_function',\n",
       " '_get_op_def',\n",
       " '_get_operation_by_name_unsafe',\n",
       " '_get_operation_by_tf_operation',\n",
       " '_get_tensor_by_tf_output',\n",
       " '_global_distribute_strategy_scope',\n",
       " '_gradient_function_map',\n",
       " '_gradient_override_map',\n",
       " '_graph_colocation_stack',\n",
       " '_graph_control_dependencies_stack',\n",
       " '_graph_def_versions',\n",
       " '_graph_device_function_stack',\n",
       " '_graph_key',\n",
       " '_group_lock',\n",
       " '_handle_deleters',\n",
       " '_handle_feeders',\n",
       " '_handle_movers',\n",
       " '_handle_readers',\n",
       " '_is_function',\n",
       " '_is_loss_scaled_by_optimizer',\n",
       " '_kernel_label_map',\n",
       " '_last_id',\n",
       " '_last_loss_reduction',\n",
       " '_lock',\n",
       " '_mutation_lock',\n",
       " '_name_stack',\n",
       " '_names_in_use',\n",
       " '_next_id_counter',\n",
       " '_nodes_by_id',\n",
       " '_nodes_by_name',\n",
       " '_op_def_cache',\n",
       " '_op_to_kernel_label_map',\n",
       " '_original_op',\n",
       " '_override_gradient_function',\n",
       " '_pop_control_dependencies_controller',\n",
       " '_push_control_dependencies_controller',\n",
       " '_record_op_seen_by_control_dependencies',\n",
       " '_reduced_shape_cache',\n",
       " '_scoped_c_graph',\n",
       " '_seed',\n",
       " '_session_run_lock',\n",
       " '_set_control_flow_context',\n",
       " '_snapshot_colocation_stack_metadata',\n",
       " '_snapshot_device_function_stack_metadata',\n",
       " '_stack_state_is_thread_local',\n",
       " '_tf_api_names',\n",
       " '_tf_api_names_v1',\n",
       " '_thread_local',\n",
       " '_unfeedable_tensors',\n",
       " '_unfetchable_ops',\n",
       " '_unsafe_unfinalize',\n",
       " '_variable_creator_scope',\n",
       " '_variable_creator_stack',\n",
       " '_version',\n",
       " 'add_to_collection',\n",
       " 'add_to_collections',\n",
       " 'as_default',\n",
       " 'as_graph_def',\n",
       " 'as_graph_element',\n",
       " 'building_function',\n",
       " 'clear_collection',\n",
       " 'collections',\n",
       " 'colocate_with',\n",
       " 'container',\n",
       " 'control_dependencies',\n",
       " 'create_op',\n",
       " 'device',\n",
       " 'finalize',\n",
       " 'finalized',\n",
       " 'get_all_collection_keys',\n",
       " 'get_collection',\n",
       " 'get_collection_ref',\n",
       " 'get_name_scope',\n",
       " 'get_operation_by_name',\n",
       " 'get_operations',\n",
       " 'get_tensor_by_name',\n",
       " 'gradient_override_map',\n",
       " 'graph_def_versions',\n",
       " 'is_feedable',\n",
       " 'is_fetchable',\n",
       " 'name_scope',\n",
       " 'prevent_feeding',\n",
       " 'prevent_fetching',\n",
       " 'seed',\n",
       " 'switch_to_thread_local',\n",
       " 'unique_name',\n",
       " 'version']"
      ]
     },
     "execution_count": 37,
     "metadata": {},
     "output_type": "execute_result"
    }
   ],
   "source": [
    "dir(sess.graph)"
   ]
  },
  {
   "cell_type": "markdown",
   "metadata": {},
   "source": [
    "**Daily summary 10242020**\n",
    "\n",
    "- The network training is now working. The structure of the network is still primitive and needs to be improved.\n",
    "- The use of data needs to be improved: divide data into train/dev/test sets.\n",
    "- Consider constructing an original dataset."
   ]
  }
 ],
 "metadata": {
  "kernelspec": {
   "display_name": "Python 3",
   "language": "python",
   "name": "python3"
  },
  "language_info": {
   "codemirror_mode": {
    "name": "ipython",
    "version": 3
   },
   "file_extension": ".py",
   "mimetype": "text/x-python",
   "name": "python",
   "nbconvert_exporter": "python",
   "pygments_lexer": "ipython3",
   "version": "3.7.3"
  }
 },
 "nbformat": 4,
 "nbformat_minor": 4
}

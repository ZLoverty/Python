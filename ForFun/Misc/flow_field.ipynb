{
 "cells": [
  {
   "cell_type": "code",
   "execution_count": 1,
   "metadata": {},
   "outputs": [],
   "source": [
    "import numpy as np"
   ]
  },
  {
   "cell_type": "code",
   "execution_count": 27,
   "metadata": {},
   "outputs": [
    {
     "data": {
      "text/plain": [
       "array([-0.0596831,  0.       ,  0.       ])"
      ]
     },
     "execution_count": 27,
     "metadata": {},
     "output_type": "execute_result"
    }
   ],
   "source": [
    "L = 1 # um\n",
    "k = 2 * np.pi / L # um^-1\n",
    "H = 2 # um\n",
    "x = np.array([-0, -1, H/2])\n",
    "x0 = np.array([0, 0, H/2])\n",
    "x_nd = x[0] * k\n",
    "y_nd = x[1] * k\n",
    "z_nd = x[2] / H\n",
    "h_nd = x0[2] / H\n",
    "mu = 1 # viscosity \n",
    "\n",
    "F = np.array([1, 0, 0])\n",
    "D = 3 / mu * F * H * h_nd * (1 - h_nd) * z_nd * (1-z_nd)\n",
    "\n",
    "r = x - x0\n",
    "r_nd = r * k\n",
    "delta = np.array([[1, 0, 0],\n",
    "                 [0, 1, 0],\n",
    "                 [0, 0, 1]])\n",
    "r_norm = np.linalg.norm(r_nd)\n",
    "V = k**2 / 2 / np.pi * (-delta/r_norm**2 + 2*np.outer(r_nd, r_nd)/r_norm**4)\n",
    "\n",
    "u = np.inner(D, V)\n",
    "u"
   ]
  },
  {
   "cell_type": "code",
   "execution_count": 22,
   "metadata": {},
   "outputs": [
    {
     "data": {
      "text/plain": [
       "array([0.02984155, 0.02984155, 0.        ])"
      ]
     },
     "execution_count": 22,
     "metadata": {},
     "output_type": "execute_result"
    }
   ],
   "source": []
  }
 ],
 "metadata": {
  "kernelspec": {
   "display_name": "Python 3",
   "language": "python",
   "name": "python3"
  },
  "language_info": {
   "codemirror_mode": {
    "name": "ipython",
    "version": 3
   },
   "file_extension": ".py",
   "mimetype": "text/x-python",
   "name": "python",
   "nbconvert_exporter": "python",
   "pygments_lexer": "ipython3",
   "version": "3.7.3"
  }
 },
 "nbformat": 4,
 "nbformat_minor": 2
}
